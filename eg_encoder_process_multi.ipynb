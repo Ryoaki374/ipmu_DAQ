{
 "cells": [
  {
   "cell_type": "code",
   "execution_count": 1,
   "id": "bcadd70f",
   "metadata": {},
   "outputs": [],
   "source": [
    "import time, threading, queue, sys, gc\n",
    "from typing import Tuple\n",
    "\n",
    "import numpy as np\n",
    "import pyqtgraph as pg\n",
    "from PyQt6 import QtCore\n",
    "from collections import deque\n",
    "\n",
    "import logging, logging.handlers\n"
   ]
  },
  {
   "cell_type": "code",
   "execution_count": 2,
   "id": "8a67bef3",
   "metadata": {},
   "outputs": [],
   "source": [
    "# PULSE_WIDTH\n",
    "# 1rps, 512 slots, 1/512 ~ 0.002\n",
    "# 0.5 rps, 512 slots, 1/256 ~ 0.004\n",
    "\n",
    "# ISSUE\n",
    "# 0.2 * 2048 = 409.6\n",
    "# 0.2 * 2048 * 0.5 = 204.8\n",
    "# 0.5 * 2048 * 0.5 = 512 <--\n",
    "# 0.125 * 2048 = 256"
   ]
  },
  {
   "cell_type": "code",
   "execution_count": 3,
   "id": "a4ba9b91",
   "metadata": {},
   "outputs": [],
   "source": [
    "# ------------------------------------------------------------  parameters\n",
    "DEBUG = True  # set True for jitter log\n",
    "SAMPLE_RATE = 100_000  # Hz\n",
    "#CHUNK_SEC = 0.125  # s\n",
    "GEN_CHUNK_SEC = 0.02           # daq rate\n",
    "PROC_INTERVAL = 0.125          # process rate\n",
    "\n",
    "CHUNK_SEC     = GEN_CHUNK_SEC\n",
    "N_SAMPLES_GEN = int(SAMPLE_RATE * GEN_CHUNK_SEC)\n",
    "SAMPLES_PROC = int(PROC_INTERVAL * SAMPLE_RATE) # 0.125s * 100kHz = 12500\n",
    "QUEUE_DEPTH = 40  # raw AB backlog\n",
    "QUAD_DEPTH = 40  # processed backlog (same)\n",
    "RUN_SEC = 600  # auto‑stop after 10 s\n",
    "DISPLAY_SEC = RUN_SEC+600\n",
    "PLOT_SEC = 0.02  # *** fixed x-axis window width (s) ***\n",
    "GUI_INTERVAL_MS = 50  # update interval (ms) e.g. 50ms = 20Hz\n",
    "\n",
    "PULSE_HEIGHT = 5.0  # amplitude\n",
    "INPUT_VELOCITY = 0.1  # rps\n",
    "PULSE_WIDTH = 1 / (INPUT_VELOCITY * 512)  # period  (s)\n",
    "PULSE_DUTY = 0.5  # duty\n",
    "PULSE_PHASE_A = 0.0  # phase offset (s)\n",
    "PULSE_PHASE_B = -PULSE_WIDTH / 4  # phase offset (s)\n",
    "\n",
    "QUADPULSE_WIDTH = 0.00025  # width (s) assuming 4x given 1 rps\n",
    "THRESHOLD_DEFAULT = 2.5  # logic threshold (V)\n",
    "\n",
    "\n",
    "# ------------------------------------------------------------  queues & stop flag\n",
    "buf_q = queue.Queue(maxsize=QUEUE_DEPTH)  # raw (t, A, B)\n",
    "quad_q = queue.Queue(maxsize=QUAD_DEPTH)  # processed (t, A, B, quad)\n",
    "stop_writer = threading.Event()\n",
    "\n",
    "log_q = queue.Queue(maxsize=0)\n",
    "queue_h = logging.handlers.QueueHandler(log_q)\n",
    "logger = logging.getLogger(\"debug\")\n",
    "logger.setLevel(logging.INFO)\n",
    "logger.addHandler(queue_h)\n",
    "\n"
   ]
  },
  {
   "cell_type": "code",
   "execution_count": 4,
   "id": "c7e764f1",
   "metadata": {},
   "outputs": [],
   "source": [
    "def gen_chunk_pulse(\n",
    "    t: np.ndarray,\n",
    "    *,\n",
    "    height: float = PULSE_HEIGHT,\n",
    "    width: float = PULSE_WIDTH,\n",
    "    duty: float = PULSE_DUTY,\n",
    "    phase: float = 0.0,\n",
    ") -> np.ndarray:\n",
    "    mod = (t + phase) % width\n",
    "    return np.where(mod < duty * width, height, 0.0).astype(np.float32)\n",
    "\n",
    "\n",
    "REL_AXIS_GEN = (\n",
    "    np.arange(N_SAMPLES_GEN, dtype=np.float32) / SAMPLE_RATE\n",
    ")  # 0 ... 0.2 s\n",
    "\n",
    "# ------------------------------------------------------------  AB → direction → quad helpers\n",
    "\n",
    "\n",
    "def gen_pulse_direction(\n",
    "    dA: np.ndarray,\n",
    "    dB: np.ndarray,\n",
    "    *,\n",
    "    threshold: float,\n",
    "    prev_A: bool | None = None,\n",
    "    prev_B: bool | None = None,\n",
    ") -> tuple[np.ndarray, bool, bool]:\n",
    "    \"\"\"\n",
    "    Detect direction for one block **with perfect edge coverage**.\n",
    "\n",
    "    Parameters\n",
    "    ----------\n",
    "    dA, dB : ndarray[float32]\n",
    "        Analog levels of phase-A / phase-B for the current block.\n",
    "    threshold : float\n",
    "        Logic threshold [V].\n",
    "    prev_A, prev_B : bool | None\n",
    "        Logical state of A/B *at the end of the PREVIOUS block*.\n",
    "        • If None (first block), the function falls back to the\n",
    "          “self-shift” method used before.\n",
    "\n",
    "    Returns\n",
    "    -------\n",
    "    dir_log : ndarray[int8]\n",
    "        +1 = CW edge, –1 = CCW edge, 0 = no edge.\n",
    "    last_A, last_B : bool\n",
    "        Logical state of A/B at the *end* of this block — feed these\n",
    "        into the next call to avoid losing the boundary edge.\n",
    "    \"\"\"\n",
    "    # --- current logic level ----------------------------------------\n",
    "    A = dA > threshold\n",
    "    B = dB > threshold\n",
    "\n",
    "    # --- previous sample for XOR -----------------------------------\n",
    "    if prev_A is None:  # first block → old behaviour\n",
    "        A_prev = np.concatenate(([A[0]], A[:-1]))\n",
    "        B_prev = np.concatenate(([B[0]], B[:-1]))\n",
    "    else:               # use states carried over from last block\n",
    "        A_prev = np.concatenate(([prev_A], A[:-1]))\n",
    "        B_prev = np.concatenate(([prev_B], B[:-1]))\n",
    "\n",
    "    dir_log = (B_prev ^ A).astype(int) - (A_prev ^ B).astype(int)\n",
    "\n",
    "    return dir_log.astype(np.int8), bool(A[-1]), bool(B[-1])\n",
    "\n",
    "def pulse_count(dir_log: np.ndarray) -> int:\n",
    "    return int(np.sum(dir_log))\n",
    "\n",
    "\n",
    "def gen_quad_pulse(\n",
    "    t: np.ndarray, dir_log: np.ndarray, width: float, height: float, sampling_rate: int\n",
    ") -> np.ndarray:\n",
    "    samples = int(width * sampling_rate)\n",
    "    if samples <= 0:\n",
    "        return np.zeros_like(dir_log, dtype=np.float32)\n",
    "    base = np.full(samples, height, dtype=np.float32)\n",
    "    return np.convolve(dir_log, base, mode=\"full\")[: len(t)]\n",
    "\n",
    "\n",
    "# ------------------------------------------------------------  producer thread\n",
    "def generator() -> None:\n",
    "    \"\"\"Generate AB rectangular-wave chunks at real-time cadence.\"\"\"\n",
    "    chunk_idx = 0\n",
    "    next_t = time.perf_counter()\n",
    "    while not stop_writer.is_set():\n",
    "        base = chunk_idx * GEN_CHUNK_SEC\n",
    "        t_axis = REL_AXIS_GEN + base\n",
    "        pulse_A = gen_chunk_pulse(t_axis, phase=PULSE_PHASE_A)\n",
    "        pulse_B = gen_chunk_pulse(t_axis, phase=PULSE_PHASE_B)\n",
    "        try:\n",
    "            buf_q.put_nowait((t_axis, pulse_A, pulse_B))\n",
    "        except queue.Full:\n",
    "            pass\n",
    "\n",
    "        chunk_idx += 1\n",
    "        next_t += GEN_CHUNK_SEC\n",
    "        sleep = next_t - time.perf_counter()\n",
    "        if sleep > 0:\n",
    "            time.sleep(sleep)\n",
    "        else:\n",
    "            next_t = time.perf_counter()\n",
    "\n",
    "# ------------------------------------------------------------  consumer thread\n",
    "def log_listener():\n",
    "    handler = logging.StreamHandler(sys.stdout)\n",
    "    listener = logging.handlers.QueueListener(log_q, handler)\n",
    "    listener.start()\n",
    "    stop_writer.wait()\n",
    "    listener.stop()\n",
    "\n",
    "\n",
    "def process_chunk(\n",
    "    t: np.ndarray, dA: np.ndarray, dB: np.ndarray\n",
    ") -> Tuple[int, np.ndarray]:\n",
    "    dir_log = gen_pulse_direction(dA, dB, threshold=THRESHOLD_DEFAULT)\n",
    "    return pulse_count(dir_log), gen_quad_pulse(\n",
    "        t, dir_log, QUADPULSE_WIDTH, PULSE_HEIGHT, SAMPLE_RATE\n",
    "    )\n",
    "\n",
    "'''\n",
    "def consumer() -> None:\n",
    "    last_ts = time.perf_counter()\n",
    "    cum_count = 0\n",
    "    while not stop_writer.is_set():\n",
    "        try:\n",
    "            t, pulse_A, pulse_B = buf_q.get(timeout=0.5)\n",
    "        except queue.Empty:\n",
    "            continue\n",
    "        now = time.perf_counter()\n",
    "        count, quad_sig = process_chunk(t, pulse_A, pulse_B)\n",
    "        cum_count += count\n",
    "        velocity = count / CHUNK_SEC / 2048  # counts per second\n",
    "\n",
    "        if DEBUG:\n",
    "            jitter = (now - last_ts) * 1e3\n",
    "            # print(\n",
    "            #    f\"EPOCH = {now:.2f} jitter = {jitter:6.2f} ms  Δc={count:+d}  c={cum_count}  v={velocity:.7f}\"\n",
    "            # )\n",
    "            logger.info(\n",
    "                \"EPOCH = %f jitter = %6.2f ms  Δc=%+d  c=%d  v=%6.3f\",\n",
    "                now,\n",
    "                jitter,\n",
    "                count,\n",
    "                cum_count,\n",
    "                velocity,\n",
    "            )\n",
    "        last_ts = now\n",
    "\n",
    "        try:\n",
    "            quad_q.put_nowait(\n",
    "                (t, pulse_A, pulse_B, quad_sig, t[-1], cum_count, velocity)\n",
    "            )\n",
    "        except queue.Full:\n",
    "            pass\n",
    "\n",
    "        del t, pulse_A, pulse_B, quad_sig\n",
    "        # gc.collect() # uncomment to force garbage collection\n",
    "        buf_q.task_done()'''\n",
    "\n",
    "\n",
    "def processor() -> None:\n",
    "    ring_t  = deque()   # ring buffer for t\n",
    "    ring_a  = deque()   # ring buffer for A\n",
    "    ring_b  = deque()   # ring buffer for B\n",
    "    last_A = last_B = None\n",
    "\n",
    "    next_proc = time.perf_counter()\n",
    "    cum_count = 0\n",
    "    last_ts   = next_proc\n",
    "    while not stop_writer.is_set():\n",
    "        # ---------- データ取り込み (ノンブロッキング) ----------\n",
    "        try:\n",
    "            while True:\n",
    "                t, pA, pB = buf_q.get_nowait()\n",
    "                ring_t.extend(t); ring_a.extend(pA); ring_b.extend(pB)\n",
    "                buf_q.task_done()\n",
    "        except queue.Empty:\n",
    "            pass\n",
    "        # ---------- データ取り込み (ブロッキング) ----------\n",
    "        now = time.perf_counter()\n",
    "        if now < next_proc:\n",
    "            time.sleep(next_proc - now)\n",
    "            continue\n",
    "        next_proc += PROC_INTERVAL          # 次の処理時間をセット\n",
    "\n",
    "        if len(ring_t) < SAMPLES_PROC:\n",
    "            continue                        # サンプル不足ならスキップ\n",
    "\n",
    "        # retriev samples from ring buffers\n",
    "        t_blk  = np.array([ring_t.popleft() for _ in range(SAMPLES_PROC)], dtype=np.float32)\n",
    "        a_blk  = np.array([ring_a.popleft() for _ in range(SAMPLES_PROC)], dtype=np.float32)\n",
    "        b_blk  = np.array([ring_b.popleft() for _ in range(SAMPLES_PROC)], dtype=np.float32)\n",
    "\n",
    "        dir_log, last_A, last_B  = gen_pulse_direction(a_blk, b_blk, threshold=THRESHOLD_DEFAULT,prev_A=last_A, prev_B=last_B) # edge completion\n",
    "        quad_sig = gen_quad_pulse(t_blk, dir_log, QUADPULSE_WIDTH, PULSE_HEIGHT, SAMPLE_RATE)\n",
    "        delta_cnt = pulse_count(dir_log)\n",
    "        velocity   = delta_cnt / PROC_INTERVAL / 2048\n",
    "        cum_count  = velocity\n",
    "\n",
    "        if DEBUG:\n",
    "            now = time.perf_counter()\n",
    "            jitter = (now - last_ts) * 1e3\n",
    "            # print(\n",
    "            #    f\"EPOCH = {now:.2f} jitter = {jitter:6.2f} ms  Δc={count:+d}  c={cum_count}  v={velocity:.7f}\"\n",
    "            # )\n",
    "            logger.info(\n",
    "                \"EPOCH = %f, wall = %6.2f ms, jitter = %6.2f ms  Δc=%+d  c=%d  v=%6.3f, len(dir_log)=%d\",\n",
    "                now,\n",
    "                jitter,\n",
    "                (now - last_ts) * 1e3,\n",
    "                delta_cnt,\n",
    "                cum_count,\n",
    "                velocity,\n",
    "                len(dir_log),\n",
    "            )\n",
    "        last_ts = now\n",
    "\n",
    "        try:\n",
    "            quad_q.put_nowait((t_blk, a_blk, b_blk, quad_sig, t_blk[-1], cum_count, velocity))\n",
    "        except queue.Full:\n",
    "            pass\n",
    "\n",
    "        del t_blk, a_blk, b_blk, quad_sig\n",
    "        # gc.collect() # uncomment to force garbage collection\n",
    "\n",
    "\n",
    "# ------------------------------------------------------------  GUI\n",
    "HISTORY = int(SAMPLE_RATE * PLOT_SEC)\n",
    "COUNT_HISTORY = int(RUN_SEC / CHUNK_SEC) * 6\n",
    "VELO_HISTORY = COUNT_HISTORY\n",
    "\n",
    "def command_velocity():\n",
    "    # command velocity\n",
    "    command_vel = np.full(int(RUN_SEC / CHUNK_SEC), INPUT_VELOCITY, dtype=np.float32)\n",
    "    command_vel[0:int(len(command_vel)/2)] = 0.0\n",
    "    command_t = np.arange(0, RUN_SEC, CHUNK_SEC, dtype=np.float32)\n",
    "    return command_t, command_vel\n",
    "\n",
    "def start_gui() -> None:\n",
    "\n",
    "    command_t, command_vel = command_velocity()\n",
    "\n",
    "    pg.setConfigOptions(useOpenGL=True, background=\"w\", foreground=\"k\")\n",
    "    app = pg.mkQApp(\"Live plots\")\n",
    "\n",
    "    win = pg.GraphicsLayoutWidget(title=\"DEMO\")\n",
    "    win.resize(800, 600)\n",
    "    win.show()\n",
    "\n",
    "    # [0, 0] A/B -------------------------------------------------------\n",
    "    plt_ab = win.addPlot(row=0, col=0, title=\"RAW A / B\")\n",
    "    curve_A = plt_ab.plot(pen=pg.mkPen(\"#ff4b00\", width=3))\n",
    "    curve_B = plt_ab.plot(pen=pg.mkPen(\"#005aff\", width=3))\n",
    "    plt_ab.setLabel(axis=\"left\", text=\"Amplitude [V]\")\n",
    "    plt_ab.setLabel(axis=\"bottom\", text=\"Time [s]\")\n",
    "    plt_ab.setYRange(-0.5, PULSE_HEIGHT + 0.5)\n",
    "\n",
    "    # [1,0] Quad waveform --------------------------------------------\n",
    "    plt_q = win.addPlot(row=1, col=0, title=\"Quad pulse\")\n",
    "    curve_Q = plt_q.plot(pen=pg.mkPen(\"m\", width=3))\n",
    "    plt_q.setLabel(axis=\"left\", text=\"Amplitude [V]\")\n",
    "    plt_q.setLabel(axis=\"bottom\", text=\"Time [s]\")\n",
    "    plt_q.setYRange(-0.5 - PULSE_HEIGHT, PULSE_HEIGHT + 0.5)\n",
    "\n",
    "    # [0,1] count (fixed x‑axis) -------------------------------------------\n",
    "    plt_cnt = win.addPlot(row=0, col=1, title=\"Quad count\")\n",
    "    curve_cnt = plt_cnt.plot(pen=pg.mkPen(\"#03af7a\", width=3))\n",
    "    plt_cnt.setXRange(0, RUN_SEC, padding=0)\n",
    "    plt_cnt.enableAutoRange(\"x\", False)\n",
    "    plt_cnt.setLabel(\"left\", \"Count\")\n",
    "    plt_cnt.setLabel(\"bottom\", \"Time [s]\")\n",
    "\n",
    "    # [1,1] velocity (fixed x‑axis) ----------------------------------------\n",
    "    plt_vel = win.addPlot(row=1, col=1, title=\"Velocity\")\n",
    "    curve_vel = plt_vel.plot(pen=pg.mkPen(\"#00a0e9\", width=3))\n",
    "    curve_command_vel = plt_vel.plot(pen=pg.mkPen(\"#ff4b00\", width=3))\n",
    "    plt_vel.setXRange(0, RUN_SEC, padding=0)\n",
    "    plt_vel.enableAutoRange(\"x\", False)\n",
    "    plt_vel.setLabel(\"left\", \"Velocity [rps]\")\n",
    "    plt_vel.setLabel(\"bottom\", \"Time [s]\")\n",
    "\n",
    "    # buffers ---------------------------------------------------------\n",
    "    xs = ya = yb = yq = np.empty(0, dtype=np.float32)\n",
    "    xs_cnt = y_cnt = np.empty(0, dtype=np.float32)\n",
    "    xs_vel = y_vel = np.empty(0, dtype=np.float32)\n",
    "\n",
    "\n",
    "    curve_command_vel.setData(command_t, command_vel)\n",
    "\n",
    "\n",
    "    def refresh():\n",
    "        nonlocal xs, ya, yb, yq, xs_cnt, y_cnt, xs_vel, y_vel\n",
    "        try:\n",
    "            while True:\n",
    "                t_ax, pA, pB, qsig, t_end, cum_cnt, vel = quad_q.get_nowait()\n",
    "                xs = np.concatenate((xs, t_ax))[-HISTORY:]\n",
    "                ya = np.concatenate((ya, pA))[-HISTORY:]\n",
    "                yb = np.concatenate((yb, pB))[-HISTORY:]\n",
    "                yq = np.concatenate((yq, qsig))[-HISTORY:]\n",
    "\n",
    "                xs_cnt = np.append(xs_cnt, t_end)[-COUNT_HISTORY:]\n",
    "                y_cnt = np.append(y_cnt, cum_cnt)[-COUNT_HISTORY:]\n",
    "\n",
    "                xs_vel = np.append(xs_vel, t_end)[-VELO_HISTORY:]\n",
    "                y_vel = np.append(y_vel, vel)[-VELO_HISTORY:]\n",
    "                quad_q.task_done()\n",
    "        except queue.Empty:\n",
    "            pass\n",
    "\n",
    "        # scrolling window for waveforms only\n",
    "        if xs.size:\n",
    "            start = xs[-1] - PLOT_SEC\n",
    "            plt_ab.setXRange(start, xs[-1], padding=0)\n",
    "            plt_q.setXRange(start, xs[-1], padding=0)\n",
    "            plt_vel.setXRange(start, xs[-1], padding=0)\n",
    "\n",
    "        # --- push data to curves ---\n",
    "        curve_A.setData(xs, ya)\n",
    "        curve_B.setData(xs, yb)\n",
    "        curve_Q.setData(xs, yq)\n",
    "        curve_cnt.setData(xs_cnt, y_cnt)\n",
    "        curve_vel.setData(xs_vel, y_vel)\n",
    "\n",
    "    timer = QtCore.QTimer()\n",
    "    timer.timeout.connect(refresh)\n",
    "    timer.start(GUI_INTERVAL_MS)\n",
    "\n",
    "    # auto‑stop after RUN_SEC\n",
    "    QtCore.QTimer.singleShot(DISPLAY_SEC * 1000, lambda: (stop_writer.set(), app.quit()))\n",
    "    app.exec()"
   ]
  },
  {
   "cell_type": "code",
   "execution_count": null,
   "id": "3da5ff08",
   "metadata": {},
   "outputs": [],
   "source": []
  },
  {
   "cell_type": "code",
   "execution_count": 6,
   "id": "2d1cb15d",
   "metadata": {},
   "outputs": [
    {
     "name": "stdout",
     "output_type": "stream",
     "text": [
      "EPOCH = 951914.293193, wall = 551.38 ms, jitter = 551.38 ms  Δc=+25  c=25  v= 0.098, len(dir_log)=12500\n",
      "EPOCH = 951915.255689, wall = 962.50 ms, jitter = 962.50 ms  Δc=+26  c=51  v= 0.102, len(dir_log)=12500\n",
      "EPOCH = 951915.380765, wall = 125.08 ms, jitter = 125.08 ms  Δc=+25  c=76  v= 0.098, len(dir_log)=12500\n",
      "EPOCH = 951915.552895, wall = 172.13 ms, jitter = 172.13 ms  Δc=+26  c=102  v= 0.102, len(dir_log)=12500\n",
      "EPOCH = 951915.769455, wall = 216.56 ms, jitter = 216.56 ms  Δc=+25  c=127  v= 0.098, len(dir_log)=12500\n",
      "EPOCH = 951915.889318, wall = 119.86 ms, jitter = 119.86 ms  Δc=+26  c=153  v= 0.102, len(dir_log)=12500\n",
      "EPOCH = 951916.003965, wall = 114.65 ms, jitter = 114.65 ms  Δc=+26  c=179  v= 0.102, len(dir_log)=12500\n",
      "EPOCH = 951916.126243, wall = 122.28 ms, jitter = 122.28 ms  Δc=+25  c=204  v= 0.098, len(dir_log)=12500\n",
      "EPOCH = 951916.251043, wall = 124.80 ms, jitter = 124.80 ms  Δc=+26  c=230  v= 0.102, len(dir_log)=12500\n",
      "EPOCH = 951916.379087, wall = 128.04 ms, jitter = 128.04 ms  Δc=+25  c=255  v= 0.098, len(dir_log)=12500\n",
      "EPOCH = 951916.573724, wall = 194.64 ms, jitter = 194.64 ms  Δc=+26  c=281  v= 0.102, len(dir_log)=12500\n"
     ]
    },
    {
     "ename": "UnboundLocalError",
     "evalue": "cannot access local variable 'x_pad' where it is not associated with a value",
     "output_type": "error",
     "traceback": [
      "\u001b[1;31m---------------------------------------------------------------------------\u001b[0m",
      "\u001b[1;31mUnboundLocalError\u001b[0m                         Traceback (most recent call last)",
      "Cell \u001b[1;32mIn[5], line 316\u001b[0m, in \u001b[0;36mstart_gui.<locals>.refresh\u001b[1;34m()\u001b[0m\n\u001b[0;32m    314\u001b[0m curve_cnt\u001b[38;5;241m.\u001b[39msetData(xs_cnt, y_cnt)\n\u001b[0;32m    315\u001b[0m curve_vel\u001b[38;5;241m.\u001b[39msetData(xs_vel, y_vel)\n\u001b[1;32m--> 316\u001b[0m curve_comvel\u001b[38;5;241m.\u001b[39msetData(\u001b[43mx_pad\u001b[49m, y_pad)\n",
      "\u001b[1;31mUnboundLocalError\u001b[0m: cannot access local variable 'x_pad' where it is not associated with a value"
     ]
    },
    {
     "name": "stdout",
     "output_type": "stream",
     "text": [
      "EPOCH = 951916.757336, wall = 183.61 ms, jitter = 183.61 ms  Δc=+26  c=307  v= 0.102, len(dir_log)=12500\n",
      "EPOCH = 951916.917553, wall = 160.22 ms, jitter = 160.22 ms  Δc=+25  c=332  v= 0.098, len(dir_log)=12500\n",
      "EPOCH = 951917.005918, wall =  88.36 ms, jitter =  88.36 ms  Δc=+26  c=358  v= 0.102, len(dir_log)=12500\n"
     ]
    },
    {
     "ename": "UnboundLocalError",
     "evalue": "cannot access local variable 'x_pad' where it is not associated with a value",
     "output_type": "error",
     "traceback": [
      "\u001b[1;31m---------------------------------------------------------------------------\u001b[0m",
      "\u001b[1;31mUnboundLocalError\u001b[0m                         Traceback (most recent call last)",
      "Cell \u001b[1;32mIn[5], line 316\u001b[0m, in \u001b[0;36mstart_gui.<locals>.refresh\u001b[1;34m()\u001b[0m\n\u001b[0;32m    314\u001b[0m curve_cnt\u001b[38;5;241m.\u001b[39msetData(xs_cnt, y_cnt)\n\u001b[0;32m    315\u001b[0m curve_vel\u001b[38;5;241m.\u001b[39msetData(xs_vel, y_vel)\n\u001b[1;32m--> 316\u001b[0m curve_comvel\u001b[38;5;241m.\u001b[39msetData(\u001b[43mx_pad\u001b[49m, y_pad)\n",
      "\u001b[1;31mUnboundLocalError\u001b[0m: cannot access local variable 'x_pad' where it is not associated with a value"
     ]
    },
    {
     "name": "stdout",
     "output_type": "stream",
     "text": [
      "EPOCH = 951917.152469, wall = 146.55 ms, jitter = 146.55 ms  Δc=+25  c=383  v= 0.098, len(dir_log)=12500\n",
      "EPOCH = 951917.286658, wall = 134.19 ms, jitter = 134.19 ms  Δc=+26  c=409  v= 0.102, len(dir_log)=12500\n"
     ]
    },
    {
     "ename": "UnboundLocalError",
     "evalue": "cannot access local variable 'x_pad' where it is not associated with a value",
     "output_type": "error",
     "traceback": [
      "\u001b[1;31m---------------------------------------------------------------------------\u001b[0m",
      "\u001b[1;31mUnboundLocalError\u001b[0m                         Traceback (most recent call last)",
      "Cell \u001b[1;32mIn[5], line 316\u001b[0m, in \u001b[0;36mstart_gui.<locals>.refresh\u001b[1;34m()\u001b[0m\n\u001b[0;32m    314\u001b[0m curve_cnt\u001b[38;5;241m.\u001b[39msetData(xs_cnt, y_cnt)\n\u001b[0;32m    315\u001b[0m curve_vel\u001b[38;5;241m.\u001b[39msetData(xs_vel, y_vel)\n\u001b[1;32m--> 316\u001b[0m curve_comvel\u001b[38;5;241m.\u001b[39msetData(\u001b[43mx_pad\u001b[49m, y_pad)\n",
      "\u001b[1;31mUnboundLocalError\u001b[0m: cannot access local variable 'x_pad' where it is not associated with a value"
     ]
    },
    {
     "ename": "UnboundLocalError",
     "evalue": "cannot access local variable 'x_pad' where it is not associated with a value",
     "output_type": "error",
     "traceback": [
      "\u001b[1;31m---------------------------------------------------------------------------\u001b[0m",
      "\u001b[1;31mUnboundLocalError\u001b[0m                         Traceback (most recent call last)",
      "Cell \u001b[1;32mIn[5], line 316\u001b[0m, in \u001b[0;36mstart_gui.<locals>.refresh\u001b[1;34m()\u001b[0m\n\u001b[0;32m    314\u001b[0m curve_cnt\u001b[38;5;241m.\u001b[39msetData(xs_cnt, y_cnt)\n\u001b[0;32m    315\u001b[0m curve_vel\u001b[38;5;241m.\u001b[39msetData(xs_vel, y_vel)\n\u001b[1;32m--> 316\u001b[0m curve_comvel\u001b[38;5;241m.\u001b[39msetData(\u001b[43mx_pad\u001b[49m, y_pad)\n",
      "\u001b[1;31mUnboundLocalError\u001b[0m: cannot access local variable 'x_pad' where it is not associated with a value"
     ]
    },
    {
     "name": "stdout",
     "output_type": "stream",
     "text": [
      "EPOCH = 951917.557036, wall = 270.38 ms, jitter = 270.38 ms  Δc=+26  c=435  v= 0.102, len(dir_log)=12500\n",
      "EPOCH = 951917.646816, wall =  89.78 ms, jitter =  89.78 ms  Δc=+25  c=460  v= 0.098, len(dir_log)=12500\n",
      "EPOCH = 951917.756238, wall = 109.42 ms, jitter = 109.42 ms  Δc=+26  c=486  v= 0.102, len(dir_log)=12500\n"
     ]
    },
    {
     "ename": "UnboundLocalError",
     "evalue": "cannot access local variable 'x_pad' where it is not associated with a value",
     "output_type": "error",
     "traceback": [
      "\u001b[1;31m---------------------------------------------------------------------------\u001b[0m",
      "\u001b[1;31mUnboundLocalError\u001b[0m                         Traceback (most recent call last)",
      "Cell \u001b[1;32mIn[5], line 316\u001b[0m, in \u001b[0;36mstart_gui.<locals>.refresh\u001b[1;34m()\u001b[0m\n\u001b[0;32m    314\u001b[0m curve_cnt\u001b[38;5;241m.\u001b[39msetData(xs_cnt, y_cnt)\n\u001b[0;32m    315\u001b[0m curve_vel\u001b[38;5;241m.\u001b[39msetData(xs_vel, y_vel)\n\u001b[1;32m--> 316\u001b[0m curve_comvel\u001b[38;5;241m.\u001b[39msetData(\u001b[43mx_pad\u001b[49m, y_pad)\n",
      "\u001b[1;31mUnboundLocalError\u001b[0m: cannot access local variable 'x_pad' where it is not associated with a value"
     ]
    },
    {
     "name": "stdout",
     "output_type": "stream",
     "text": [
      "EPOCH = 951917.898854, wall = 142.62 ms, jitter = 142.62 ms  Δc=+25  c=511  v= 0.098, len(dir_log)=12500\n"
     ]
    },
    {
     "ename": "UnboundLocalError",
     "evalue": "cannot access local variable 'x_pad' where it is not associated with a value",
     "output_type": "error",
     "traceback": [
      "\u001b[1;31m---------------------------------------------------------------------------\u001b[0m",
      "\u001b[1;31mUnboundLocalError\u001b[0m                         Traceback (most recent call last)",
      "Cell \u001b[1;32mIn[5], line 316\u001b[0m, in \u001b[0;36mstart_gui.<locals>.refresh\u001b[1;34m()\u001b[0m\n\u001b[0;32m    314\u001b[0m curve_cnt\u001b[38;5;241m.\u001b[39msetData(xs_cnt, y_cnt)\n\u001b[0;32m    315\u001b[0m curve_vel\u001b[38;5;241m.\u001b[39msetData(xs_vel, y_vel)\n\u001b[1;32m--> 316\u001b[0m curve_comvel\u001b[38;5;241m.\u001b[39msetData(\u001b[43mx_pad\u001b[49m, y_pad)\n",
      "\u001b[1;31mUnboundLocalError\u001b[0m: cannot access local variable 'x_pad' where it is not associated with a value"
     ]
    },
    {
     "name": "stdout",
     "output_type": "stream",
     "text": [
      "EPOCH = 951918.130470, wall = 231.62 ms, jitter = 231.62 ms  Δc=+26  c=537  v= 0.102, len(dir_log)=12500\n"
     ]
    },
    {
     "ename": "UnboundLocalError",
     "evalue": "cannot access local variable 'x_pad' where it is not associated with a value",
     "output_type": "error",
     "traceback": [
      "\u001b[1;31m---------------------------------------------------------------------------\u001b[0m",
      "\u001b[1;31mUnboundLocalError\u001b[0m                         Traceback (most recent call last)",
      "Cell \u001b[1;32mIn[5], line 316\u001b[0m, in \u001b[0;36mstart_gui.<locals>.refresh\u001b[1;34m()\u001b[0m\n\u001b[0;32m    314\u001b[0m curve_cnt\u001b[38;5;241m.\u001b[39msetData(xs_cnt, y_cnt)\n\u001b[0;32m    315\u001b[0m curve_vel\u001b[38;5;241m.\u001b[39msetData(xs_vel, y_vel)\n\u001b[1;32m--> 316\u001b[0m curve_comvel\u001b[38;5;241m.\u001b[39msetData(\u001b[43mx_pad\u001b[49m, y_pad)\n",
      "\u001b[1;31mUnboundLocalError\u001b[0m: cannot access local variable 'x_pad' where it is not associated with a value"
     ]
    },
    {
     "name": "stdout",
     "output_type": "stream",
     "text": [
      "EPOCH = 951918.271231, wall = 140.76 ms, jitter = 140.76 ms  Δc=+26  c=563  v= 0.102, len(dir_log)=12500\n",
      "EPOCH = 951918.388140, wall = 116.91 ms, jitter = 116.91 ms  Δc=+25  c=588  v= 0.098, len(dir_log)=12500\n",
      "EPOCH = 951918.531958, wall = 143.82 ms, jitter = 143.82 ms  Δc=+26  c=614  v= 0.102, len(dir_log)=12500\n",
      "EPOCH = 951918.627667, wall =  95.71 ms, jitter =  95.71 ms  Δc=+25  c=639  v= 0.098, len(dir_log)=12500\n"
     ]
    },
    {
     "ename": "UnboundLocalError",
     "evalue": "cannot access local variable 'x_pad' where it is not associated with a value",
     "output_type": "error",
     "traceback": [
      "\u001b[1;31m---------------------------------------------------------------------------\u001b[0m",
      "\u001b[1;31mUnboundLocalError\u001b[0m                         Traceback (most recent call last)",
      "Cell \u001b[1;32mIn[5], line 316\u001b[0m, in \u001b[0;36mstart_gui.<locals>.refresh\u001b[1;34m()\u001b[0m\n\u001b[0;32m    314\u001b[0m curve_cnt\u001b[38;5;241m.\u001b[39msetData(xs_cnt, y_cnt)\n\u001b[0;32m    315\u001b[0m curve_vel\u001b[38;5;241m.\u001b[39msetData(xs_vel, y_vel)\n\u001b[1;32m--> 316\u001b[0m curve_comvel\u001b[38;5;241m.\u001b[39msetData(\u001b[43mx_pad\u001b[49m, y_pad)\n",
      "\u001b[1;31mUnboundLocalError\u001b[0m: cannot access local variable 'x_pad' where it is not associated with a value"
     ]
    },
    {
     "name": "stdout",
     "output_type": "stream",
     "text": [
      "EPOCH = 951918.759371, wall = 131.70 ms, jitter = 131.70 ms  Δc=+26  c=665  v= 0.102, len(dir_log)=12500\n",
      "EPOCH = 951918.908878, wall = 149.51 ms, jitter = 149.51 ms  Δc=+26  c=691  v= 0.102, len(dir_log)=12500\n"
     ]
    },
    {
     "ename": "UnboundLocalError",
     "evalue": "cannot access local variable 'x_pad' where it is not associated with a value",
     "output_type": "error",
     "traceback": [
      "\u001b[1;31m---------------------------------------------------------------------------\u001b[0m",
      "\u001b[1;31mUnboundLocalError\u001b[0m                         Traceback (most recent call last)",
      "Cell \u001b[1;32mIn[5], line 316\u001b[0m, in \u001b[0;36mstart_gui.<locals>.refresh\u001b[1;34m()\u001b[0m\n\u001b[0;32m    314\u001b[0m curve_cnt\u001b[38;5;241m.\u001b[39msetData(xs_cnt, y_cnt)\n\u001b[0;32m    315\u001b[0m curve_vel\u001b[38;5;241m.\u001b[39msetData(xs_vel, y_vel)\n\u001b[1;32m--> 316\u001b[0m curve_comvel\u001b[38;5;241m.\u001b[39msetData(\u001b[43mx_pad\u001b[49m, y_pad)\n",
      "\u001b[1;31mUnboundLocalError\u001b[0m: cannot access local variable 'x_pad' where it is not associated with a value"
     ]
    },
    {
     "name": "stdout",
     "output_type": "stream",
     "text": [
      "EPOCH = 951919.173775, wall = 264.90 ms, jitter = 264.90 ms  Δc=+25  c=716  v= 0.098, len(dir_log)=12500\n"
     ]
    },
    {
     "ename": "UnboundLocalError",
     "evalue": "cannot access local variable 'x_pad' where it is not associated with a value",
     "output_type": "error",
     "traceback": [
      "\u001b[1;31m---------------------------------------------------------------------------\u001b[0m",
      "\u001b[1;31mUnboundLocalError\u001b[0m                         Traceback (most recent call last)",
      "Cell \u001b[1;32mIn[5], line 316\u001b[0m, in \u001b[0;36mstart_gui.<locals>.refresh\u001b[1;34m()\u001b[0m\n\u001b[0;32m    314\u001b[0m curve_cnt\u001b[38;5;241m.\u001b[39msetData(xs_cnt, y_cnt)\n\u001b[0;32m    315\u001b[0m curve_vel\u001b[38;5;241m.\u001b[39msetData(xs_vel, y_vel)\n\u001b[1;32m--> 316\u001b[0m curve_comvel\u001b[38;5;241m.\u001b[39msetData(\u001b[43mx_pad\u001b[49m, y_pad)\n",
      "\u001b[1;31mUnboundLocalError\u001b[0m: cannot access local variable 'x_pad' where it is not associated with a value"
     ]
    },
    {
     "name": "stdout",
     "output_type": "stream",
     "text": [
      "EPOCH = 951919.255590, wall =  81.81 ms, jitter =  81.81 ms  Δc=+26  c=742  v= 0.102, len(dir_log)=12500\n",
      "EPOCH = 951919.389435, wall = 133.84 ms, jitter = 133.84 ms  Δc=+25  c=767  v= 0.098, len(dir_log)=12500\n"
     ]
    },
    {
     "ename": "UnboundLocalError",
     "evalue": "cannot access local variable 'x_pad' where it is not associated with a value",
     "output_type": "error",
     "traceback": [
      "\u001b[1;31m---------------------------------------------------------------------------\u001b[0m",
      "\u001b[1;31mUnboundLocalError\u001b[0m                         Traceback (most recent call last)",
      "Cell \u001b[1;32mIn[5], line 316\u001b[0m, in \u001b[0;36mstart_gui.<locals>.refresh\u001b[1;34m()\u001b[0m\n\u001b[0;32m    314\u001b[0m curve_cnt\u001b[38;5;241m.\u001b[39msetData(xs_cnt, y_cnt)\n\u001b[0;32m    315\u001b[0m curve_vel\u001b[38;5;241m.\u001b[39msetData(xs_vel, y_vel)\n\u001b[1;32m--> 316\u001b[0m curve_comvel\u001b[38;5;241m.\u001b[39msetData(\u001b[43mx_pad\u001b[49m, y_pad)\n",
      "\u001b[1;31mUnboundLocalError\u001b[0m: cannot access local variable 'x_pad' where it is not associated with a value"
     ]
    },
    {
     "name": "stdout",
     "output_type": "stream",
     "text": [
      "EPOCH = 951919.542829, wall = 153.39 ms, jitter = 153.39 ms  Δc=+26  c=793  v= 0.102, len(dir_log)=12500\n"
     ]
    },
    {
     "ename": "UnboundLocalError",
     "evalue": "cannot access local variable 'x_pad' where it is not associated with a value",
     "output_type": "error",
     "traceback": [
      "\u001b[1;31m---------------------------------------------------------------------------\u001b[0m",
      "\u001b[1;31mUnboundLocalError\u001b[0m                         Traceback (most recent call last)",
      "Cell \u001b[1;32mIn[5], line 316\u001b[0m, in \u001b[0;36mstart_gui.<locals>.refresh\u001b[1;34m()\u001b[0m\n\u001b[0;32m    314\u001b[0m curve_cnt\u001b[38;5;241m.\u001b[39msetData(xs_cnt, y_cnt)\n\u001b[0;32m    315\u001b[0m curve_vel\u001b[38;5;241m.\u001b[39msetData(xs_vel, y_vel)\n\u001b[1;32m--> 316\u001b[0m curve_comvel\u001b[38;5;241m.\u001b[39msetData(\u001b[43mx_pad\u001b[49m, y_pad)\n",
      "\u001b[1;31mUnboundLocalError\u001b[0m: cannot access local variable 'x_pad' where it is not associated with a value"
     ]
    },
    {
     "name": "stdout",
     "output_type": "stream",
     "text": [
      "EPOCH = 951919.753904, wall = 211.07 ms, jitter = 211.07 ms  Δc=+26  c=819  v= 0.102, len(dir_log)=12500\n"
     ]
    },
    {
     "ename": "UnboundLocalError",
     "evalue": "cannot access local variable 'x_pad' where it is not associated with a value",
     "output_type": "error",
     "traceback": [
      "\u001b[1;31m---------------------------------------------------------------------------\u001b[0m",
      "\u001b[1;31mUnboundLocalError\u001b[0m                         Traceback (most recent call last)",
      "Cell \u001b[1;32mIn[5], line 316\u001b[0m, in \u001b[0;36mstart_gui.<locals>.refresh\u001b[1;34m()\u001b[0m\n\u001b[0;32m    314\u001b[0m curve_cnt\u001b[38;5;241m.\u001b[39msetData(xs_cnt, y_cnt)\n\u001b[0;32m    315\u001b[0m curve_vel\u001b[38;5;241m.\u001b[39msetData(xs_vel, y_vel)\n\u001b[1;32m--> 316\u001b[0m curve_comvel\u001b[38;5;241m.\u001b[39msetData(\u001b[43mx_pad\u001b[49m, y_pad)\n",
      "\u001b[1;31mUnboundLocalError\u001b[0m: cannot access local variable 'x_pad' where it is not associated with a value"
     ]
    },
    {
     "name": "stdout",
     "output_type": "stream",
     "text": [
      "EPOCH = 951919.894658, wall = 140.75 ms, jitter = 140.75 ms  Δc=+25  c=844  v= 0.098, len(dir_log)=12500\n",
      "EPOCH = 951920.000938, wall = 106.28 ms, jitter = 106.28 ms  Δc=+26  c=870  v= 0.102, len(dir_log)=12500\n"
     ]
    },
    {
     "ename": "UnboundLocalError",
     "evalue": "cannot access local variable 'x_pad' where it is not associated with a value",
     "output_type": "error",
     "traceback": [
      "\u001b[1;31m---------------------------------------------------------------------------\u001b[0m",
      "\u001b[1;31mUnboundLocalError\u001b[0m                         Traceback (most recent call last)",
      "Cell \u001b[1;32mIn[5], line 316\u001b[0m, in \u001b[0;36mstart_gui.<locals>.refresh\u001b[1;34m()\u001b[0m\n\u001b[0;32m    314\u001b[0m curve_cnt\u001b[38;5;241m.\u001b[39msetData(xs_cnt, y_cnt)\n\u001b[0;32m    315\u001b[0m curve_vel\u001b[38;5;241m.\u001b[39msetData(xs_vel, y_vel)\n\u001b[1;32m--> 316\u001b[0m curve_comvel\u001b[38;5;241m.\u001b[39msetData(\u001b[43mx_pad\u001b[49m, y_pad)\n",
      "\u001b[1;31mUnboundLocalError\u001b[0m: cannot access local variable 'x_pad' where it is not associated with a value"
     ]
    },
    {
     "name": "stdout",
     "output_type": "stream",
     "text": [
      "EPOCH = 951920.127669, wall = 126.73 ms, jitter = 126.73 ms  Δc=+25  c=895  v= 0.098, len(dir_log)=12500\n"
     ]
    },
    {
     "ename": "UnboundLocalError",
     "evalue": "cannot access local variable 'x_pad' where it is not associated with a value",
     "output_type": "error",
     "traceback": [
      "\u001b[1;31m---------------------------------------------------------------------------\u001b[0m",
      "\u001b[1;31mUnboundLocalError\u001b[0m                         Traceback (most recent call last)",
      "Cell \u001b[1;32mIn[5], line 316\u001b[0m, in \u001b[0;36mstart_gui.<locals>.refresh\u001b[1;34m()\u001b[0m\n\u001b[0;32m    314\u001b[0m curve_cnt\u001b[38;5;241m.\u001b[39msetData(xs_cnt, y_cnt)\n\u001b[0;32m    315\u001b[0m curve_vel\u001b[38;5;241m.\u001b[39msetData(xs_vel, y_vel)\n\u001b[1;32m--> 316\u001b[0m curve_comvel\u001b[38;5;241m.\u001b[39msetData(\u001b[43mx_pad\u001b[49m, y_pad)\n",
      "\u001b[1;31mUnboundLocalError\u001b[0m: cannot access local variable 'x_pad' where it is not associated with a value"
     ]
    },
    {
     "name": "stdout",
     "output_type": "stream",
     "text": [
      "EPOCH = 951920.276184, wall = 148.52 ms, jitter = 148.52 ms  Δc=+26  c=921  v= 0.102, len(dir_log)=12500\n"
     ]
    },
    {
     "ename": "UnboundLocalError",
     "evalue": "cannot access local variable 'x_pad' where it is not associated with a value",
     "output_type": "error",
     "traceback": [
      "\u001b[1;31m---------------------------------------------------------------------------\u001b[0m",
      "\u001b[1;31mUnboundLocalError\u001b[0m                         Traceback (most recent call last)",
      "Cell \u001b[1;32mIn[5], line 316\u001b[0m, in \u001b[0;36mstart_gui.<locals>.refresh\u001b[1;34m()\u001b[0m\n\u001b[0;32m    314\u001b[0m curve_cnt\u001b[38;5;241m.\u001b[39msetData(xs_cnt, y_cnt)\n\u001b[0;32m    315\u001b[0m curve_vel\u001b[38;5;241m.\u001b[39msetData(xs_vel, y_vel)\n\u001b[1;32m--> 316\u001b[0m curve_comvel\u001b[38;5;241m.\u001b[39msetData(\u001b[43mx_pad\u001b[49m, y_pad)\n",
      "\u001b[1;31mUnboundLocalError\u001b[0m: cannot access local variable 'x_pad' where it is not associated with a value"
     ]
    },
    {
     "name": "stdout",
     "output_type": "stream",
     "text": [
      "EPOCH = 951920.387163, wall = 110.98 ms, jitter = 110.98 ms  Δc=+26  c=947  v= 0.102, len(dir_log)=12500\n",
      "EPOCH = 951920.526714, wall = 139.55 ms, jitter = 139.55 ms  Δc=+25  c=972  v= 0.098, len(dir_log)=12500\n"
     ]
    },
    {
     "ename": "UnboundLocalError",
     "evalue": "cannot access local variable 'x_pad' where it is not associated with a value",
     "output_type": "error",
     "traceback": [
      "\u001b[1;31m---------------------------------------------------------------------------\u001b[0m",
      "\u001b[1;31mUnboundLocalError\u001b[0m                         Traceback (most recent call last)",
      "Cell \u001b[1;32mIn[5], line 316\u001b[0m, in \u001b[0;36mstart_gui.<locals>.refresh\u001b[1;34m()\u001b[0m\n\u001b[0;32m    314\u001b[0m curve_cnt\u001b[38;5;241m.\u001b[39msetData(xs_cnt, y_cnt)\n\u001b[0;32m    315\u001b[0m curve_vel\u001b[38;5;241m.\u001b[39msetData(xs_vel, y_vel)\n\u001b[1;32m--> 316\u001b[0m curve_comvel\u001b[38;5;241m.\u001b[39msetData(\u001b[43mx_pad\u001b[49m, y_pad)\n",
      "\u001b[1;31mUnboundLocalError\u001b[0m: cannot access local variable 'x_pad' where it is not associated with a value"
     ]
    },
    {
     "name": "stdout",
     "output_type": "stream",
     "text": [
      "EPOCH = 951920.626581, wall =  99.87 ms, jitter =  99.87 ms  Δc=+26  c=998  v= 0.102, len(dir_log)=12500\n"
     ]
    },
    {
     "ename": "UnboundLocalError",
     "evalue": "cannot access local variable 'x_pad' where it is not associated with a value",
     "output_type": "error",
     "traceback": [
      "\u001b[1;31m---------------------------------------------------------------------------\u001b[0m",
      "\u001b[1;31mUnboundLocalError\u001b[0m                         Traceback (most recent call last)",
      "Cell \u001b[1;32mIn[5], line 316\u001b[0m, in \u001b[0;36mstart_gui.<locals>.refresh\u001b[1;34m()\u001b[0m\n\u001b[0;32m    314\u001b[0m curve_cnt\u001b[38;5;241m.\u001b[39msetData(xs_cnt, y_cnt)\n\u001b[0;32m    315\u001b[0m curve_vel\u001b[38;5;241m.\u001b[39msetData(xs_vel, y_vel)\n\u001b[1;32m--> 316\u001b[0m curve_comvel\u001b[38;5;241m.\u001b[39msetData(\u001b[43mx_pad\u001b[49m, y_pad)\n",
      "\u001b[1;31mUnboundLocalError\u001b[0m: cannot access local variable 'x_pad' where it is not associated with a value"
     ]
    },
    {
     "name": "stdout",
     "output_type": "stream",
     "text": [
      "EPOCH = 951920.777532, wall = 150.95 ms, jitter = 150.95 ms  Δc=+25  c=1023  v= 0.098, len(dir_log)=12500\n",
      "EPOCH = 951920.891726, wall = 114.19 ms, jitter = 114.19 ms  Δc=+26  c=1049  v= 0.102, len(dir_log)=12500\n"
     ]
    },
    {
     "ename": "UnboundLocalError",
     "evalue": "cannot access local variable 'x_pad' where it is not associated with a value",
     "output_type": "error",
     "traceback": [
      "\u001b[1;31m---------------------------------------------------------------------------\u001b[0m",
      "\u001b[1;31mUnboundLocalError\u001b[0m                         Traceback (most recent call last)",
      "Cell \u001b[1;32mIn[5], line 316\u001b[0m, in \u001b[0;36mstart_gui.<locals>.refresh\u001b[1;34m()\u001b[0m\n\u001b[0;32m    314\u001b[0m curve_cnt\u001b[38;5;241m.\u001b[39msetData(xs_cnt, y_cnt)\n\u001b[0;32m    315\u001b[0m curve_vel\u001b[38;5;241m.\u001b[39msetData(xs_vel, y_vel)\n\u001b[1;32m--> 316\u001b[0m curve_comvel\u001b[38;5;241m.\u001b[39msetData(\u001b[43mx_pad\u001b[49m, y_pad)\n",
      "\u001b[1;31mUnboundLocalError\u001b[0m: cannot access local variable 'x_pad' where it is not associated with a value"
     ]
    },
    {
     "ename": "UnboundLocalError",
     "evalue": "cannot access local variable 'x_pad' where it is not associated with a value",
     "output_type": "error",
     "traceback": [
      "\u001b[1;31m---------------------------------------------------------------------------\u001b[0m",
      "\u001b[1;31mUnboundLocalError\u001b[0m                         Traceback (most recent call last)",
      "Cell \u001b[1;32mIn[5], line 316\u001b[0m, in \u001b[0;36mstart_gui.<locals>.refresh\u001b[1;34m()\u001b[0m\n\u001b[0;32m    314\u001b[0m curve_cnt\u001b[38;5;241m.\u001b[39msetData(xs_cnt, y_cnt)\n\u001b[0;32m    315\u001b[0m curve_vel\u001b[38;5;241m.\u001b[39msetData(xs_vel, y_vel)\n\u001b[1;32m--> 316\u001b[0m curve_comvel\u001b[38;5;241m.\u001b[39msetData(\u001b[43mx_pad\u001b[49m, y_pad)\n",
      "\u001b[1;31mUnboundLocalError\u001b[0m: cannot access local variable 'x_pad' where it is not associated with a value"
     ]
    },
    {
     "name": "stdout",
     "output_type": "stream",
     "text": [
      "EPOCH = 951921.166825, wall = 275.10 ms, jitter = 275.10 ms  Δc=+26  c=1075  v= 0.102, len(dir_log)=12500\n",
      "EPOCH = 951921.254281, wall =  87.46 ms, jitter =  87.46 ms  Δc=+25  c=1100  v= 0.098, len(dir_log)=12500\n"
     ]
    },
    {
     "ename": "UnboundLocalError",
     "evalue": "cannot access local variable 'x_pad' where it is not associated with a value",
     "output_type": "error",
     "traceback": [
      "\u001b[1;31m---------------------------------------------------------------------------\u001b[0m",
      "\u001b[1;31mUnboundLocalError\u001b[0m                         Traceback (most recent call last)",
      "Cell \u001b[1;32mIn[5], line 316\u001b[0m, in \u001b[0;36mstart_gui.<locals>.refresh\u001b[1;34m()\u001b[0m\n\u001b[0;32m    314\u001b[0m curve_cnt\u001b[38;5;241m.\u001b[39msetData(xs_cnt, y_cnt)\n\u001b[0;32m    315\u001b[0m curve_vel\u001b[38;5;241m.\u001b[39msetData(xs_vel, y_vel)\n\u001b[1;32m--> 316\u001b[0m curve_comvel\u001b[38;5;241m.\u001b[39msetData(\u001b[43mx_pad\u001b[49m, y_pad)\n",
      "\u001b[1;31mUnboundLocalError\u001b[0m: cannot access local variable 'x_pad' where it is not associated with a value"
     ]
    },
    {
     "name": "stdout",
     "output_type": "stream",
     "text": [
      "EPOCH = 951921.399074, wall = 144.79 ms, jitter = 144.79 ms  Δc=+26  c=1126  v= 0.102, len(dir_log)=12500\n",
      "EPOCH = 951921.527336, wall = 128.26 ms, jitter = 128.26 ms  Δc=+25  c=1151  v= 0.098, len(dir_log)=12500\n"
     ]
    },
    {
     "ename": "UnboundLocalError",
     "evalue": "cannot access local variable 'x_pad' where it is not associated with a value",
     "output_type": "error",
     "traceback": [
      "\u001b[1;31m---------------------------------------------------------------------------\u001b[0m",
      "\u001b[1;31mUnboundLocalError\u001b[0m                         Traceback (most recent call last)",
      "Cell \u001b[1;32mIn[5], line 316\u001b[0m, in \u001b[0;36mstart_gui.<locals>.refresh\u001b[1;34m()\u001b[0m\n\u001b[0;32m    314\u001b[0m curve_cnt\u001b[38;5;241m.\u001b[39msetData(xs_cnt, y_cnt)\n\u001b[0;32m    315\u001b[0m curve_vel\u001b[38;5;241m.\u001b[39msetData(xs_vel, y_vel)\n\u001b[1;32m--> 316\u001b[0m curve_comvel\u001b[38;5;241m.\u001b[39msetData(\u001b[43mx_pad\u001b[49m, y_pad)\n",
      "\u001b[1;31mUnboundLocalError\u001b[0m: cannot access local variable 'x_pad' where it is not associated with a value"
     ]
    },
    {
     "name": "stdout",
     "output_type": "stream",
     "text": [
      "EPOCH = 951921.674426, wall = 147.09 ms, jitter = 147.09 ms  Δc=+26  c=1177  v= 0.102, len(dir_log)=12500\n"
     ]
    },
    {
     "ename": "UnboundLocalError",
     "evalue": "cannot access local variable 'x_pad' where it is not associated with a value",
     "output_type": "error",
     "traceback": [
      "\u001b[1;31m---------------------------------------------------------------------------\u001b[0m",
      "\u001b[1;31mUnboundLocalError\u001b[0m                         Traceback (most recent call last)",
      "Cell \u001b[1;32mIn[5], line 316\u001b[0m, in \u001b[0;36mstart_gui.<locals>.refresh\u001b[1;34m()\u001b[0m\n\u001b[0;32m    314\u001b[0m curve_cnt\u001b[38;5;241m.\u001b[39msetData(xs_cnt, y_cnt)\n\u001b[0;32m    315\u001b[0m curve_vel\u001b[38;5;241m.\u001b[39msetData(xs_vel, y_vel)\n\u001b[1;32m--> 316\u001b[0m curve_comvel\u001b[38;5;241m.\u001b[39msetData(\u001b[43mx_pad\u001b[49m, y_pad)\n",
      "\u001b[1;31mUnboundLocalError\u001b[0m: cannot access local variable 'x_pad' where it is not associated with a value"
     ]
    },
    {
     "name": "stdout",
     "output_type": "stream",
     "text": [
      "EPOCH = 951921.884022, wall = 209.60 ms, jitter = 209.60 ms  Δc=+26  c=1203  v= 0.102, len(dir_log)=12500\n"
     ]
    },
    {
     "ename": "UnboundLocalError",
     "evalue": "cannot access local variable 'x_pad' where it is not associated with a value",
     "output_type": "error",
     "traceback": [
      "\u001b[1;31m---------------------------------------------------------------------------\u001b[0m",
      "\u001b[1;31mUnboundLocalError\u001b[0m                         Traceback (most recent call last)",
      "Cell \u001b[1;32mIn[5], line 316\u001b[0m, in \u001b[0;36mstart_gui.<locals>.refresh\u001b[1;34m()\u001b[0m\n\u001b[0;32m    314\u001b[0m curve_cnt\u001b[38;5;241m.\u001b[39msetData(xs_cnt, y_cnt)\n\u001b[0;32m    315\u001b[0m curve_vel\u001b[38;5;241m.\u001b[39msetData(xs_vel, y_vel)\n\u001b[1;32m--> 316\u001b[0m curve_comvel\u001b[38;5;241m.\u001b[39msetData(\u001b[43mx_pad\u001b[49m, y_pad)\n",
      "\u001b[1;31mUnboundLocalError\u001b[0m: cannot access local variable 'x_pad' where it is not associated with a value"
     ]
    },
    {
     "name": "stdout",
     "output_type": "stream",
     "text": [
      "EPOCH = 951922.013375, wall = 129.35 ms, jitter = 129.35 ms  Δc=+25  c=1228  v= 0.098, len(dir_log)=12500\n",
      "EPOCH = 951922.161472, wall = 148.10 ms, jitter = 148.10 ms  Δc=+26  c=1254  v= 0.102, len(dir_log)=12500\n",
      "EPOCH = 951922.266095, wall = 104.62 ms, jitter = 104.62 ms  Δc=+25  c=1279  v= 0.098, len(dir_log)=12500\n"
     ]
    },
    {
     "ename": "UnboundLocalError",
     "evalue": "cannot access local variable 'x_pad' where it is not associated with a value",
     "output_type": "error",
     "traceback": [
      "\u001b[1;31m---------------------------------------------------------------------------\u001b[0m",
      "\u001b[1;31mUnboundLocalError\u001b[0m                         Traceback (most recent call last)",
      "Cell \u001b[1;32mIn[5], line 316\u001b[0m, in \u001b[0;36mstart_gui.<locals>.refresh\u001b[1;34m()\u001b[0m\n\u001b[0;32m    314\u001b[0m curve_cnt\u001b[38;5;241m.\u001b[39msetData(xs_cnt, y_cnt)\n\u001b[0;32m    315\u001b[0m curve_vel\u001b[38;5;241m.\u001b[39msetData(xs_vel, y_vel)\n\u001b[1;32m--> 316\u001b[0m curve_comvel\u001b[38;5;241m.\u001b[39msetData(\u001b[43mx_pad\u001b[49m, y_pad)\n",
      "\u001b[1;31mUnboundLocalError\u001b[0m: cannot access local variable 'x_pad' where it is not associated with a value"
     ]
    },
    {
     "name": "stdout",
     "output_type": "stream",
     "text": [
      "EPOCH = 951922.424619, wall = 158.52 ms, jitter = 158.52 ms  Δc=+26  c=1305  v= 0.102, len(dir_log)=12500\n",
      "EPOCH = 951922.562473, wall = 137.85 ms, jitter = 137.85 ms  Δc=+26  c=1331  v= 0.102, len(dir_log)=12500\n"
     ]
    },
    {
     "ename": "UnboundLocalError",
     "evalue": "cannot access local variable 'x_pad' where it is not associated with a value",
     "output_type": "error",
     "traceback": [
      "\u001b[1;31m---------------------------------------------------------------------------\u001b[0m",
      "\u001b[1;31mUnboundLocalError\u001b[0m                         Traceback (most recent call last)",
      "Cell \u001b[1;32mIn[5], line 316\u001b[0m, in \u001b[0;36mstart_gui.<locals>.refresh\u001b[1;34m()\u001b[0m\n\u001b[0;32m    314\u001b[0m curve_cnt\u001b[38;5;241m.\u001b[39msetData(xs_cnt, y_cnt)\n\u001b[0;32m    315\u001b[0m curve_vel\u001b[38;5;241m.\u001b[39msetData(xs_vel, y_vel)\n\u001b[1;32m--> 316\u001b[0m curve_comvel\u001b[38;5;241m.\u001b[39msetData(\u001b[43mx_pad\u001b[49m, y_pad)\n",
      "\u001b[1;31mUnboundLocalError\u001b[0m: cannot access local variable 'x_pad' where it is not associated with a value"
     ]
    },
    {
     "name": "stdout",
     "output_type": "stream",
     "text": [
      "EPOCH = 951922.768344, wall = 205.87 ms, jitter = 205.87 ms  Δc=+25  c=1356  v= 0.098, len(dir_log)=12500\n",
      "EPOCH = 951922.902093, wall = 133.75 ms, jitter = 133.75 ms  Δc=+26  c=1382  v= 0.102, len(dir_log)=12500\n",
      "EPOCH = 951923.020595, wall = 118.50 ms, jitter = 118.50 ms  Δc=+25  c=1407  v= 0.098, len(dir_log)=12500\n",
      "EPOCH = 951923.139764, wall = 119.17 ms, jitter = 119.17 ms  Δc=+26  c=1433  v= 0.102, len(dir_log)=12500\n"
     ]
    },
    {
     "ename": "UnboundLocalError",
     "evalue": "cannot access local variable 'x_pad' where it is not associated with a value",
     "output_type": "error",
     "traceback": [
      "\u001b[1;31m---------------------------------------------------------------------------\u001b[0m",
      "\u001b[1;31mUnboundLocalError\u001b[0m                         Traceback (most recent call last)",
      "Cell \u001b[1;32mIn[5], line 316\u001b[0m, in \u001b[0;36mstart_gui.<locals>.refresh\u001b[1;34m()\u001b[0m\n\u001b[0;32m    314\u001b[0m curve_cnt\u001b[38;5;241m.\u001b[39msetData(xs_cnt, y_cnt)\n\u001b[0;32m    315\u001b[0m curve_vel\u001b[38;5;241m.\u001b[39msetData(xs_vel, y_vel)\n\u001b[1;32m--> 316\u001b[0m curve_comvel\u001b[38;5;241m.\u001b[39msetData(\u001b[43mx_pad\u001b[49m, y_pad)\n",
      "\u001b[1;31mUnboundLocalError\u001b[0m: cannot access local variable 'x_pad' where it is not associated with a value"
     ]
    },
    {
     "name": "stdout",
     "output_type": "stream",
     "text": [
      "EPOCH = 951923.290460, wall = 150.70 ms, jitter = 150.70 ms  Δc=+26  c=1459  v= 0.102, len(dir_log)=12500\n",
      "EPOCH = 951923.384475, wall =  94.01 ms, jitter =  94.01 ms  Δc=+25  c=1484  v= 0.098, len(dir_log)=12500\n",
      "EPOCH = 951923.521190, wall = 136.72 ms, jitter = 136.72 ms  Δc=+26  c=1510  v= 0.102, len(dir_log)=12500\n"
     ]
    },
    {
     "ename": "UnboundLocalError",
     "evalue": "cannot access local variable 'x_pad' where it is not associated with a value",
     "output_type": "error",
     "traceback": [
      "\u001b[1;31m---------------------------------------------------------------------------\u001b[0m",
      "\u001b[1;31mUnboundLocalError\u001b[0m                         Traceback (most recent call last)",
      "Cell \u001b[1;32mIn[5], line 316\u001b[0m, in \u001b[0;36mstart_gui.<locals>.refresh\u001b[1;34m()\u001b[0m\n\u001b[0;32m    314\u001b[0m curve_cnt\u001b[38;5;241m.\u001b[39msetData(xs_cnt, y_cnt)\n\u001b[0;32m    315\u001b[0m curve_vel\u001b[38;5;241m.\u001b[39msetData(xs_vel, y_vel)\n\u001b[1;32m--> 316\u001b[0m curve_comvel\u001b[38;5;241m.\u001b[39msetData(\u001b[43mx_pad\u001b[49m, y_pad)\n",
      "\u001b[1;31mUnboundLocalError\u001b[0m: cannot access local variable 'x_pad' where it is not associated with a value"
     ]
    },
    {
     "name": "stdout",
     "output_type": "stream",
     "text": [
      "EPOCH = 951923.783816, wall = 262.63 ms, jitter = 262.63 ms  Δc=+25  c=1535  v= 0.098, len(dir_log)=12500\n"
     ]
    },
    {
     "ename": "UnboundLocalError",
     "evalue": "cannot access local variable 'x_pad' where it is not associated with a value",
     "output_type": "error",
     "traceback": [
      "\u001b[1;31m---------------------------------------------------------------------------\u001b[0m",
      "\u001b[1;31mUnboundLocalError\u001b[0m                         Traceback (most recent call last)",
      "Cell \u001b[1;32mIn[5], line 316\u001b[0m, in \u001b[0;36mstart_gui.<locals>.refresh\u001b[1;34m()\u001b[0m\n\u001b[0;32m    314\u001b[0m curve_cnt\u001b[38;5;241m.\u001b[39msetData(xs_cnt, y_cnt)\n\u001b[0;32m    315\u001b[0m curve_vel\u001b[38;5;241m.\u001b[39msetData(xs_vel, y_vel)\n\u001b[1;32m--> 316\u001b[0m curve_comvel\u001b[38;5;241m.\u001b[39msetData(\u001b[43mx_pad\u001b[49m, y_pad)\n",
      "\u001b[1;31mUnboundLocalError\u001b[0m: cannot access local variable 'x_pad' where it is not associated with a value"
     ]
    },
    {
     "name": "stdout",
     "output_type": "stream",
     "text": [
      "EPOCH = 951923.905061, wall = 121.25 ms, jitter = 121.25 ms  Δc=+26  c=1561  v= 0.102, len(dir_log)=12500\n",
      "EPOCH = 951924.036814, wall = 131.75 ms, jitter = 131.75 ms  Δc=+26  c=1587  v= 0.102, len(dir_log)=12500\n",
      "EPOCH = 951924.128224, wall =  91.41 ms, jitter =  91.41 ms  Δc=+25  c=1612  v= 0.098, len(dir_log)=12500\n"
     ]
    },
    {
     "ename": "UnboundLocalError",
     "evalue": "cannot access local variable 'x_pad' where it is not associated with a value",
     "output_type": "error",
     "traceback": [
      "\u001b[1;31m---------------------------------------------------------------------------\u001b[0m",
      "\u001b[1;31mUnboundLocalError\u001b[0m                         Traceback (most recent call last)",
      "Cell \u001b[1;32mIn[5], line 316\u001b[0m, in \u001b[0;36mstart_gui.<locals>.refresh\u001b[1;34m()\u001b[0m\n\u001b[0;32m    314\u001b[0m curve_cnt\u001b[38;5;241m.\u001b[39msetData(xs_cnt, y_cnt)\n\u001b[0;32m    315\u001b[0m curve_vel\u001b[38;5;241m.\u001b[39msetData(xs_vel, y_vel)\n\u001b[1;32m--> 316\u001b[0m curve_comvel\u001b[38;5;241m.\u001b[39msetData(\u001b[43mx_pad\u001b[49m, y_pad)\n",
      "\u001b[1;31mUnboundLocalError\u001b[0m: cannot access local variable 'x_pad' where it is not associated with a value"
     ]
    },
    {
     "name": "stdout",
     "output_type": "stream",
     "text": [
      "EPOCH = 951924.257304, wall = 129.08 ms, jitter = 129.08 ms  Δc=+26  c=1638  v= 0.102, len(dir_log)=12500\n",
      "EPOCH = 951924.387625, wall = 130.32 ms, jitter = 130.32 ms  Δc=+25  c=1663  v= 0.098, len(dir_log)=12500\n"
     ]
    },
    {
     "ename": "UnboundLocalError",
     "evalue": "cannot access local variable 'x_pad' where it is not associated with a value",
     "output_type": "error",
     "traceback": [
      "\u001b[1;31m---------------------------------------------------------------------------\u001b[0m",
      "\u001b[1;31mUnboundLocalError\u001b[0m                         Traceback (most recent call last)",
      "Cell \u001b[1;32mIn[5], line 316\u001b[0m, in \u001b[0;36mstart_gui.<locals>.refresh\u001b[1;34m()\u001b[0m\n\u001b[0;32m    314\u001b[0m curve_cnt\u001b[38;5;241m.\u001b[39msetData(xs_cnt, y_cnt)\n\u001b[0;32m    315\u001b[0m curve_vel\u001b[38;5;241m.\u001b[39msetData(xs_vel, y_vel)\n\u001b[1;32m--> 316\u001b[0m curve_comvel\u001b[38;5;241m.\u001b[39msetData(\u001b[43mx_pad\u001b[49m, y_pad)\n",
      "\u001b[1;31mUnboundLocalError\u001b[0m: cannot access local variable 'x_pad' where it is not associated with a value"
     ]
    },
    {
     "name": "stdout",
     "output_type": "stream",
     "text": [
      "EPOCH = 951924.507792, wall = 120.17 ms, jitter = 120.17 ms  Δc=+26  c=1689  v= 0.102, len(dir_log)=12500\n"
     ]
    },
    {
     "ename": "UnboundLocalError",
     "evalue": "cannot access local variable 'x_pad' where it is not associated with a value",
     "output_type": "error",
     "traceback": [
      "\u001b[1;31m---------------------------------------------------------------------------\u001b[0m",
      "\u001b[1;31mUnboundLocalError\u001b[0m                         Traceback (most recent call last)",
      "Cell \u001b[1;32mIn[5], line 316\u001b[0m, in \u001b[0;36mstart_gui.<locals>.refresh\u001b[1;34m()\u001b[0m\n\u001b[0;32m    314\u001b[0m curve_cnt\u001b[38;5;241m.\u001b[39msetData(xs_cnt, y_cnt)\n\u001b[0;32m    315\u001b[0m curve_vel\u001b[38;5;241m.\u001b[39msetData(xs_vel, y_vel)\n\u001b[1;32m--> 316\u001b[0m curve_comvel\u001b[38;5;241m.\u001b[39msetData(\u001b[43mx_pad\u001b[49m, y_pad)\n",
      "\u001b[1;31mUnboundLocalError\u001b[0m: cannot access local variable 'x_pad' where it is not associated with a value"
     ]
    },
    {
     "name": "stdout",
     "output_type": "stream",
     "text": [
      "EPOCH = 951924.644771, wall = 136.98 ms, jitter = 136.98 ms  Δc=+26  c=1715  v= 0.102, len(dir_log)=12500\n",
      "EPOCH = 951924.762237, wall = 117.47 ms, jitter = 117.47 ms  Δc=+25  c=1740  v= 0.098, len(dir_log)=12500\n"
     ]
    },
    {
     "ename": "UnboundLocalError",
     "evalue": "cannot access local variable 'x_pad' where it is not associated with a value",
     "output_type": "error",
     "traceback": [
      "\u001b[1;31m---------------------------------------------------------------------------\u001b[0m",
      "\u001b[1;31mUnboundLocalError\u001b[0m                         Traceback (most recent call last)",
      "Cell \u001b[1;32mIn[5], line 316\u001b[0m, in \u001b[0;36mstart_gui.<locals>.refresh\u001b[1;34m()\u001b[0m\n\u001b[0;32m    314\u001b[0m curve_cnt\u001b[38;5;241m.\u001b[39msetData(xs_cnt, y_cnt)\n\u001b[0;32m    315\u001b[0m curve_vel\u001b[38;5;241m.\u001b[39msetData(xs_vel, y_vel)\n\u001b[1;32m--> 316\u001b[0m curve_comvel\u001b[38;5;241m.\u001b[39msetData(\u001b[43mx_pad\u001b[49m, y_pad)\n",
      "\u001b[1;31mUnboundLocalError\u001b[0m: cannot access local variable 'x_pad' where it is not associated with a value"
     ]
    },
    {
     "name": "stdout",
     "output_type": "stream",
     "text": [
      "EPOCH = 951924.877516, wall = 115.28 ms, jitter = 115.28 ms  Δc=+26  c=1766  v= 0.102, len(dir_log)=12500\n",
      "EPOCH = 951925.016955, wall = 139.44 ms, jitter = 139.44 ms  Δc=+25  c=1791  v= 0.098, len(dir_log)=12500\n"
     ]
    },
    {
     "ename": "UnboundLocalError",
     "evalue": "cannot access local variable 'x_pad' where it is not associated with a value",
     "output_type": "error",
     "traceback": [
      "\u001b[1;31m---------------------------------------------------------------------------\u001b[0m",
      "\u001b[1;31mUnboundLocalError\u001b[0m                         Traceback (most recent call last)",
      "Cell \u001b[1;32mIn[5], line 316\u001b[0m, in \u001b[0;36mstart_gui.<locals>.refresh\u001b[1;34m()\u001b[0m\n\u001b[0;32m    314\u001b[0m curve_cnt\u001b[38;5;241m.\u001b[39msetData(xs_cnt, y_cnt)\n\u001b[0;32m    315\u001b[0m curve_vel\u001b[38;5;241m.\u001b[39msetData(xs_vel, y_vel)\n\u001b[1;32m--> 316\u001b[0m curve_comvel\u001b[38;5;241m.\u001b[39msetData(\u001b[43mx_pad\u001b[49m, y_pad)\n",
      "\u001b[1;31mUnboundLocalError\u001b[0m: cannot access local variable 'x_pad' where it is not associated with a value"
     ]
    },
    {
     "name": "stdout",
     "output_type": "stream",
     "text": [
      "EPOCH = 951925.334742, wall = 317.79 ms, jitter = 317.79 ms  Δc=+26  c=1817  v= 0.102, len(dir_log)=12500\n"
     ]
    },
    {
     "ename": "UnboundLocalError",
     "evalue": "cannot access local variable 'x_pad' where it is not associated with a value",
     "output_type": "error",
     "traceback": [
      "\u001b[1;31m---------------------------------------------------------------------------\u001b[0m",
      "\u001b[1;31mUnboundLocalError\u001b[0m                         Traceback (most recent call last)",
      "Cell \u001b[1;32mIn[5], line 316\u001b[0m, in \u001b[0;36mstart_gui.<locals>.refresh\u001b[1;34m()\u001b[0m\n\u001b[0;32m    314\u001b[0m curve_cnt\u001b[38;5;241m.\u001b[39msetData(xs_cnt, y_cnt)\n\u001b[0;32m    315\u001b[0m curve_vel\u001b[38;5;241m.\u001b[39msetData(xs_vel, y_vel)\n\u001b[1;32m--> 316\u001b[0m curve_comvel\u001b[38;5;241m.\u001b[39msetData(\u001b[43mx_pad\u001b[49m, y_pad)\n",
      "\u001b[1;31mUnboundLocalError\u001b[0m: cannot access local variable 'x_pad' where it is not associated with a value"
     ]
    },
    {
     "name": "stdout",
     "output_type": "stream",
     "text": [
      "EPOCH = 951925.438321, wall = 103.58 ms, jitter = 103.58 ms  Δc=+26  c=1843  v= 0.102, len(dir_log)=12500\n"
     ]
    },
    {
     "ename": "UnboundLocalError",
     "evalue": "cannot access local variable 'x_pad' where it is not associated with a value",
     "output_type": "error",
     "traceback": [
      "\u001b[1;31m---------------------------------------------------------------------------\u001b[0m",
      "\u001b[1;31mUnboundLocalError\u001b[0m                         Traceback (most recent call last)",
      "Cell \u001b[1;32mIn[5], line 316\u001b[0m, in \u001b[0;36mstart_gui.<locals>.refresh\u001b[1;34m()\u001b[0m\n\u001b[0;32m    314\u001b[0m curve_cnt\u001b[38;5;241m.\u001b[39msetData(xs_cnt, y_cnt)\n\u001b[0;32m    315\u001b[0m curve_vel\u001b[38;5;241m.\u001b[39msetData(xs_vel, y_vel)\n\u001b[1;32m--> 316\u001b[0m curve_comvel\u001b[38;5;241m.\u001b[39msetData(\u001b[43mx_pad\u001b[49m, y_pad)\n",
      "\u001b[1;31mUnboundLocalError\u001b[0m: cannot access local variable 'x_pad' where it is not associated with a value"
     ]
    },
    {
     "name": "stdout",
     "output_type": "stream",
     "text": [
      "EPOCH = 951925.672836, wall = 234.52 ms, jitter = 234.52 ms  Δc=+25  c=1868  v= 0.098, len(dir_log)=12500\n",
      "EPOCH = 951925.772002, wall =  99.17 ms, jitter =  99.17 ms  Δc=+26  c=1894  v= 0.102, len(dir_log)=12500\n"
     ]
    },
    {
     "ename": "UnboundLocalError",
     "evalue": "cannot access local variable 'x_pad' where it is not associated with a value",
     "output_type": "error",
     "traceback": [
      "\u001b[1;31m---------------------------------------------------------------------------\u001b[0m",
      "\u001b[1;31mUnboundLocalError\u001b[0m                         Traceback (most recent call last)",
      "Cell \u001b[1;32mIn[5], line 316\u001b[0m, in \u001b[0;36mstart_gui.<locals>.refresh\u001b[1;34m()\u001b[0m\n\u001b[0;32m    314\u001b[0m curve_cnt\u001b[38;5;241m.\u001b[39msetData(xs_cnt, y_cnt)\n\u001b[0;32m    315\u001b[0m curve_vel\u001b[38;5;241m.\u001b[39msetData(xs_vel, y_vel)\n\u001b[1;32m--> 316\u001b[0m curve_comvel\u001b[38;5;241m.\u001b[39msetData(\u001b[43mx_pad\u001b[49m, y_pad)\n",
      "\u001b[1;31mUnboundLocalError\u001b[0m: cannot access local variable 'x_pad' where it is not associated with a value"
     ]
    },
    {
     "ename": "UnboundLocalError",
     "evalue": "cannot access local variable 'x_pad' where it is not associated with a value",
     "output_type": "error",
     "traceback": [
      "\u001b[1;31m---------------------------------------------------------------------------\u001b[0m",
      "\u001b[1;31mUnboundLocalError\u001b[0m                         Traceback (most recent call last)",
      "Cell \u001b[1;32mIn[5], line 316\u001b[0m, in \u001b[0;36mstart_gui.<locals>.refresh\u001b[1;34m()\u001b[0m\n\u001b[0;32m    314\u001b[0m curve_cnt\u001b[38;5;241m.\u001b[39msetData(xs_cnt, y_cnt)\n\u001b[0;32m    315\u001b[0m curve_vel\u001b[38;5;241m.\u001b[39msetData(xs_vel, y_vel)\n\u001b[1;32m--> 316\u001b[0m curve_comvel\u001b[38;5;241m.\u001b[39msetData(\u001b[43mx_pad\u001b[49m, y_pad)\n",
      "\u001b[1;31mUnboundLocalError\u001b[0m: cannot access local variable 'x_pad' where it is not associated with a value"
     ]
    },
    {
     "name": "stdout",
     "output_type": "stream",
     "text": [
      "EPOCH = 951926.048765, wall = 276.76 ms, jitter = 276.76 ms  Δc=+25  c=1919  v= 0.098, len(dir_log)=12500\n",
      "EPOCH = 951926.146331, wall =  97.57 ms, jitter =  97.57 ms  Δc=+26  c=1945  v= 0.102, len(dir_log)=12500\n",
      "EPOCH = 951926.262214, wall = 115.88 ms, jitter = 115.88 ms  Δc=+26  c=1971  v= 0.102, len(dir_log)=12500\n",
      "EPOCH = 951926.393710, wall = 131.50 ms, jitter = 131.50 ms  Δc=+25  c=1996  v= 0.098, len(dir_log)=12500\n"
     ]
    },
    {
     "ename": "UnboundLocalError",
     "evalue": "cannot access local variable 'x_pad' where it is not associated with a value",
     "output_type": "error",
     "traceback": [
      "\u001b[1;31m---------------------------------------------------------------------------\u001b[0m",
      "\u001b[1;31mUnboundLocalError\u001b[0m                         Traceback (most recent call last)",
      "Cell \u001b[1;32mIn[5], line 316\u001b[0m, in \u001b[0;36mstart_gui.<locals>.refresh\u001b[1;34m()\u001b[0m\n\u001b[0;32m    314\u001b[0m curve_cnt\u001b[38;5;241m.\u001b[39msetData(xs_cnt, y_cnt)\n\u001b[0;32m    315\u001b[0m curve_vel\u001b[38;5;241m.\u001b[39msetData(xs_vel, y_vel)\n\u001b[1;32m--> 316\u001b[0m curve_comvel\u001b[38;5;241m.\u001b[39msetData(\u001b[43mx_pad\u001b[49m, y_pad)\n",
      "\u001b[1;31mUnboundLocalError\u001b[0m: cannot access local variable 'x_pad' where it is not associated with a value"
     ]
    },
    {
     "name": "stdout",
     "output_type": "stream",
     "text": [
      "EPOCH = 951926.649256, wall = 255.55 ms, jitter = 255.55 ms  Δc=+26  c=2022  v= 0.102, len(dir_log)=12500\n",
      "EPOCH = 951926.777535, wall = 128.28 ms, jitter = 128.28 ms  Δc=+25  c=2047  v= 0.098, len(dir_log)=12500\n",
      "EPOCH = 951926.908932, wall = 131.40 ms, jitter = 131.40 ms  Δc=+26  c=2073  v= 0.102, len(dir_log)=12500\n",
      "EPOCH = 951927.023467, wall = 114.54 ms, jitter = 114.54 ms  Δc=+26  c=2099  v= 0.102, len(dir_log)=12500\n"
     ]
    },
    {
     "ename": "UnboundLocalError",
     "evalue": "cannot access local variable 'x_pad' where it is not associated with a value",
     "output_type": "error",
     "traceback": [
      "\u001b[1;31m---------------------------------------------------------------------------\u001b[0m",
      "\u001b[1;31mUnboundLocalError\u001b[0m                         Traceback (most recent call last)",
      "Cell \u001b[1;32mIn[5], line 316\u001b[0m, in \u001b[0;36mstart_gui.<locals>.refresh\u001b[1;34m()\u001b[0m\n\u001b[0;32m    314\u001b[0m curve_cnt\u001b[38;5;241m.\u001b[39msetData(xs_cnt, y_cnt)\n\u001b[0;32m    315\u001b[0m curve_vel\u001b[38;5;241m.\u001b[39msetData(xs_vel, y_vel)\n\u001b[1;32m--> 316\u001b[0m curve_comvel\u001b[38;5;241m.\u001b[39msetData(\u001b[43mx_pad\u001b[49m, y_pad)\n",
      "\u001b[1;31mUnboundLocalError\u001b[0m: cannot access local variable 'x_pad' where it is not associated with a value"
     ]
    },
    {
     "name": "stdout",
     "output_type": "stream",
     "text": [
      "EPOCH = 951927.262631, wall = 239.16 ms, jitter = 239.16 ms  Δc=+25  c=2124  v= 0.098, len(dir_log)=12500\n",
      "EPOCH = 951927.397015, wall = 134.38 ms, jitter = 134.38 ms  Δc=+26  c=2150  v= 0.102, len(dir_log)=12500\n",
      "EPOCH = 951927.557362, wall = 160.35 ms, jitter = 160.35 ms  Δc=+25  c=2175  v= 0.098, len(dir_log)=12500\n",
      "EPOCH = 951927.663322, wall = 105.96 ms, jitter = 105.96 ms  Δc=+26  c=2201  v= 0.102, len(dir_log)=12500\n"
     ]
    },
    {
     "ename": "UnboundLocalError",
     "evalue": "cannot access local variable 'x_pad' where it is not associated with a value",
     "output_type": "error",
     "traceback": [
      "\u001b[1;31m---------------------------------------------------------------------------\u001b[0m",
      "\u001b[1;31mUnboundLocalError\u001b[0m                         Traceback (most recent call last)",
      "Cell \u001b[1;32mIn[5], line 316\u001b[0m, in \u001b[0;36mstart_gui.<locals>.refresh\u001b[1;34m()\u001b[0m\n\u001b[0;32m    314\u001b[0m curve_cnt\u001b[38;5;241m.\u001b[39msetData(xs_cnt, y_cnt)\n\u001b[0;32m    315\u001b[0m curve_vel\u001b[38;5;241m.\u001b[39msetData(xs_vel, y_vel)\n\u001b[1;32m--> 316\u001b[0m curve_comvel\u001b[38;5;241m.\u001b[39msetData(\u001b[43mx_pad\u001b[49m, y_pad)\n",
      "\u001b[1;31mUnboundLocalError\u001b[0m: cannot access local variable 'x_pad' where it is not associated with a value"
     ]
    },
    {
     "name": "stdout",
     "output_type": "stream",
     "text": [
      "EPOCH = 951927.939571, wall = 276.25 ms, jitter = 276.25 ms  Δc=+26  c=2227  v= 0.102, len(dir_log)=12500\n",
      "EPOCH = 951928.080260, wall = 140.69 ms, jitter = 140.69 ms  Δc=+25  c=2252  v= 0.098, len(dir_log)=12500\n",
      "EPOCH = 951928.142865, wall =  62.60 ms, jitter =  62.60 ms  Δc=+26  c=2278  v= 0.102, len(dir_log)=12500\n",
      "EPOCH = 951928.268642, wall = 125.78 ms, jitter = 125.78 ms  Δc=+25  c=2303  v= 0.098, len(dir_log)=12500\n",
      "EPOCH = 951928.393225, wall = 124.58 ms, jitter = 124.58 ms  Δc=+26  c=2329  v= 0.102, len(dir_log)=12500\n"
     ]
    },
    {
     "ename": "UnboundLocalError",
     "evalue": "cannot access local variable 'x_pad' where it is not associated with a value",
     "output_type": "error",
     "traceback": [
      "\u001b[1;31m---------------------------------------------------------------------------\u001b[0m",
      "\u001b[1;31mUnboundLocalError\u001b[0m                         Traceback (most recent call last)",
      "Cell \u001b[1;32mIn[5], line 316\u001b[0m, in \u001b[0;36mstart_gui.<locals>.refresh\u001b[1;34m()\u001b[0m\n\u001b[0;32m    314\u001b[0m curve_cnt\u001b[38;5;241m.\u001b[39msetData(xs_cnt, y_cnt)\n\u001b[0;32m    315\u001b[0m curve_vel\u001b[38;5;241m.\u001b[39msetData(xs_vel, y_vel)\n\u001b[1;32m--> 316\u001b[0m curve_comvel\u001b[38;5;241m.\u001b[39msetData(\u001b[43mx_pad\u001b[49m, y_pad)\n",
      "\u001b[1;31mUnboundLocalError\u001b[0m: cannot access local variable 'x_pad' where it is not associated with a value"
     ]
    },
    {
     "name": "stdout",
     "output_type": "stream",
     "text": [
      "EPOCH = 951928.661210, wall = 267.99 ms, jitter = 267.99 ms  Δc=+26  c=2355  v= 0.102, len(dir_log)=12500\n",
      "EPOCH = 951928.757424, wall =  96.21 ms, jitter =  96.21 ms  Δc=+25  c=2380  v= 0.098, len(dir_log)=12500\n",
      "EPOCH = 951928.927714, wall = 170.29 ms, jitter = 170.29 ms  Δc=+26  c=2406  v= 0.102, len(dir_log)=12500\n",
      "EPOCH = 951929.014657, wall =  86.94 ms, jitter =  86.94 ms  Δc=+25  c=2431  v= 0.098, len(dir_log)=12500\n",
      "EPOCH = 951929.226855, wall = 212.20 ms, jitter = 212.20 ms  Δc=+26  c=2457  v= 0.102, len(dir_log)=12500\n",
      "EPOCH = 951929.482933, wall = 256.08 ms, jitter = 256.08 ms  Δc=+26  c=2483  v= 0.102, len(dir_log)=12500\n",
      "EPOCH = 951929.585428, wall = 102.50 ms, jitter = 102.50 ms  Δc=+25  c=2508  v= 0.098, len(dir_log)=12500\n",
      "EPOCH = 951929.795511, wall = 210.08 ms, jitter = 210.08 ms  Δc=+26  c=2534  v= 0.102, len(dir_log)=12500\n"
     ]
    },
    {
     "ename": "UnboundLocalError",
     "evalue": "cannot access local variable 'x_pad' where it is not associated with a value",
     "output_type": "error",
     "traceback": [
      "\u001b[1;31m---------------------------------------------------------------------------\u001b[0m",
      "\u001b[1;31mUnboundLocalError\u001b[0m                         Traceback (most recent call last)",
      "Cell \u001b[1;32mIn[5], line 316\u001b[0m, in \u001b[0;36mstart_gui.<locals>.refresh\u001b[1;34m()\u001b[0m\n\u001b[0;32m    314\u001b[0m curve_cnt\u001b[38;5;241m.\u001b[39msetData(xs_cnt, y_cnt)\n\u001b[0;32m    315\u001b[0m curve_vel\u001b[38;5;241m.\u001b[39msetData(xs_vel, y_vel)\n\u001b[1;32m--> 316\u001b[0m curve_comvel\u001b[38;5;241m.\u001b[39msetData(\u001b[43mx_pad\u001b[49m, y_pad)\n",
      "\u001b[1;31mUnboundLocalError\u001b[0m: cannot access local variable 'x_pad' where it is not associated with a value"
     ]
    },
    {
     "name": "stdout",
     "output_type": "stream",
     "text": [
      "EPOCH = 951929.892781, wall =  97.27 ms, jitter =  97.27 ms  Δc=+25  c=2559  v= 0.098, len(dir_log)=12500\n",
      "EPOCH = 951930.277651, wall = 384.87 ms, jitter = 384.87 ms  Δc=+26  c=2585  v= 0.102, len(dir_log)=12500\n",
      "EPOCH = 951930.533306, wall = 255.66 ms, jitter = 255.66 ms  Δc=+26  c=2611  v= 0.102, len(dir_log)=12500\n",
      "EPOCH = 951930.666620, wall = 133.31 ms, jitter = 133.31 ms  Δc=+25  c=2636  v= 0.098, len(dir_log)=12500\n",
      "EPOCH = 951930.809323, wall = 142.70 ms, jitter = 142.70 ms  Δc=+26  c=2662  v= 0.102, len(dir_log)=12500\n",
      "EPOCH = 951930.938678, wall = 129.36 ms, jitter = 129.36 ms  Δc=+25  c=2687  v= 0.098, len(dir_log)=12500\n",
      "EPOCH = 951931.169207, wall = 230.53 ms, jitter = 230.53 ms  Δc=+26  c=2713  v= 0.102, len(dir_log)=12500\n",
      "EPOCH = 951931.292104, wall = 122.90 ms, jitter = 122.90 ms  Δc=+26  c=2739  v= 0.102, len(dir_log)=12500\n",
      "EPOCH = 951931.393953, wall = 101.85 ms, jitter = 101.85 ms  Δc=+25  c=2764  v= 0.098, len(dir_log)=12500\n",
      "EPOCH = 951931.516539, wall = 122.59 ms, jitter = 122.59 ms  Δc=+26  c=2790  v= 0.102, len(dir_log)=12500\n",
      "EPOCH = 951931.656283, wall = 139.74 ms, jitter = 139.74 ms  Δc=+25  c=2815  v= 0.098, len(dir_log)=12500\n",
      "EPOCH = 951931.806878, wall = 150.60 ms, jitter = 150.60 ms  Δc=+26  c=2841  v= 0.102, len(dir_log)=12500\n",
      "EPOCH = 951931.891529, wall =  84.65 ms, jitter =  84.65 ms  Δc=+26  c=2867  v= 0.102, len(dir_log)=12500\n",
      "EPOCH = 951932.163106, wall = 271.58 ms, jitter = 271.58 ms  Δc=+25  c=2892  v= 0.098, len(dir_log)=12500\n",
      "EPOCH = 951932.317591, wall = 154.48 ms, jitter = 154.48 ms  Δc=+26  c=2918  v= 0.102, len(dir_log)=12500\n",
      "EPOCH = 951932.396090, wall =  78.50 ms, jitter =  78.50 ms  Δc=+25  c=2943  v= 0.098, len(dir_log)=12500\n",
      "EPOCH = 951932.526280, wall = 130.19 ms, jitter = 130.19 ms  Δc=+26  c=2969  v= 0.102, len(dir_log)=12500\n",
      "EPOCH = 951932.809803, wall = 283.52 ms, jitter = 283.52 ms  Δc=+26  c=2995  v= 0.102, len(dir_log)=12500\n"
     ]
    },
    {
     "ename": "UnboundLocalError",
     "evalue": "cannot access local variable 'x_pad' where it is not associated with a value",
     "output_type": "error",
     "traceback": [
      "\u001b[1;31m---------------------------------------------------------------------------\u001b[0m",
      "\u001b[1;31mUnboundLocalError\u001b[0m                         Traceback (most recent call last)",
      "Cell \u001b[1;32mIn[5], line 316\u001b[0m, in \u001b[0;36mstart_gui.<locals>.refresh\u001b[1;34m()\u001b[0m\n\u001b[0;32m    314\u001b[0m curve_cnt\u001b[38;5;241m.\u001b[39msetData(xs_cnt, y_cnt)\n\u001b[0;32m    315\u001b[0m curve_vel\u001b[38;5;241m.\u001b[39msetData(xs_vel, y_vel)\n\u001b[1;32m--> 316\u001b[0m curve_comvel\u001b[38;5;241m.\u001b[39msetData(\u001b[43mx_pad\u001b[49m, y_pad)\n",
      "\u001b[1;31mUnboundLocalError\u001b[0m: cannot access local variable 'x_pad' where it is not associated with a value"
     ]
    },
    {
     "name": "stdout",
     "output_type": "stream",
     "text": [
      "EPOCH = 951933.021475, wall = 211.67 ms, jitter = 211.67 ms  Δc=+25  c=3020  v= 0.098, len(dir_log)=12500\n",
      "EPOCH = 951933.156427, wall = 134.95 ms, jitter = 134.95 ms  Δc=+26  c=3046  v= 0.102, len(dir_log)=12500\n",
      "EPOCH = 951933.260670, wall = 104.24 ms, jitter = 104.24 ms  Δc=+25  c=3071  v= 0.098, len(dir_log)=12500\n"
     ]
    },
    {
     "ename": "UnboundLocalError",
     "evalue": "cannot access local variable 'x_pad' where it is not associated with a value",
     "output_type": "error",
     "traceback": [
      "\u001b[1;31m---------------------------------------------------------------------------\u001b[0m",
      "\u001b[1;31mUnboundLocalError\u001b[0m                         Traceback (most recent call last)",
      "Cell \u001b[1;32mIn[5], line 316\u001b[0m, in \u001b[0;36mstart_gui.<locals>.refresh\u001b[1;34m()\u001b[0m\n\u001b[0;32m    314\u001b[0m curve_cnt\u001b[38;5;241m.\u001b[39msetData(xs_cnt, y_cnt)\n\u001b[0;32m    315\u001b[0m curve_vel\u001b[38;5;241m.\u001b[39msetData(xs_vel, y_vel)\n\u001b[1;32m--> 316\u001b[0m curve_comvel\u001b[38;5;241m.\u001b[39msetData(\u001b[43mx_pad\u001b[49m, y_pad)\n",
      "\u001b[1;31mUnboundLocalError\u001b[0m: cannot access local variable 'x_pad' where it is not associated with a value"
     ]
    },
    {
     "name": "stdout",
     "output_type": "stream",
     "text": [
      "EPOCH = 951933.624837, wall = 364.17 ms, jitter = 364.17 ms  Δc=+26  c=3097  v= 0.102, len(dir_log)=12500\n",
      "EPOCH = 951933.852313, wall = 227.48 ms, jitter = 227.48 ms  Δc=+26  c=3123  v= 0.102, len(dir_log)=12500\n",
      "EPOCH = 951933.892506, wall =  40.19 ms, jitter =  40.19 ms  Δc=+25  c=3148  v= 0.098, len(dir_log)=12500\n",
      "EPOCH = 951934.097045, wall = 204.54 ms, jitter = 204.54 ms  Δc=+26  c=3174  v= 0.102, len(dir_log)=12500\n",
      "EPOCH = 951934.282546, wall = 185.50 ms, jitter = 185.50 ms  Δc=+25  c=3199  v= 0.098, len(dir_log)=12500\n"
     ]
    },
    {
     "ename": "UnboundLocalError",
     "evalue": "cannot access local variable 'x_pad' where it is not associated with a value",
     "output_type": "error",
     "traceback": [
      "\u001b[1;31m---------------------------------------------------------------------------\u001b[0m",
      "\u001b[1;31mUnboundLocalError\u001b[0m                         Traceback (most recent call last)",
      "Cell \u001b[1;32mIn[5], line 316\u001b[0m, in \u001b[0;36mstart_gui.<locals>.refresh\u001b[1;34m()\u001b[0m\n\u001b[0;32m    314\u001b[0m curve_cnt\u001b[38;5;241m.\u001b[39msetData(xs_cnt, y_cnt)\n\u001b[0;32m    315\u001b[0m curve_vel\u001b[38;5;241m.\u001b[39msetData(xs_vel, y_vel)\n\u001b[1;32m--> 316\u001b[0m curve_comvel\u001b[38;5;241m.\u001b[39msetData(\u001b[43mx_pad\u001b[49m, y_pad)\n",
      "\u001b[1;31mUnboundLocalError\u001b[0m: cannot access local variable 'x_pad' where it is not associated with a value"
     ]
    },
    {
     "name": "stdout",
     "output_type": "stream",
     "text": [
      "EPOCH = 951934.415518, wall = 132.97 ms, jitter = 132.97 ms  Δc=+26  c=3225  v= 0.102, len(dir_log)=12500\n",
      "EPOCH = 951934.575310, wall = 159.79 ms, jitter = 159.79 ms  Δc=+26  c=3251  v= 0.102, len(dir_log)=12500\n",
      "EPOCH = 951934.678219, wall = 102.91 ms, jitter = 102.91 ms  Δc=+25  c=3276  v= 0.098, len(dir_log)=12500\n",
      "EPOCH = 951934.884083, wall = 205.86 ms, jitter = 205.86 ms  Δc=+26  c=3302  v= 0.102, len(dir_log)=12500\n"
     ]
    },
    {
     "ename": "UnboundLocalError",
     "evalue": "cannot access local variable 'x_pad' where it is not associated with a value",
     "output_type": "error",
     "traceback": [
      "\u001b[1;31m---------------------------------------------------------------------------\u001b[0m",
      "\u001b[1;31mUnboundLocalError\u001b[0m                         Traceback (most recent call last)",
      "Cell \u001b[1;32mIn[5], line 316\u001b[0m, in \u001b[0;36mstart_gui.<locals>.refresh\u001b[1;34m()\u001b[0m\n\u001b[0;32m    314\u001b[0m curve_cnt\u001b[38;5;241m.\u001b[39msetData(xs_cnt, y_cnt)\n\u001b[0;32m    315\u001b[0m curve_vel\u001b[38;5;241m.\u001b[39msetData(xs_vel, y_vel)\n\u001b[1;32m--> 316\u001b[0m curve_comvel\u001b[38;5;241m.\u001b[39msetData(\u001b[43mx_pad\u001b[49m, y_pad)\n",
      "\u001b[1;31mUnboundLocalError\u001b[0m: cannot access local variable 'x_pad' where it is not associated with a value"
     ]
    },
    {
     "name": "stdout",
     "output_type": "stream",
     "text": [
      "EPOCH = 951935.033304, wall = 149.22 ms, jitter = 149.22 ms  Δc=+25  c=3327  v= 0.098, len(dir_log)=12500\n",
      "EPOCH = 951935.200873, wall = 167.57 ms, jitter = 167.57 ms  Δc=+26  c=3353  v= 0.102, len(dir_log)=12500\n",
      "EPOCH = 951935.404507, wall = 203.63 ms, jitter = 203.63 ms  Δc=+26  c=3379  v= 0.102, len(dir_log)=12500\n"
     ]
    },
    {
     "ename": "UnboundLocalError",
     "evalue": "cannot access local variable 'x_pad' where it is not associated with a value",
     "output_type": "error",
     "traceback": [
      "\u001b[1;31m---------------------------------------------------------------------------\u001b[0m",
      "\u001b[1;31mUnboundLocalError\u001b[0m                         Traceback (most recent call last)",
      "Cell \u001b[1;32mIn[5], line 316\u001b[0m, in \u001b[0;36mstart_gui.<locals>.refresh\u001b[1;34m()\u001b[0m\n\u001b[0;32m    314\u001b[0m curve_cnt\u001b[38;5;241m.\u001b[39msetData(xs_cnt, y_cnt)\n\u001b[0;32m    315\u001b[0m curve_vel\u001b[38;5;241m.\u001b[39msetData(xs_vel, y_vel)\n\u001b[1;32m--> 316\u001b[0m curve_comvel\u001b[38;5;241m.\u001b[39msetData(\u001b[43mx_pad\u001b[49m, y_pad)\n",
      "\u001b[1;31mUnboundLocalError\u001b[0m: cannot access local variable 'x_pad' where it is not associated with a value"
     ]
    },
    {
     "name": "stdout",
     "output_type": "stream",
     "text": [
      "EPOCH = 951935.511623, wall = 107.12 ms, jitter = 107.12 ms  Δc=+25  c=3404  v= 0.098, len(dir_log)=12500\n",
      "EPOCH = 951935.718850, wall = 207.23 ms, jitter = 207.23 ms  Δc=+26  c=3430  v= 0.102, len(dir_log)=12500\n",
      "EPOCH = 951935.770790, wall =  51.94 ms, jitter =  51.94 ms  Δc=+25  c=3455  v= 0.098, len(dir_log)=12500\n"
     ]
    },
    {
     "ename": "UnboundLocalError",
     "evalue": "cannot access local variable 'x_pad' where it is not associated with a value",
     "output_type": "error",
     "traceback": [
      "\u001b[1;31m---------------------------------------------------------------------------\u001b[0m",
      "\u001b[1;31mUnboundLocalError\u001b[0m                         Traceback (most recent call last)",
      "Cell \u001b[1;32mIn[5], line 316\u001b[0m, in \u001b[0;36mstart_gui.<locals>.refresh\u001b[1;34m()\u001b[0m\n\u001b[0;32m    314\u001b[0m curve_cnt\u001b[38;5;241m.\u001b[39msetData(xs_cnt, y_cnt)\n\u001b[0;32m    315\u001b[0m curve_vel\u001b[38;5;241m.\u001b[39msetData(xs_vel, y_vel)\n\u001b[1;32m--> 316\u001b[0m curve_comvel\u001b[38;5;241m.\u001b[39msetData(\u001b[43mx_pad\u001b[49m, y_pad)\n",
      "\u001b[1;31mUnboundLocalError\u001b[0m: cannot access local variable 'x_pad' where it is not associated with a value"
     ]
    },
    {
     "name": "stdout",
     "output_type": "stream",
     "text": [
      "EPOCH = 951936.046782, wall = 275.99 ms, jitter = 275.99 ms  Δc=+26  c=3481  v= 0.102, len(dir_log)=12500\n",
      "EPOCH = 951936.244973, wall = 198.19 ms, jitter = 198.19 ms  Δc=+26  c=3507  v= 0.102, len(dir_log)=12500\n",
      "EPOCH = 951936.525341, wall = 280.37 ms, jitter = 280.37 ms  Δc=+25  c=3532  v= 0.098, len(dir_log)=12500\n"
     ]
    },
    {
     "ename": "UnboundLocalError",
     "evalue": "cannot access local variable 'x_pad' where it is not associated with a value",
     "output_type": "error",
     "traceback": [
      "\u001b[1;31m---------------------------------------------------------------------------\u001b[0m",
      "\u001b[1;31mUnboundLocalError\u001b[0m                         Traceback (most recent call last)",
      "Cell \u001b[1;32mIn[5], line 316\u001b[0m, in \u001b[0;36mstart_gui.<locals>.refresh\u001b[1;34m()\u001b[0m\n\u001b[0;32m    314\u001b[0m curve_cnt\u001b[38;5;241m.\u001b[39msetData(xs_cnt, y_cnt)\n\u001b[0;32m    315\u001b[0m curve_vel\u001b[38;5;241m.\u001b[39msetData(xs_vel, y_vel)\n\u001b[1;32m--> 316\u001b[0m curve_comvel\u001b[38;5;241m.\u001b[39msetData(\u001b[43mx_pad\u001b[49m, y_pad)\n",
      "\u001b[1;31mUnboundLocalError\u001b[0m: cannot access local variable 'x_pad' where it is not associated with a value"
     ]
    },
    {
     "name": "stdout",
     "output_type": "stream",
     "text": [
      "EPOCH = 951936.645527, wall = 120.19 ms, jitter = 120.19 ms  Δc=+26  c=3558  v= 0.102, len(dir_log)=12500\n",
      "EPOCH = 951936.776980, wall = 131.45 ms, jitter = 131.45 ms  Δc=+25  c=3583  v= 0.098, len(dir_log)=12500\n"
     ]
    },
    {
     "ename": "UnboundLocalError",
     "evalue": "cannot access local variable 'x_pad' where it is not associated with a value",
     "output_type": "error",
     "traceback": [
      "\u001b[1;31m---------------------------------------------------------------------------\u001b[0m",
      "\u001b[1;31mUnboundLocalError\u001b[0m                         Traceback (most recent call last)",
      "Cell \u001b[1;32mIn[5], line 316\u001b[0m, in \u001b[0;36mstart_gui.<locals>.refresh\u001b[1;34m()\u001b[0m\n\u001b[0;32m    314\u001b[0m curve_cnt\u001b[38;5;241m.\u001b[39msetData(xs_cnt, y_cnt)\n\u001b[0;32m    315\u001b[0m curve_vel\u001b[38;5;241m.\u001b[39msetData(xs_vel, y_vel)\n\u001b[1;32m--> 316\u001b[0m curve_comvel\u001b[38;5;241m.\u001b[39msetData(\u001b[43mx_pad\u001b[49m, y_pad)\n",
      "\u001b[1;31mUnboundLocalError\u001b[0m: cannot access local variable 'x_pad' where it is not associated with a value"
     ]
    },
    {
     "name": "stdout",
     "output_type": "stream",
     "text": [
      "EPOCH = 951937.064784, wall = 287.80 ms, jitter = 287.80 ms  Δc=+26  c=3609  v= 0.102, len(dir_log)=12500\n",
      "EPOCH = 951937.174755, wall = 109.97 ms, jitter = 109.97 ms  Δc=+26  c=3635  v= 0.102, len(dir_log)=12500\n",
      "EPOCH = 951937.318306, wall = 143.55 ms, jitter = 143.55 ms  Δc=+25  c=3660  v= 0.098, len(dir_log)=12500\n",
      "EPOCH = 951937.572727, wall = 254.42 ms, jitter = 254.42 ms  Δc=+26  c=3686  v= 0.102, len(dir_log)=12500\n"
     ]
    },
    {
     "ename": "UnboundLocalError",
     "evalue": "cannot access local variable 'x_pad' where it is not associated with a value",
     "output_type": "error",
     "traceback": [
      "\u001b[1;31m---------------------------------------------------------------------------\u001b[0m",
      "\u001b[1;31mUnboundLocalError\u001b[0m                         Traceback (most recent call last)",
      "Cell \u001b[1;32mIn[5], line 316\u001b[0m, in \u001b[0;36mstart_gui.<locals>.refresh\u001b[1;34m()\u001b[0m\n\u001b[0;32m    314\u001b[0m curve_cnt\u001b[38;5;241m.\u001b[39msetData(xs_cnt, y_cnt)\n\u001b[0;32m    315\u001b[0m curve_vel\u001b[38;5;241m.\u001b[39msetData(xs_vel, y_vel)\n\u001b[1;32m--> 316\u001b[0m curve_comvel\u001b[38;5;241m.\u001b[39msetData(\u001b[43mx_pad\u001b[49m, y_pad)\n",
      "\u001b[1;31mUnboundLocalError\u001b[0m: cannot access local variable 'x_pad' where it is not associated with a value"
     ]
    },
    {
     "name": "stdout",
     "output_type": "stream",
     "text": [
      "EPOCH = 951937.662243, wall =  89.52 ms, jitter =  89.52 ms  Δc=+25  c=3711  v= 0.098, len(dir_log)=12500\n",
      "EPOCH = 951937.792592, wall = 130.35 ms, jitter = 130.35 ms  Δc=+26  c=3737  v= 0.102, len(dir_log)=12500\n"
     ]
    },
    {
     "ename": "UnboundLocalError",
     "evalue": "cannot access local variable 'x_pad' where it is not associated with a value",
     "output_type": "error",
     "traceback": [
      "\u001b[1;31m---------------------------------------------------------------------------\u001b[0m",
      "\u001b[1;31mUnboundLocalError\u001b[0m                         Traceback (most recent call last)",
      "Cell \u001b[1;32mIn[5], line 316\u001b[0m, in \u001b[0;36mstart_gui.<locals>.refresh\u001b[1;34m()\u001b[0m\n\u001b[0;32m    314\u001b[0m curve_cnt\u001b[38;5;241m.\u001b[39msetData(xs_cnt, y_cnt)\n\u001b[0;32m    315\u001b[0m curve_vel\u001b[38;5;241m.\u001b[39msetData(xs_vel, y_vel)\n\u001b[1;32m--> 316\u001b[0m curve_comvel\u001b[38;5;241m.\u001b[39msetData(\u001b[43mx_pad\u001b[49m, y_pad)\n",
      "\u001b[1;31mUnboundLocalError\u001b[0m: cannot access local variable 'x_pad' where it is not associated with a value"
     ]
    },
    {
     "name": "stdout",
     "output_type": "stream",
     "text": [
      "EPOCH = 951938.016706, wall = 224.11 ms, jitter = 224.11 ms  Δc=+26  c=3763  v= 0.102, len(dir_log)=12500\n",
      "EPOCH = 951938.148550, wall = 131.84 ms, jitter = 131.84 ms  Δc=+25  c=3788  v= 0.098, len(dir_log)=12500\n",
      "EPOCH = 951938.274641, wall = 126.09 ms, jitter = 126.09 ms  Δc=+26  c=3814  v= 0.102, len(dir_log)=12500\n",
      "EPOCH = 951938.435734, wall = 161.09 ms, jitter = 161.09 ms  Δc=+25  c=3839  v= 0.098, len(dir_log)=12500\n",
      "EPOCH = 951938.517952, wall =  82.22 ms, jitter =  82.22 ms  Δc=+26  c=3865  v= 0.102, len(dir_log)=12500\n",
      "EPOCH = 951938.678835, wall = 160.88 ms, jitter = 160.88 ms  Δc=+26  c=3891  v= 0.102, len(dir_log)=12500\n",
      "EPOCH = 951938.896298, wall = 217.46 ms, jitter = 217.46 ms  Δc=+25  c=3916  v= 0.098, len(dir_log)=12500\n",
      "EPOCH = 951939.022512, wall = 126.21 ms, jitter = 126.21 ms  Δc=+26  c=3942  v= 0.102, len(dir_log)=12500\n",
      "EPOCH = 951939.295689, wall = 273.18 ms, jitter = 273.18 ms  Δc=+25  c=3967  v= 0.098, len(dir_log)=12500\n",
      "EPOCH = 951939.591408, wall = 295.72 ms, jitter = 295.72 ms  Δc=+26  c=3993  v= 0.102, len(dir_log)=12500\n",
      "EPOCH = 951939.648018, wall =  56.61 ms, jitter =  56.61 ms  Δc=+26  c=4019  v= 0.102, len(dir_log)=12500\n",
      "EPOCH = 951939.943297, wall = 295.28 ms, jitter = 295.28 ms  Δc=+25  c=4044  v= 0.098, len(dir_log)=12500\n",
      "EPOCH = 951940.070378, wall = 127.08 ms, jitter = 127.08 ms  Δc=+26  c=4070  v= 0.102, len(dir_log)=12500\n",
      "EPOCH = 951940.139733, wall =  69.36 ms, jitter =  69.36 ms  Δc=+25  c=4095  v= 0.098, len(dir_log)=12500\n"
     ]
    },
    {
     "ename": "UnboundLocalError",
     "evalue": "cannot access local variable 'x_pad' where it is not associated with a value",
     "output_type": "error",
     "traceback": [
      "\u001b[1;31m---------------------------------------------------------------------------\u001b[0m",
      "\u001b[1;31mUnboundLocalError\u001b[0m                         Traceback (most recent call last)",
      "Cell \u001b[1;32mIn[5], line 316\u001b[0m, in \u001b[0;36mstart_gui.<locals>.refresh\u001b[1;34m()\u001b[0m\n\u001b[0;32m    314\u001b[0m curve_cnt\u001b[38;5;241m.\u001b[39msetData(xs_cnt, y_cnt)\n\u001b[0;32m    315\u001b[0m curve_vel\u001b[38;5;241m.\u001b[39msetData(xs_vel, y_vel)\n\u001b[1;32m--> 316\u001b[0m curve_comvel\u001b[38;5;241m.\u001b[39msetData(\u001b[43mx_pad\u001b[49m, y_pad)\n",
      "\u001b[1;31mUnboundLocalError\u001b[0m: cannot access local variable 'x_pad' where it is not associated with a value"
     ]
    },
    {
     "name": "stdout",
     "output_type": "stream",
     "text": [
      "EPOCH = 951940.455865, wall = 316.13 ms, jitter = 316.13 ms  Δc=+26  c=4121  v= 0.102, len(dir_log)=12500\n",
      "EPOCH = 951940.551956, wall =  96.09 ms, jitter =  96.09 ms  Δc=+26  c=4147  v= 0.102, len(dir_log)=12500\n",
      "EPOCH = 951940.676150, wall = 124.19 ms, jitter = 124.19 ms  Δc=+25  c=4172  v= 0.098, len(dir_log)=12500\n",
      "EPOCH = 951940.800843, wall = 124.69 ms, jitter = 124.69 ms  Δc=+26  c=4198  v= 0.102, len(dir_log)=12500\n"
     ]
    },
    {
     "ename": "UnboundLocalError",
     "evalue": "cannot access local variable 'x_pad' where it is not associated with a value",
     "output_type": "error",
     "traceback": [
      "\u001b[1;31m---------------------------------------------------------------------------\u001b[0m",
      "\u001b[1;31mUnboundLocalError\u001b[0m                         Traceback (most recent call last)",
      "Cell \u001b[1;32mIn[5], line 316\u001b[0m, in \u001b[0;36mstart_gui.<locals>.refresh\u001b[1;34m()\u001b[0m\n\u001b[0;32m    314\u001b[0m curve_cnt\u001b[38;5;241m.\u001b[39msetData(xs_cnt, y_cnt)\n\u001b[0;32m    315\u001b[0m curve_vel\u001b[38;5;241m.\u001b[39msetData(xs_vel, y_vel)\n\u001b[1;32m--> 316\u001b[0m curve_comvel\u001b[38;5;241m.\u001b[39msetData(\u001b[43mx_pad\u001b[49m, y_pad)\n",
      "\u001b[1;31mUnboundLocalError\u001b[0m: cannot access local variable 'x_pad' where it is not associated with a value"
     ]
    },
    {
     "name": "stdout",
     "output_type": "stream",
     "text": [
      "EPOCH = 951941.050593, wall = 249.75 ms, jitter = 249.75 ms  Δc=+25  c=4223  v= 0.098, len(dir_log)=12500\n",
      "EPOCH = 951941.273003, wall = 222.41 ms, jitter = 222.41 ms  Δc=+26  c=4249  v= 0.102, len(dir_log)=12500\n"
     ]
    },
    {
     "ename": "UnboundLocalError",
     "evalue": "cannot access local variable 'x_pad' where it is not associated with a value",
     "output_type": "error",
     "traceback": [
      "\u001b[1;31m---------------------------------------------------------------------------\u001b[0m",
      "\u001b[1;31mUnboundLocalError\u001b[0m                         Traceback (most recent call last)",
      "Cell \u001b[1;32mIn[5], line 316\u001b[0m, in \u001b[0;36mstart_gui.<locals>.refresh\u001b[1;34m()\u001b[0m\n\u001b[0;32m    314\u001b[0m curve_cnt\u001b[38;5;241m.\u001b[39msetData(xs_cnt, y_cnt)\n\u001b[0;32m    315\u001b[0m curve_vel\u001b[38;5;241m.\u001b[39msetData(xs_vel, y_vel)\n\u001b[1;32m--> 316\u001b[0m curve_comvel\u001b[38;5;241m.\u001b[39msetData(\u001b[43mx_pad\u001b[49m, y_pad)\n",
      "\u001b[1;31mUnboundLocalError\u001b[0m: cannot access local variable 'x_pad' where it is not associated with a value"
     ]
    },
    {
     "name": "stdout",
     "output_type": "stream",
     "text": [
      "EPOCH = 951941.418330, wall = 145.33 ms, jitter = 145.33 ms  Δc=+26  c=4275  v= 0.102, len(dir_log)=12500\n",
      "EPOCH = 951941.670585, wall = 252.26 ms, jitter = 252.26 ms  Δc=+25  c=4300  v= 0.098, len(dir_log)=12500\n"
     ]
    },
    {
     "ename": "UnboundLocalError",
     "evalue": "cannot access local variable 'x_pad' where it is not associated with a value",
     "output_type": "error",
     "traceback": [
      "\u001b[1;31m---------------------------------------------------------------------------\u001b[0m",
      "\u001b[1;31mUnboundLocalError\u001b[0m                         Traceback (most recent call last)",
      "Cell \u001b[1;32mIn[5], line 316\u001b[0m, in \u001b[0;36mstart_gui.<locals>.refresh\u001b[1;34m()\u001b[0m\n\u001b[0;32m    314\u001b[0m curve_cnt\u001b[38;5;241m.\u001b[39msetData(xs_cnt, y_cnt)\n\u001b[0;32m    315\u001b[0m curve_vel\u001b[38;5;241m.\u001b[39msetData(xs_vel, y_vel)\n\u001b[1;32m--> 316\u001b[0m curve_comvel\u001b[38;5;241m.\u001b[39msetData(\u001b[43mx_pad\u001b[49m, y_pad)\n",
      "\u001b[1;31mUnboundLocalError\u001b[0m: cannot access local variable 'x_pad' where it is not associated with a value"
     ]
    },
    {
     "name": "stdout",
     "output_type": "stream",
     "text": [
      "EPOCH = 951941.783217, wall = 112.63 ms, jitter = 112.63 ms  Δc=+26  c=4326  v= 0.102, len(dir_log)=12500\n",
      "EPOCH = 951941.921343, wall = 138.13 ms, jitter = 138.13 ms  Δc=+25  c=4351  v= 0.098, len(dir_log)=12500\n"
     ]
    },
    {
     "ename": "UnboundLocalError",
     "evalue": "cannot access local variable 'x_pad' where it is not associated with a value",
     "output_type": "error",
     "traceback": [
      "\u001b[1;31m---------------------------------------------------------------------------\u001b[0m",
      "\u001b[1;31mUnboundLocalError\u001b[0m                         Traceback (most recent call last)",
      "Cell \u001b[1;32mIn[5], line 316\u001b[0m, in \u001b[0;36mstart_gui.<locals>.refresh\u001b[1;34m()\u001b[0m\n\u001b[0;32m    314\u001b[0m curve_cnt\u001b[38;5;241m.\u001b[39msetData(xs_cnt, y_cnt)\n\u001b[0;32m    315\u001b[0m curve_vel\u001b[38;5;241m.\u001b[39msetData(xs_vel, y_vel)\n\u001b[1;32m--> 316\u001b[0m curve_comvel\u001b[38;5;241m.\u001b[39msetData(\u001b[43mx_pad\u001b[49m, y_pad)\n",
      "\u001b[1;31mUnboundLocalError\u001b[0m: cannot access local variable 'x_pad' where it is not associated with a value"
     ]
    },
    {
     "name": "stdout",
     "output_type": "stream",
     "text": [
      "EPOCH = 951942.175359, wall = 254.02 ms, jitter = 254.02 ms  Δc=+26  c=4377  v= 0.102, len(dir_log)=12500\n",
      "EPOCH = 951942.292430, wall = 117.07 ms, jitter = 117.07 ms  Δc=+26  c=4403  v= 0.102, len(dir_log)=12500\n",
      "EPOCH = 951942.530350, wall = 237.92 ms, jitter = 237.92 ms  Δc=+25  c=4428  v= 0.098, len(dir_log)=12500\n"
     ]
    },
    {
     "ename": "UnboundLocalError",
     "evalue": "cannot access local variable 'x_pad' where it is not associated with a value",
     "output_type": "error",
     "traceback": [
      "\u001b[1;31m---------------------------------------------------------------------------\u001b[0m",
      "\u001b[1;31mUnboundLocalError\u001b[0m                         Traceback (most recent call last)",
      "Cell \u001b[1;32mIn[5], line 316\u001b[0m, in \u001b[0;36mstart_gui.<locals>.refresh\u001b[1;34m()\u001b[0m\n\u001b[0;32m    314\u001b[0m curve_cnt\u001b[38;5;241m.\u001b[39msetData(xs_cnt, y_cnt)\n\u001b[0;32m    315\u001b[0m curve_vel\u001b[38;5;241m.\u001b[39msetData(xs_vel, y_vel)\n\u001b[1;32m--> 316\u001b[0m curve_comvel\u001b[38;5;241m.\u001b[39msetData(\u001b[43mx_pad\u001b[49m, y_pad)\n",
      "\u001b[1;31mUnboundLocalError\u001b[0m: cannot access local variable 'x_pad' where it is not associated with a value"
     ]
    },
    {
     "name": "stdout",
     "output_type": "stream",
     "text": [
      "EPOCH = 951942.799710, wall = 269.36 ms, jitter = 269.36 ms  Δc=+26  c=4454  v= 0.102, len(dir_log)=12500\n",
      "EPOCH = 951942.899094, wall =  99.38 ms, jitter =  99.38 ms  Δc=+25  c=4479  v= 0.098, len(dir_log)=12500\n",
      "EPOCH = 951943.030052, wall = 130.96 ms, jitter = 130.96 ms  Δc=+26  c=4505  v= 0.102, len(dir_log)=12500\n",
      "EPOCH = 951943.143032, wall = 112.98 ms, jitter = 112.98 ms  Δc=+26  c=4531  v= 0.102, len(dir_log)=12500\n"
     ]
    },
    {
     "ename": "UnboundLocalError",
     "evalue": "cannot access local variable 'x_pad' where it is not associated with a value",
     "output_type": "error",
     "traceback": [
      "\u001b[1;31m---------------------------------------------------------------------------\u001b[0m",
      "\u001b[1;31mUnboundLocalError\u001b[0m                         Traceback (most recent call last)",
      "Cell \u001b[1;32mIn[5], line 316\u001b[0m, in \u001b[0;36mstart_gui.<locals>.refresh\u001b[1;34m()\u001b[0m\n\u001b[0;32m    314\u001b[0m curve_cnt\u001b[38;5;241m.\u001b[39msetData(xs_cnt, y_cnt)\n\u001b[0;32m    315\u001b[0m curve_vel\u001b[38;5;241m.\u001b[39msetData(xs_vel, y_vel)\n\u001b[1;32m--> 316\u001b[0m curve_comvel\u001b[38;5;241m.\u001b[39msetData(\u001b[43mx_pad\u001b[49m, y_pad)\n",
      "\u001b[1;31mUnboundLocalError\u001b[0m: cannot access local variable 'x_pad' where it is not associated with a value"
     ]
    },
    {
     "name": "stdout",
     "output_type": "stream",
     "text": [
      "EPOCH = 951943.420542, wall = 277.51 ms, jitter = 277.51 ms  Δc=+25  c=4556  v= 0.098, len(dir_log)=12500\n",
      "EPOCH = 951943.551480, wall = 130.94 ms, jitter = 130.94 ms  Δc=+26  c=4582  v= 0.102, len(dir_log)=12500\n",
      "EPOCH = 951943.674727, wall = 123.25 ms, jitter = 123.25 ms  Δc=+25  c=4607  v= 0.098, len(dir_log)=12500\n"
     ]
    },
    {
     "ename": "UnboundLocalError",
     "evalue": "cannot access local variable 'x_pad' where it is not associated with a value",
     "output_type": "error",
     "traceback": [
      "\u001b[1;31m---------------------------------------------------------------------------\u001b[0m",
      "\u001b[1;31mUnboundLocalError\u001b[0m                         Traceback (most recent call last)",
      "Cell \u001b[1;32mIn[5], line 316\u001b[0m, in \u001b[0;36mstart_gui.<locals>.refresh\u001b[1;34m()\u001b[0m\n\u001b[0;32m    314\u001b[0m curve_cnt\u001b[38;5;241m.\u001b[39msetData(xs_cnt, y_cnt)\n\u001b[0;32m    315\u001b[0m curve_vel\u001b[38;5;241m.\u001b[39msetData(xs_vel, y_vel)\n\u001b[1;32m--> 316\u001b[0m curve_comvel\u001b[38;5;241m.\u001b[39msetData(\u001b[43mx_pad\u001b[49m, y_pad)\n",
      "\u001b[1;31mUnboundLocalError\u001b[0m: cannot access local variable 'x_pad' where it is not associated with a value"
     ]
    },
    {
     "name": "stdout",
     "output_type": "stream",
     "text": [
      "EPOCH = 951943.900107, wall = 225.38 ms, jitter = 225.38 ms  Δc=+26  c=4633  v= 0.102, len(dir_log)=12500\n",
      "EPOCH = 951944.050318, wall = 150.21 ms, jitter = 150.21 ms  Δc=+26  c=4659  v= 0.102, len(dir_log)=12500\n",
      "EPOCH = 951944.137133, wall =  86.82 ms, jitter =  86.82 ms  Δc=+25  c=4684  v= 0.098, len(dir_log)=12500\n",
      "EPOCH = 951944.266620, wall = 129.49 ms, jitter = 129.49 ms  Δc=+26  c=4710  v= 0.102, len(dir_log)=12500\n",
      "EPOCH = 951944.519451, wall = 252.83 ms, jitter = 252.83 ms  Δc=+25  c=4735  v= 0.098, len(dir_log)=12500\n"
     ]
    },
    {
     "ename": "UnboundLocalError",
     "evalue": "cannot access local variable 'x_pad' where it is not associated with a value",
     "output_type": "error",
     "traceback": [
      "\u001b[1;31m---------------------------------------------------------------------------\u001b[0m",
      "\u001b[1;31mUnboundLocalError\u001b[0m                         Traceback (most recent call last)",
      "Cell \u001b[1;32mIn[5], line 316\u001b[0m, in \u001b[0;36mstart_gui.<locals>.refresh\u001b[1;34m()\u001b[0m\n\u001b[0;32m    314\u001b[0m curve_cnt\u001b[38;5;241m.\u001b[39msetData(xs_cnt, y_cnt)\n\u001b[0;32m    315\u001b[0m curve_vel\u001b[38;5;241m.\u001b[39msetData(xs_vel, y_vel)\n\u001b[1;32m--> 316\u001b[0m curve_comvel\u001b[38;5;241m.\u001b[39msetData(\u001b[43mx_pad\u001b[49m, y_pad)\n",
      "\u001b[1;31mUnboundLocalError\u001b[0m: cannot access local variable 'x_pad' where it is not associated with a value"
     ]
    },
    {
     "name": "stdout",
     "output_type": "stream",
     "text": [
      "EPOCH = 951944.658277, wall = 138.83 ms, jitter = 138.83 ms  Δc=+26  c=4761  v= 0.102, len(dir_log)=12500\n",
      "EPOCH = 951944.780728, wall = 122.45 ms, jitter = 122.45 ms  Δc=+26  c=4787  v= 0.102, len(dir_log)=12500\n",
      "EPOCH = 951944.905405, wall = 124.68 ms, jitter = 124.68 ms  Δc=+25  c=4812  v= 0.098, len(dir_log)=12500\n"
     ]
    },
    {
     "ename": "UnboundLocalError",
     "evalue": "cannot access local variable 'x_pad' where it is not associated with a value",
     "output_type": "error",
     "traceback": [
      "\u001b[1;31m---------------------------------------------------------------------------\u001b[0m",
      "\u001b[1;31mUnboundLocalError\u001b[0m                         Traceback (most recent call last)",
      "Cell \u001b[1;32mIn[5], line 316\u001b[0m, in \u001b[0;36mstart_gui.<locals>.refresh\u001b[1;34m()\u001b[0m\n\u001b[0;32m    314\u001b[0m curve_cnt\u001b[38;5;241m.\u001b[39msetData(xs_cnt, y_cnt)\n\u001b[0;32m    315\u001b[0m curve_vel\u001b[38;5;241m.\u001b[39msetData(xs_vel, y_vel)\n\u001b[1;32m--> 316\u001b[0m curve_comvel\u001b[38;5;241m.\u001b[39msetData(\u001b[43mx_pad\u001b[49m, y_pad)\n",
      "\u001b[1;31mUnboundLocalError\u001b[0m: cannot access local variable 'x_pad' where it is not associated with a value"
     ]
    },
    {
     "name": "stdout",
     "output_type": "stream",
     "text": [
      "EPOCH = 951945.185778, wall = 280.37 ms, jitter = 280.37 ms  Δc=+26  c=4838  v= 0.102, len(dir_log)=12500\n",
      "EPOCH = 951945.325617, wall = 139.84 ms, jitter = 139.84 ms  Δc=+25  c=4863  v= 0.098, len(dir_log)=12500\n",
      "EPOCH = 951945.389637, wall =  64.02 ms, jitter =  64.02 ms  Δc=+26  c=4889  v= 0.102, len(dir_log)=12500\n",
      "EPOCH = 951945.520867, wall = 131.23 ms, jitter = 131.23 ms  Δc=+26  c=4915  v= 0.102, len(dir_log)=12500\n",
      "EPOCH = 951945.646557, wall = 125.69 ms, jitter = 125.69 ms  Δc=+25  c=4940  v= 0.098, len(dir_log)=12500\n",
      "EPOCH = 951945.771744, wall = 125.19 ms, jitter = 125.19 ms  Δc=+26  c=4966  v= 0.102, len(dir_log)=12500\n"
     ]
    },
    {
     "ename": "UnboundLocalError",
     "evalue": "cannot access local variable 'x_pad' where it is not associated with a value",
     "output_type": "error",
     "traceback": [
      "\u001b[1;31m---------------------------------------------------------------------------\u001b[0m",
      "\u001b[1;31mUnboundLocalError\u001b[0m                         Traceback (most recent call last)",
      "Cell \u001b[1;32mIn[5], line 316\u001b[0m, in \u001b[0;36mstart_gui.<locals>.refresh\u001b[1;34m()\u001b[0m\n\u001b[0;32m    314\u001b[0m curve_cnt\u001b[38;5;241m.\u001b[39msetData(xs_cnt, y_cnt)\n\u001b[0;32m    315\u001b[0m curve_vel\u001b[38;5;241m.\u001b[39msetData(xs_vel, y_vel)\n\u001b[1;32m--> 316\u001b[0m curve_comvel\u001b[38;5;241m.\u001b[39msetData(\u001b[43mx_pad\u001b[49m, y_pad)\n",
      "\u001b[1;31mUnboundLocalError\u001b[0m: cannot access local variable 'x_pad' where it is not associated with a value"
     ]
    },
    {
     "name": "stdout",
     "output_type": "stream",
     "text": [
      "EPOCH = 951946.031615, wall = 259.87 ms, jitter = 259.87 ms  Δc=+25  c=4991  v= 0.098, len(dir_log)=12500\n",
      "EPOCH = 951946.159723, wall = 128.11 ms, jitter = 128.11 ms  Δc=+26  c=5017  v= 0.102, len(dir_log)=12500\n",
      "EPOCH = 951946.288551, wall = 128.83 ms, jitter = 128.83 ms  Δc=+26  c=5043  v= 0.102, len(dir_log)=12500\n",
      "EPOCH = 951946.521583, wall = 233.03 ms, jitter = 233.03 ms  Δc=+25  c=5068  v= 0.098, len(dir_log)=12500\n"
     ]
    },
    {
     "ename": "UnboundLocalError",
     "evalue": "cannot access local variable 'x_pad' where it is not associated with a value",
     "output_type": "error",
     "traceback": [
      "\u001b[1;31m---------------------------------------------------------------------------\u001b[0m",
      "\u001b[1;31mUnboundLocalError\u001b[0m                         Traceback (most recent call last)",
      "Cell \u001b[1;32mIn[5], line 316\u001b[0m, in \u001b[0;36mstart_gui.<locals>.refresh\u001b[1;34m()\u001b[0m\n\u001b[0;32m    314\u001b[0m curve_cnt\u001b[38;5;241m.\u001b[39msetData(xs_cnt, y_cnt)\n\u001b[0;32m    315\u001b[0m curve_vel\u001b[38;5;241m.\u001b[39msetData(xs_vel, y_vel)\n\u001b[1;32m--> 316\u001b[0m curve_comvel\u001b[38;5;241m.\u001b[39msetData(\u001b[43mx_pad\u001b[49m, y_pad)\n",
      "\u001b[1;31mUnboundLocalError\u001b[0m: cannot access local variable 'x_pad' where it is not associated with a value"
     ]
    },
    {
     "name": "stdout",
     "output_type": "stream",
     "text": [
      "EPOCH = 951946.645638, wall = 124.06 ms, jitter = 124.06 ms  Δc=+26  c=5094  v= 0.102, len(dir_log)=12500\n",
      "EPOCH = 951946.769852, wall = 124.21 ms, jitter = 124.21 ms  Δc=+25  c=5119  v= 0.098, len(dir_log)=12500\n",
      "EPOCH = 951946.911552, wall = 141.70 ms, jitter = 141.70 ms  Δc=+26  c=5145  v= 0.102, len(dir_log)=12500\n"
     ]
    },
    {
     "ename": "UnboundLocalError",
     "evalue": "cannot access local variable 'x_pad' where it is not associated with a value",
     "output_type": "error",
     "traceback": [
      "\u001b[1;31m---------------------------------------------------------------------------\u001b[0m",
      "\u001b[1;31mUnboundLocalError\u001b[0m                         Traceback (most recent call last)",
      "Cell \u001b[1;32mIn[5], line 316\u001b[0m, in \u001b[0;36mstart_gui.<locals>.refresh\u001b[1;34m()\u001b[0m\n\u001b[0;32m    314\u001b[0m curve_cnt\u001b[38;5;241m.\u001b[39msetData(xs_cnt, y_cnt)\n\u001b[0;32m    315\u001b[0m curve_vel\u001b[38;5;241m.\u001b[39msetData(xs_vel, y_vel)\n\u001b[1;32m--> 316\u001b[0m curve_comvel\u001b[38;5;241m.\u001b[39msetData(\u001b[43mx_pad\u001b[49m, y_pad)\n",
      "\u001b[1;31mUnboundLocalError\u001b[0m: cannot access local variable 'x_pad' where it is not associated with a value"
     ]
    },
    {
     "name": "stdout",
     "output_type": "stream",
     "text": [
      "EPOCH = 951947.144485, wall = 232.93 ms, jitter = 232.93 ms  Δc=+26  c=5171  v= 0.102, len(dir_log)=12500\n",
      "EPOCH = 951947.300908, wall = 156.42 ms, jitter = 156.42 ms  Δc=+25  c=5196  v= 0.098, len(dir_log)=12500\n",
      "EPOCH = 951947.417832, wall = 116.92 ms, jitter = 116.92 ms  Δc=+26  c=5222  v= 0.102, len(dir_log)=12500\n",
      "EPOCH = 951947.658303, wall = 240.47 ms, jitter = 240.47 ms  Δc=+25  c=5247  v= 0.098, len(dir_log)=12500\n"
     ]
    },
    {
     "ename": "UnboundLocalError",
     "evalue": "cannot access local variable 'x_pad' where it is not associated with a value",
     "output_type": "error",
     "traceback": [
      "\u001b[1;31m---------------------------------------------------------------------------\u001b[0m",
      "\u001b[1;31mUnboundLocalError\u001b[0m                         Traceback (most recent call last)",
      "Cell \u001b[1;32mIn[5], line 316\u001b[0m, in \u001b[0;36mstart_gui.<locals>.refresh\u001b[1;34m()\u001b[0m\n\u001b[0;32m    314\u001b[0m curve_cnt\u001b[38;5;241m.\u001b[39msetData(xs_cnt, y_cnt)\n\u001b[0;32m    315\u001b[0m curve_vel\u001b[38;5;241m.\u001b[39msetData(xs_vel, y_vel)\n\u001b[1;32m--> 316\u001b[0m curve_comvel\u001b[38;5;241m.\u001b[39msetData(\u001b[43mx_pad\u001b[49m, y_pad)\n",
      "\u001b[1;31mUnboundLocalError\u001b[0m: cannot access local variable 'x_pad' where it is not associated with a value"
     ]
    },
    {
     "name": "stdout",
     "output_type": "stream",
     "text": [
      "EPOCH = 951947.764255, wall = 105.95 ms, jitter = 105.95 ms  Δc=+26  c=5273  v= 0.102, len(dir_log)=12500\n",
      "EPOCH = 951947.884412, wall = 120.16 ms, jitter = 120.16 ms  Δc=+26  c=5299  v= 0.102, len(dir_log)=12500\n",
      "EPOCH = 951948.016392, wall = 131.98 ms, jitter = 131.98 ms  Δc=+25  c=5324  v= 0.098, len(dir_log)=12500\n"
     ]
    },
    {
     "ename": "UnboundLocalError",
     "evalue": "cannot access local variable 'x_pad' where it is not associated with a value",
     "output_type": "error",
     "traceback": [
      "\u001b[1;31m---------------------------------------------------------------------------\u001b[0m",
      "\u001b[1;31mUnboundLocalError\u001b[0m                         Traceback (most recent call last)",
      "Cell \u001b[1;32mIn[5], line 316\u001b[0m, in \u001b[0;36mstart_gui.<locals>.refresh\u001b[1;34m()\u001b[0m\n\u001b[0;32m    314\u001b[0m curve_cnt\u001b[38;5;241m.\u001b[39msetData(xs_cnt, y_cnt)\n\u001b[0;32m    315\u001b[0m curve_vel\u001b[38;5;241m.\u001b[39msetData(xs_vel, y_vel)\n\u001b[1;32m--> 316\u001b[0m curve_comvel\u001b[38;5;241m.\u001b[39msetData(\u001b[43mx_pad\u001b[49m, y_pad)\n",
      "\u001b[1;31mUnboundLocalError\u001b[0m: cannot access local variable 'x_pad' where it is not associated with a value"
     ]
    },
    {
     "name": "stdout",
     "output_type": "stream",
     "text": [
      "EPOCH = 951948.277518, wall = 261.13 ms, jitter = 261.13 ms  Δc=+26  c=5350  v= 0.102, len(dir_log)=12500\n"
     ]
    },
    {
     "ename": "UnboundLocalError",
     "evalue": "cannot access local variable 'x_pad' where it is not associated with a value",
     "output_type": "error",
     "traceback": [
      "\u001b[1;31m---------------------------------------------------------------------------\u001b[0m",
      "\u001b[1;31mUnboundLocalError\u001b[0m                         Traceback (most recent call last)",
      "Cell \u001b[1;32mIn[5], line 316\u001b[0m, in \u001b[0;36mstart_gui.<locals>.refresh\u001b[1;34m()\u001b[0m\n\u001b[0;32m    314\u001b[0m curve_cnt\u001b[38;5;241m.\u001b[39msetData(xs_cnt, y_cnt)\n\u001b[0;32m    315\u001b[0m curve_vel\u001b[38;5;241m.\u001b[39msetData(xs_vel, y_vel)\n\u001b[1;32m--> 316\u001b[0m curve_comvel\u001b[38;5;241m.\u001b[39msetData(\u001b[43mx_pad\u001b[49m, y_pad)\n",
      "\u001b[1;31mUnboundLocalError\u001b[0m: cannot access local variable 'x_pad' where it is not associated with a value"
     ]
    },
    {
     "name": "stdout",
     "output_type": "stream",
     "text": [
      "EPOCH = 951948.414508, wall = 136.99 ms, jitter = 136.99 ms  Δc=+25  c=5375  v= 0.098, len(dir_log)=12500\n",
      "EPOCH = 951948.671789, wall = 257.28 ms, jitter = 257.28 ms  Δc=+26  c=5401  v= 0.102, len(dir_log)=12500\n",
      "EPOCH = 951948.939827, wall = 268.04 ms, jitter = 268.04 ms  Δc=+26  c=5427  v= 0.102, len(dir_log)=12500\n"
     ]
    },
    {
     "ename": "UnboundLocalError",
     "evalue": "cannot access local variable 'x_pad' where it is not associated with a value",
     "output_type": "error",
     "traceback": [
      "\u001b[1;31m---------------------------------------------------------------------------\u001b[0m",
      "\u001b[1;31mUnboundLocalError\u001b[0m                         Traceback (most recent call last)",
      "Cell \u001b[1;32mIn[5], line 316\u001b[0m, in \u001b[0;36mstart_gui.<locals>.refresh\u001b[1;34m()\u001b[0m\n\u001b[0;32m    314\u001b[0m curve_cnt\u001b[38;5;241m.\u001b[39msetData(xs_cnt, y_cnt)\n\u001b[0;32m    315\u001b[0m curve_vel\u001b[38;5;241m.\u001b[39msetData(xs_vel, y_vel)\n\u001b[1;32m--> 316\u001b[0m curve_comvel\u001b[38;5;241m.\u001b[39msetData(\u001b[43mx_pad\u001b[49m, y_pad)\n",
      "\u001b[1;31mUnboundLocalError\u001b[0m: cannot access local variable 'x_pad' where it is not associated with a value"
     ]
    },
    {
     "name": "stdout",
     "output_type": "stream",
     "text": [
      "EPOCH = 951949.044719, wall = 104.89 ms, jitter = 104.89 ms  Δc=+25  c=5452  v= 0.098, len(dir_log)=12500\n"
     ]
    },
    {
     "ename": "UnboundLocalError",
     "evalue": "cannot access local variable 'x_pad' where it is not associated with a value",
     "output_type": "error",
     "traceback": [
      "\u001b[1;31m---------------------------------------------------------------------------\u001b[0m",
      "\u001b[1;31mUnboundLocalError\u001b[0m                         Traceback (most recent call last)",
      "Cell \u001b[1;32mIn[5], line 316\u001b[0m, in \u001b[0;36mstart_gui.<locals>.refresh\u001b[1;34m()\u001b[0m\n\u001b[0;32m    314\u001b[0m curve_cnt\u001b[38;5;241m.\u001b[39msetData(xs_cnt, y_cnt)\n\u001b[0;32m    315\u001b[0m curve_vel\u001b[38;5;241m.\u001b[39msetData(xs_vel, y_vel)\n\u001b[1;32m--> 316\u001b[0m curve_comvel\u001b[38;5;241m.\u001b[39msetData(\u001b[43mx_pad\u001b[49m, y_pad)\n",
      "\u001b[1;31mUnboundLocalError\u001b[0m: cannot access local variable 'x_pad' where it is not associated with a value"
     ]
    },
    {
     "name": "stdout",
     "output_type": "stream",
     "text": [
      "EPOCH = 951949.381380, wall = 336.66 ms, jitter = 336.66 ms  Δc=+26  c=5478  v= 0.102, len(dir_log)=12500\n",
      "EPOCH = 951949.410722, wall =  29.34 ms, jitter =  29.34 ms  Δc=+25  c=5503  v= 0.098, len(dir_log)=12500\n"
     ]
    },
    {
     "ename": "UnboundLocalError",
     "evalue": "cannot access local variable 'x_pad' where it is not associated with a value",
     "output_type": "error",
     "traceback": [
      "\u001b[1;31m---------------------------------------------------------------------------\u001b[0m",
      "\u001b[1;31mUnboundLocalError\u001b[0m                         Traceback (most recent call last)",
      "Cell \u001b[1;32mIn[5], line 316\u001b[0m, in \u001b[0;36mstart_gui.<locals>.refresh\u001b[1;34m()\u001b[0m\n\u001b[0;32m    314\u001b[0m curve_cnt\u001b[38;5;241m.\u001b[39msetData(xs_cnt, y_cnt)\n\u001b[0;32m    315\u001b[0m curve_vel\u001b[38;5;241m.\u001b[39msetData(xs_vel, y_vel)\n\u001b[1;32m--> 316\u001b[0m curve_comvel\u001b[38;5;241m.\u001b[39msetData(\u001b[43mx_pad\u001b[49m, y_pad)\n",
      "\u001b[1;31mUnboundLocalError\u001b[0m: cannot access local variable 'x_pad' where it is not associated with a value"
     ]
    },
    {
     "name": "stdout",
     "output_type": "stream",
     "text": [
      "EPOCH = 951949.665684, wall = 254.96 ms, jitter = 254.96 ms  Δc=+26  c=5529  v= 0.102, len(dir_log)=12500\n",
      "EPOCH = 951949.768346, wall = 102.66 ms, jitter = 102.66 ms  Δc=+26  c=5555  v= 0.102, len(dir_log)=12500\n",
      "EPOCH = 951949.904002, wall = 135.66 ms, jitter = 135.66 ms  Δc=+25  c=5580  v= 0.098, len(dir_log)=12500\n"
     ]
    },
    {
     "ename": "UnboundLocalError",
     "evalue": "cannot access local variable 'x_pad' where it is not associated with a value",
     "output_type": "error",
     "traceback": [
      "\u001b[1;31m---------------------------------------------------------------------------\u001b[0m",
      "\u001b[1;31mUnboundLocalError\u001b[0m                         Traceback (most recent call last)",
      "Cell \u001b[1;32mIn[5], line 316\u001b[0m, in \u001b[0;36mstart_gui.<locals>.refresh\u001b[1;34m()\u001b[0m\n\u001b[0;32m    314\u001b[0m curve_cnt\u001b[38;5;241m.\u001b[39msetData(xs_cnt, y_cnt)\n\u001b[0;32m    315\u001b[0m curve_vel\u001b[38;5;241m.\u001b[39msetData(xs_vel, y_vel)\n\u001b[1;32m--> 316\u001b[0m curve_comvel\u001b[38;5;241m.\u001b[39msetData(\u001b[43mx_pad\u001b[49m, y_pad)\n",
      "\u001b[1;31mUnboundLocalError\u001b[0m: cannot access local variable 'x_pad' where it is not associated with a value"
     ]
    },
    {
     "name": "stdout",
     "output_type": "stream",
     "text": [
      "EPOCH = 951950.154438, wall = 250.44 ms, jitter = 250.44 ms  Δc=+26  c=5606  v= 0.102, len(dir_log)=12500\n",
      "EPOCH = 951950.322345, wall = 167.91 ms, jitter = 167.91 ms  Δc=+25  c=5631  v= 0.098, len(dir_log)=12500\n",
      "EPOCH = 951950.392135, wall =  69.79 ms, jitter =  69.79 ms  Δc=+26  c=5657  v= 0.102, len(dir_log)=12500\n"
     ]
    },
    {
     "ename": "UnboundLocalError",
     "evalue": "cannot access local variable 'x_pad' where it is not associated with a value",
     "output_type": "error",
     "traceback": [
      "\u001b[1;31m---------------------------------------------------------------------------\u001b[0m",
      "\u001b[1;31mUnboundLocalError\u001b[0m                         Traceback (most recent call last)",
      "Cell \u001b[1;32mIn[5], line 316\u001b[0m, in \u001b[0;36mstart_gui.<locals>.refresh\u001b[1;34m()\u001b[0m\n\u001b[0;32m    314\u001b[0m curve_cnt\u001b[38;5;241m.\u001b[39msetData(xs_cnt, y_cnt)\n\u001b[0;32m    315\u001b[0m curve_vel\u001b[38;5;241m.\u001b[39msetData(xs_vel, y_vel)\n\u001b[1;32m--> 316\u001b[0m curve_comvel\u001b[38;5;241m.\u001b[39msetData(\u001b[43mx_pad\u001b[49m, y_pad)\n",
      "\u001b[1;31mUnboundLocalError\u001b[0m: cannot access local variable 'x_pad' where it is not associated with a value"
     ]
    },
    {
     "name": "stdout",
     "output_type": "stream",
     "text": [
      "EPOCH = 951950.665197, wall = 273.06 ms, jitter = 273.06 ms  Δc=+26  c=5683  v= 0.102, len(dir_log)=12500\n",
      "EPOCH = 951950.760756, wall =  95.56 ms, jitter =  95.56 ms  Δc=+25  c=5708  v= 0.098, len(dir_log)=12500\n",
      "EPOCH = 951950.952219, wall = 191.46 ms, jitter = 191.46 ms  Δc=+26  c=5734  v= 0.102, len(dir_log)=12500\n"
     ]
    },
    {
     "ename": "UnboundLocalError",
     "evalue": "cannot access local variable 'x_pad' where it is not associated with a value",
     "output_type": "error",
     "traceback": [
      "\u001b[1;31m---------------------------------------------------------------------------\u001b[0m",
      "\u001b[1;31mUnboundLocalError\u001b[0m                         Traceback (most recent call last)",
      "Cell \u001b[1;32mIn[5], line 316\u001b[0m, in \u001b[0;36mstart_gui.<locals>.refresh\u001b[1;34m()\u001b[0m\n\u001b[0;32m    314\u001b[0m curve_cnt\u001b[38;5;241m.\u001b[39msetData(xs_cnt, y_cnt)\n\u001b[0;32m    315\u001b[0m curve_vel\u001b[38;5;241m.\u001b[39msetData(xs_vel, y_vel)\n\u001b[1;32m--> 316\u001b[0m curve_comvel\u001b[38;5;241m.\u001b[39msetData(\u001b[43mx_pad\u001b[49m, y_pad)\n",
      "\u001b[1;31mUnboundLocalError\u001b[0m: cannot access local variable 'x_pad' where it is not associated with a value"
     ]
    },
    {
     "name": "stdout",
     "output_type": "stream",
     "text": [
      "EPOCH = 951951.188295, wall = 236.08 ms, jitter = 236.08 ms  Δc=+25  c=5759  v= 0.098, len(dir_log)=12500\n",
      "EPOCH = 951951.272004, wall =  83.71 ms, jitter =  83.71 ms  Δc=+26  c=5785  v= 0.102, len(dir_log)=12500\n"
     ]
    },
    {
     "ename": "UnboundLocalError",
     "evalue": "cannot access local variable 'x_pad' where it is not associated with a value",
     "output_type": "error",
     "traceback": [
      "\u001b[1;31m---------------------------------------------------------------------------\u001b[0m",
      "\u001b[1;31mUnboundLocalError\u001b[0m                         Traceback (most recent call last)",
      "Cell \u001b[1;32mIn[5], line 316\u001b[0m, in \u001b[0;36mstart_gui.<locals>.refresh\u001b[1;34m()\u001b[0m\n\u001b[0;32m    314\u001b[0m curve_cnt\u001b[38;5;241m.\u001b[39msetData(xs_cnt, y_cnt)\n\u001b[0;32m    315\u001b[0m curve_vel\u001b[38;5;241m.\u001b[39msetData(xs_vel, y_vel)\n\u001b[1;32m--> 316\u001b[0m curve_comvel\u001b[38;5;241m.\u001b[39msetData(\u001b[43mx_pad\u001b[49m, y_pad)\n",
      "\u001b[1;31mUnboundLocalError\u001b[0m: cannot access local variable 'x_pad' where it is not associated with a value"
     ]
    },
    {
     "name": "stdout",
     "output_type": "stream",
     "text": [
      "EPOCH = 951951.509092, wall = 237.09 ms, jitter = 237.09 ms  Δc=+26  c=5811  v= 0.102, len(dir_log)=12500\n",
      "EPOCH = 951951.644857, wall = 135.77 ms, jitter = 135.77 ms  Δc=+25  c=5836  v= 0.098, len(dir_log)=12500\n",
      "EPOCH = 951951.758314, wall = 113.46 ms, jitter = 113.46 ms  Δc=+26  c=5862  v= 0.102, len(dir_log)=12500\n"
     ]
    },
    {
     "ename": "UnboundLocalError",
     "evalue": "cannot access local variable 'x_pad' where it is not associated with a value",
     "output_type": "error",
     "traceback": [
      "\u001b[1;31m---------------------------------------------------------------------------\u001b[0m",
      "\u001b[1;31mUnboundLocalError\u001b[0m                         Traceback (most recent call last)",
      "Cell \u001b[1;32mIn[5], line 316\u001b[0m, in \u001b[0;36mstart_gui.<locals>.refresh\u001b[1;34m()\u001b[0m\n\u001b[0;32m    314\u001b[0m curve_cnt\u001b[38;5;241m.\u001b[39msetData(xs_cnt, y_cnt)\n\u001b[0;32m    315\u001b[0m curve_vel\u001b[38;5;241m.\u001b[39msetData(xs_vel, y_vel)\n\u001b[1;32m--> 316\u001b[0m curve_comvel\u001b[38;5;241m.\u001b[39msetData(\u001b[43mx_pad\u001b[49m, y_pad)\n",
      "\u001b[1;31mUnboundLocalError\u001b[0m: cannot access local variable 'x_pad' where it is not associated with a value"
     ]
    },
    {
     "name": "stdout",
     "output_type": "stream",
     "text": [
      "EPOCH = 951951.914288, wall = 155.97 ms, jitter = 155.97 ms  Δc=+25  c=5887  v= 0.098, len(dir_log)=12500\n",
      "EPOCH = 951952.159514, wall = 245.23 ms, jitter = 245.23 ms  Δc=+26  c=5913  v= 0.102, len(dir_log)=12500\n",
      "EPOCH = 951952.288390, wall = 128.88 ms, jitter = 128.88 ms  Δc=+26  c=5939  v= 0.102, len(dir_log)=12500\n",
      "EPOCH = 951952.416745, wall = 128.35 ms, jitter = 128.35 ms  Δc=+25  c=5964  v= 0.098, len(dir_log)=12500\n",
      "EPOCH = 951952.656818, wall = 240.07 ms, jitter = 240.07 ms  Δc=+26  c=5990  v= 0.102, len(dir_log)=12500\n",
      "EPOCH = 951952.765516, wall = 108.70 ms, jitter = 108.70 ms  Δc=+25  c=6015  v= 0.098, len(dir_log)=12500\n",
      "EPOCH = 951952.896528, wall = 131.01 ms, jitter = 131.01 ms  Δc=+26  c=6041  v= 0.102, len(dir_log)=12500\n"
     ]
    },
    {
     "ename": "UnboundLocalError",
     "evalue": "cannot access local variable 'x_pad' where it is not associated with a value",
     "output_type": "error",
     "traceback": [
      "\u001b[1;31m---------------------------------------------------------------------------\u001b[0m",
      "\u001b[1;31mUnboundLocalError\u001b[0m                         Traceback (most recent call last)",
      "Cell \u001b[1;32mIn[5], line 316\u001b[0m, in \u001b[0;36mstart_gui.<locals>.refresh\u001b[1;34m()\u001b[0m\n\u001b[0;32m    314\u001b[0m curve_cnt\u001b[38;5;241m.\u001b[39msetData(xs_cnt, y_cnt)\n\u001b[0;32m    315\u001b[0m curve_vel\u001b[38;5;241m.\u001b[39msetData(xs_vel, y_vel)\n\u001b[1;32m--> 316\u001b[0m curve_comvel\u001b[38;5;241m.\u001b[39msetData(\u001b[43mx_pad\u001b[49m, y_pad)\n",
      "\u001b[1;31mUnboundLocalError\u001b[0m: cannot access local variable 'x_pad' where it is not associated with a value"
     ]
    },
    {
     "name": "stdout",
     "output_type": "stream",
     "text": [
      "EPOCH = 951953.140184, wall = 243.66 ms, jitter = 243.66 ms  Δc=+26  c=6067  v= 0.102, len(dir_log)=12500\n"
     ]
    },
    {
     "ename": "UnboundLocalError",
     "evalue": "cannot access local variable 'x_pad' where it is not associated with a value",
     "output_type": "error",
     "traceback": [
      "\u001b[1;31m---------------------------------------------------------------------------\u001b[0m",
      "\u001b[1;31mUnboundLocalError\u001b[0m                         Traceback (most recent call last)",
      "Cell \u001b[1;32mIn[5], line 316\u001b[0m, in \u001b[0;36mstart_gui.<locals>.refresh\u001b[1;34m()\u001b[0m\n\u001b[0;32m    314\u001b[0m curve_cnt\u001b[38;5;241m.\u001b[39msetData(xs_cnt, y_cnt)\n\u001b[0;32m    315\u001b[0m curve_vel\u001b[38;5;241m.\u001b[39msetData(xs_vel, y_vel)\n\u001b[1;32m--> 316\u001b[0m curve_comvel\u001b[38;5;241m.\u001b[39msetData(\u001b[43mx_pad\u001b[49m, y_pad)\n",
      "\u001b[1;31mUnboundLocalError\u001b[0m: cannot access local variable 'x_pad' where it is not associated with a value"
     ]
    },
    {
     "name": "stdout",
     "output_type": "stream",
     "text": [
      "EPOCH = 951953.328420, wall = 188.24 ms, jitter = 188.24 ms  Δc=+25  c=6092  v= 0.098, len(dir_log)=12500\n",
      "EPOCH = 951953.387171, wall =  58.75 ms, jitter =  58.75 ms  Δc=+26  c=6118  v= 0.102, len(dir_log)=12500\n",
      "EPOCH = 951953.528159, wall = 140.99 ms, jitter = 140.99 ms  Δc=+25  c=6143  v= 0.098, len(dir_log)=12500\n",
      "EPOCH = 951953.651424, wall = 123.26 ms, jitter = 123.26 ms  Δc=+26  c=6169  v= 0.102, len(dir_log)=12500\n"
     ]
    },
    {
     "ename": "UnboundLocalError",
     "evalue": "cannot access local variable 'x_pad' where it is not associated with a value",
     "output_type": "error",
     "traceback": [
      "\u001b[1;31m---------------------------------------------------------------------------\u001b[0m",
      "\u001b[1;31mUnboundLocalError\u001b[0m                         Traceback (most recent call last)",
      "Cell \u001b[1;32mIn[5], line 316\u001b[0m, in \u001b[0;36mstart_gui.<locals>.refresh\u001b[1;34m()\u001b[0m\n\u001b[0;32m    314\u001b[0m curve_cnt\u001b[38;5;241m.\u001b[39msetData(xs_cnt, y_cnt)\n\u001b[0;32m    315\u001b[0m curve_vel\u001b[38;5;241m.\u001b[39msetData(xs_vel, y_vel)\n\u001b[1;32m--> 316\u001b[0m curve_comvel\u001b[38;5;241m.\u001b[39msetData(\u001b[43mx_pad\u001b[49m, y_pad)\n",
      "\u001b[1;31mUnboundLocalError\u001b[0m: cannot access local variable 'x_pad' where it is not associated with a value"
     ]
    },
    {
     "name": "stdout",
     "output_type": "stream",
     "text": [
      "EPOCH = 951953.892692, wall = 241.27 ms, jitter = 241.27 ms  Δc=+26  c=6195  v= 0.102, len(dir_log)=12500\n",
      "EPOCH = 951954.020813, wall = 128.12 ms, jitter = 128.12 ms  Δc=+25  c=6220  v= 0.098, len(dir_log)=12500\n",
      "EPOCH = 951954.134966, wall = 114.15 ms, jitter = 114.15 ms  Δc=+26  c=6246  v= 0.102, len(dir_log)=12500\n"
     ]
    },
    {
     "ename": "UnboundLocalError",
     "evalue": "cannot access local variable 'x_pad' where it is not associated with a value",
     "output_type": "error",
     "traceback": [
      "\u001b[1;31m---------------------------------------------------------------------------\u001b[0m",
      "\u001b[1;31mUnboundLocalError\u001b[0m                         Traceback (most recent call last)",
      "Cell \u001b[1;32mIn[5], line 316\u001b[0m, in \u001b[0;36mstart_gui.<locals>.refresh\u001b[1;34m()\u001b[0m\n\u001b[0;32m    314\u001b[0m curve_cnt\u001b[38;5;241m.\u001b[39msetData(xs_cnt, y_cnt)\n\u001b[0;32m    315\u001b[0m curve_vel\u001b[38;5;241m.\u001b[39msetData(xs_vel, y_vel)\n\u001b[1;32m--> 316\u001b[0m curve_comvel\u001b[38;5;241m.\u001b[39msetData(\u001b[43mx_pad\u001b[49m, y_pad)\n",
      "\u001b[1;31mUnboundLocalError\u001b[0m: cannot access local variable 'x_pad' where it is not associated with a value"
     ]
    },
    {
     "name": "stdout",
     "output_type": "stream",
     "text": [
      "EPOCH = 951954.421589, wall = 286.62 ms, jitter = 286.62 ms  Δc=+25  c=6271  v= 0.098, len(dir_log)=12500\n",
      "EPOCH = 951954.544092, wall = 122.50 ms, jitter = 122.50 ms  Δc=+26  c=6297  v= 0.102, len(dir_log)=12500\n",
      "EPOCH = 951954.711853, wall = 167.76 ms, jitter = 167.76 ms  Δc=+26  c=6323  v= 0.102, len(dir_log)=12500\n",
      "EPOCH = 951954.766071, wall =  54.22 ms, jitter =  54.22 ms  Δc=+25  c=6348  v= 0.098, len(dir_log)=12500\n",
      "EPOCH = 951955.066252, wall = 300.18 ms, jitter = 300.18 ms  Δc=+26  c=6374  v= 0.102, len(dir_log)=12500\n"
     ]
    },
    {
     "ename": "UnboundLocalError",
     "evalue": "cannot access local variable 'x_pad' where it is not associated with a value",
     "output_type": "error",
     "traceback": [
      "\u001b[1;31m---------------------------------------------------------------------------\u001b[0m",
      "\u001b[1;31mUnboundLocalError\u001b[0m                         Traceback (most recent call last)",
      "Cell \u001b[1;32mIn[5], line 316\u001b[0m, in \u001b[0;36mstart_gui.<locals>.refresh\u001b[1;34m()\u001b[0m\n\u001b[0;32m    314\u001b[0m curve_cnt\u001b[38;5;241m.\u001b[39msetData(xs_cnt, y_cnt)\n\u001b[0;32m    315\u001b[0m curve_vel\u001b[38;5;241m.\u001b[39msetData(xs_vel, y_vel)\n\u001b[1;32m--> 316\u001b[0m curve_comvel\u001b[38;5;241m.\u001b[39msetData(\u001b[43mx_pad\u001b[49m, y_pad)\n",
      "\u001b[1;31mUnboundLocalError\u001b[0m: cannot access local variable 'x_pad' where it is not associated with a value"
     ]
    },
    {
     "name": "stdout",
     "output_type": "stream",
     "text": [
      "EPOCH = 951955.289898, wall = 223.65 ms, jitter = 223.65 ms  Δc=+25  c=6399  v= 0.098, len(dir_log)=12500\n",
      "EPOCH = 951955.401758, wall = 111.86 ms, jitter = 111.86 ms  Δc=+26  c=6425  v= 0.102, len(dir_log)=12500\n",
      "EPOCH = 951955.541554, wall = 139.80 ms, jitter = 139.80 ms  Δc=+26  c=6451  v= 0.102, len(dir_log)=12500\n",
      "EPOCH = 951955.650908, wall = 109.35 ms, jitter = 109.35 ms  Δc=+25  c=6476  v= 0.098, len(dir_log)=12500\n"
     ]
    },
    {
     "ename": "UnboundLocalError",
     "evalue": "cannot access local variable 'x_pad' where it is not associated with a value",
     "output_type": "error",
     "traceback": [
      "\u001b[1;31m---------------------------------------------------------------------------\u001b[0m",
      "\u001b[1;31mUnboundLocalError\u001b[0m                         Traceback (most recent call last)",
      "Cell \u001b[1;32mIn[5], line 316\u001b[0m, in \u001b[0;36mstart_gui.<locals>.refresh\u001b[1;34m()\u001b[0m\n\u001b[0;32m    314\u001b[0m curve_cnt\u001b[38;5;241m.\u001b[39msetData(xs_cnt, y_cnt)\n\u001b[0;32m    315\u001b[0m curve_vel\u001b[38;5;241m.\u001b[39msetData(xs_vel, y_vel)\n\u001b[1;32m--> 316\u001b[0m curve_comvel\u001b[38;5;241m.\u001b[39msetData(\u001b[43mx_pad\u001b[49m, y_pad)\n",
      "\u001b[1;31mUnboundLocalError\u001b[0m: cannot access local variable 'x_pad' where it is not associated with a value"
     ]
    },
    {
     "name": "stdout",
     "output_type": "stream",
     "text": [
      "EPOCH = 951955.886675, wall = 235.77 ms, jitter = 235.77 ms  Δc=+26  c=6502  v= 0.102, len(dir_log)=12500\n",
      "EPOCH = 951956.048664, wall = 161.99 ms, jitter = 161.99 ms  Δc=+25  c=6527  v= 0.098, len(dir_log)=12500\n",
      "EPOCH = 951956.188905, wall = 140.24 ms, jitter = 140.24 ms  Δc=+26  c=6553  v= 0.102, len(dir_log)=12500\n",
      "EPOCH = 951956.268446, wall =  79.54 ms, jitter =  79.54 ms  Δc=+26  c=6579  v= 0.102, len(dir_log)=12500\n",
      "EPOCH = 951956.384199, wall = 115.75 ms, jitter = 115.75 ms  Δc=+25  c=6604  v= 0.098, len(dir_log)=12500\n",
      "EPOCH = 951956.540485, wall = 156.29 ms, jitter = 156.29 ms  Δc=+26  c=6630  v= 0.102, len(dir_log)=12500\n"
     ]
    },
    {
     "ename": "UnboundLocalError",
     "evalue": "cannot access local variable 'x_pad' where it is not associated with a value",
     "output_type": "error",
     "traceback": [
      "\u001b[1;31m---------------------------------------------------------------------------\u001b[0m",
      "\u001b[1;31mUnboundLocalError\u001b[0m                         Traceback (most recent call last)",
      "Cell \u001b[1;32mIn[5], line 316\u001b[0m, in \u001b[0;36mstart_gui.<locals>.refresh\u001b[1;34m()\u001b[0m\n\u001b[0;32m    314\u001b[0m curve_cnt\u001b[38;5;241m.\u001b[39msetData(xs_cnt, y_cnt)\n\u001b[0;32m    315\u001b[0m curve_vel\u001b[38;5;241m.\u001b[39msetData(xs_vel, y_vel)\n\u001b[1;32m--> 316\u001b[0m curve_comvel\u001b[38;5;241m.\u001b[39msetData(\u001b[43mx_pad\u001b[49m, y_pad)\n",
      "\u001b[1;31mUnboundLocalError\u001b[0m: cannot access local variable 'x_pad' where it is not associated with a value"
     ]
    },
    {
     "name": "stdout",
     "output_type": "stream",
     "text": [
      "EPOCH = 951956.826847, wall = 286.36 ms, jitter = 286.36 ms  Δc=+25  c=6655  v= 0.098, len(dir_log)=12500\n",
      "EPOCH = 951956.931121, wall = 104.27 ms, jitter = 104.27 ms  Δc=+26  c=6681  v= 0.102, len(dir_log)=12500\n"
     ]
    },
    {
     "ename": "UnboundLocalError",
     "evalue": "cannot access local variable 'x_pad' where it is not associated with a value",
     "output_type": "error",
     "traceback": [
      "\u001b[1;31m---------------------------------------------------------------------------\u001b[0m",
      "\u001b[1;31mUnboundLocalError\u001b[0m                         Traceback (most recent call last)",
      "Cell \u001b[1;32mIn[5], line 316\u001b[0m, in \u001b[0;36mstart_gui.<locals>.refresh\u001b[1;34m()\u001b[0m\n\u001b[0;32m    314\u001b[0m curve_cnt\u001b[38;5;241m.\u001b[39msetData(xs_cnt, y_cnt)\n\u001b[0;32m    315\u001b[0m curve_vel\u001b[38;5;241m.\u001b[39msetData(xs_vel, y_vel)\n\u001b[1;32m--> 316\u001b[0m curve_comvel\u001b[38;5;241m.\u001b[39msetData(\u001b[43mx_pad\u001b[49m, y_pad)\n",
      "\u001b[1;31mUnboundLocalError\u001b[0m: cannot access local variable 'x_pad' where it is not associated with a value"
     ]
    },
    {
     "name": "stdout",
     "output_type": "stream",
     "text": [
      "EPOCH = 951957.173549, wall = 242.43 ms, jitter = 242.43 ms  Δc=+26  c=6707  v= 0.102, len(dir_log)=12500\n",
      "EPOCH = 951957.266637, wall =  93.09 ms, jitter =  93.09 ms  Δc=+25  c=6732  v= 0.098, len(dir_log)=12500\n",
      "EPOCH = 951957.392072, wall = 125.44 ms, jitter = 125.44 ms  Δc=+26  c=6758  v= 0.102, len(dir_log)=12500\n",
      "EPOCH = 951957.535216, wall = 143.14 ms, jitter = 143.14 ms  Δc=+25  c=6783  v= 0.098, len(dir_log)=12500\n"
     ]
    },
    {
     "ename": "UnboundLocalError",
     "evalue": "cannot access local variable 'x_pad' where it is not associated with a value",
     "output_type": "error",
     "traceback": [
      "\u001b[1;31m---------------------------------------------------------------------------\u001b[0m",
      "\u001b[1;31mUnboundLocalError\u001b[0m                         Traceback (most recent call last)",
      "Cell \u001b[1;32mIn[5], line 316\u001b[0m, in \u001b[0;36mstart_gui.<locals>.refresh\u001b[1;34m()\u001b[0m\n\u001b[0;32m    314\u001b[0m curve_cnt\u001b[38;5;241m.\u001b[39msetData(xs_cnt, y_cnt)\n\u001b[0;32m    315\u001b[0m curve_vel\u001b[38;5;241m.\u001b[39msetData(xs_vel, y_vel)\n\u001b[1;32m--> 316\u001b[0m curve_comvel\u001b[38;5;241m.\u001b[39msetData(\u001b[43mx_pad\u001b[49m, y_pad)\n",
      "\u001b[1;31mUnboundLocalError\u001b[0m: cannot access local variable 'x_pad' where it is not associated with a value"
     ]
    },
    {
     "name": "stdout",
     "output_type": "stream",
     "text": [
      "EPOCH = 951957.759751, wall = 224.53 ms, jitter = 224.53 ms  Δc=+26  c=6809  v= 0.102, len(dir_log)=12500\n",
      "EPOCH = 951957.942098, wall = 182.35 ms, jitter = 182.35 ms  Δc=+26  c=6835  v= 0.102, len(dir_log)=12500\n",
      "EPOCH = 951958.044392, wall = 102.29 ms, jitter = 102.29 ms  Δc=+25  c=6860  v= 0.098, len(dir_log)=12500\n",
      "EPOCH = 951958.138377, wall =  93.99 ms, jitter =  93.99 ms  Δc=+26  c=6886  v= 0.102, len(dir_log)=12500\n",
      "EPOCH = 951958.260418, wall = 122.04 ms, jitter = 122.04 ms  Δc=+25  c=6911  v= 0.098, len(dir_log)=12500\n",
      "EPOCH = 951958.383407, wall = 122.99 ms, jitter = 122.99 ms  Δc=+26  c=6937  v= 0.102, len(dir_log)=12500\n",
      "EPOCH = 951958.510764, wall = 127.36 ms, jitter = 127.36 ms  Δc=+26  c=6963  v= 0.102, len(dir_log)=12500\n"
     ]
    },
    {
     "ename": "UnboundLocalError",
     "evalue": "cannot access local variable 'x_pad' where it is not associated with a value",
     "output_type": "error",
     "traceback": [
      "\u001b[1;31m---------------------------------------------------------------------------\u001b[0m",
      "\u001b[1;31mUnboundLocalError\u001b[0m                         Traceback (most recent call last)",
      "Cell \u001b[1;32mIn[5], line 316\u001b[0m, in \u001b[0;36mstart_gui.<locals>.refresh\u001b[1;34m()\u001b[0m\n\u001b[0;32m    314\u001b[0m curve_cnt\u001b[38;5;241m.\u001b[39msetData(xs_cnt, y_cnt)\n\u001b[0;32m    315\u001b[0m curve_vel\u001b[38;5;241m.\u001b[39msetData(xs_vel, y_vel)\n\u001b[1;32m--> 316\u001b[0m curve_comvel\u001b[38;5;241m.\u001b[39msetData(\u001b[43mx_pad\u001b[49m, y_pad)\n",
      "\u001b[1;31mUnboundLocalError\u001b[0m: cannot access local variable 'x_pad' where it is not associated with a value"
     ]
    },
    {
     "name": "stdout",
     "output_type": "stream",
     "text": [
      "EPOCH = 951958.773580, wall = 262.82 ms, jitter = 262.82 ms  Δc=+25  c=6988  v= 0.098, len(dir_log)=12500\n",
      "EPOCH = 951958.929164, wall = 155.58 ms, jitter = 155.58 ms  Δc=+26  c=7014  v= 0.102, len(dir_log)=12500\n",
      "EPOCH = 951959.046992, wall = 117.83 ms, jitter = 117.83 ms  Δc=+25  c=7039  v= 0.098, len(dir_log)=12500\n",
      "EPOCH = 951959.158551, wall = 111.56 ms, jitter = 111.56 ms  Δc=+26  c=7065  v= 0.102, len(dir_log)=12500\n"
     ]
    },
    {
     "ename": "UnboundLocalError",
     "evalue": "cannot access local variable 'x_pad' where it is not associated with a value",
     "output_type": "error",
     "traceback": [
      "\u001b[1;31m---------------------------------------------------------------------------\u001b[0m",
      "\u001b[1;31mUnboundLocalError\u001b[0m                         Traceback (most recent call last)",
      "Cell \u001b[1;32mIn[5], line 316\u001b[0m, in \u001b[0;36mstart_gui.<locals>.refresh\u001b[1;34m()\u001b[0m\n\u001b[0;32m    314\u001b[0m curve_cnt\u001b[38;5;241m.\u001b[39msetData(xs_cnt, y_cnt)\n\u001b[0;32m    315\u001b[0m curve_vel\u001b[38;5;241m.\u001b[39msetData(xs_vel, y_vel)\n\u001b[1;32m--> 316\u001b[0m curve_comvel\u001b[38;5;241m.\u001b[39msetData(\u001b[43mx_pad\u001b[49m, y_pad)\n",
      "\u001b[1;31mUnboundLocalError\u001b[0m: cannot access local variable 'x_pad' where it is not associated with a value"
     ]
    },
    {
     "name": "stdout",
     "output_type": "stream",
     "text": [
      "EPOCH = 951959.388418, wall = 229.87 ms, jitter = 229.87 ms  Δc=+26  c=7091  v= 0.102, len(dir_log)=12500\n",
      "EPOCH = 951959.569868, wall = 181.45 ms, jitter = 181.45 ms  Δc=+25  c=7116  v= 0.098, len(dir_log)=12500\n",
      "EPOCH = 951959.644742, wall =  74.87 ms, jitter =  74.87 ms  Δc=+26  c=7142  v= 0.102, len(dir_log)=12500\n",
      "EPOCH = 951959.772825, wall = 128.08 ms, jitter = 128.08 ms  Δc=+25  c=7167  v= 0.098, len(dir_log)=12500\n"
     ]
    },
    {
     "ename": "UnboundLocalError",
     "evalue": "cannot access local variable 'x_pad' where it is not associated with a value",
     "output_type": "error",
     "traceback": [
      "\u001b[1;31m---------------------------------------------------------------------------\u001b[0m",
      "\u001b[1;31mUnboundLocalError\u001b[0m                         Traceback (most recent call last)",
      "Cell \u001b[1;32mIn[5], line 316\u001b[0m, in \u001b[0;36mstart_gui.<locals>.refresh\u001b[1;34m()\u001b[0m\n\u001b[0;32m    314\u001b[0m curve_cnt\u001b[38;5;241m.\u001b[39msetData(xs_cnt, y_cnt)\n\u001b[0;32m    315\u001b[0m curve_vel\u001b[38;5;241m.\u001b[39msetData(xs_vel, y_vel)\n\u001b[1;32m--> 316\u001b[0m curve_comvel\u001b[38;5;241m.\u001b[39msetData(\u001b[43mx_pad\u001b[49m, y_pad)\n",
      "\u001b[1;31mUnboundLocalError\u001b[0m: cannot access local variable 'x_pad' where it is not associated with a value"
     ]
    },
    {
     "name": "stdout",
     "output_type": "stream",
     "text": [
      "EPOCH = 951960.068826, wall = 296.00 ms, jitter = 296.00 ms  Δc=+26  c=7193  v= 0.102, len(dir_log)=12500\n",
      "EPOCH = 951960.193574, wall = 124.75 ms, jitter = 124.75 ms  Δc=+26  c=7219  v= 0.102, len(dir_log)=12500\n",
      "EPOCH = 951960.382649, wall = 189.07 ms, jitter = 189.07 ms  Δc=+25  c=7244  v= 0.098, len(dir_log)=12500\n"
     ]
    },
    {
     "ename": "UnboundLocalError",
     "evalue": "cannot access local variable 'x_pad' where it is not associated with a value",
     "output_type": "error",
     "traceback": [
      "\u001b[1;31m---------------------------------------------------------------------------\u001b[0m",
      "\u001b[1;31mUnboundLocalError\u001b[0m                         Traceback (most recent call last)",
      "Cell \u001b[1;32mIn[5], line 316\u001b[0m, in \u001b[0;36mstart_gui.<locals>.refresh\u001b[1;34m()\u001b[0m\n\u001b[0;32m    314\u001b[0m curve_cnt\u001b[38;5;241m.\u001b[39msetData(xs_cnt, y_cnt)\n\u001b[0;32m    315\u001b[0m curve_vel\u001b[38;5;241m.\u001b[39msetData(xs_vel, y_vel)\n\u001b[1;32m--> 316\u001b[0m curve_comvel\u001b[38;5;241m.\u001b[39msetData(\u001b[43mx_pad\u001b[49m, y_pad)\n",
      "\u001b[1;31mUnboundLocalError\u001b[0m: cannot access local variable 'x_pad' where it is not associated with a value"
     ]
    },
    {
     "name": "stdout",
     "output_type": "stream",
     "text": [
      "EPOCH = 951960.548579, wall = 165.93 ms, jitter = 165.93 ms  Δc=+26  c=7270  v= 0.102, len(dir_log)=12500\n",
      "EPOCH = 951960.686824, wall = 138.24 ms, jitter = 138.24 ms  Δc=+25  c=7295  v= 0.098, len(dir_log)=12500\n",
      "EPOCH = 951960.926769, wall = 239.95 ms, jitter = 239.95 ms  Δc=+26  c=7321  v= 0.102, len(dir_log)=12500\n",
      "EPOCH = 951961.045392, wall = 118.62 ms, jitter = 118.62 ms  Δc=+26  c=7347  v= 0.102, len(dir_log)=12500\n"
     ]
    },
    {
     "ename": "UnboundLocalError",
     "evalue": "cannot access local variable 'x_pad' where it is not associated with a value",
     "output_type": "error",
     "traceback": [
      "\u001b[1;31m---------------------------------------------------------------------------\u001b[0m",
      "\u001b[1;31mUnboundLocalError\u001b[0m                         Traceback (most recent call last)",
      "Cell \u001b[1;32mIn[5], line 316\u001b[0m, in \u001b[0;36mstart_gui.<locals>.refresh\u001b[1;34m()\u001b[0m\n\u001b[0;32m    314\u001b[0m curve_cnt\u001b[38;5;241m.\u001b[39msetData(xs_cnt, y_cnt)\n\u001b[0;32m    315\u001b[0m curve_vel\u001b[38;5;241m.\u001b[39msetData(xs_vel, y_vel)\n\u001b[1;32m--> 316\u001b[0m curve_comvel\u001b[38;5;241m.\u001b[39msetData(\u001b[43mx_pad\u001b[49m, y_pad)\n",
      "\u001b[1;31mUnboundLocalError\u001b[0m: cannot access local variable 'x_pad' where it is not associated with a value"
     ]
    },
    {
     "name": "stdout",
     "output_type": "stream",
     "text": [
      "EPOCH = 951961.270688, wall = 225.30 ms, jitter = 225.30 ms  Δc=+25  c=7372  v= 0.098, len(dir_log)=12500\n",
      "EPOCH = 951961.421985, wall = 151.30 ms, jitter = 151.30 ms  Δc=+26  c=7398  v= 0.102, len(dir_log)=12500\n",
      "EPOCH = 951961.556063, wall = 134.08 ms, jitter = 134.08 ms  Δc=+25  c=7423  v= 0.098, len(dir_log)=12500\n",
      "EPOCH = 951961.674285, wall = 118.22 ms, jitter = 118.22 ms  Δc=+26  c=7449  v= 0.102, len(dir_log)=12500\n",
      "EPOCH = 951961.777316, wall = 103.03 ms, jitter = 103.03 ms  Δc=+26  c=7475  v= 0.102, len(dir_log)=12500\n",
      "EPOCH = 951962.033861, wall = 256.55 ms, jitter = 256.55 ms  Δc=+25  c=7500  v= 0.098, len(dir_log)=12500\n",
      "EPOCH = 951962.144511, wall = 110.65 ms, jitter = 110.65 ms  Δc=+26  c=7526  v= 0.102, len(dir_log)=12500\n",
      "EPOCH = 951962.263400, wall = 118.89 ms, jitter = 118.89 ms  Δc=+25  c=7551  v= 0.098, len(dir_log)=12500\n"
     ]
    },
    {
     "ename": "UnboundLocalError",
     "evalue": "cannot access local variable 'x_pad' where it is not associated with a value",
     "output_type": "error",
     "traceback": [
      "\u001b[1;31m---------------------------------------------------------------------------\u001b[0m",
      "\u001b[1;31mUnboundLocalError\u001b[0m                         Traceback (most recent call last)",
      "Cell \u001b[1;32mIn[5], line 316\u001b[0m, in \u001b[0;36mstart_gui.<locals>.refresh\u001b[1;34m()\u001b[0m\n\u001b[0;32m    314\u001b[0m curve_cnt\u001b[38;5;241m.\u001b[39msetData(xs_cnt, y_cnt)\n\u001b[0;32m    315\u001b[0m curve_vel\u001b[38;5;241m.\u001b[39msetData(xs_vel, y_vel)\n\u001b[1;32m--> 316\u001b[0m curve_comvel\u001b[38;5;241m.\u001b[39msetData(\u001b[43mx_pad\u001b[49m, y_pad)\n",
      "\u001b[1;31mUnboundLocalError\u001b[0m: cannot access local variable 'x_pad' where it is not associated with a value"
     ]
    },
    {
     "name": "stdout",
     "output_type": "stream",
     "text": [
      "EPOCH = 951962.519135, wall = 255.74 ms, jitter = 255.74 ms  Δc=+26  c=7577  v= 0.102, len(dir_log)=12500\n"
     ]
    },
    {
     "ename": "UnboundLocalError",
     "evalue": "cannot access local variable 'x_pad' where it is not associated with a value",
     "output_type": "error",
     "traceback": [
      "\u001b[1;31m---------------------------------------------------------------------------\u001b[0m",
      "\u001b[1;31mUnboundLocalError\u001b[0m                         Traceback (most recent call last)",
      "Cell \u001b[1;32mIn[5], line 316\u001b[0m, in \u001b[0;36mstart_gui.<locals>.refresh\u001b[1;34m()\u001b[0m\n\u001b[0;32m    314\u001b[0m curve_cnt\u001b[38;5;241m.\u001b[39msetData(xs_cnt, y_cnt)\n\u001b[0;32m    315\u001b[0m curve_vel\u001b[38;5;241m.\u001b[39msetData(xs_vel, y_vel)\n\u001b[1;32m--> 316\u001b[0m curve_comvel\u001b[38;5;241m.\u001b[39msetData(\u001b[43mx_pad\u001b[49m, y_pad)\n",
      "\u001b[1;31mUnboundLocalError\u001b[0m: cannot access local variable 'x_pad' where it is not associated with a value"
     ]
    },
    {
     "name": "stdout",
     "output_type": "stream",
     "text": [
      "EPOCH = 951962.654293, wall = 135.16 ms, jitter = 135.16 ms  Δc=+26  c=7603  v= 0.102, len(dir_log)=12500\n",
      "EPOCH = 951962.788261, wall = 133.97 ms, jitter = 133.97 ms  Δc=+25  c=7628  v= 0.098, len(dir_log)=12500\n",
      "EPOCH = 951962.934767, wall = 146.51 ms, jitter = 146.51 ms  Δc=+26  c=7654  v= 0.102, len(dir_log)=12500\n",
      "EPOCH = 951963.008282, wall =  73.52 ms, jitter =  73.52 ms  Δc=+25  c=7679  v= 0.098, len(dir_log)=12500\n",
      "EPOCH = 951963.273491, wall = 265.21 ms, jitter = 265.21 ms  Δc=+26  c=7705  v= 0.102, len(dir_log)=12500\n",
      "EPOCH = 951963.425606, wall = 152.11 ms, jitter = 152.11 ms  Δc=+26  c=7731  v= 0.102, len(dir_log)=12500\n"
     ]
    },
    {
     "ename": "UnboundLocalError",
     "evalue": "cannot access local variable 'x_pad' where it is not associated with a value",
     "output_type": "error",
     "traceback": [
      "\u001b[1;31m---------------------------------------------------------------------------\u001b[0m",
      "\u001b[1;31mUnboundLocalError\u001b[0m                         Traceback (most recent call last)",
      "Cell \u001b[1;32mIn[5], line 316\u001b[0m, in \u001b[0;36mstart_gui.<locals>.refresh\u001b[1;34m()\u001b[0m\n\u001b[0;32m    314\u001b[0m curve_cnt\u001b[38;5;241m.\u001b[39msetData(xs_cnt, y_cnt)\n\u001b[0;32m    315\u001b[0m curve_vel\u001b[38;5;241m.\u001b[39msetData(xs_vel, y_vel)\n\u001b[1;32m--> 316\u001b[0m curve_comvel\u001b[38;5;241m.\u001b[39msetData(\u001b[43mx_pad\u001b[49m, y_pad)\n",
      "\u001b[1;31mUnboundLocalError\u001b[0m: cannot access local variable 'x_pad' where it is not associated with a value"
     ]
    },
    {
     "name": "stdout",
     "output_type": "stream",
     "text": [
      "EPOCH = 951963.660539, wall = 234.93 ms, jitter = 234.93 ms  Δc=+25  c=7756  v= 0.098, len(dir_log)=12500\n",
      "EPOCH = 951963.780010, wall = 119.47 ms, jitter = 119.47 ms  Δc=+26  c=7782  v= 0.102, len(dir_log)=12500\n",
      "EPOCH = 951963.901187, wall = 121.18 ms, jitter = 121.18 ms  Δc=+25  c=7807  v= 0.098, len(dir_log)=12500\n"
     ]
    },
    {
     "ename": "UnboundLocalError",
     "evalue": "cannot access local variable 'x_pad' where it is not associated with a value",
     "output_type": "error",
     "traceback": [
      "\u001b[1;31m---------------------------------------------------------------------------\u001b[0m",
      "\u001b[1;31mUnboundLocalError\u001b[0m                         Traceback (most recent call last)",
      "Cell \u001b[1;32mIn[5], line 316\u001b[0m, in \u001b[0;36mstart_gui.<locals>.refresh\u001b[1;34m()\u001b[0m\n\u001b[0;32m    314\u001b[0m curve_cnt\u001b[38;5;241m.\u001b[39msetData(xs_cnt, y_cnt)\n\u001b[0;32m    315\u001b[0m curve_vel\u001b[38;5;241m.\u001b[39msetData(xs_vel, y_vel)\n\u001b[1;32m--> 316\u001b[0m curve_comvel\u001b[38;5;241m.\u001b[39msetData(\u001b[43mx_pad\u001b[49m, y_pad)\n",
      "\u001b[1;31mUnboundLocalError\u001b[0m: cannot access local variable 'x_pad' where it is not associated with a value"
     ]
    },
    {
     "name": "stdout",
     "output_type": "stream",
     "text": [
      "EPOCH = 951964.179773, wall = 278.59 ms, jitter = 278.59 ms  Δc=+26  c=7833  v= 0.102, len(dir_log)=12500\n",
      "EPOCH = 951964.296623, wall = 116.85 ms, jitter = 116.85 ms  Δc=+26  c=7859  v= 0.102, len(dir_log)=12500\n",
      "EPOCH = 951964.400499, wall = 103.88 ms, jitter = 103.88 ms  Δc=+25  c=7884  v= 0.098, len(dir_log)=12500\n",
      "EPOCH = 951964.584780, wall = 184.28 ms, jitter = 184.28 ms  Δc=+26  c=7910  v= 0.102, len(dir_log)=12500\n"
     ]
    },
    {
     "ename": "UnboundLocalError",
     "evalue": "cannot access local variable 'x_pad' where it is not associated with a value",
     "output_type": "error",
     "traceback": [
      "\u001b[1;31m---------------------------------------------------------------------------\u001b[0m",
      "\u001b[1;31mUnboundLocalError\u001b[0m                         Traceback (most recent call last)",
      "Cell \u001b[1;32mIn[5], line 316\u001b[0m, in \u001b[0;36mstart_gui.<locals>.refresh\u001b[1;34m()\u001b[0m\n\u001b[0;32m    314\u001b[0m curve_cnt\u001b[38;5;241m.\u001b[39msetData(xs_cnt, y_cnt)\n\u001b[0;32m    315\u001b[0m curve_vel\u001b[38;5;241m.\u001b[39msetData(xs_vel, y_vel)\n\u001b[1;32m--> 316\u001b[0m curve_comvel\u001b[38;5;241m.\u001b[39msetData(\u001b[43mx_pad\u001b[49m, y_pad)\n",
      "\u001b[1;31mUnboundLocalError\u001b[0m: cannot access local variable 'x_pad' where it is not associated with a value"
     ]
    },
    {
     "name": "stdout",
     "output_type": "stream",
     "text": [
      "EPOCH = 951964.811723, wall = 226.94 ms, jitter = 226.94 ms  Δc=+25  c=7935  v= 0.098, len(dir_log)=12500\n",
      "EPOCH = 951965.027471, wall = 215.75 ms, jitter = 215.75 ms  Δc=+26  c=7961  v= 0.102, len(dir_log)=12500\n",
      "EPOCH = 951965.148818, wall = 121.35 ms, jitter = 121.35 ms  Δc=+26  c=7987  v= 0.102, len(dir_log)=12500\n",
      "EPOCH = 951965.295230, wall = 146.41 ms, jitter = 146.41 ms  Δc=+25  c=8012  v= 0.098, len(dir_log)=12500\n"
     ]
    },
    {
     "ename": "UnboundLocalError",
     "evalue": "cannot access local variable 'x_pad' where it is not associated with a value",
     "output_type": "error",
     "traceback": [
      "\u001b[1;31m---------------------------------------------------------------------------\u001b[0m",
      "\u001b[1;31mUnboundLocalError\u001b[0m                         Traceback (most recent call last)",
      "Cell \u001b[1;32mIn[5], line 316\u001b[0m, in \u001b[0;36mstart_gui.<locals>.refresh\u001b[1;34m()\u001b[0m\n\u001b[0;32m    314\u001b[0m curve_cnt\u001b[38;5;241m.\u001b[39msetData(xs_cnt, y_cnt)\n\u001b[0;32m    315\u001b[0m curve_vel\u001b[38;5;241m.\u001b[39msetData(xs_vel, y_vel)\n\u001b[1;32m--> 316\u001b[0m curve_comvel\u001b[38;5;241m.\u001b[39msetData(\u001b[43mx_pad\u001b[49m, y_pad)\n",
      "\u001b[1;31mUnboundLocalError\u001b[0m: cannot access local variable 'x_pad' where it is not associated with a value"
     ]
    },
    {
     "name": "stdout",
     "output_type": "stream",
     "text": [
      "EPOCH = 951965.510878, wall = 215.65 ms, jitter = 215.65 ms  Δc=+26  c=8038  v= 0.102, len(dir_log)=12500\n",
      "EPOCH = 951965.687630, wall = 176.75 ms, jitter = 176.75 ms  Δc=+25  c=8063  v= 0.098, len(dir_log)=12500\n",
      "EPOCH = 951965.774308, wall =  86.68 ms, jitter =  86.68 ms  Δc=+26  c=8089  v= 0.102, len(dir_log)=12500\n",
      "EPOCH = 951965.904918, wall = 130.61 ms, jitter = 130.61 ms  Δc=+26  c=8115  v= 0.102, len(dir_log)=12500\n"
     ]
    },
    {
     "ename": "UnboundLocalError",
     "evalue": "cannot access local variable 'x_pad' where it is not associated with a value",
     "output_type": "error",
     "traceback": [
      "\u001b[1;31m---------------------------------------------------------------------------\u001b[0m",
      "\u001b[1;31mUnboundLocalError\u001b[0m                         Traceback (most recent call last)",
      "Cell \u001b[1;32mIn[5], line 316\u001b[0m, in \u001b[0;36mstart_gui.<locals>.refresh\u001b[1;34m()\u001b[0m\n\u001b[0;32m    314\u001b[0m curve_cnt\u001b[38;5;241m.\u001b[39msetData(xs_cnt, y_cnt)\n\u001b[0;32m    315\u001b[0m curve_vel\u001b[38;5;241m.\u001b[39msetData(xs_vel, y_vel)\n\u001b[1;32m--> 316\u001b[0m curve_comvel\u001b[38;5;241m.\u001b[39msetData(\u001b[43mx_pad\u001b[49m, y_pad)\n",
      "\u001b[1;31mUnboundLocalError\u001b[0m: cannot access local variable 'x_pad' where it is not associated with a value"
     ]
    },
    {
     "name": "stdout",
     "output_type": "stream",
     "text": [
      "EPOCH = 951966.182961, wall = 278.04 ms, jitter = 278.04 ms  Δc=+25  c=8140  v= 0.098, len(dir_log)=12500\n",
      "EPOCH = 951966.286469, wall = 103.51 ms, jitter = 103.51 ms  Δc=+26  c=8166  v= 0.102, len(dir_log)=12500\n",
      "EPOCH = 951966.391143, wall = 104.67 ms, jitter = 104.67 ms  Δc=+25  c=8191  v= 0.098, len(dir_log)=12500\n",
      "EPOCH = 951966.648560, wall = 257.42 ms, jitter = 257.42 ms  Δc=+26  c=8217  v= 0.102, len(dir_log)=12500\n",
      "EPOCH = 951966.773115, wall = 124.56 ms, jitter = 124.56 ms  Δc=+26  c=8243  v= 0.102, len(dir_log)=12500\n",
      "EPOCH = 951966.898751, wall = 125.64 ms, jitter = 125.64 ms  Δc=+25  c=8268  v= 0.098, len(dir_log)=12500\n",
      "EPOCH = 951967.017570, wall = 118.82 ms, jitter = 118.82 ms  Δc=+26  c=8294  v= 0.102, len(dir_log)=12500\n"
     ]
    },
    {
     "ename": "UnboundLocalError",
     "evalue": "cannot access local variable 'x_pad' where it is not associated with a value",
     "output_type": "error",
     "traceback": [
      "\u001b[1;31m---------------------------------------------------------------------------\u001b[0m",
      "\u001b[1;31mUnboundLocalError\u001b[0m                         Traceback (most recent call last)",
      "Cell \u001b[1;32mIn[5], line 316\u001b[0m, in \u001b[0;36mstart_gui.<locals>.refresh\u001b[1;34m()\u001b[0m\n\u001b[0;32m    314\u001b[0m curve_cnt\u001b[38;5;241m.\u001b[39msetData(xs_cnt, y_cnt)\n\u001b[0;32m    315\u001b[0m curve_vel\u001b[38;5;241m.\u001b[39msetData(xs_vel, y_vel)\n\u001b[1;32m--> 316\u001b[0m curve_comvel\u001b[38;5;241m.\u001b[39msetData(\u001b[43mx_pad\u001b[49m, y_pad)\n",
      "\u001b[1;31mUnboundLocalError\u001b[0m: cannot access local variable 'x_pad' where it is not associated with a value"
     ]
    },
    {
     "name": "stdout",
     "output_type": "stream",
     "text": [
      "EPOCH = 951967.338442, wall = 320.87 ms, jitter = 320.87 ms  Δc=+25  c=8319  v= 0.098, len(dir_log)=12500\n",
      "EPOCH = 951967.387111, wall =  48.67 ms, jitter =  48.67 ms  Δc=+26  c=8345  v= 0.102, len(dir_log)=12500\n",
      "EPOCH = 951967.509757, wall = 122.65 ms, jitter = 122.65 ms  Δc=+26  c=8371  v= 0.102, len(dir_log)=12500\n",
      "EPOCH = 951967.694301, wall = 184.54 ms, jitter = 184.54 ms  Δc=+25  c=8396  v= 0.098, len(dir_log)=12500\n"
     ]
    },
    {
     "ename": "UnboundLocalError",
     "evalue": "cannot access local variable 'x_pad' where it is not associated with a value",
     "output_type": "error",
     "traceback": [
      "\u001b[1;31m---------------------------------------------------------------------------\u001b[0m",
      "\u001b[1;31mUnboundLocalError\u001b[0m                         Traceback (most recent call last)",
      "Cell \u001b[1;32mIn[5], line 316\u001b[0m, in \u001b[0;36mstart_gui.<locals>.refresh\u001b[1;34m()\u001b[0m\n\u001b[0;32m    314\u001b[0m curve_cnt\u001b[38;5;241m.\u001b[39msetData(xs_cnt, y_cnt)\n\u001b[0;32m    315\u001b[0m curve_vel\u001b[38;5;241m.\u001b[39msetData(xs_vel, y_vel)\n\u001b[1;32m--> 316\u001b[0m curve_comvel\u001b[38;5;241m.\u001b[39msetData(\u001b[43mx_pad\u001b[49m, y_pad)\n",
      "\u001b[1;31mUnboundLocalError\u001b[0m: cannot access local variable 'x_pad' where it is not associated with a value"
     ]
    },
    {
     "name": "stdout",
     "output_type": "stream",
     "text": [
      "EPOCH = 951967.894388, wall = 200.09 ms, jitter = 200.09 ms  Δc=+26  c=8422  v= 0.102, len(dir_log)=12500\n",
      "EPOCH = 951968.067567, wall = 173.18 ms, jitter = 173.18 ms  Δc=+25  c=8447  v= 0.098, len(dir_log)=12500\n",
      "EPOCH = 951968.270814, wall = 203.25 ms, jitter = 203.25 ms  Δc=+26  c=8473  v= 0.102, len(dir_log)=12500\n",
      "EPOCH = 951968.452655, wall = 181.84 ms, jitter = 181.84 ms  Δc=+26  c=8499  v= 0.102, len(dir_log)=12500\n",
      "EPOCH = 951968.520299, wall =  67.64 ms, jitter =  67.64 ms  Δc=+25  c=8524  v= 0.098, len(dir_log)=12500\n",
      "EPOCH = 951968.651567, wall = 131.27 ms, jitter = 131.27 ms  Δc=+26  c=8550  v= 0.102, len(dir_log)=12500\n",
      "EPOCH = 951968.775849, wall = 124.28 ms, jitter = 124.28 ms  Δc=+25  c=8575  v= 0.098, len(dir_log)=12500\n",
      "EPOCH = 951968.902954, wall = 127.10 ms, jitter = 127.10 ms  Δc=+26  c=8601  v= 0.102, len(dir_log)=12500\n"
     ]
    },
    {
     "ename": "UnboundLocalError",
     "evalue": "cannot access local variable 'x_pad' where it is not associated with a value",
     "output_type": "error",
     "traceback": [
      "\u001b[1;31m---------------------------------------------------------------------------\u001b[0m",
      "\u001b[1;31mUnboundLocalError\u001b[0m                         Traceback (most recent call last)",
      "Cell \u001b[1;32mIn[5], line 316\u001b[0m, in \u001b[0;36mstart_gui.<locals>.refresh\u001b[1;34m()\u001b[0m\n\u001b[0;32m    314\u001b[0m curve_cnt\u001b[38;5;241m.\u001b[39msetData(xs_cnt, y_cnt)\n\u001b[0;32m    315\u001b[0m curve_vel\u001b[38;5;241m.\u001b[39msetData(xs_vel, y_vel)\n\u001b[1;32m--> 316\u001b[0m curve_comvel\u001b[38;5;241m.\u001b[39msetData(\u001b[43mx_pad\u001b[49m, y_pad)\n",
      "\u001b[1;31mUnboundLocalError\u001b[0m: cannot access local variable 'x_pad' where it is not associated with a value"
     ]
    },
    {
     "name": "stdout",
     "output_type": "stream",
     "text": [
      "EPOCH = 951969.150221, wall = 247.27 ms, jitter = 247.27 ms  Δc=+26  c=8627  v= 0.102, len(dir_log)=12500\n",
      "EPOCH = 951969.271035, wall = 120.81 ms, jitter = 120.81 ms  Δc=+25  c=8652  v= 0.098, len(dir_log)=12500\n",
      "EPOCH = 951969.400289, wall = 129.25 ms, jitter = 129.25 ms  Δc=+26  c=8678  v= 0.102, len(dir_log)=12500\n",
      "EPOCH = 951969.545851, wall = 145.56 ms, jitter = 145.56 ms  Δc=+25  c=8703  v= 0.098, len(dir_log)=12500\n"
     ]
    },
    {
     "ename": "UnboundLocalError",
     "evalue": "cannot access local variable 'x_pad' where it is not associated with a value",
     "output_type": "error",
     "traceback": [
      "\u001b[1;31m---------------------------------------------------------------------------\u001b[0m",
      "\u001b[1;31mUnboundLocalError\u001b[0m                         Traceback (most recent call last)",
      "Cell \u001b[1;32mIn[5], line 316\u001b[0m, in \u001b[0;36mstart_gui.<locals>.refresh\u001b[1;34m()\u001b[0m\n\u001b[0;32m    314\u001b[0m curve_cnt\u001b[38;5;241m.\u001b[39msetData(xs_cnt, y_cnt)\n\u001b[0;32m    315\u001b[0m curve_vel\u001b[38;5;241m.\u001b[39msetData(xs_vel, y_vel)\n\u001b[1;32m--> 316\u001b[0m curve_comvel\u001b[38;5;241m.\u001b[39msetData(\u001b[43mx_pad\u001b[49m, y_pad)\n",
      "\u001b[1;31mUnboundLocalError\u001b[0m: cannot access local variable 'x_pad' where it is not associated with a value"
     ]
    },
    {
     "name": "stdout",
     "output_type": "stream",
     "text": [
      "EPOCH = 951969.790155, wall = 244.30 ms, jitter = 244.30 ms  Δc=+26  c=8729  v= 0.102, len(dir_log)=12500\n",
      "EPOCH = 951969.945847, wall = 155.69 ms, jitter = 155.69 ms  Δc=+26  c=8755  v= 0.102, len(dir_log)=12500\n",
      "EPOCH = 951970.013188, wall =  67.34 ms, jitter =  67.34 ms  Δc=+25  c=8780  v= 0.098, len(dir_log)=12500\n",
      "EPOCH = 951970.151107, wall = 137.92 ms, jitter = 137.92 ms  Δc=+26  c=8806  v= 0.102, len(dir_log)=12500\n"
     ]
    },
    {
     "ename": "UnboundLocalError",
     "evalue": "cannot access local variable 'x_pad' where it is not associated with a value",
     "output_type": "error",
     "traceback": [
      "\u001b[1;31m---------------------------------------------------------------------------\u001b[0m",
      "\u001b[1;31mUnboundLocalError\u001b[0m                         Traceback (most recent call last)",
      "Cell \u001b[1;32mIn[5], line 316\u001b[0m, in \u001b[0;36mstart_gui.<locals>.refresh\u001b[1;34m()\u001b[0m\n\u001b[0;32m    314\u001b[0m curve_cnt\u001b[38;5;241m.\u001b[39msetData(xs_cnt, y_cnt)\n\u001b[0;32m    315\u001b[0m curve_vel\u001b[38;5;241m.\u001b[39msetData(xs_vel, y_vel)\n\u001b[1;32m--> 316\u001b[0m curve_comvel\u001b[38;5;241m.\u001b[39msetData(\u001b[43mx_pad\u001b[49m, y_pad)\n",
      "\u001b[1;31mUnboundLocalError\u001b[0m: cannot access local variable 'x_pad' where it is not associated with a value"
     ]
    },
    {
     "name": "stdout",
     "output_type": "stream",
     "text": [
      "EPOCH = 951970.401671, wall = 250.56 ms, jitter = 250.56 ms  Δc=+25  c=8831  v= 0.098, len(dir_log)=12500\n",
      "EPOCH = 951970.519666, wall = 118.00 ms, jitter = 118.00 ms  Δc=+26  c=8857  v= 0.102, len(dir_log)=12500\n",
      "EPOCH = 951970.639901, wall = 120.24 ms, jitter = 120.24 ms  Δc=+26  c=8883  v= 0.102, len(dir_log)=12500\n"
     ]
    },
    {
     "ename": "UnboundLocalError",
     "evalue": "cannot access local variable 'x_pad' where it is not associated with a value",
     "output_type": "error",
     "traceback": [
      "\u001b[1;31m---------------------------------------------------------------------------\u001b[0m",
      "\u001b[1;31mUnboundLocalError\u001b[0m                         Traceback (most recent call last)",
      "Cell \u001b[1;32mIn[5], line 316\u001b[0m, in \u001b[0;36mstart_gui.<locals>.refresh\u001b[1;34m()\u001b[0m\n\u001b[0;32m    314\u001b[0m curve_cnt\u001b[38;5;241m.\u001b[39msetData(xs_cnt, y_cnt)\n\u001b[0;32m    315\u001b[0m curve_vel\u001b[38;5;241m.\u001b[39msetData(xs_vel, y_vel)\n\u001b[1;32m--> 316\u001b[0m curve_comvel\u001b[38;5;241m.\u001b[39msetData(\u001b[43mx_pad\u001b[49m, y_pad)\n",
      "\u001b[1;31mUnboundLocalError\u001b[0m: cannot access local variable 'x_pad' where it is not associated with a value"
     ]
    },
    {
     "name": "stdout",
     "output_type": "stream",
     "text": [
      "EPOCH = 951970.944195, wall = 304.29 ms, jitter = 304.29 ms  Δc=+25  c=8908  v= 0.098, len(dir_log)=12500\n",
      "EPOCH = 951971.064413, wall = 120.22 ms, jitter = 120.22 ms  Δc=+26  c=8934  v= 0.102, len(dir_log)=12500\n",
      "EPOCH = 951971.140350, wall =  75.94 ms, jitter =  75.94 ms  Δc=+25  c=8959  v= 0.098, len(dir_log)=12500\n",
      "EPOCH = 951971.278303, wall = 137.95 ms, jitter = 137.95 ms  Δc=+26  c=8985  v= 0.102, len(dir_log)=12500\n"
     ]
    },
    {
     "ename": "UnboundLocalError",
     "evalue": "cannot access local variable 'x_pad' where it is not associated with a value",
     "output_type": "error",
     "traceback": [
      "\u001b[1;31m---------------------------------------------------------------------------\u001b[0m",
      "\u001b[1;31mUnboundLocalError\u001b[0m                         Traceback (most recent call last)",
      "Cell \u001b[1;32mIn[5], line 316\u001b[0m, in \u001b[0;36mstart_gui.<locals>.refresh\u001b[1;34m()\u001b[0m\n\u001b[0;32m    314\u001b[0m curve_cnt\u001b[38;5;241m.\u001b[39msetData(xs_cnt, y_cnt)\n\u001b[0;32m    315\u001b[0m curve_vel\u001b[38;5;241m.\u001b[39msetData(xs_vel, y_vel)\n\u001b[1;32m--> 316\u001b[0m curve_comvel\u001b[38;5;241m.\u001b[39msetData(\u001b[43mx_pad\u001b[49m, y_pad)\n",
      "\u001b[1;31mUnboundLocalError\u001b[0m: cannot access local variable 'x_pad' where it is not associated with a value"
     ]
    },
    {
     "name": "stdout",
     "output_type": "stream",
     "text": [
      "EPOCH = 951971.580738, wall = 302.44 ms, jitter = 302.44 ms  Δc=+26  c=9011  v= 0.102, len(dir_log)=12500\n",
      "EPOCH = 951971.635019, wall =  54.28 ms, jitter =  54.28 ms  Δc=+25  c=9036  v= 0.098, len(dir_log)=12500\n",
      "EPOCH = 951971.761445, wall = 126.43 ms, jitter = 126.43 ms  Δc=+26  c=9062  v= 0.102, len(dir_log)=12500\n"
     ]
    },
    {
     "ename": "UnboundLocalError",
     "evalue": "cannot access local variable 'x_pad' where it is not associated with a value",
     "output_type": "error",
     "traceback": [
      "\u001b[1;31m---------------------------------------------------------------------------\u001b[0m",
      "\u001b[1;31mUnboundLocalError\u001b[0m                         Traceback (most recent call last)",
      "Cell \u001b[1;32mIn[5], line 316\u001b[0m, in \u001b[0;36mstart_gui.<locals>.refresh\u001b[1;34m()\u001b[0m\n\u001b[0;32m    314\u001b[0m curve_cnt\u001b[38;5;241m.\u001b[39msetData(xs_cnt, y_cnt)\n\u001b[0;32m    315\u001b[0m curve_vel\u001b[38;5;241m.\u001b[39msetData(xs_vel, y_vel)\n\u001b[1;32m--> 316\u001b[0m curve_comvel\u001b[38;5;241m.\u001b[39msetData(\u001b[43mx_pad\u001b[49m, y_pad)\n",
      "\u001b[1;31mUnboundLocalError\u001b[0m: cannot access local variable 'x_pad' where it is not associated with a value"
     ]
    },
    {
     "name": "stdout",
     "output_type": "stream",
     "text": [
      "EPOCH = 951972.045453, wall = 284.01 ms, jitter = 284.01 ms  Δc=+25  c=9087  v= 0.098, len(dir_log)=12500\n",
      "EPOCH = 951972.148732, wall = 103.28 ms, jitter = 103.28 ms  Δc=+26  c=9113  v= 0.102, len(dir_log)=12500\n"
     ]
    },
    {
     "ename": "UnboundLocalError",
     "evalue": "cannot access local variable 'x_pad' where it is not associated with a value",
     "output_type": "error",
     "traceback": [
      "\u001b[1;31m---------------------------------------------------------------------------\u001b[0m",
      "\u001b[1;31mUnboundLocalError\u001b[0m                         Traceback (most recent call last)",
      "Cell \u001b[1;32mIn[5], line 316\u001b[0m, in \u001b[0;36mstart_gui.<locals>.refresh\u001b[1;34m()\u001b[0m\n\u001b[0;32m    314\u001b[0m curve_cnt\u001b[38;5;241m.\u001b[39msetData(xs_cnt, y_cnt)\n\u001b[0;32m    315\u001b[0m curve_vel\u001b[38;5;241m.\u001b[39msetData(xs_vel, y_vel)\n\u001b[1;32m--> 316\u001b[0m curve_comvel\u001b[38;5;241m.\u001b[39msetData(\u001b[43mx_pad\u001b[49m, y_pad)\n",
      "\u001b[1;31mUnboundLocalError\u001b[0m: cannot access local variable 'x_pad' where it is not associated with a value"
     ]
    },
    {
     "name": "stdout",
     "output_type": "stream",
     "text": [
      "EPOCH = 951972.393898, wall = 245.17 ms, jitter = 245.17 ms  Δc=+26  c=9139  v= 0.102, len(dir_log)=12500\n",
      "EPOCH = 951972.514074, wall = 120.18 ms, jitter = 120.18 ms  Δc=+25  c=9164  v= 0.098, len(dir_log)=12500\n",
      "EPOCH = 951972.644116, wall = 130.04 ms, jitter = 130.04 ms  Δc=+26  c=9190  v= 0.102, len(dir_log)=12500\n",
      "EPOCH = 951972.771730, wall = 127.61 ms, jitter = 127.61 ms  Δc=+25  c=9215  v= 0.098, len(dir_log)=12500\n"
     ]
    },
    {
     "ename": "UnboundLocalError",
     "evalue": "cannot access local variable 'x_pad' where it is not associated with a value",
     "output_type": "error",
     "traceback": [
      "\u001b[1;31m---------------------------------------------------------------------------\u001b[0m",
      "\u001b[1;31mUnboundLocalError\u001b[0m                         Traceback (most recent call last)",
      "Cell \u001b[1;32mIn[5], line 316\u001b[0m, in \u001b[0;36mstart_gui.<locals>.refresh\u001b[1;34m()\u001b[0m\n\u001b[0;32m    314\u001b[0m curve_cnt\u001b[38;5;241m.\u001b[39msetData(xs_cnt, y_cnt)\n\u001b[0;32m    315\u001b[0m curve_vel\u001b[38;5;241m.\u001b[39msetData(xs_vel, y_vel)\n\u001b[1;32m--> 316\u001b[0m curve_comvel\u001b[38;5;241m.\u001b[39msetData(\u001b[43mx_pad\u001b[49m, y_pad)\n",
      "\u001b[1;31mUnboundLocalError\u001b[0m: cannot access local variable 'x_pad' where it is not associated with a value"
     ]
    },
    {
     "name": "stdout",
     "output_type": "stream",
     "text": [
      "EPOCH = 951973.075448, wall = 303.72 ms, jitter = 303.72 ms  Δc=+26  c=9241  v= 0.102, len(dir_log)=12500\n",
      "EPOCH = 951973.203994, wall = 128.55 ms, jitter = 128.55 ms  Δc=+26  c=9267  v= 0.102, len(dir_log)=12500\n",
      "EPOCH = 951973.263972, wall =  59.98 ms, jitter =  59.98 ms  Δc=+25  c=9292  v= 0.098, len(dir_log)=12500\n"
     ]
    },
    {
     "ename": "UnboundLocalError",
     "evalue": "cannot access local variable 'x_pad' where it is not associated with a value",
     "output_type": "error",
     "traceback": [
      "\u001b[1;31m---------------------------------------------------------------------------\u001b[0m",
      "\u001b[1;31mUnboundLocalError\u001b[0m                         Traceback (most recent call last)",
      "Cell \u001b[1;32mIn[5], line 316\u001b[0m, in \u001b[0;36mstart_gui.<locals>.refresh\u001b[1;34m()\u001b[0m\n\u001b[0;32m    314\u001b[0m curve_cnt\u001b[38;5;241m.\u001b[39msetData(xs_cnt, y_cnt)\n\u001b[0;32m    315\u001b[0m curve_vel\u001b[38;5;241m.\u001b[39msetData(xs_vel, y_vel)\n\u001b[1;32m--> 316\u001b[0m curve_comvel\u001b[38;5;241m.\u001b[39msetData(\u001b[43mx_pad\u001b[49m, y_pad)\n",
      "\u001b[1;31mUnboundLocalError\u001b[0m: cannot access local variable 'x_pad' where it is not associated with a value"
     ]
    },
    {
     "name": "stdout",
     "output_type": "stream",
     "text": [
      "EPOCH = 951973.567983, wall = 304.01 ms, jitter = 304.01 ms  Δc=+26  c=9318  v= 0.102, len(dir_log)=12500\n",
      "EPOCH = 951973.697069, wall = 129.09 ms, jitter = 129.09 ms  Δc=+25  c=9343  v= 0.098, len(dir_log)=12500\n",
      "EPOCH = 951973.920891, wall = 223.82 ms, jitter = 223.82 ms  Δc=+26  c=9369  v= 0.102, len(dir_log)=12500\n",
      "EPOCH = 951974.032021, wall = 111.13 ms, jitter = 111.13 ms  Δc=+26  c=9395  v= 0.102, len(dir_log)=12500\n",
      "EPOCH = 951974.170483, wall = 138.46 ms, jitter = 138.46 ms  Δc=+25  c=9420  v= 0.098, len(dir_log)=12500\n"
     ]
    },
    {
     "ename": "UnboundLocalError",
     "evalue": "cannot access local variable 'x_pad' where it is not associated with a value",
     "output_type": "error",
     "traceback": [
      "\u001b[1;31m---------------------------------------------------------------------------\u001b[0m",
      "\u001b[1;31mUnboundLocalError\u001b[0m                         Traceback (most recent call last)",
      "Cell \u001b[1;32mIn[5], line 316\u001b[0m, in \u001b[0;36mstart_gui.<locals>.refresh\u001b[1;34m()\u001b[0m\n\u001b[0;32m    314\u001b[0m curve_cnt\u001b[38;5;241m.\u001b[39msetData(xs_cnt, y_cnt)\n\u001b[0;32m    315\u001b[0m curve_vel\u001b[38;5;241m.\u001b[39msetData(xs_vel, y_vel)\n\u001b[1;32m--> 316\u001b[0m curve_comvel\u001b[38;5;241m.\u001b[39msetData(\u001b[43mx_pad\u001b[49m, y_pad)\n",
      "\u001b[1;31mUnboundLocalError\u001b[0m: cannot access local variable 'x_pad' where it is not associated with a value"
     ]
    },
    {
     "name": "stdout",
     "output_type": "stream",
     "text": [
      "EPOCH = 951974.396395, wall = 225.91 ms, jitter = 225.91 ms  Δc=+26  c=9446  v= 0.102, len(dir_log)=12500\n",
      "EPOCH = 951974.535250, wall = 138.86 ms, jitter = 138.86 ms  Δc=+25  c=9471  v= 0.098, len(dir_log)=12500\n",
      "EPOCH = 951974.660338, wall = 125.09 ms, jitter = 125.09 ms  Δc=+26  c=9497  v= 0.102, len(dir_log)=12500\n"
     ]
    },
    {
     "ename": "UnboundLocalError",
     "evalue": "cannot access local variable 'x_pad' where it is not associated with a value",
     "output_type": "error",
     "traceback": [
      "\u001b[1;31m---------------------------------------------------------------------------\u001b[0m",
      "\u001b[1;31mUnboundLocalError\u001b[0m                         Traceback (most recent call last)",
      "Cell \u001b[1;32mIn[5], line 316\u001b[0m, in \u001b[0;36mstart_gui.<locals>.refresh\u001b[1;34m()\u001b[0m\n\u001b[0;32m    314\u001b[0m curve_cnt\u001b[38;5;241m.\u001b[39msetData(xs_cnt, y_cnt)\n\u001b[0;32m    315\u001b[0m curve_vel\u001b[38;5;241m.\u001b[39msetData(xs_vel, y_vel)\n\u001b[1;32m--> 316\u001b[0m curve_comvel\u001b[38;5;241m.\u001b[39msetData(\u001b[43mx_pad\u001b[49m, y_pad)\n",
      "\u001b[1;31mUnboundLocalError\u001b[0m: cannot access local variable 'x_pad' where it is not associated with a value"
     ]
    },
    {
     "name": "stdout",
     "output_type": "stream",
     "text": [
      "EPOCH = 951974.904265, wall = 243.93 ms, jitter = 243.93 ms  Δc=+26  c=9523  v= 0.102, len(dir_log)=12500\n",
      "EPOCH = 951975.039631, wall = 135.37 ms, jitter = 135.37 ms  Δc=+25  c=9548  v= 0.098, len(dir_log)=12500\n",
      "EPOCH = 951975.272190, wall = 232.56 ms, jitter = 232.56 ms  Δc=+26  c=9574  v= 0.102, len(dir_log)=12500\n",
      "EPOCH = 951975.398571, wall = 126.38 ms, jitter = 126.38 ms  Δc=+25  c=9599  v= 0.098, len(dir_log)=12500\n"
     ]
    },
    {
     "ename": "UnboundLocalError",
     "evalue": "cannot access local variable 'x_pad' where it is not associated with a value",
     "output_type": "error",
     "traceback": [
      "\u001b[1;31m---------------------------------------------------------------------------\u001b[0m",
      "\u001b[1;31mUnboundLocalError\u001b[0m                         Traceback (most recent call last)",
      "Cell \u001b[1;32mIn[5], line 316\u001b[0m, in \u001b[0;36mstart_gui.<locals>.refresh\u001b[1;34m()\u001b[0m\n\u001b[0;32m    314\u001b[0m curve_cnt\u001b[38;5;241m.\u001b[39msetData(xs_cnt, y_cnt)\n\u001b[0;32m    315\u001b[0m curve_vel\u001b[38;5;241m.\u001b[39msetData(xs_vel, y_vel)\n\u001b[1;32m--> 316\u001b[0m curve_comvel\u001b[38;5;241m.\u001b[39msetData(\u001b[43mx_pad\u001b[49m, y_pad)\n",
      "\u001b[1;31mUnboundLocalError\u001b[0m: cannot access local variable 'x_pad' where it is not associated with a value"
     ]
    },
    {
     "name": "stdout",
     "output_type": "stream",
     "text": [
      "EPOCH = 951975.571706, wall = 173.13 ms, jitter = 173.13 ms  Δc=+26  c=9625  v= 0.102, len(dir_log)=12500\n",
      "EPOCH = 951975.683393, wall = 111.69 ms, jitter = 111.69 ms  Δc=+26  c=9651  v= 0.102, len(dir_log)=12500\n",
      "EPOCH = 951975.896240, wall = 212.85 ms, jitter = 212.85 ms  Δc=+25  c=9676  v= 0.098, len(dir_log)=12500\n"
     ]
    },
    {
     "ename": "UnboundLocalError",
     "evalue": "cannot access local variable 'x_pad' where it is not associated with a value",
     "output_type": "error",
     "traceback": [
      "\u001b[1;31m---------------------------------------------------------------------------\u001b[0m",
      "\u001b[1;31mUnboundLocalError\u001b[0m                         Traceback (most recent call last)",
      "Cell \u001b[1;32mIn[5], line 316\u001b[0m, in \u001b[0;36mstart_gui.<locals>.refresh\u001b[1;34m()\u001b[0m\n\u001b[0;32m    314\u001b[0m curve_cnt\u001b[38;5;241m.\u001b[39msetData(xs_cnt, y_cnt)\n\u001b[0;32m    315\u001b[0m curve_vel\u001b[38;5;241m.\u001b[39msetData(xs_vel, y_vel)\n\u001b[1;32m--> 316\u001b[0m curve_comvel\u001b[38;5;241m.\u001b[39msetData(\u001b[43mx_pad\u001b[49m, y_pad)\n",
      "\u001b[1;31mUnboundLocalError\u001b[0m: cannot access local variable 'x_pad' where it is not associated with a value"
     ]
    },
    {
     "name": "stdout",
     "output_type": "stream",
     "text": [
      "EPOCH = 951976.021387, wall = 125.15 ms, jitter = 125.15 ms  Δc=+26  c=9702  v= 0.102, len(dir_log)=12500\n"
     ]
    },
    {
     "ename": "UnboundLocalError",
     "evalue": "cannot access local variable 'x_pad' where it is not associated with a value",
     "output_type": "error",
     "traceback": [
      "\u001b[1;31m---------------------------------------------------------------------------\u001b[0m",
      "\u001b[1;31mUnboundLocalError\u001b[0m                         Traceback (most recent call last)",
      "Cell \u001b[1;32mIn[5], line 316\u001b[0m, in \u001b[0;36mstart_gui.<locals>.refresh\u001b[1;34m()\u001b[0m\n\u001b[0;32m    314\u001b[0m curve_cnt\u001b[38;5;241m.\u001b[39msetData(xs_cnt, y_cnt)\n\u001b[0;32m    315\u001b[0m curve_vel\u001b[38;5;241m.\u001b[39msetData(xs_vel, y_vel)\n\u001b[1;32m--> 316\u001b[0m curve_comvel\u001b[38;5;241m.\u001b[39msetData(\u001b[43mx_pad\u001b[49m, y_pad)\n",
      "\u001b[1;31mUnboundLocalError\u001b[0m: cannot access local variable 'x_pad' where it is not associated with a value"
     ]
    },
    {
     "name": "stdout",
     "output_type": "stream",
     "text": [
      "EPOCH = 951976.319397, wall = 298.01 ms, jitter = 298.01 ms  Δc=+25  c=9727  v= 0.098, len(dir_log)=12500\n",
      "EPOCH = 951976.431548, wall = 112.15 ms, jitter = 112.15 ms  Δc=+26  c=9753  v= 0.102, len(dir_log)=12500\n",
      "EPOCH = 951976.509764, wall =  78.22 ms, jitter =  78.22 ms  Δc=+26  c=9779  v= 0.102, len(dir_log)=12500\n",
      "EPOCH = 951976.698750, wall = 188.99 ms, jitter = 188.99 ms  Δc=+25  c=9804  v= 0.098, len(dir_log)=12500\n",
      "EPOCH = 951976.940054, wall = 241.30 ms, jitter = 241.30 ms  Δc=+26  c=9830  v= 0.102, len(dir_log)=12500\n",
      "EPOCH = 951977.179608, wall = 239.55 ms, jitter = 239.55 ms  Δc=+25  c=9855  v= 0.098, len(dir_log)=12500\n"
     ]
    },
    {
     "ename": "UnboundLocalError",
     "evalue": "cannot access local variable 'x_pad' where it is not associated with a value",
     "output_type": "error",
     "traceback": [
      "\u001b[1;31m---------------------------------------------------------------------------\u001b[0m",
      "\u001b[1;31mUnboundLocalError\u001b[0m                         Traceback (most recent call last)",
      "Cell \u001b[1;32mIn[5], line 316\u001b[0m, in \u001b[0;36mstart_gui.<locals>.refresh\u001b[1;34m()\u001b[0m\n\u001b[0;32m    314\u001b[0m curve_cnt\u001b[38;5;241m.\u001b[39msetData(xs_cnt, y_cnt)\n\u001b[0;32m    315\u001b[0m curve_vel\u001b[38;5;241m.\u001b[39msetData(xs_vel, y_vel)\n\u001b[1;32m--> 316\u001b[0m curve_comvel\u001b[38;5;241m.\u001b[39msetData(\u001b[43mx_pad\u001b[49m, y_pad)\n",
      "\u001b[1;31mUnboundLocalError\u001b[0m: cannot access local variable 'x_pad' where it is not associated with a value"
     ]
    },
    {
     "name": "stdout",
     "output_type": "stream",
     "text": [
      "EPOCH = 951977.395781, wall = 216.17 ms, jitter = 216.17 ms  Δc=+26  c=9881  v= 0.102, len(dir_log)=12500\n",
      "EPOCH = 951977.534055, wall = 138.27 ms, jitter = 138.27 ms  Δc=+26  c=9907  v= 0.102, len(dir_log)=12500\n",
      "EPOCH = 951977.673232, wall = 139.18 ms, jitter = 139.18 ms  Δc=+25  c=9932  v= 0.098, len(dir_log)=12500\n",
      "EPOCH = 951977.884003, wall = 210.77 ms, jitter = 210.77 ms  Δc=+26  c=9958  v= 0.102, len(dir_log)=12500\n"
     ]
    },
    {
     "ename": "UnboundLocalError",
     "evalue": "cannot access local variable 'x_pad' where it is not associated with a value",
     "output_type": "error",
     "traceback": [
      "\u001b[1;31m---------------------------------------------------------------------------\u001b[0m",
      "\u001b[1;31mUnboundLocalError\u001b[0m                         Traceback (most recent call last)",
      "Cell \u001b[1;32mIn[5], line 316\u001b[0m, in \u001b[0;36mstart_gui.<locals>.refresh\u001b[1;34m()\u001b[0m\n\u001b[0;32m    314\u001b[0m curve_cnt\u001b[38;5;241m.\u001b[39msetData(xs_cnt, y_cnt)\n\u001b[0;32m    315\u001b[0m curve_vel\u001b[38;5;241m.\u001b[39msetData(xs_vel, y_vel)\n\u001b[1;32m--> 316\u001b[0m curve_comvel\u001b[38;5;241m.\u001b[39msetData(\u001b[43mx_pad\u001b[49m, y_pad)\n",
      "\u001b[1;31mUnboundLocalError\u001b[0m: cannot access local variable 'x_pad' where it is not associated with a value"
     ]
    },
    {
     "name": "stdout",
     "output_type": "stream",
     "text": [
      "EPOCH = 951978.060591, wall = 176.59 ms, jitter = 176.59 ms  Δc=+25  c=9983  v= 0.098, len(dir_log)=12500\n",
      "EPOCH = 951978.328961, wall = 268.37 ms, jitter = 268.37 ms  Δc=+26  c=10009  v= 0.102, len(dir_log)=12500\n"
     ]
    },
    {
     "ename": "UnboundLocalError",
     "evalue": "cannot access local variable 'x_pad' where it is not associated with a value",
     "output_type": "error",
     "traceback": [
      "\u001b[1;31m---------------------------------------------------------------------------\u001b[0m",
      "\u001b[1;31mUnboundLocalError\u001b[0m                         Traceback (most recent call last)",
      "Cell \u001b[1;32mIn[5], line 316\u001b[0m, in \u001b[0;36mstart_gui.<locals>.refresh\u001b[1;34m()\u001b[0m\n\u001b[0;32m    314\u001b[0m curve_cnt\u001b[38;5;241m.\u001b[39msetData(xs_cnt, y_cnt)\n\u001b[0;32m    315\u001b[0m curve_vel\u001b[38;5;241m.\u001b[39msetData(xs_vel, y_vel)\n\u001b[1;32m--> 316\u001b[0m curve_comvel\u001b[38;5;241m.\u001b[39msetData(\u001b[43mx_pad\u001b[49m, y_pad)\n",
      "\u001b[1;31mUnboundLocalError\u001b[0m: cannot access local variable 'x_pad' where it is not associated with a value"
     ]
    },
    {
     "name": "stdout",
     "output_type": "stream",
     "text": [
      "EPOCH = 951978.418314, wall =  89.35 ms, jitter =  89.35 ms  Δc=+26  c=10035  v= 0.102, len(dir_log)=12500\n"
     ]
    },
    {
     "ename": "UnboundLocalError",
     "evalue": "cannot access local variable 'x_pad' where it is not associated with a value",
     "output_type": "error",
     "traceback": [
      "\u001b[1;31m---------------------------------------------------------------------------\u001b[0m",
      "\u001b[1;31mUnboundLocalError\u001b[0m                         Traceback (most recent call last)",
      "Cell \u001b[1;32mIn[5], line 316\u001b[0m, in \u001b[0;36mstart_gui.<locals>.refresh\u001b[1;34m()\u001b[0m\n\u001b[0;32m    314\u001b[0m curve_cnt\u001b[38;5;241m.\u001b[39msetData(xs_cnt, y_cnt)\n\u001b[0;32m    315\u001b[0m curve_vel\u001b[38;5;241m.\u001b[39msetData(xs_vel, y_vel)\n\u001b[1;32m--> 316\u001b[0m curve_comvel\u001b[38;5;241m.\u001b[39msetData(\u001b[43mx_pad\u001b[49m, y_pad)\n",
      "\u001b[1;31mUnboundLocalError\u001b[0m: cannot access local variable 'x_pad' where it is not associated with a value"
     ]
    },
    {
     "name": "stdout",
     "output_type": "stream",
     "text": [
      "EPOCH = 951978.658271, wall = 239.96 ms, jitter = 239.96 ms  Δc=+25  c=10060  v= 0.098, len(dir_log)=12500\n",
      "EPOCH = 951978.761782, wall = 103.51 ms, jitter = 103.51 ms  Δc=+26  c=10086  v= 0.102, len(dir_log)=12500\n"
     ]
    },
    {
     "ename": "UnboundLocalError",
     "evalue": "cannot access local variable 'x_pad' where it is not associated with a value",
     "output_type": "error",
     "traceback": [
      "\u001b[1;31m---------------------------------------------------------------------------\u001b[0m",
      "\u001b[1;31mUnboundLocalError\u001b[0m                         Traceback (most recent call last)",
      "Cell \u001b[1;32mIn[5], line 316\u001b[0m, in \u001b[0;36mstart_gui.<locals>.refresh\u001b[1;34m()\u001b[0m\n\u001b[0;32m    314\u001b[0m curve_cnt\u001b[38;5;241m.\u001b[39msetData(xs_cnt, y_cnt)\n\u001b[0;32m    315\u001b[0m curve_vel\u001b[38;5;241m.\u001b[39msetData(xs_vel, y_vel)\n\u001b[1;32m--> 316\u001b[0m curve_comvel\u001b[38;5;241m.\u001b[39msetData(\u001b[43mx_pad\u001b[49m, y_pad)\n",
      "\u001b[1;31mUnboundLocalError\u001b[0m: cannot access local variable 'x_pad' where it is not associated with a value"
     ]
    },
    {
     "name": "stdout",
     "output_type": "stream",
     "text": [
      "EPOCH = 951979.040253, wall = 278.47 ms, jitter = 278.47 ms  Δc=+25  c=10111  v= 0.098, len(dir_log)=12500\n"
     ]
    },
    {
     "ename": "UnboundLocalError",
     "evalue": "cannot access local variable 'x_pad' where it is not associated with a value",
     "output_type": "error",
     "traceback": [
      "\u001b[1;31m---------------------------------------------------------------------------\u001b[0m",
      "\u001b[1;31mUnboundLocalError\u001b[0m                         Traceback (most recent call last)",
      "Cell \u001b[1;32mIn[5], line 316\u001b[0m, in \u001b[0;36mstart_gui.<locals>.refresh\u001b[1;34m()\u001b[0m\n\u001b[0;32m    314\u001b[0m curve_cnt\u001b[38;5;241m.\u001b[39msetData(xs_cnt, y_cnt)\n\u001b[0;32m    315\u001b[0m curve_vel\u001b[38;5;241m.\u001b[39msetData(xs_vel, y_vel)\n\u001b[1;32m--> 316\u001b[0m curve_comvel\u001b[38;5;241m.\u001b[39msetData(\u001b[43mx_pad\u001b[49m, y_pad)\n",
      "\u001b[1;31mUnboundLocalError\u001b[0m: cannot access local variable 'x_pad' where it is not associated with a value"
     ]
    },
    {
     "name": "stdout",
     "output_type": "stream",
     "text": [
      "EPOCH = 951979.148694, wall = 108.44 ms, jitter = 108.44 ms  Δc=+26  c=10137  v= 0.102, len(dir_log)=12500\n",
      "EPOCH = 951979.282091, wall = 133.40 ms, jitter = 133.40 ms  Δc=+26  c=10163  v= 0.102, len(dir_log)=12500\n",
      "EPOCH = 951979.399188, wall = 117.10 ms, jitter = 117.10 ms  Δc=+25  c=10188  v= 0.098, len(dir_log)=12500\n"
     ]
    },
    {
     "ename": "UnboundLocalError",
     "evalue": "cannot access local variable 'x_pad' where it is not associated with a value",
     "output_type": "error",
     "traceback": [
      "\u001b[1;31m---------------------------------------------------------------------------\u001b[0m",
      "\u001b[1;31mUnboundLocalError\u001b[0m                         Traceback (most recent call last)",
      "Cell \u001b[1;32mIn[5], line 316\u001b[0m, in \u001b[0;36mstart_gui.<locals>.refresh\u001b[1;34m()\u001b[0m\n\u001b[0;32m    314\u001b[0m curve_cnt\u001b[38;5;241m.\u001b[39msetData(xs_cnt, y_cnt)\n\u001b[0;32m    315\u001b[0m curve_vel\u001b[38;5;241m.\u001b[39msetData(xs_vel, y_vel)\n\u001b[1;32m--> 316\u001b[0m curve_comvel\u001b[38;5;241m.\u001b[39msetData(\u001b[43mx_pad\u001b[49m, y_pad)\n",
      "\u001b[1;31mUnboundLocalError\u001b[0m: cannot access local variable 'x_pad' where it is not associated with a value"
     ]
    },
    {
     "name": "stdout",
     "output_type": "stream",
     "text": [
      "EPOCH = 951979.713434, wall = 314.25 ms, jitter = 314.25 ms  Δc=+26  c=10214  v= 0.102, len(dir_log)=12500\n",
      "EPOCH = 951979.759057, wall =  45.62 ms, jitter =  45.62 ms  Δc=+25  c=10239  v= 0.098, len(dir_log)=12500\n",
      "EPOCH = 951979.877696, wall = 118.64 ms, jitter = 118.64 ms  Δc=+26  c=10265  v= 0.102, len(dir_log)=12500\n"
     ]
    },
    {
     "ename": "UnboundLocalError",
     "evalue": "cannot access local variable 'x_pad' where it is not associated with a value",
     "output_type": "error",
     "traceback": [
      "\u001b[1;31m---------------------------------------------------------------------------\u001b[0m",
      "\u001b[1;31mUnboundLocalError\u001b[0m                         Traceback (most recent call last)",
      "Cell \u001b[1;32mIn[5], line 316\u001b[0m, in \u001b[0;36mstart_gui.<locals>.refresh\u001b[1;34m()\u001b[0m\n\u001b[0;32m    314\u001b[0m curve_cnt\u001b[38;5;241m.\u001b[39msetData(xs_cnt, y_cnt)\n\u001b[0;32m    315\u001b[0m curve_vel\u001b[38;5;241m.\u001b[39msetData(xs_vel, y_vel)\n\u001b[1;32m--> 316\u001b[0m curve_comvel\u001b[38;5;241m.\u001b[39msetData(\u001b[43mx_pad\u001b[49m, y_pad)\n",
      "\u001b[1;31mUnboundLocalError\u001b[0m: cannot access local variable 'x_pad' where it is not associated with a value"
     ]
    },
    {
     "name": "stdout",
     "output_type": "stream",
     "text": [
      "EPOCH = 951980.067106, wall = 189.41 ms, jitter = 189.41 ms  Δc=+26  c=10291  v= 0.102, len(dir_log)=12500\n",
      "EPOCH = 951980.262860, wall = 195.75 ms, jitter = 195.75 ms  Δc=+25  c=10316  v= 0.098, len(dir_log)=12500\n",
      "EPOCH = 951980.436821, wall = 173.96 ms, jitter = 173.96 ms  Δc=+26  c=10342  v= 0.102, len(dir_log)=12500\n",
      "EPOCH = 951980.560567, wall = 123.75 ms, jitter = 123.75 ms  Δc=+25  c=10367  v= 0.098, len(dir_log)=12500\n",
      "EPOCH = 951980.649003, wall =  88.44 ms, jitter =  88.44 ms  Δc=+26  c=10393  v= 0.102, len(dir_log)=12500\n",
      "EPOCH = 951980.890776, wall = 241.77 ms, jitter = 241.77 ms  Δc=+26  c=10419  v= 0.102, len(dir_log)=12500\n",
      "EPOCH = 951981.028096, wall = 137.32 ms, jitter = 137.32 ms  Δc=+25  c=10444  v= 0.098, len(dir_log)=12500\n"
     ]
    },
    {
     "ename": "UnboundLocalError",
     "evalue": "cannot access local variable 'x_pad' where it is not associated with a value",
     "output_type": "error",
     "traceback": [
      "\u001b[1;31m---------------------------------------------------------------------------\u001b[0m",
      "\u001b[1;31mUnboundLocalError\u001b[0m                         Traceback (most recent call last)",
      "Cell \u001b[1;32mIn[5], line 316\u001b[0m, in \u001b[0;36mstart_gui.<locals>.refresh\u001b[1;34m()\u001b[0m\n\u001b[0;32m    314\u001b[0m curve_cnt\u001b[38;5;241m.\u001b[39msetData(xs_cnt, y_cnt)\n\u001b[0;32m    315\u001b[0m curve_vel\u001b[38;5;241m.\u001b[39msetData(xs_vel, y_vel)\n\u001b[1;32m--> 316\u001b[0m curve_comvel\u001b[38;5;241m.\u001b[39msetData(\u001b[43mx_pad\u001b[49m, y_pad)\n",
      "\u001b[1;31mUnboundLocalError\u001b[0m: cannot access local variable 'x_pad' where it is not associated with a value"
     ]
    },
    {
     "name": "stdout",
     "output_type": "stream",
     "text": [
      "EPOCH = 951981.262396, wall = 234.30 ms, jitter = 234.30 ms  Δc=+26  c=10470  v= 0.102, len(dir_log)=12500\n",
      "EPOCH = 951981.388635, wall = 126.24 ms, jitter = 126.24 ms  Δc=+25  c=10495  v= 0.098, len(dir_log)=12500\n",
      "EPOCH = 951981.521087, wall = 132.45 ms, jitter = 132.45 ms  Δc=+26  c=10521  v= 0.102, len(dir_log)=12500\n",
      "EPOCH = 951981.700418, wall = 179.33 ms, jitter = 179.33 ms  Δc=+26  c=10547  v= 0.102, len(dir_log)=12500\n",
      "EPOCH = 951981.770653, wall =  70.23 ms, jitter =  70.23 ms  Δc=+25  c=10572  v= 0.098, len(dir_log)=12500\n"
     ]
    },
    {
     "ename": "UnboundLocalError",
     "evalue": "cannot access local variable 'x_pad' where it is not associated with a value",
     "output_type": "error",
     "traceback": [
      "\u001b[1;31m---------------------------------------------------------------------------\u001b[0m",
      "\u001b[1;31mUnboundLocalError\u001b[0m                         Traceback (most recent call last)",
      "Cell \u001b[1;32mIn[5], line 316\u001b[0m, in \u001b[0;36mstart_gui.<locals>.refresh\u001b[1;34m()\u001b[0m\n\u001b[0;32m    314\u001b[0m curve_cnt\u001b[38;5;241m.\u001b[39msetData(xs_cnt, y_cnt)\n\u001b[0;32m    315\u001b[0m curve_vel\u001b[38;5;241m.\u001b[39msetData(xs_vel, y_vel)\n\u001b[1;32m--> 316\u001b[0m curve_comvel\u001b[38;5;241m.\u001b[39msetData(\u001b[43mx_pad\u001b[49m, y_pad)\n",
      "\u001b[1;31mUnboundLocalError\u001b[0m: cannot access local variable 'x_pad' where it is not associated with a value"
     ]
    },
    {
     "name": "stdout",
     "output_type": "stream",
     "text": [
      "EPOCH = 951982.019002, wall = 248.35 ms, jitter = 248.35 ms  Δc=+26  c=10598  v= 0.102, len(dir_log)=12500\n",
      "EPOCH = 951982.136549, wall = 117.55 ms, jitter = 117.55 ms  Δc=+25  c=10623  v= 0.098, len(dir_log)=12500\n",
      "EPOCH = 951982.267516, wall = 130.97 ms, jitter = 130.97 ms  Δc=+26  c=10649  v= 0.102, len(dir_log)=12500\n",
      "EPOCH = 951982.511682, wall = 244.17 ms, jitter = 244.17 ms  Δc=+26  c=10675  v= 0.102, len(dir_log)=12500\n"
     ]
    },
    {
     "ename": "UnboundLocalError",
     "evalue": "cannot access local variable 'x_pad' where it is not associated with a value",
     "output_type": "error",
     "traceback": [
      "\u001b[1;31m---------------------------------------------------------------------------\u001b[0m",
      "\u001b[1;31mUnboundLocalError\u001b[0m                         Traceback (most recent call last)",
      "Cell \u001b[1;32mIn[5], line 316\u001b[0m, in \u001b[0;36mstart_gui.<locals>.refresh\u001b[1;34m()\u001b[0m\n\u001b[0;32m    314\u001b[0m curve_cnt\u001b[38;5;241m.\u001b[39msetData(xs_cnt, y_cnt)\n\u001b[0;32m    315\u001b[0m curve_vel\u001b[38;5;241m.\u001b[39msetData(xs_vel, y_vel)\n\u001b[1;32m--> 316\u001b[0m curve_comvel\u001b[38;5;241m.\u001b[39msetData(\u001b[43mx_pad\u001b[49m, y_pad)\n",
      "\u001b[1;31mUnboundLocalError\u001b[0m: cannot access local variable 'x_pad' where it is not associated with a value"
     ]
    },
    {
     "name": "stdout",
     "output_type": "stream",
     "text": [
      "EPOCH = 951982.676473, wall = 164.79 ms, jitter = 164.79 ms  Δc=+25  c=10700  v= 0.098, len(dir_log)=12500\n",
      "EPOCH = 951982.810778, wall = 134.31 ms, jitter = 134.31 ms  Δc=+26  c=10726  v= 0.102, len(dir_log)=12500\n",
      "EPOCH = 951983.059184, wall = 248.41 ms, jitter = 248.41 ms  Δc=+25  c=10751  v= 0.098, len(dir_log)=12500\n"
     ]
    },
    {
     "ename": "UnboundLocalError",
     "evalue": "cannot access local variable 'x_pad' where it is not associated with a value",
     "output_type": "error",
     "traceback": [
      "\u001b[1;31m---------------------------------------------------------------------------\u001b[0m",
      "\u001b[1;31mUnboundLocalError\u001b[0m                         Traceback (most recent call last)",
      "Cell \u001b[1;32mIn[5], line 316\u001b[0m, in \u001b[0;36mstart_gui.<locals>.refresh\u001b[1;34m()\u001b[0m\n\u001b[0;32m    314\u001b[0m curve_cnt\u001b[38;5;241m.\u001b[39msetData(xs_cnt, y_cnt)\n\u001b[0;32m    315\u001b[0m curve_vel\u001b[38;5;241m.\u001b[39msetData(xs_vel, y_vel)\n\u001b[1;32m--> 316\u001b[0m curve_comvel\u001b[38;5;241m.\u001b[39msetData(\u001b[43mx_pad\u001b[49m, y_pad)\n",
      "\u001b[1;31mUnboundLocalError\u001b[0m: cannot access local variable 'x_pad' where it is not associated with a value"
     ]
    },
    {
     "name": "stdout",
     "output_type": "stream",
     "text": [
      "EPOCH = 951983.160816, wall = 101.63 ms, jitter = 101.63 ms  Δc=+26  c=10777  v= 0.102, len(dir_log)=12500\n",
      "EPOCH = 951983.289874, wall = 129.06 ms, jitter = 129.06 ms  Δc=+26  c=10803  v= 0.102, len(dir_log)=12500\n"
     ]
    },
    {
     "ename": "UnboundLocalError",
     "evalue": "cannot access local variable 'x_pad' where it is not associated with a value",
     "output_type": "error",
     "traceback": [
      "\u001b[1;31m---------------------------------------------------------------------------\u001b[0m",
      "\u001b[1;31mUnboundLocalError\u001b[0m                         Traceback (most recent call last)",
      "Cell \u001b[1;32mIn[5], line 316\u001b[0m, in \u001b[0;36mstart_gui.<locals>.refresh\u001b[1;34m()\u001b[0m\n\u001b[0;32m    314\u001b[0m curve_cnt\u001b[38;5;241m.\u001b[39msetData(xs_cnt, y_cnt)\n\u001b[0;32m    315\u001b[0m curve_vel\u001b[38;5;241m.\u001b[39msetData(xs_vel, y_vel)\n\u001b[1;32m--> 316\u001b[0m curve_comvel\u001b[38;5;241m.\u001b[39msetData(\u001b[43mx_pad\u001b[49m, y_pad)\n",
      "\u001b[1;31mUnboundLocalError\u001b[0m: cannot access local variable 'x_pad' where it is not associated with a value"
     ]
    },
    {
     "name": "stdout",
     "output_type": "stream",
     "text": [
      "EPOCH = 951983.539530, wall = 249.66 ms, jitter = 249.66 ms  Δc=+25  c=10828  v= 0.098, len(dir_log)=12500\n",
      "EPOCH = 951983.645049, wall = 105.52 ms, jitter = 105.52 ms  Δc=+26  c=10854  v= 0.102, len(dir_log)=12500\n",
      "EPOCH = 951983.779697, wall = 134.65 ms, jitter = 134.65 ms  Δc=+25  c=10879  v= 0.098, len(dir_log)=12500\n"
     ]
    },
    {
     "ename": "UnboundLocalError",
     "evalue": "cannot access local variable 'x_pad' where it is not associated with a value",
     "output_type": "error",
     "traceback": [
      "\u001b[1;31m---------------------------------------------------------------------------\u001b[0m",
      "\u001b[1;31mUnboundLocalError\u001b[0m                         Traceback (most recent call last)",
      "Cell \u001b[1;32mIn[5], line 316\u001b[0m, in \u001b[0;36mstart_gui.<locals>.refresh\u001b[1;34m()\u001b[0m\n\u001b[0;32m    314\u001b[0m curve_cnt\u001b[38;5;241m.\u001b[39msetData(xs_cnt, y_cnt)\n\u001b[0;32m    315\u001b[0m curve_vel\u001b[38;5;241m.\u001b[39msetData(xs_vel, y_vel)\n\u001b[1;32m--> 316\u001b[0m curve_comvel\u001b[38;5;241m.\u001b[39msetData(\u001b[43mx_pad\u001b[49m, y_pad)\n",
      "\u001b[1;31mUnboundLocalError\u001b[0m: cannot access local variable 'x_pad' where it is not associated with a value"
     ]
    },
    {
     "name": "stdout",
     "output_type": "stream",
     "text": [
      "EPOCH = 951984.164330, wall = 384.63 ms, jitter = 384.63 ms  Δc=+26  c=10905  v= 0.102, len(dir_log)=12500\n",
      "EPOCH = 951984.187857, wall =  23.53 ms, jitter =  23.53 ms  Δc=+26  c=10931  v= 0.102, len(dir_log)=12500\n",
      "EPOCH = 951984.398534, wall = 210.68 ms, jitter = 210.68 ms  Δc=+25  c=10956  v= 0.098, len(dir_log)=12500\n"
     ]
    },
    {
     "ename": "UnboundLocalError",
     "evalue": "cannot access local variable 'x_pad' where it is not associated with a value",
     "output_type": "error",
     "traceback": [
      "\u001b[1;31m---------------------------------------------------------------------------\u001b[0m",
      "\u001b[1;31mUnboundLocalError\u001b[0m                         Traceback (most recent call last)",
      "Cell \u001b[1;32mIn[5], line 316\u001b[0m, in \u001b[0;36mstart_gui.<locals>.refresh\u001b[1;34m()\u001b[0m\n\u001b[0;32m    314\u001b[0m curve_cnt\u001b[38;5;241m.\u001b[39msetData(xs_cnt, y_cnt)\n\u001b[0;32m    315\u001b[0m curve_vel\u001b[38;5;241m.\u001b[39msetData(xs_vel, y_vel)\n\u001b[1;32m--> 316\u001b[0m curve_comvel\u001b[38;5;241m.\u001b[39msetData(\u001b[43mx_pad\u001b[49m, y_pad)\n",
      "\u001b[1;31mUnboundLocalError\u001b[0m: cannot access local variable 'x_pad' where it is not associated with a value"
     ]
    },
    {
     "name": "stdout",
     "output_type": "stream",
     "text": [
      "EPOCH = 951984.555477, wall = 156.94 ms, jitter = 156.94 ms  Δc=+26  c=10982  v= 0.102, len(dir_log)=12500\n",
      "EPOCH = 951984.679037, wall = 123.56 ms, jitter = 123.56 ms  Δc=+25  c=11007  v= 0.098, len(dir_log)=12500\n",
      "EPOCH = 951984.765392, wall =  86.36 ms, jitter =  86.36 ms  Δc=+26  c=11033  v= 0.102, len(dir_log)=12500\n",
      "EPOCH = 951985.026744, wall = 261.35 ms, jitter = 261.35 ms  Δc=+26  c=11059  v= 0.102, len(dir_log)=12500\n"
     ]
    },
    {
     "ename": "UnboundLocalError",
     "evalue": "cannot access local variable 'x_pad' where it is not associated with a value",
     "output_type": "error",
     "traceback": [
      "\u001b[1;31m---------------------------------------------------------------------------\u001b[0m",
      "\u001b[1;31mUnboundLocalError\u001b[0m                         Traceback (most recent call last)",
      "Cell \u001b[1;32mIn[5], line 316\u001b[0m, in \u001b[0;36mstart_gui.<locals>.refresh\u001b[1;34m()\u001b[0m\n\u001b[0;32m    314\u001b[0m curve_cnt\u001b[38;5;241m.\u001b[39msetData(xs_cnt, y_cnt)\n\u001b[0;32m    315\u001b[0m curve_vel\u001b[38;5;241m.\u001b[39msetData(xs_vel, y_vel)\n\u001b[1;32m--> 316\u001b[0m curve_comvel\u001b[38;5;241m.\u001b[39msetData(\u001b[43mx_pad\u001b[49m, y_pad)\n",
      "\u001b[1;31mUnboundLocalError\u001b[0m: cannot access local variable 'x_pad' where it is not associated with a value"
     ]
    },
    {
     "name": "stdout",
     "output_type": "stream",
     "text": [
      "EPOCH = 951985.190845, wall = 164.10 ms, jitter = 164.10 ms  Δc=+25  c=11084  v= 0.098, len(dir_log)=12500\n",
      "EPOCH = 951985.436677, wall = 245.83 ms, jitter = 245.83 ms  Δc=+26  c=11110  v= 0.102, len(dir_log)=12500\n"
     ]
    },
    {
     "ename": "UnboundLocalError",
     "evalue": "cannot access local variable 'x_pad' where it is not associated with a value",
     "output_type": "error",
     "traceback": [
      "\u001b[1;31m---------------------------------------------------------------------------\u001b[0m",
      "\u001b[1;31mUnboundLocalError\u001b[0m                         Traceback (most recent call last)",
      "Cell \u001b[1;32mIn[5], line 316\u001b[0m, in \u001b[0;36mstart_gui.<locals>.refresh\u001b[1;34m()\u001b[0m\n\u001b[0;32m    314\u001b[0m curve_cnt\u001b[38;5;241m.\u001b[39msetData(xs_cnt, y_cnt)\n\u001b[0;32m    315\u001b[0m curve_vel\u001b[38;5;241m.\u001b[39msetData(xs_vel, y_vel)\n\u001b[1;32m--> 316\u001b[0m curve_comvel\u001b[38;5;241m.\u001b[39msetData(\u001b[43mx_pad\u001b[49m, y_pad)\n",
      "\u001b[1;31mUnboundLocalError\u001b[0m: cannot access local variable 'x_pad' where it is not associated with a value"
     ]
    },
    {
     "name": "stdout",
     "output_type": "stream",
     "text": [
      "EPOCH = 951985.525589, wall =  88.91 ms, jitter =  88.91 ms  Δc=+25  c=11135  v= 0.098, len(dir_log)=12500\n",
      "EPOCH = 951985.666870, wall = 141.28 ms, jitter = 141.28 ms  Δc=+26  c=11161  v= 0.102, len(dir_log)=12500\n"
     ]
    },
    {
     "ename": "UnboundLocalError",
     "evalue": "cannot access local variable 'x_pad' where it is not associated with a value",
     "output_type": "error",
     "traceback": [
      "\u001b[1;31m---------------------------------------------------------------------------\u001b[0m",
      "\u001b[1;31mUnboundLocalError\u001b[0m                         Traceback (most recent call last)",
      "Cell \u001b[1;32mIn[5], line 316\u001b[0m, in \u001b[0;36mstart_gui.<locals>.refresh\u001b[1;34m()\u001b[0m\n\u001b[0;32m    314\u001b[0m curve_cnt\u001b[38;5;241m.\u001b[39msetData(xs_cnt, y_cnt)\n\u001b[0;32m    315\u001b[0m curve_vel\u001b[38;5;241m.\u001b[39msetData(xs_vel, y_vel)\n\u001b[1;32m--> 316\u001b[0m curve_comvel\u001b[38;5;241m.\u001b[39msetData(\u001b[43mx_pad\u001b[49m, y_pad)\n",
      "\u001b[1;31mUnboundLocalError\u001b[0m: cannot access local variable 'x_pad' where it is not associated with a value"
     ]
    },
    {
     "name": "stdout",
     "output_type": "stream",
     "text": [
      "EPOCH = 951985.966602, wall = 299.73 ms, jitter = 299.73 ms  Δc=+26  c=11187  v= 0.102, len(dir_log)=12500\n",
      "EPOCH = 951986.105932, wall = 139.33 ms, jitter = 139.33 ms  Δc=+25  c=11212  v= 0.098, len(dir_log)=12500\n"
     ]
    },
    {
     "ename": "UnboundLocalError",
     "evalue": "cannot access local variable 'x_pad' where it is not associated with a value",
     "output_type": "error",
     "traceback": [
      "\u001b[1;31m---------------------------------------------------------------------------\u001b[0m",
      "\u001b[1;31mUnboundLocalError\u001b[0m                         Traceback (most recent call last)",
      "Cell \u001b[1;32mIn[5], line 316\u001b[0m, in \u001b[0;36mstart_gui.<locals>.refresh\u001b[1;34m()\u001b[0m\n\u001b[0;32m    314\u001b[0m curve_cnt\u001b[38;5;241m.\u001b[39msetData(xs_cnt, y_cnt)\n\u001b[0;32m    315\u001b[0m curve_vel\u001b[38;5;241m.\u001b[39msetData(xs_vel, y_vel)\n\u001b[1;32m--> 316\u001b[0m curve_comvel\u001b[38;5;241m.\u001b[39msetData(\u001b[43mx_pad\u001b[49m, y_pad)\n",
      "\u001b[1;31mUnboundLocalError\u001b[0m: cannot access local variable 'x_pad' where it is not associated with a value"
     ]
    },
    {
     "name": "stdout",
     "output_type": "stream",
     "text": [
      "EPOCH = 951986.336018, wall = 230.09 ms, jitter = 230.09 ms  Δc=+26  c=11238  v= 0.102, len(dir_log)=12500\n",
      "EPOCH = 951986.431391, wall =  95.37 ms, jitter =  95.37 ms  Δc=+25  c=11263  v= 0.098, len(dir_log)=12500\n",
      "EPOCH = 951986.712189, wall = 280.80 ms, jitter = 280.80 ms  Δc=+26  c=11289  v= 0.102, len(dir_log)=12500\n"
     ]
    },
    {
     "ename": "UnboundLocalError",
     "evalue": "cannot access local variable 'x_pad' where it is not associated with a value",
     "output_type": "error",
     "traceback": [
      "\u001b[1;31m---------------------------------------------------------------------------\u001b[0m",
      "\u001b[1;31mUnboundLocalError\u001b[0m                         Traceback (most recent call last)",
      "Cell \u001b[1;32mIn[5], line 316\u001b[0m, in \u001b[0;36mstart_gui.<locals>.refresh\u001b[1;34m()\u001b[0m\n\u001b[0;32m    314\u001b[0m curve_cnt\u001b[38;5;241m.\u001b[39msetData(xs_cnt, y_cnt)\n\u001b[0;32m    315\u001b[0m curve_vel\u001b[38;5;241m.\u001b[39msetData(xs_vel, y_vel)\n\u001b[1;32m--> 316\u001b[0m curve_comvel\u001b[38;5;241m.\u001b[39msetData(\u001b[43mx_pad\u001b[49m, y_pad)\n",
      "\u001b[1;31mUnboundLocalError\u001b[0m: cannot access local variable 'x_pad' where it is not associated with a value"
     ]
    },
    {
     "name": "stdout",
     "output_type": "stream",
     "text": [
      "EPOCH = 951986.775728, wall =  63.54 ms, jitter =  63.54 ms  Δc=+26  c=11315  v= 0.102, len(dir_log)=12500\n",
      "EPOCH = 951986.914684, wall = 138.96 ms, jitter = 138.96 ms  Δc=+25  c=11340  v= 0.098, len(dir_log)=12500\n",
      "EPOCH = 951987.059428, wall = 144.74 ms, jitter = 144.74 ms  Δc=+26  c=11366  v= 0.102, len(dir_log)=12500\n",
      "EPOCH = 951987.296410, wall = 236.98 ms, jitter = 236.98 ms  Δc=+25  c=11391  v= 0.098, len(dir_log)=12500\n"
     ]
    },
    {
     "ename": "UnboundLocalError",
     "evalue": "cannot access local variable 'x_pad' where it is not associated with a value",
     "output_type": "error",
     "traceback": [
      "\u001b[1;31m---------------------------------------------------------------------------\u001b[0m",
      "\u001b[1;31mUnboundLocalError\u001b[0m                         Traceback (most recent call last)",
      "Cell \u001b[1;32mIn[5], line 316\u001b[0m, in \u001b[0;36mstart_gui.<locals>.refresh\u001b[1;34m()\u001b[0m\n\u001b[0;32m    314\u001b[0m curve_cnt\u001b[38;5;241m.\u001b[39msetData(xs_cnt, y_cnt)\n\u001b[0;32m    315\u001b[0m curve_vel\u001b[38;5;241m.\u001b[39msetData(xs_vel, y_vel)\n\u001b[1;32m--> 316\u001b[0m curve_comvel\u001b[38;5;241m.\u001b[39msetData(\u001b[43mx_pad\u001b[49m, y_pad)\n",
      "\u001b[1;31mUnboundLocalError\u001b[0m: cannot access local variable 'x_pad' where it is not associated with a value"
     ]
    },
    {
     "name": "stdout",
     "output_type": "stream",
     "text": [
      "EPOCH = 951987.530256, wall = 233.85 ms, jitter = 233.85 ms  Δc=+26  c=11417  v= 0.102, len(dir_log)=12500\n",
      "EPOCH = 951987.674702, wall = 144.45 ms, jitter = 144.45 ms  Δc=+26  c=11443  v= 0.102, len(dir_log)=12500\n",
      "EPOCH = 951987.841901, wall = 167.20 ms, jitter = 167.20 ms  Δc=+25  c=11468  v= 0.098, len(dir_log)=12500\n",
      "EPOCH = 951988.039058, wall = 197.16 ms, jitter = 197.16 ms  Δc=+26  c=11494  v= 0.102, len(dir_log)=12500\n",
      "EPOCH = 951988.172839, wall = 133.78 ms, jitter = 133.78 ms  Δc=+25  c=11519  v= 0.098, len(dir_log)=12500\n"
     ]
    },
    {
     "ename": "UnboundLocalError",
     "evalue": "cannot access local variable 'x_pad' where it is not associated with a value",
     "output_type": "error",
     "traceback": [
      "\u001b[1;31m---------------------------------------------------------------------------\u001b[0m",
      "\u001b[1;31mUnboundLocalError\u001b[0m                         Traceback (most recent call last)",
      "Cell \u001b[1;32mIn[5], line 316\u001b[0m, in \u001b[0;36mstart_gui.<locals>.refresh\u001b[1;34m()\u001b[0m\n\u001b[0;32m    314\u001b[0m curve_cnt\u001b[38;5;241m.\u001b[39msetData(xs_cnt, y_cnt)\n\u001b[0;32m    315\u001b[0m curve_vel\u001b[38;5;241m.\u001b[39msetData(xs_vel, y_vel)\n\u001b[1;32m--> 316\u001b[0m curve_comvel\u001b[38;5;241m.\u001b[39msetData(\u001b[43mx_pad\u001b[49m, y_pad)\n",
      "\u001b[1;31mUnboundLocalError\u001b[0m: cannot access local variable 'x_pad' where it is not associated with a value"
     ]
    },
    {
     "name": "stdout",
     "output_type": "stream",
     "text": [
      "EPOCH = 951988.384399, wall = 211.56 ms, jitter = 211.56 ms  Δc=+26  c=11545  v= 0.102, len(dir_log)=12500\n",
      "EPOCH = 951988.547853, wall = 163.45 ms, jitter = 163.45 ms  Δc=+26  c=11571  v= 0.102, len(dir_log)=12500\n",
      "EPOCH = 951988.654706, wall = 106.85 ms, jitter = 106.85 ms  Δc=+25  c=11596  v= 0.098, len(dir_log)=12500\n",
      "EPOCH = 951988.780199, wall = 125.49 ms, jitter = 125.49 ms  Δc=+26  c=11622  v= 0.102, len(dir_log)=12500\n"
     ]
    },
    {
     "ename": "UnboundLocalError",
     "evalue": "cannot access local variable 'x_pad' where it is not associated with a value",
     "output_type": "error",
     "traceback": [
      "\u001b[1;31m---------------------------------------------------------------------------\u001b[0m",
      "\u001b[1;31mUnboundLocalError\u001b[0m                         Traceback (most recent call last)",
      "Cell \u001b[1;32mIn[5], line 316\u001b[0m, in \u001b[0;36mstart_gui.<locals>.refresh\u001b[1;34m()\u001b[0m\n\u001b[0;32m    314\u001b[0m curve_cnt\u001b[38;5;241m.\u001b[39msetData(xs_cnt, y_cnt)\n\u001b[0;32m    315\u001b[0m curve_vel\u001b[38;5;241m.\u001b[39msetData(xs_vel, y_vel)\n\u001b[1;32m--> 316\u001b[0m curve_comvel\u001b[38;5;241m.\u001b[39msetData(\u001b[43mx_pad\u001b[49m, y_pad)\n",
      "\u001b[1;31mUnboundLocalError\u001b[0m: cannot access local variable 'x_pad' where it is not associated with a value"
     ]
    },
    {
     "name": "stdout",
     "output_type": "stream",
     "text": [
      "EPOCH = 951989.050437, wall = 270.24 ms, jitter = 270.24 ms  Δc=+25  c=11647  v= 0.098, len(dir_log)=12500\n",
      "EPOCH = 951989.143603, wall =  93.17 ms, jitter =  93.17 ms  Δc=+26  c=11673  v= 0.102, len(dir_log)=12500\n"
     ]
    },
    {
     "ename": "UnboundLocalError",
     "evalue": "cannot access local variable 'x_pad' where it is not associated with a value",
     "output_type": "error",
     "traceback": [
      "\u001b[1;31m---------------------------------------------------------------------------\u001b[0m",
      "\u001b[1;31mUnboundLocalError\u001b[0m                         Traceback (most recent call last)",
      "Cell \u001b[1;32mIn[5], line 316\u001b[0m, in \u001b[0;36mstart_gui.<locals>.refresh\u001b[1;34m()\u001b[0m\n\u001b[0;32m    314\u001b[0m curve_cnt\u001b[38;5;241m.\u001b[39msetData(xs_cnt, y_cnt)\n\u001b[0;32m    315\u001b[0m curve_vel\u001b[38;5;241m.\u001b[39msetData(xs_vel, y_vel)\n\u001b[1;32m--> 316\u001b[0m curve_comvel\u001b[38;5;241m.\u001b[39msetData(\u001b[43mx_pad\u001b[49m, y_pad)\n",
      "\u001b[1;31mUnboundLocalError\u001b[0m: cannot access local variable 'x_pad' where it is not associated with a value"
     ]
    },
    {
     "name": "stdout",
     "output_type": "stream",
     "text": [
      "EPOCH = 951989.441728, wall = 298.12 ms, jitter = 298.12 ms  Δc=+26  c=11699  v= 0.102, len(dir_log)=12500\n",
      "EPOCH = 951989.540411, wall =  98.68 ms, jitter =  98.68 ms  Δc=+25  c=11724  v= 0.098, len(dir_log)=12500\n",
      "EPOCH = 951989.642878, wall = 102.47 ms, jitter = 102.47 ms  Δc=+26  c=11750  v= 0.102, len(dir_log)=12500\n",
      "EPOCH = 951989.767550, wall = 124.67 ms, jitter = 124.67 ms  Δc=+25  c=11775  v= 0.098, len(dir_log)=12500\n"
     ]
    },
    {
     "ename": "UnboundLocalError",
     "evalue": "cannot access local variable 'x_pad' where it is not associated with a value",
     "output_type": "error",
     "traceback": [
      "\u001b[1;31m---------------------------------------------------------------------------\u001b[0m",
      "\u001b[1;31mUnboundLocalError\u001b[0m                         Traceback (most recent call last)",
      "Cell \u001b[1;32mIn[5], line 316\u001b[0m, in \u001b[0;36mstart_gui.<locals>.refresh\u001b[1;34m()\u001b[0m\n\u001b[0;32m    314\u001b[0m curve_cnt\u001b[38;5;241m.\u001b[39msetData(xs_cnt, y_cnt)\n\u001b[0;32m    315\u001b[0m curve_vel\u001b[38;5;241m.\u001b[39msetData(xs_vel, y_vel)\n\u001b[1;32m--> 316\u001b[0m curve_comvel\u001b[38;5;241m.\u001b[39msetData(\u001b[43mx_pad\u001b[49m, y_pad)\n",
      "\u001b[1;31mUnboundLocalError\u001b[0m: cannot access local variable 'x_pad' where it is not associated with a value"
     ]
    },
    {
     "name": "stdout",
     "output_type": "stream",
     "text": [
      "EPOCH = 951990.024156, wall = 256.61 ms, jitter = 256.61 ms  Δc=+26  c=11801  v= 0.102, len(dir_log)=12500\n",
      "EPOCH = 951990.136568, wall = 112.41 ms, jitter = 112.41 ms  Δc=+26  c=11827  v= 0.102, len(dir_log)=12500\n",
      "EPOCH = 951990.272048, wall = 135.48 ms, jitter = 135.48 ms  Δc=+25  c=11852  v= 0.098, len(dir_log)=12500\n",
      "EPOCH = 951990.397794, wall = 125.75 ms, jitter = 125.75 ms  Δc=+26  c=11878  v= 0.102, len(dir_log)=12500\n"
     ]
    },
    {
     "ename": "UnboundLocalError",
     "evalue": "cannot access local variable 'x_pad' where it is not associated with a value",
     "output_type": "error",
     "traceback": [
      "\u001b[1;31m---------------------------------------------------------------------------\u001b[0m",
      "\u001b[1;31mUnboundLocalError\u001b[0m                         Traceback (most recent call last)",
      "Cell \u001b[1;32mIn[5], line 316\u001b[0m, in \u001b[0;36mstart_gui.<locals>.refresh\u001b[1;34m()\u001b[0m\n\u001b[0;32m    314\u001b[0m curve_cnt\u001b[38;5;241m.\u001b[39msetData(xs_cnt, y_cnt)\n\u001b[0;32m    315\u001b[0m curve_vel\u001b[38;5;241m.\u001b[39msetData(xs_vel, y_vel)\n\u001b[1;32m--> 316\u001b[0m curve_comvel\u001b[38;5;241m.\u001b[39msetData(\u001b[43mx_pad\u001b[49m, y_pad)\n",
      "\u001b[1;31mUnboundLocalError\u001b[0m: cannot access local variable 'x_pad' where it is not associated with a value"
     ]
    },
    {
     "name": "stdout",
     "output_type": "stream",
     "text": [
      "EPOCH = 951990.647385, wall = 249.59 ms, jitter = 249.59 ms  Δc=+25  c=11903  v= 0.098, len(dir_log)=12500\n",
      "EPOCH = 951990.755560, wall = 108.17 ms, jitter = 108.17 ms  Δc=+26  c=11929  v= 0.102, len(dir_log)=12500\n",
      "EPOCH = 951991.067811, wall = 312.25 ms, jitter = 312.25 ms  Δc=+26  c=11955  v= 0.102, len(dir_log)=12500\n",
      "EPOCH = 951991.144010, wall =  76.20 ms, jitter =  76.20 ms  Δc=+25  c=11980  v= 0.098, len(dir_log)=12500\n",
      "EPOCH = 951991.413058, wall = 269.05 ms, jitter = 269.05 ms  Δc=+26  c=12006  v= 0.102, len(dir_log)=12500\n",
      "EPOCH = 951991.551292, wall = 138.23 ms, jitter = 138.23 ms  Δc=+25  c=12031  v= 0.098, len(dir_log)=12500\n",
      "EPOCH = 951991.687238, wall = 135.95 ms, jitter = 135.95 ms  Δc=+26  c=12057  v= 0.102, len(dir_log)=12500\n",
      "EPOCH = 951991.810049, wall = 122.81 ms, jitter = 122.81 ms  Δc=+26  c=12083  v= 0.102, len(dir_log)=12500\n",
      "EPOCH = 951991.897972, wall =  87.92 ms, jitter =  87.92 ms  Δc=+25  c=12108  v= 0.098, len(dir_log)=12500\n"
     ]
    },
    {
     "ename": "UnboundLocalError",
     "evalue": "cannot access local variable 'x_pad' where it is not associated with a value",
     "output_type": "error",
     "traceback": [
      "\u001b[1;31m---------------------------------------------------------------------------\u001b[0m",
      "\u001b[1;31mUnboundLocalError\u001b[0m                         Traceback (most recent call last)",
      "Cell \u001b[1;32mIn[5], line 316\u001b[0m, in \u001b[0;36mstart_gui.<locals>.refresh\u001b[1;34m()\u001b[0m\n\u001b[0;32m    314\u001b[0m curve_cnt\u001b[38;5;241m.\u001b[39msetData(xs_cnt, y_cnt)\n\u001b[0;32m    315\u001b[0m curve_vel\u001b[38;5;241m.\u001b[39msetData(xs_vel, y_vel)\n\u001b[1;32m--> 316\u001b[0m curve_comvel\u001b[38;5;241m.\u001b[39msetData(\u001b[43mx_pad\u001b[49m, y_pad)\n",
      "\u001b[1;31mUnboundLocalError\u001b[0m: cannot access local variable 'x_pad' where it is not associated with a value"
     ]
    },
    {
     "name": "stdout",
     "output_type": "stream",
     "text": [
      "EPOCH = 951992.147739, wall = 249.77 ms, jitter = 249.77 ms  Δc=+26  c=12134  v= 0.102, len(dir_log)=12500\n",
      "EPOCH = 951992.259636, wall = 111.90 ms, jitter = 111.90 ms  Δc=+25  c=12159  v= 0.098, len(dir_log)=12500\n",
      "EPOCH = 951992.402154, wall = 142.52 ms, jitter = 142.52 ms  Δc=+26  c=12185  v= 0.102, len(dir_log)=12500\n"
     ]
    },
    {
     "ename": "UnboundLocalError",
     "evalue": "cannot access local variable 'x_pad' where it is not associated with a value",
     "output_type": "error",
     "traceback": [
      "\u001b[1;31m---------------------------------------------------------------------------\u001b[0m",
      "\u001b[1;31mUnboundLocalError\u001b[0m                         Traceback (most recent call last)",
      "Cell \u001b[1;32mIn[5], line 316\u001b[0m, in \u001b[0;36mstart_gui.<locals>.refresh\u001b[1;34m()\u001b[0m\n\u001b[0;32m    314\u001b[0m curve_cnt\u001b[38;5;241m.\u001b[39msetData(xs_cnt, y_cnt)\n\u001b[0;32m    315\u001b[0m curve_vel\u001b[38;5;241m.\u001b[39msetData(xs_vel, y_vel)\n\u001b[1;32m--> 316\u001b[0m curve_comvel\u001b[38;5;241m.\u001b[39msetData(\u001b[43mx_pad\u001b[49m, y_pad)\n",
      "\u001b[1;31mUnboundLocalError\u001b[0m: cannot access local variable 'x_pad' where it is not associated with a value"
     ]
    },
    {
     "name": "stdout",
     "output_type": "stream",
     "text": [
      "EPOCH = 951992.662396, wall = 260.24 ms, jitter = 260.24 ms  Δc=+26  c=12211  v= 0.102, len(dir_log)=12500\n",
      "EPOCH = 951992.772440, wall = 110.04 ms, jitter = 110.04 ms  Δc=+25  c=12236  v= 0.098, len(dir_log)=12500\n",
      "EPOCH = 951993.011565, wall = 239.12 ms, jitter = 239.12 ms  Δc=+26  c=12262  v= 0.102, len(dir_log)=12500\n",
      "EPOCH = 951993.149179, wall = 137.61 ms, jitter = 137.61 ms  Δc=+25  c=12287  v= 0.098, len(dir_log)=12500\n",
      "EPOCH = 951993.278324, wall = 129.15 ms, jitter = 129.15 ms  Δc=+26  c=12313  v= 0.102, len(dir_log)=12500\n",
      "EPOCH = 951993.391191, wall = 112.87 ms, jitter = 112.87 ms  Δc=+26  c=12339  v= 0.102, len(dir_log)=12500\n"
     ]
    },
    {
     "ename": "UnboundLocalError",
     "evalue": "cannot access local variable 'x_pad' where it is not associated with a value",
     "output_type": "error",
     "traceback": [
      "\u001b[1;31m---------------------------------------------------------------------------\u001b[0m",
      "\u001b[1;31mUnboundLocalError\u001b[0m                         Traceback (most recent call last)",
      "Cell \u001b[1;32mIn[5], line 316\u001b[0m, in \u001b[0;36mstart_gui.<locals>.refresh\u001b[1;34m()\u001b[0m\n\u001b[0;32m    314\u001b[0m curve_cnt\u001b[38;5;241m.\u001b[39msetData(xs_cnt, y_cnt)\n\u001b[0;32m    315\u001b[0m curve_vel\u001b[38;5;241m.\u001b[39msetData(xs_vel, y_vel)\n\u001b[1;32m--> 316\u001b[0m curve_comvel\u001b[38;5;241m.\u001b[39msetData(\u001b[43mx_pad\u001b[49m, y_pad)\n",
      "\u001b[1;31mUnboundLocalError\u001b[0m: cannot access local variable 'x_pad' where it is not associated with a value"
     ]
    },
    {
     "name": "stdout",
     "output_type": "stream",
     "text": [
      "EPOCH = 951993.694972, wall = 303.78 ms, jitter = 303.78 ms  Δc=+25  c=12364  v= 0.098, len(dir_log)=12500\n",
      "EPOCH = 951993.805315, wall = 110.34 ms, jitter = 110.34 ms  Δc=+26  c=12390  v= 0.102, len(dir_log)=12500\n",
      "EPOCH = 951993.915091, wall = 109.78 ms, jitter = 109.78 ms  Δc=+25  c=12415  v= 0.098, len(dir_log)=12500\n",
      "EPOCH = 951994.070680, wall = 155.59 ms, jitter = 155.59 ms  Δc=+26  c=12441  v= 0.102, len(dir_log)=12500\n"
     ]
    },
    {
     "ename": "UnboundLocalError",
     "evalue": "cannot access local variable 'x_pad' where it is not associated with a value",
     "output_type": "error",
     "traceback": [
      "\u001b[1;31m---------------------------------------------------------------------------\u001b[0m",
      "\u001b[1;31mUnboundLocalError\u001b[0m                         Traceback (most recent call last)",
      "Cell \u001b[1;32mIn[5], line 316\u001b[0m, in \u001b[0;36mstart_gui.<locals>.refresh\u001b[1;34m()\u001b[0m\n\u001b[0;32m    314\u001b[0m curve_cnt\u001b[38;5;241m.\u001b[39msetData(xs_cnt, y_cnt)\n\u001b[0;32m    315\u001b[0m curve_vel\u001b[38;5;241m.\u001b[39msetData(xs_vel, y_vel)\n\u001b[1;32m--> 316\u001b[0m curve_comvel\u001b[38;5;241m.\u001b[39msetData(\u001b[43mx_pad\u001b[49m, y_pad)\n",
      "\u001b[1;31mUnboundLocalError\u001b[0m: cannot access local variable 'x_pad' where it is not associated with a value"
     ]
    },
    {
     "name": "stdout",
     "output_type": "stream",
     "text": [
      "EPOCH = 951994.314323, wall = 243.64 ms, jitter = 243.64 ms  Δc=+26  c=12467  v= 0.102, len(dir_log)=12500\n",
      "EPOCH = 951994.388401, wall =  74.08 ms, jitter =  74.08 ms  Δc=+25  c=12492  v= 0.098, len(dir_log)=12500\n",
      "EPOCH = 951994.524356, wall = 135.96 ms, jitter = 135.96 ms  Δc=+26  c=12518  v= 0.102, len(dir_log)=12500\n",
      "EPOCH = 951994.797972, wall = 273.62 ms, jitter = 273.62 ms  Δc=+25  c=12543  v= 0.098, len(dir_log)=12500\n",
      "EPOCH = 951994.936401, wall = 138.43 ms, jitter = 138.43 ms  Δc=+26  c=12569  v= 0.102, len(dir_log)=12500\n",
      "EPOCH = 951995.016883, wall =  80.48 ms, jitter =  80.48 ms  Δc=+26  c=12595  v= 0.102, len(dir_log)=12500\n"
     ]
    },
    {
     "ename": "UnboundLocalError",
     "evalue": "cannot access local variable 'x_pad' where it is not associated with a value",
     "output_type": "error",
     "traceback": [
      "\u001b[1;31m---------------------------------------------------------------------------\u001b[0m",
      "\u001b[1;31mUnboundLocalError\u001b[0m                         Traceback (most recent call last)",
      "Cell \u001b[1;32mIn[5], line 316\u001b[0m, in \u001b[0;36mstart_gui.<locals>.refresh\u001b[1;34m()\u001b[0m\n\u001b[0;32m    314\u001b[0m curve_cnt\u001b[38;5;241m.\u001b[39msetData(xs_cnt, y_cnt)\n\u001b[0;32m    315\u001b[0m curve_vel\u001b[38;5;241m.\u001b[39msetData(xs_vel, y_vel)\n\u001b[1;32m--> 316\u001b[0m curve_comvel\u001b[38;5;241m.\u001b[39msetData(\u001b[43mx_pad\u001b[49m, y_pad)\n",
      "\u001b[1;31mUnboundLocalError\u001b[0m: cannot access local variable 'x_pad' where it is not associated with a value"
     ]
    },
    {
     "name": "stdout",
     "output_type": "stream",
     "text": [
      "EPOCH = 951995.311675, wall = 294.79 ms, jitter = 294.79 ms  Δc=+25  c=12620  v= 0.098, len(dir_log)=12500\n",
      "EPOCH = 951995.409421, wall =  97.75 ms, jitter =  97.75 ms  Δc=+26  c=12646  v= 0.102, len(dir_log)=12500\n",
      "EPOCH = 951995.544821, wall = 135.40 ms, jitter = 135.40 ms  Δc=+25  c=12671  v= 0.098, len(dir_log)=12500\n"
     ]
    },
    {
     "ename": "UnboundLocalError",
     "evalue": "cannot access local variable 'x_pad' where it is not associated with a value",
     "output_type": "error",
     "traceback": [
      "\u001b[1;31m---------------------------------------------------------------------------\u001b[0m",
      "\u001b[1;31mUnboundLocalError\u001b[0m                         Traceback (most recent call last)",
      "Cell \u001b[1;32mIn[5], line 316\u001b[0m, in \u001b[0;36mstart_gui.<locals>.refresh\u001b[1;34m()\u001b[0m\n\u001b[0;32m    314\u001b[0m curve_cnt\u001b[38;5;241m.\u001b[39msetData(xs_cnt, y_cnt)\n\u001b[0;32m    315\u001b[0m curve_vel\u001b[38;5;241m.\u001b[39msetData(xs_vel, y_vel)\n\u001b[1;32m--> 316\u001b[0m curve_comvel\u001b[38;5;241m.\u001b[39msetData(\u001b[43mx_pad\u001b[49m, y_pad)\n",
      "\u001b[1;31mUnboundLocalError\u001b[0m: cannot access local variable 'x_pad' where it is not associated with a value"
     ]
    },
    {
     "name": "stdout",
     "output_type": "stream",
     "text": [
      "EPOCH = 951995.790351, wall = 245.53 ms, jitter = 245.53 ms  Δc=+26  c=12697  v= 0.102, len(dir_log)=12500\n",
      "EPOCH = 951995.900022, wall = 109.67 ms, jitter = 109.67 ms  Δc=+26  c=12723  v= 0.102, len(dir_log)=12500\n",
      "EPOCH = 951996.028578, wall = 128.56 ms, jitter = 128.56 ms  Δc=+25  c=12748  v= 0.098, len(dir_log)=12500\n"
     ]
    },
    {
     "ename": "UnboundLocalError",
     "evalue": "cannot access local variable 'x_pad' where it is not associated with a value",
     "output_type": "error",
     "traceback": [
      "\u001b[1;31m---------------------------------------------------------------------------\u001b[0m",
      "\u001b[1;31mUnboundLocalError\u001b[0m                         Traceback (most recent call last)",
      "Cell \u001b[1;32mIn[5], line 316\u001b[0m, in \u001b[0;36mstart_gui.<locals>.refresh\u001b[1;34m()\u001b[0m\n\u001b[0;32m    314\u001b[0m curve_cnt\u001b[38;5;241m.\u001b[39msetData(xs_cnt, y_cnt)\n\u001b[0;32m    315\u001b[0m curve_vel\u001b[38;5;241m.\u001b[39msetData(xs_vel, y_vel)\n\u001b[1;32m--> 316\u001b[0m curve_comvel\u001b[38;5;241m.\u001b[39msetData(\u001b[43mx_pad\u001b[49m, y_pad)\n",
      "\u001b[1;31mUnboundLocalError\u001b[0m: cannot access local variable 'x_pad' where it is not associated with a value"
     ]
    },
    {
     "name": "stdout",
     "output_type": "stream",
     "text": [
      "EPOCH = 951996.332025, wall = 303.45 ms, jitter = 303.45 ms  Δc=+26  c=12774  v= 0.102, len(dir_log)=12500\n",
      "EPOCH = 951996.387006, wall =  54.98 ms, jitter =  54.98 ms  Δc=+25  c=12799  v= 0.098, len(dir_log)=12500\n",
      "EPOCH = 951996.663155, wall = 276.15 ms, jitter = 276.15 ms  Δc=+26  c=12825  v= 0.102, len(dir_log)=12500\n",
      "EPOCH = 951996.775303, wall = 112.15 ms, jitter = 112.15 ms  Δc=+26  c=12851  v= 0.102, len(dir_log)=12500\n",
      "EPOCH = 951996.921999, wall = 146.70 ms, jitter = 146.70 ms  Δc=+25  c=12876  v= 0.098, len(dir_log)=12500\n",
      "EPOCH = 951997.047300, wall = 125.30 ms, jitter = 125.30 ms  Δc=+26  c=12902  v= 0.102, len(dir_log)=12500\n"
     ]
    },
    {
     "ename": "UnboundLocalError",
     "evalue": "cannot access local variable 'x_pad' where it is not associated with a value",
     "output_type": "error",
     "traceback": [
      "\u001b[1;31m---------------------------------------------------------------------------\u001b[0m",
      "\u001b[1;31mUnboundLocalError\u001b[0m                         Traceback (most recent call last)",
      "Cell \u001b[1;32mIn[5], line 316\u001b[0m, in \u001b[0;36mstart_gui.<locals>.refresh\u001b[1;34m()\u001b[0m\n\u001b[0;32m    314\u001b[0m curve_cnt\u001b[38;5;241m.\u001b[39msetData(xs_cnt, y_cnt)\n\u001b[0;32m    315\u001b[0m curve_vel\u001b[38;5;241m.\u001b[39msetData(xs_vel, y_vel)\n\u001b[1;32m--> 316\u001b[0m curve_comvel\u001b[38;5;241m.\u001b[39msetData(\u001b[43mx_pad\u001b[49m, y_pad)\n",
      "\u001b[1;31mUnboundLocalError\u001b[0m: cannot access local variable 'x_pad' where it is not associated with a value"
     ]
    },
    {
     "name": "stdout",
     "output_type": "stream",
     "text": [
      "EPOCH = 951997.262799, wall = 215.50 ms, jitter = 215.50 ms  Δc=+25  c=12927  v= 0.098, len(dir_log)=12500\n",
      "EPOCH = 951997.391180, wall = 128.38 ms, jitter = 128.38 ms  Δc=+26  c=12953  v= 0.102, len(dir_log)=12500\n",
      "EPOCH = 951997.543164, wall = 151.98 ms, jitter = 151.98 ms  Δc=+26  c=12979  v= 0.102, len(dir_log)=12500\n",
      "EPOCH = 951997.782360, wall = 239.20 ms, jitter = 239.20 ms  Δc=+25  c=13004  v= 0.098, len(dir_log)=12500\n",
      "EPOCH = 951997.918572, wall = 136.21 ms, jitter = 136.21 ms  Δc=+26  c=13030  v= 0.102, len(dir_log)=12500\n",
      "EPOCH = 951998.062465, wall = 143.89 ms, jitter = 143.89 ms  Δc=+25  c=13055  v= 0.098, len(dir_log)=12500\n",
      "EPOCH = 951998.161670, wall =  99.20 ms, jitter =  99.20 ms  Δc=+26  c=13081  v= 0.102, len(dir_log)=12500\n",
      "EPOCH = 951998.267247, wall = 105.58 ms, jitter = 105.58 ms  Δc=+26  c=13107  v= 0.102, len(dir_log)=12500\n"
     ]
    },
    {
     "ename": "UnboundLocalError",
     "evalue": "cannot access local variable 'x_pad' where it is not associated with a value",
     "output_type": "error",
     "traceback": [
      "\u001b[1;31m---------------------------------------------------------------------------\u001b[0m",
      "\u001b[1;31mUnboundLocalError\u001b[0m                         Traceback (most recent call last)",
      "Cell \u001b[1;32mIn[5], line 316\u001b[0m, in \u001b[0;36mstart_gui.<locals>.refresh\u001b[1;34m()\u001b[0m\n\u001b[0;32m    314\u001b[0m curve_cnt\u001b[38;5;241m.\u001b[39msetData(xs_cnt, y_cnt)\n\u001b[0;32m    315\u001b[0m curve_vel\u001b[38;5;241m.\u001b[39msetData(xs_vel, y_vel)\n\u001b[1;32m--> 316\u001b[0m curve_comvel\u001b[38;5;241m.\u001b[39msetData(\u001b[43mx_pad\u001b[49m, y_pad)\n",
      "\u001b[1;31mUnboundLocalError\u001b[0m: cannot access local variable 'x_pad' where it is not associated with a value"
     ]
    },
    {
     "name": "stdout",
     "output_type": "stream",
     "text": [
      "EPOCH = 951998.520118, wall = 252.87 ms, jitter = 252.87 ms  Δc=+25  c=13132  v= 0.098, len(dir_log)=12500\n",
      "EPOCH = 951998.635870, wall = 115.75 ms, jitter = 115.75 ms  Δc=+26  c=13158  v= 0.102, len(dir_log)=12500\n",
      "EPOCH = 951998.782262, wall = 146.39 ms, jitter = 146.39 ms  Δc=+25  c=13183  v= 0.098, len(dir_log)=12500\n"
     ]
    },
    {
     "ename": "UnboundLocalError",
     "evalue": "cannot access local variable 'x_pad' where it is not associated with a value",
     "output_type": "error",
     "traceback": [
      "\u001b[1;31m---------------------------------------------------------------------------\u001b[0m",
      "\u001b[1;31mUnboundLocalError\u001b[0m                         Traceback (most recent call last)",
      "Cell \u001b[1;32mIn[5], line 316\u001b[0m, in \u001b[0;36mstart_gui.<locals>.refresh\u001b[1;34m()\u001b[0m\n\u001b[0;32m    314\u001b[0m curve_cnt\u001b[38;5;241m.\u001b[39msetData(xs_cnt, y_cnt)\n\u001b[0;32m    315\u001b[0m curve_vel\u001b[38;5;241m.\u001b[39msetData(xs_vel, y_vel)\n\u001b[1;32m--> 316\u001b[0m curve_comvel\u001b[38;5;241m.\u001b[39msetData(\u001b[43mx_pad\u001b[49m, y_pad)\n",
      "\u001b[1;31mUnboundLocalError\u001b[0m: cannot access local variable 'x_pad' where it is not associated with a value"
     ]
    },
    {
     "name": "stdout",
     "output_type": "stream",
     "text": [
      "EPOCH = 951999.022808, wall = 240.55 ms, jitter = 240.55 ms  Δc=+26  c=13209  v= 0.102, len(dir_log)=12500\n",
      "EPOCH = 951999.132388, wall = 109.58 ms, jitter = 109.58 ms  Δc=+26  c=13235  v= 0.102, len(dir_log)=12500\n",
      "EPOCH = 951999.269309, wall = 136.92 ms, jitter = 136.92 ms  Δc=+25  c=13260  v= 0.098, len(dir_log)=12500\n"
     ]
    },
    {
     "ename": "UnboundLocalError",
     "evalue": "cannot access local variable 'x_pad' where it is not associated with a value",
     "output_type": "error",
     "traceback": [
      "\u001b[1;31m---------------------------------------------------------------------------\u001b[0m",
      "\u001b[1;31mUnboundLocalError\u001b[0m                         Traceback (most recent call last)",
      "Cell \u001b[1;32mIn[5], line 316\u001b[0m, in \u001b[0;36mstart_gui.<locals>.refresh\u001b[1;34m()\u001b[0m\n\u001b[0;32m    314\u001b[0m curve_cnt\u001b[38;5;241m.\u001b[39msetData(xs_cnt, y_cnt)\n\u001b[0;32m    315\u001b[0m curve_vel\u001b[38;5;241m.\u001b[39msetData(xs_vel, y_vel)\n\u001b[1;32m--> 316\u001b[0m curve_comvel\u001b[38;5;241m.\u001b[39msetData(\u001b[43mx_pad\u001b[49m, y_pad)\n",
      "\u001b[1;31mUnboundLocalError\u001b[0m: cannot access local variable 'x_pad' where it is not associated with a value"
     ]
    },
    {
     "name": "stdout",
     "output_type": "stream",
     "text": [
      "EPOCH = 951999.629295, wall = 359.99 ms, jitter = 359.99 ms  Δc=+26  c=13286  v= 0.102, len(dir_log)=12500\n",
      "EPOCH = 951999.660023, wall =  30.73 ms, jitter =  30.73 ms  Δc=+25  c=13311  v= 0.098, len(dir_log)=12500\n"
     ]
    },
    {
     "ename": "UnboundLocalError",
     "evalue": "cannot access local variable 'x_pad' where it is not associated with a value",
     "output_type": "error",
     "traceback": [
      "\u001b[1;31m---------------------------------------------------------------------------\u001b[0m",
      "\u001b[1;31mUnboundLocalError\u001b[0m                         Traceback (most recent call last)",
      "Cell \u001b[1;32mIn[5], line 316\u001b[0m, in \u001b[0;36mstart_gui.<locals>.refresh\u001b[1;34m()\u001b[0m\n\u001b[0;32m    314\u001b[0m curve_cnt\u001b[38;5;241m.\u001b[39msetData(xs_cnt, y_cnt)\n\u001b[0;32m    315\u001b[0m curve_vel\u001b[38;5;241m.\u001b[39msetData(xs_vel, y_vel)\n\u001b[1;32m--> 316\u001b[0m curve_comvel\u001b[38;5;241m.\u001b[39msetData(\u001b[43mx_pad\u001b[49m, y_pad)\n",
      "\u001b[1;31mUnboundLocalError\u001b[0m: cannot access local variable 'x_pad' where it is not associated with a value"
     ]
    },
    {
     "name": "stdout",
     "output_type": "stream",
     "text": [
      "EPOCH = 951999.914926, wall = 254.90 ms, jitter = 254.90 ms  Δc=+26  c=13337  v= 0.102, len(dir_log)=12500\n",
      "EPOCH = 952000.070790, wall = 155.86 ms, jitter = 155.86 ms  Δc=+26  c=13363  v= 0.102, len(dir_log)=12500\n",
      "EPOCH = 952000.171602, wall = 100.81 ms, jitter = 100.81 ms  Δc=+25  c=13388  v= 0.098, len(dir_log)=12500\n",
      "EPOCH = 952000.278720, wall = 107.12 ms, jitter = 107.12 ms  Δc=+26  c=13414  v= 0.102, len(dir_log)=12500\n",
      "EPOCH = 952000.400969, wall = 122.25 ms, jitter = 122.25 ms  Δc=+25  c=13439  v= 0.098, len(dir_log)=12500\n",
      "EPOCH = 952000.749065, wall = 348.10 ms, jitter = 348.10 ms  Δc=+26  c=13465  v= 0.102, len(dir_log)=12500\n",
      "EPOCH = 952000.899179, wall = 150.11 ms, jitter = 150.11 ms  Δc=+26  c=13491  v= 0.102, len(dir_log)=12500\n",
      "EPOCH = 952001.084371, wall = 185.19 ms, jitter = 185.19 ms  Δc=+25  c=13516  v= 0.098, len(dir_log)=12500\n",
      "EPOCH = 952001.287047, wall = 202.68 ms, jitter = 202.68 ms  Δc=+26  c=13542  v= 0.102, len(dir_log)=12500\n",
      "EPOCH = 952001.415343, wall = 128.30 ms, jitter = 128.30 ms  Δc=+25  c=13567  v= 0.098, len(dir_log)=12500\n",
      "EPOCH = 952001.559571, wall = 144.23 ms, jitter = 144.23 ms  Δc=+26  c=13593  v= 0.102, len(dir_log)=12500\n",
      "EPOCH = 952001.664039, wall = 104.47 ms, jitter = 104.47 ms  Δc=+26  c=13619  v= 0.102, len(dir_log)=12500\n"
     ]
    },
    {
     "ename": "UnboundLocalError",
     "evalue": "cannot access local variable 'x_pad' where it is not associated with a value",
     "output_type": "error",
     "traceback": [
      "\u001b[1;31m---------------------------------------------------------------------------\u001b[0m",
      "\u001b[1;31mUnboundLocalError\u001b[0m                         Traceback (most recent call last)",
      "Cell \u001b[1;32mIn[5], line 316\u001b[0m, in \u001b[0;36mstart_gui.<locals>.refresh\u001b[1;34m()\u001b[0m\n\u001b[0;32m    314\u001b[0m curve_cnt\u001b[38;5;241m.\u001b[39msetData(xs_cnt, y_cnt)\n\u001b[0;32m    315\u001b[0m curve_vel\u001b[38;5;241m.\u001b[39msetData(xs_vel, y_vel)\n\u001b[1;32m--> 316\u001b[0m curve_comvel\u001b[38;5;241m.\u001b[39msetData(\u001b[43mx_pad\u001b[49m, y_pad)\n",
      "\u001b[1;31mUnboundLocalError\u001b[0m: cannot access local variable 'x_pad' where it is not associated with a value"
     ]
    },
    {
     "name": "stdout",
     "output_type": "stream",
     "text": [
      "EPOCH = 952001.909480, wall = 245.44 ms, jitter = 245.44 ms  Δc=+25  c=13644  v= 0.098, len(dir_log)=12500\n",
      "EPOCH = 952002.026839, wall = 117.36 ms, jitter = 117.36 ms  Δc=+26  c=13670  v= 0.102, len(dir_log)=12500\n",
      "EPOCH = 952002.161268, wall = 134.43 ms, jitter = 134.43 ms  Δc=+25  c=13695  v= 0.098, len(dir_log)=12500\n",
      "EPOCH = 952002.310977, wall = 149.71 ms, jitter = 149.71 ms  Δc=+26  c=13721  v= 0.102, len(dir_log)=12500\n",
      "EPOCH = 952002.524082, wall = 213.10 ms, jitter = 213.10 ms  Δc=+26  c=13747  v= 0.102, len(dir_log)=12500\n",
      "EPOCH = 952002.655550, wall = 131.47 ms, jitter = 131.47 ms  Δc=+25  c=13772  v= 0.098, len(dir_log)=12500\n"
     ]
    },
    {
     "ename": "UnboundLocalError",
     "evalue": "cannot access local variable 'x_pad' where it is not associated with a value",
     "output_type": "error",
     "traceback": [
      "\u001b[1;31m---------------------------------------------------------------------------\u001b[0m",
      "\u001b[1;31mUnboundLocalError\u001b[0m                         Traceback (most recent call last)",
      "Cell \u001b[1;32mIn[5], line 316\u001b[0m, in \u001b[0;36mstart_gui.<locals>.refresh\u001b[1;34m()\u001b[0m\n\u001b[0;32m    314\u001b[0m curve_cnt\u001b[38;5;241m.\u001b[39msetData(xs_cnt, y_cnt)\n\u001b[0;32m    315\u001b[0m curve_vel\u001b[38;5;241m.\u001b[39msetData(xs_vel, y_vel)\n\u001b[1;32m--> 316\u001b[0m curve_comvel\u001b[38;5;241m.\u001b[39msetData(\u001b[43mx_pad\u001b[49m, y_pad)\n",
      "\u001b[1;31mUnboundLocalError\u001b[0m: cannot access local variable 'x_pad' where it is not associated with a value"
     ]
    },
    {
     "name": "stdout",
     "output_type": "stream",
     "text": [
      "EPOCH = 952002.789198, wall = 133.65 ms, jitter = 133.65 ms  Δc=+26  c=13798  v= 0.102, len(dir_log)=12500\n"
     ]
    },
    {
     "ename": "UnboundLocalError",
     "evalue": "cannot access local variable 'x_pad' where it is not associated with a value",
     "output_type": "error",
     "traceback": [
      "\u001b[1;31m---------------------------------------------------------------------------\u001b[0m",
      "\u001b[1;31mUnboundLocalError\u001b[0m                         Traceback (most recent call last)",
      "Cell \u001b[1;32mIn[5], line 316\u001b[0m, in \u001b[0;36mstart_gui.<locals>.refresh\u001b[1;34m()\u001b[0m\n\u001b[0;32m    314\u001b[0m curve_cnt\u001b[38;5;241m.\u001b[39msetData(xs_cnt, y_cnt)\n\u001b[0;32m    315\u001b[0m curve_vel\u001b[38;5;241m.\u001b[39msetData(xs_vel, y_vel)\n\u001b[1;32m--> 316\u001b[0m curve_comvel\u001b[38;5;241m.\u001b[39msetData(\u001b[43mx_pad\u001b[49m, y_pad)\n",
      "\u001b[1;31mUnboundLocalError\u001b[0m: cannot access local variable 'x_pad' where it is not associated with a value"
     ]
    },
    {
     "name": "stdout",
     "output_type": "stream",
     "text": [
      "EPOCH = 952003.060492, wall = 271.29 ms, jitter = 271.29 ms  Δc=+25  c=13823  v= 0.098, len(dir_log)=12500\n",
      "EPOCH = 952003.142659, wall =  82.17 ms, jitter =  82.17 ms  Δc=+26  c=13849  v= 0.102, len(dir_log)=12500\n"
     ]
    },
    {
     "ename": "UnboundLocalError",
     "evalue": "cannot access local variable 'x_pad' where it is not associated with a value",
     "output_type": "error",
     "traceback": [
      "\u001b[1;31m---------------------------------------------------------------------------\u001b[0m",
      "\u001b[1;31mUnboundLocalError\u001b[0m                         Traceback (most recent call last)",
      "Cell \u001b[1;32mIn[5], line 316\u001b[0m, in \u001b[0;36mstart_gui.<locals>.refresh\u001b[1;34m()\u001b[0m\n\u001b[0;32m    314\u001b[0m curve_cnt\u001b[38;5;241m.\u001b[39msetData(xs_cnt, y_cnt)\n\u001b[0;32m    315\u001b[0m curve_vel\u001b[38;5;241m.\u001b[39msetData(xs_vel, y_vel)\n\u001b[1;32m--> 316\u001b[0m curve_comvel\u001b[38;5;241m.\u001b[39msetData(\u001b[43mx_pad\u001b[49m, y_pad)\n",
      "\u001b[1;31mUnboundLocalError\u001b[0m: cannot access local variable 'x_pad' where it is not associated with a value"
     ]
    },
    {
     "name": "stdout",
     "output_type": "stream",
     "text": [
      "EPOCH = 952003.396347, wall = 253.69 ms, jitter = 253.69 ms  Δc=+26  c=13875  v= 0.102, len(dir_log)=12500\n",
      "EPOCH = 952003.522442, wall = 126.10 ms, jitter = 126.10 ms  Δc=+25  c=13900  v= 0.098, len(dir_log)=12500\n",
      "EPOCH = 952003.652393, wall = 129.95 ms, jitter = 129.95 ms  Δc=+26  c=13926  v= 0.102, len(dir_log)=12500\n"
     ]
    },
    {
     "ename": "UnboundLocalError",
     "evalue": "cannot access local variable 'x_pad' where it is not associated with a value",
     "output_type": "error",
     "traceback": [
      "\u001b[1;31m---------------------------------------------------------------------------\u001b[0m",
      "\u001b[1;31mUnboundLocalError\u001b[0m                         Traceback (most recent call last)",
      "Cell \u001b[1;32mIn[5], line 316\u001b[0m, in \u001b[0;36mstart_gui.<locals>.refresh\u001b[1;34m()\u001b[0m\n\u001b[0;32m    314\u001b[0m curve_cnt\u001b[38;5;241m.\u001b[39msetData(xs_cnt, y_cnt)\n\u001b[0;32m    315\u001b[0m curve_vel\u001b[38;5;241m.\u001b[39msetData(xs_vel, y_vel)\n\u001b[1;32m--> 316\u001b[0m curve_comvel\u001b[38;5;241m.\u001b[39msetData(\u001b[43mx_pad\u001b[49m, y_pad)\n",
      "\u001b[1;31mUnboundLocalError\u001b[0m: cannot access local variable 'x_pad' where it is not associated with a value"
     ]
    },
    {
     "name": "stdout",
     "output_type": "stream",
     "text": [
      "EPOCH = 952003.913042, wall = 260.65 ms, jitter = 260.65 ms  Δc=+25  c=13951  v= 0.098, len(dir_log)=12500\n",
      "EPOCH = 952004.156444, wall = 243.40 ms, jitter = 243.40 ms  Δc=+26  c=13977  v= 0.102, len(dir_log)=12500\n",
      "EPOCH = 952004.307038, wall = 150.59 ms, jitter = 150.59 ms  Δc=+26  c=14003  v= 0.102, len(dir_log)=12500\n",
      "EPOCH = 952004.389885, wall =  82.85 ms, jitter =  82.85 ms  Δc=+25  c=14028  v= 0.098, len(dir_log)=12500\n"
     ]
    },
    {
     "ename": "UnboundLocalError",
     "evalue": "cannot access local variable 'x_pad' where it is not associated with a value",
     "output_type": "error",
     "traceback": [
      "\u001b[1;31m---------------------------------------------------------------------------\u001b[0m",
      "\u001b[1;31mUnboundLocalError\u001b[0m                         Traceback (most recent call last)",
      "Cell \u001b[1;32mIn[5], line 316\u001b[0m, in \u001b[0;36mstart_gui.<locals>.refresh\u001b[1;34m()\u001b[0m\n\u001b[0;32m    314\u001b[0m curve_cnt\u001b[38;5;241m.\u001b[39msetData(xs_cnt, y_cnt)\n\u001b[0;32m    315\u001b[0m curve_vel\u001b[38;5;241m.\u001b[39msetData(xs_vel, y_vel)\n\u001b[1;32m--> 316\u001b[0m curve_comvel\u001b[38;5;241m.\u001b[39msetData(\u001b[43mx_pad\u001b[49m, y_pad)\n",
      "\u001b[1;31mUnboundLocalError\u001b[0m: cannot access local variable 'x_pad' where it is not associated with a value"
     ]
    },
    {
     "name": "stdout",
     "output_type": "stream",
     "text": [
      "EPOCH = 952004.693748, wall = 303.86 ms, jitter = 303.86 ms  Δc=+26  c=14054  v= 0.102, len(dir_log)=12500\n",
      "EPOCH = 952004.769741, wall =  75.99 ms, jitter =  75.99 ms  Δc=+25  c=14079  v= 0.098, len(dir_log)=12500\n",
      "EPOCH = 952004.890839, wall = 121.10 ms, jitter = 121.10 ms  Δc=+26  c=14105  v= 0.102, len(dir_log)=12500\n",
      "EPOCH = 952005.014219, wall = 123.38 ms, jitter = 123.38 ms  Δc=+26  c=14131  v= 0.102, len(dir_log)=12500\n",
      "EPOCH = 952005.213089, wall = 198.87 ms, jitter = 198.87 ms  Δc=+25  c=14156  v= 0.098, len(dir_log)=12500\n",
      "EPOCH = 952005.384620, wall = 171.53 ms, jitter = 171.53 ms  Δc=+26  c=14182  v= 0.102, len(dir_log)=12500\n"
     ]
    },
    {
     "ename": "UnboundLocalError",
     "evalue": "cannot access local variable 'x_pad' where it is not associated with a value",
     "output_type": "error",
     "traceback": [
      "\u001b[1;31m---------------------------------------------------------------------------\u001b[0m",
      "\u001b[1;31mUnboundLocalError\u001b[0m                         Traceback (most recent call last)",
      "Cell \u001b[1;32mIn[5], line 316\u001b[0m, in \u001b[0;36mstart_gui.<locals>.refresh\u001b[1;34m()\u001b[0m\n\u001b[0;32m    314\u001b[0m curve_cnt\u001b[38;5;241m.\u001b[39msetData(xs_cnt, y_cnt)\n\u001b[0;32m    315\u001b[0m curve_vel\u001b[38;5;241m.\u001b[39msetData(xs_vel, y_vel)\n\u001b[1;32m--> 316\u001b[0m curve_comvel\u001b[38;5;241m.\u001b[39msetData(\u001b[43mx_pad\u001b[49m, y_pad)\n",
      "\u001b[1;31mUnboundLocalError\u001b[0m: cannot access local variable 'x_pad' where it is not associated with a value"
     ]
    },
    {
     "name": "stdout",
     "output_type": "stream",
     "text": [
      "EPOCH = 952005.507861, wall = 123.24 ms, jitter = 123.24 ms  Δc=+25  c=14207  v= 0.098, len(dir_log)=12500\n",
      "EPOCH = 952005.678994, wall = 171.13 ms, jitter = 171.13 ms  Δc=+26  c=14233  v= 0.102, len(dir_log)=12500\n",
      "EPOCH = 952005.818180, wall = 139.19 ms, jitter = 139.19 ms  Δc=+26  c=14259  v= 0.102, len(dir_log)=12500\n"
     ]
    },
    {
     "ename": "UnboundLocalError",
     "evalue": "cannot access local variable 'x_pad' where it is not associated with a value",
     "output_type": "error",
     "traceback": [
      "\u001b[1;31m---------------------------------------------------------------------------\u001b[0m",
      "\u001b[1;31mUnboundLocalError\u001b[0m                         Traceback (most recent call last)",
      "Cell \u001b[1;32mIn[5], line 316\u001b[0m, in \u001b[0;36mstart_gui.<locals>.refresh\u001b[1;34m()\u001b[0m\n\u001b[0;32m    314\u001b[0m curve_cnt\u001b[38;5;241m.\u001b[39msetData(xs_cnt, y_cnt)\n\u001b[0;32m    315\u001b[0m curve_vel\u001b[38;5;241m.\u001b[39msetData(xs_vel, y_vel)\n\u001b[1;32m--> 316\u001b[0m curve_comvel\u001b[38;5;241m.\u001b[39msetData(\u001b[43mx_pad\u001b[49m, y_pad)\n",
      "\u001b[1;31mUnboundLocalError\u001b[0m: cannot access local variable 'x_pad' where it is not associated with a value"
     ]
    },
    {
     "name": "stdout",
     "output_type": "stream",
     "text": [
      "EPOCH = 952006.046203, wall = 228.02 ms, jitter = 228.02 ms  Δc=+25  c=14284  v= 0.098, len(dir_log)=12500\n",
      "EPOCH = 952006.163350, wall = 117.15 ms, jitter = 117.15 ms  Δc=+26  c=14310  v= 0.102, len(dir_log)=12500\n",
      "EPOCH = 952006.274483, wall = 111.13 ms, jitter = 111.13 ms  Δc=+25  c=14335  v= 0.098, len(dir_log)=12500\n"
     ]
    },
    {
     "ename": "UnboundLocalError",
     "evalue": "cannot access local variable 'x_pad' where it is not associated with a value",
     "output_type": "error",
     "traceback": [
      "\u001b[1;31m---------------------------------------------------------------------------\u001b[0m",
      "\u001b[1;31mUnboundLocalError\u001b[0m                         Traceback (most recent call last)",
      "Cell \u001b[1;32mIn[5], line 316\u001b[0m, in \u001b[0;36mstart_gui.<locals>.refresh\u001b[1;34m()\u001b[0m\n\u001b[0;32m    314\u001b[0m curve_cnt\u001b[38;5;241m.\u001b[39msetData(xs_cnt, y_cnt)\n\u001b[0;32m    315\u001b[0m curve_vel\u001b[38;5;241m.\u001b[39msetData(xs_vel, y_vel)\n\u001b[1;32m--> 316\u001b[0m curve_comvel\u001b[38;5;241m.\u001b[39msetData(\u001b[43mx_pad\u001b[49m, y_pad)\n",
      "\u001b[1;31mUnboundLocalError\u001b[0m: cannot access local variable 'x_pad' where it is not associated with a value"
     ]
    },
    {
     "name": "stdout",
     "output_type": "stream",
     "text": [
      "EPOCH = 952006.530169, wall = 255.69 ms, jitter = 255.69 ms  Δc=+26  c=14361  v= 0.102, len(dir_log)=12500\n",
      "EPOCH = 952006.660539, wall = 130.37 ms, jitter = 130.37 ms  Δc=+26  c=14387  v= 0.102, len(dir_log)=12500\n",
      "EPOCH = 952006.793240, wall = 132.70 ms, jitter = 132.70 ms  Δc=+25  c=14412  v= 0.098, len(dir_log)=12500\n",
      "EPOCH = 952006.931633, wall = 138.39 ms, jitter = 138.39 ms  Δc=+26  c=14438  v= 0.102, len(dir_log)=12500\n",
      "EPOCH = 952007.010027, wall =  78.39 ms, jitter =  78.39 ms  Δc=+25  c=14463  v= 0.098, len(dir_log)=12500\n",
      "EPOCH = 952007.264144, wall = 254.12 ms, jitter = 254.12 ms  Δc=+26  c=14489  v= 0.102, len(dir_log)=12500\n"
     ]
    },
    {
     "ename": "UnboundLocalError",
     "evalue": "cannot access local variable 'x_pad' where it is not associated with a value",
     "output_type": "error",
     "traceback": [
      "\u001b[1;31m---------------------------------------------------------------------------\u001b[0m",
      "\u001b[1;31mUnboundLocalError\u001b[0m                         Traceback (most recent call last)",
      "Cell \u001b[1;32mIn[5], line 316\u001b[0m, in \u001b[0;36mstart_gui.<locals>.refresh\u001b[1;34m()\u001b[0m\n\u001b[0;32m    314\u001b[0m curve_cnt\u001b[38;5;241m.\u001b[39msetData(xs_cnt, y_cnt)\n\u001b[0;32m    315\u001b[0m curve_vel\u001b[38;5;241m.\u001b[39msetData(xs_vel, y_vel)\n\u001b[1;32m--> 316\u001b[0m curve_comvel\u001b[38;5;241m.\u001b[39msetData(\u001b[43mx_pad\u001b[49m, y_pad)\n",
      "\u001b[1;31mUnboundLocalError\u001b[0m: cannot access local variable 'x_pad' where it is not associated with a value"
     ]
    },
    {
     "name": "stdout",
     "output_type": "stream",
     "text": [
      "EPOCH = 952007.429874, wall = 165.73 ms, jitter = 165.73 ms  Δc=+26  c=14515  v= 0.102, len(dir_log)=12500\n",
      "EPOCH = 952007.561069, wall = 131.20 ms, jitter = 131.20 ms  Δc=+25  c=14540  v= 0.098, len(dir_log)=12500\n",
      "EPOCH = 952007.765566, wall = 204.50 ms, jitter = 204.50 ms  Δc=+26  c=14566  v= 0.102, len(dir_log)=12500\n"
     ]
    },
    {
     "ename": "UnboundLocalError",
     "evalue": "cannot access local variable 'x_pad' where it is not associated with a value",
     "output_type": "error",
     "traceback": [
      "\u001b[1;31m---------------------------------------------------------------------------\u001b[0m",
      "\u001b[1;31mUnboundLocalError\u001b[0m                         Traceback (most recent call last)",
      "Cell \u001b[1;32mIn[5], line 316\u001b[0m, in \u001b[0;36mstart_gui.<locals>.refresh\u001b[1;34m()\u001b[0m\n\u001b[0;32m    314\u001b[0m curve_cnt\u001b[38;5;241m.\u001b[39msetData(xs_cnt, y_cnt)\n\u001b[0;32m    315\u001b[0m curve_vel\u001b[38;5;241m.\u001b[39msetData(xs_vel, y_vel)\n\u001b[1;32m--> 316\u001b[0m curve_comvel\u001b[38;5;241m.\u001b[39msetData(\u001b[43mx_pad\u001b[49m, y_pad)\n",
      "\u001b[1;31mUnboundLocalError\u001b[0m: cannot access local variable 'x_pad' where it is not associated with a value"
     ]
    },
    {
     "name": "stdout",
     "output_type": "stream",
     "text": [
      "EPOCH = 952007.904918, wall = 139.35 ms, jitter = 139.35 ms  Δc=+25  c=14591  v= 0.098, len(dir_log)=12500\n",
      "EPOCH = 952008.035846, wall = 130.93 ms, jitter = 130.93 ms  Δc=+26  c=14617  v= 0.102, len(dir_log)=12500\n",
      "EPOCH = 952008.141375, wall = 105.53 ms, jitter = 105.53 ms  Δc=+26  c=14643  v= 0.102, len(dir_log)=12500\n",
      "EPOCH = 952008.256554, wall = 115.18 ms, jitter = 115.18 ms  Δc=+25  c=14668  v= 0.098, len(dir_log)=12500\n"
     ]
    },
    {
     "ename": "UnboundLocalError",
     "evalue": "cannot access local variable 'x_pad' where it is not associated with a value",
     "output_type": "error",
     "traceback": [
      "\u001b[1;31m---------------------------------------------------------------------------\u001b[0m",
      "\u001b[1;31mUnboundLocalError\u001b[0m                         Traceback (most recent call last)",
      "Cell \u001b[1;32mIn[5], line 316\u001b[0m, in \u001b[0;36mstart_gui.<locals>.refresh\u001b[1;34m()\u001b[0m\n\u001b[0;32m    314\u001b[0m curve_cnt\u001b[38;5;241m.\u001b[39msetData(xs_cnt, y_cnt)\n\u001b[0;32m    315\u001b[0m curve_vel\u001b[38;5;241m.\u001b[39msetData(xs_vel, y_vel)\n\u001b[1;32m--> 316\u001b[0m curve_comvel\u001b[38;5;241m.\u001b[39msetData(\u001b[43mx_pad\u001b[49m, y_pad)\n",
      "\u001b[1;31mUnboundLocalError\u001b[0m: cannot access local variable 'x_pad' where it is not associated with a value"
     ]
    },
    {
     "name": "stdout",
     "output_type": "stream",
     "text": [
      "EPOCH = 952008.412296, wall = 155.74 ms, jitter = 155.74 ms  Δc=+26  c=14694  v= 0.102, len(dir_log)=12500\n"
     ]
    },
    {
     "ename": "UnboundLocalError",
     "evalue": "cannot access local variable 'x_pad' where it is not associated with a value",
     "output_type": "error",
     "traceback": [
      "\u001b[1;31m---------------------------------------------------------------------------\u001b[0m",
      "\u001b[1;31mUnboundLocalError\u001b[0m                         Traceback (most recent call last)",
      "Cell \u001b[1;32mIn[5], line 316\u001b[0m, in \u001b[0;36mstart_gui.<locals>.refresh\u001b[1;34m()\u001b[0m\n\u001b[0;32m    314\u001b[0m curve_cnt\u001b[38;5;241m.\u001b[39msetData(xs_cnt, y_cnt)\n\u001b[0;32m    315\u001b[0m curve_vel\u001b[38;5;241m.\u001b[39msetData(xs_vel, y_vel)\n\u001b[1;32m--> 316\u001b[0m curve_comvel\u001b[38;5;241m.\u001b[39msetData(\u001b[43mx_pad\u001b[49m, y_pad)\n",
      "\u001b[1;31mUnboundLocalError\u001b[0m: cannot access local variable 'x_pad' where it is not associated with a value"
     ]
    },
    {
     "name": "stdout",
     "output_type": "stream",
     "text": [
      "EPOCH = 952008.673783, wall = 261.49 ms, jitter = 261.49 ms  Δc=+25  c=14719  v= 0.098, len(dir_log)=12500\n",
      "EPOCH = 952008.801166, wall = 127.38 ms, jitter = 127.38 ms  Δc=+26  c=14745  v= 0.102, len(dir_log)=12500\n"
     ]
    },
    {
     "ename": "UnboundLocalError",
     "evalue": "cannot access local variable 'x_pad' where it is not associated with a value",
     "output_type": "error",
     "traceback": [
      "\u001b[1;31m---------------------------------------------------------------------------\u001b[0m",
      "\u001b[1;31mUnboundLocalError\u001b[0m                         Traceback (most recent call last)",
      "Cell \u001b[1;32mIn[5], line 316\u001b[0m, in \u001b[0;36mstart_gui.<locals>.refresh\u001b[1;34m()\u001b[0m\n\u001b[0;32m    314\u001b[0m curve_cnt\u001b[38;5;241m.\u001b[39msetData(xs_cnt, y_cnt)\n\u001b[0;32m    315\u001b[0m curve_vel\u001b[38;5;241m.\u001b[39msetData(xs_vel, y_vel)\n\u001b[1;32m--> 316\u001b[0m curve_comvel\u001b[38;5;241m.\u001b[39msetData(\u001b[43mx_pad\u001b[49m, y_pad)\n",
      "\u001b[1;31mUnboundLocalError\u001b[0m: cannot access local variable 'x_pad' where it is not associated with a value"
     ]
    },
    {
     "name": "stdout",
     "output_type": "stream",
     "text": [
      "EPOCH = 952009.027524, wall = 226.36 ms, jitter = 226.36 ms  Δc=+26  c=14771  v= 0.102, len(dir_log)=12500\n",
      "EPOCH = 952009.140706, wall = 113.18 ms, jitter = 113.18 ms  Δc=+25  c=14796  v= 0.098, len(dir_log)=12500\n",
      "EPOCH = 952009.260530, wall = 119.82 ms, jitter = 119.82 ms  Δc=+26  c=14822  v= 0.102, len(dir_log)=12500\n"
     ]
    },
    {
     "ename": "UnboundLocalError",
     "evalue": "cannot access local variable 'x_pad' where it is not associated with a value",
     "output_type": "error",
     "traceback": [
      "\u001b[1;31m---------------------------------------------------------------------------\u001b[0m",
      "\u001b[1;31mUnboundLocalError\u001b[0m                         Traceback (most recent call last)",
      "Cell \u001b[1;32mIn[5], line 316\u001b[0m, in \u001b[0;36mstart_gui.<locals>.refresh\u001b[1;34m()\u001b[0m\n\u001b[0;32m    314\u001b[0m curve_cnt\u001b[38;5;241m.\u001b[39msetData(xs_cnt, y_cnt)\n\u001b[0;32m    315\u001b[0m curve_vel\u001b[38;5;241m.\u001b[39msetData(xs_vel, y_vel)\n\u001b[1;32m--> 316\u001b[0m curve_comvel\u001b[38;5;241m.\u001b[39msetData(\u001b[43mx_pad\u001b[49m, y_pad)\n",
      "\u001b[1;31mUnboundLocalError\u001b[0m: cannot access local variable 'x_pad' where it is not associated with a value"
     ]
    },
    {
     "name": "stdout",
     "output_type": "stream",
     "text": [
      "EPOCH = 952009.405372, wall = 144.84 ms, jitter = 144.84 ms  Δc=+25  c=14847  v= 0.098, len(dir_log)=12500\n",
      "EPOCH = 952009.518878, wall = 113.51 ms, jitter = 113.51 ms  Δc=+26  c=14873  v= 0.102, len(dir_log)=12500\n",
      "EPOCH = 952009.645026, wall = 126.15 ms, jitter = 126.15 ms  Δc=+26  c=14899  v= 0.102, len(dir_log)=12500\n",
      "EPOCH = 952009.786426, wall = 141.40 ms, jitter = 141.40 ms  Δc=+25  c=14924  v= 0.098, len(dir_log)=12500\n",
      "EPOCH = 952009.894601, wall = 108.18 ms, jitter = 108.18 ms  Δc=+26  c=14950  v= 0.102, len(dir_log)=12500\n",
      "EPOCH = 952010.168799, wall = 274.20 ms, jitter = 274.20 ms  Δc=+25  c=14975  v= 0.098, len(dir_log)=12500\n",
      "EPOCH = 952010.325725, wall = 156.93 ms, jitter = 156.93 ms  Δc=+26  c=15001  v= 0.102, len(dir_log)=12500\n"
     ]
    },
    {
     "ename": "UnboundLocalError",
     "evalue": "cannot access local variable 'x_pad' where it is not associated with a value",
     "output_type": "error",
     "traceback": [
      "\u001b[1;31m---------------------------------------------------------------------------\u001b[0m",
      "\u001b[1;31mUnboundLocalError\u001b[0m                         Traceback (most recent call last)",
      "Cell \u001b[1;32mIn[5], line 316\u001b[0m, in \u001b[0;36mstart_gui.<locals>.refresh\u001b[1;34m()\u001b[0m\n\u001b[0;32m    314\u001b[0m curve_cnt\u001b[38;5;241m.\u001b[39msetData(xs_cnt, y_cnt)\n\u001b[0;32m    315\u001b[0m curve_vel\u001b[38;5;241m.\u001b[39msetData(xs_vel, y_vel)\n\u001b[1;32m--> 316\u001b[0m curve_comvel\u001b[38;5;241m.\u001b[39msetData(\u001b[43mx_pad\u001b[49m, y_pad)\n",
      "\u001b[1;31mUnboundLocalError\u001b[0m: cannot access local variable 'x_pad' where it is not associated with a value"
     ]
    },
    {
     "name": "stdout",
     "output_type": "stream",
     "text": [
      "EPOCH = 952010.572541, wall = 246.82 ms, jitter = 246.82 ms  Δc=+26  c=15027  v= 0.102, len(dir_log)=12500\n",
      "EPOCH = 952010.662580, wall =  90.04 ms, jitter =  90.04 ms  Δc=+25  c=15052  v= 0.098, len(dir_log)=12500\n",
      "EPOCH = 952010.797662, wall = 135.08 ms, jitter = 135.08 ms  Δc=+26  c=15078  v= 0.102, len(dir_log)=12500\n",
      "EPOCH = 952010.924219, wall = 126.56 ms, jitter = 126.56 ms  Δc=+25  c=15103  v= 0.098, len(dir_log)=12500\n",
      "EPOCH = 952011.137097, wall = 212.88 ms, jitter = 212.88 ms  Δc=+26  c=15129  v= 0.102, len(dir_log)=12500\n",
      "EPOCH = 952011.267735, wall = 130.64 ms, jitter = 130.64 ms  Δc=+26  c=15155  v= 0.102, len(dir_log)=12500\n",
      "EPOCH = 952011.395312, wall = 127.58 ms, jitter = 127.58 ms  Δc=+25  c=15180  v= 0.098, len(dir_log)=12500\n"
     ]
    },
    {
     "ename": "UnboundLocalError",
     "evalue": "cannot access local variable 'x_pad' where it is not associated with a value",
     "output_type": "error",
     "traceback": [
      "\u001b[1;31m---------------------------------------------------------------------------\u001b[0m",
      "\u001b[1;31mUnboundLocalError\u001b[0m                         Traceback (most recent call last)",
      "Cell \u001b[1;32mIn[5], line 316\u001b[0m, in \u001b[0;36mstart_gui.<locals>.refresh\u001b[1;34m()\u001b[0m\n\u001b[0;32m    314\u001b[0m curve_cnt\u001b[38;5;241m.\u001b[39msetData(xs_cnt, y_cnt)\n\u001b[0;32m    315\u001b[0m curve_vel\u001b[38;5;241m.\u001b[39msetData(xs_vel, y_vel)\n\u001b[1;32m--> 316\u001b[0m curve_comvel\u001b[38;5;241m.\u001b[39msetData(\u001b[43mx_pad\u001b[49m, y_pad)\n",
      "\u001b[1;31mUnboundLocalError\u001b[0m: cannot access local variable 'x_pad' where it is not associated with a value"
     ]
    },
    {
     "name": "stdout",
     "output_type": "stream",
     "text": [
      "EPOCH = 952011.687865, wall = 292.55 ms, jitter = 292.55 ms  Δc=+26  c=15206  v= 0.102, len(dir_log)=12500\n",
      "EPOCH = 952011.795650, wall = 107.79 ms, jitter = 107.79 ms  Δc=+25  c=15231  v= 0.098, len(dir_log)=12500\n",
      "EPOCH = 952011.913204, wall = 117.55 ms, jitter = 117.55 ms  Δc=+26  c=15257  v= 0.102, len(dir_log)=12500\n",
      "EPOCH = 952012.023686, wall = 110.48 ms, jitter = 110.48 ms  Δc=+26  c=15283  v= 0.102, len(dir_log)=12500\n",
      "EPOCH = 952012.151202, wall = 127.52 ms, jitter = 127.52 ms  Δc=+25  c=15308  v= 0.098, len(dir_log)=12500\n",
      "EPOCH = 952012.285583, wall = 134.38 ms, jitter = 134.38 ms  Δc=+26  c=15334  v= 0.102, len(dir_log)=12500\n"
     ]
    },
    {
     "ename": "UnboundLocalError",
     "evalue": "cannot access local variable 'x_pad' where it is not associated with a value",
     "output_type": "error",
     "traceback": [
      "\u001b[1;31m---------------------------------------------------------------------------\u001b[0m",
      "\u001b[1;31mUnboundLocalError\u001b[0m                         Traceback (most recent call last)",
      "Cell \u001b[1;32mIn[5], line 316\u001b[0m, in \u001b[0;36mstart_gui.<locals>.refresh\u001b[1;34m()\u001b[0m\n\u001b[0;32m    314\u001b[0m curve_cnt\u001b[38;5;241m.\u001b[39msetData(xs_cnt, y_cnt)\n\u001b[0;32m    315\u001b[0m curve_vel\u001b[38;5;241m.\u001b[39msetData(xs_vel, y_vel)\n\u001b[1;32m--> 316\u001b[0m curve_comvel\u001b[38;5;241m.\u001b[39msetData(\u001b[43mx_pad\u001b[49m, y_pad)\n",
      "\u001b[1;31mUnboundLocalError\u001b[0m: cannot access local variable 'x_pad' where it is not associated with a value"
     ]
    },
    {
     "name": "stdout",
     "output_type": "stream",
     "text": [
      "EPOCH = 952012.513836, wall = 228.25 ms, jitter = 228.25 ms  Δc=+25  c=15359  v= 0.098, len(dir_log)=12500\n",
      "EPOCH = 952012.646404, wall = 132.57 ms, jitter = 132.57 ms  Δc=+26  c=15385  v= 0.102, len(dir_log)=12500\n",
      "EPOCH = 952012.784007, wall = 137.60 ms, jitter = 137.60 ms  Δc=+26  c=15411  v= 0.102, len(dir_log)=12500\n",
      "EPOCH = 952012.918629, wall = 134.62 ms, jitter = 134.62 ms  Δc=+25  c=15436  v= 0.098, len(dir_log)=12500\n"
     ]
    },
    {
     "ename": "UnboundLocalError",
     "evalue": "cannot access local variable 'x_pad' where it is not associated with a value",
     "output_type": "error",
     "traceback": [
      "\u001b[1;31m---------------------------------------------------------------------------\u001b[0m",
      "\u001b[1;31mUnboundLocalError\u001b[0m                         Traceback (most recent call last)",
      "Cell \u001b[1;32mIn[5], line 316\u001b[0m, in \u001b[0;36mstart_gui.<locals>.refresh\u001b[1;34m()\u001b[0m\n\u001b[0;32m    314\u001b[0m curve_cnt\u001b[38;5;241m.\u001b[39msetData(xs_cnt, y_cnt)\n\u001b[0;32m    315\u001b[0m curve_vel\u001b[38;5;241m.\u001b[39msetData(xs_vel, y_vel)\n\u001b[1;32m--> 316\u001b[0m curve_comvel\u001b[38;5;241m.\u001b[39msetData(\u001b[43mx_pad\u001b[49m, y_pad)\n",
      "\u001b[1;31mUnboundLocalError\u001b[0m: cannot access local variable 'x_pad' where it is not associated with a value"
     ]
    },
    {
     "name": "stdout",
     "output_type": "stream",
     "text": [
      "EPOCH = 952013.162397, wall = 243.77 ms, jitter = 243.77 ms  Δc=+26  c=15462  v= 0.102, len(dir_log)=12500\n",
      "EPOCH = 952013.277130, wall = 114.73 ms, jitter = 114.73 ms  Δc=+25  c=15487  v= 0.098, len(dir_log)=12500\n",
      "EPOCH = 952013.396930, wall = 119.80 ms, jitter = 119.80 ms  Δc=+26  c=15513  v= 0.102, len(dir_log)=12500\n",
      "EPOCH = 952013.524769, wall = 127.84 ms, jitter = 127.84 ms  Δc=+26  c=15539  v= 0.102, len(dir_log)=12500\n",
      "EPOCH = 952013.657285, wall = 132.52 ms, jitter = 132.52 ms  Δc=+25  c=15564  v= 0.098, len(dir_log)=12500\n"
     ]
    },
    {
     "ename": "UnboundLocalError",
     "evalue": "cannot access local variable 'x_pad' where it is not associated with a value",
     "output_type": "error",
     "traceback": [
      "\u001b[1;31m---------------------------------------------------------------------------\u001b[0m",
      "\u001b[1;31mUnboundLocalError\u001b[0m                         Traceback (most recent call last)",
      "Cell \u001b[1;32mIn[5], line 316\u001b[0m, in \u001b[0;36mstart_gui.<locals>.refresh\u001b[1;34m()\u001b[0m\n\u001b[0;32m    314\u001b[0m curve_cnt\u001b[38;5;241m.\u001b[39msetData(xs_cnt, y_cnt)\n\u001b[0;32m    315\u001b[0m curve_vel\u001b[38;5;241m.\u001b[39msetData(xs_vel, y_vel)\n\u001b[1;32m--> 316\u001b[0m curve_comvel\u001b[38;5;241m.\u001b[39msetData(\u001b[43mx_pad\u001b[49m, y_pad)\n",
      "\u001b[1;31mUnboundLocalError\u001b[0m: cannot access local variable 'x_pad' where it is not associated with a value"
     ]
    },
    {
     "name": "stdout",
     "output_type": "stream",
     "text": [
      "EPOCH = 952013.926811, wall = 269.53 ms, jitter = 269.53 ms  Δc=+26  c=15590  v= 0.102, len(dir_log)=12500\n",
      "EPOCH = 952014.035311, wall = 108.50 ms, jitter = 108.50 ms  Δc=+25  c=15615  v= 0.098, len(dir_log)=12500\n",
      "EPOCH = 952014.151308, wall = 116.00 ms, jitter = 116.00 ms  Δc=+26  c=15641  v= 0.102, len(dir_log)=12500\n"
     ]
    },
    {
     "ename": "UnboundLocalError",
     "evalue": "cannot access local variable 'x_pad' where it is not associated with a value",
     "output_type": "error",
     "traceback": [
      "\u001b[1;31m---------------------------------------------------------------------------\u001b[0m",
      "\u001b[1;31mUnboundLocalError\u001b[0m                         Traceback (most recent call last)",
      "Cell \u001b[1;32mIn[5], line 316\u001b[0m, in \u001b[0;36mstart_gui.<locals>.refresh\u001b[1;34m()\u001b[0m\n\u001b[0;32m    314\u001b[0m curve_cnt\u001b[38;5;241m.\u001b[39msetData(xs_cnt, y_cnt)\n\u001b[0;32m    315\u001b[0m curve_vel\u001b[38;5;241m.\u001b[39msetData(xs_vel, y_vel)\n\u001b[1;32m--> 316\u001b[0m curve_comvel\u001b[38;5;241m.\u001b[39msetData(\u001b[43mx_pad\u001b[49m, y_pad)\n",
      "\u001b[1;31mUnboundLocalError\u001b[0m: cannot access local variable 'x_pad' where it is not associated with a value"
     ]
    },
    {
     "name": "stdout",
     "output_type": "stream",
     "text": [
      "EPOCH = 952014.404928, wall = 253.62 ms, jitter = 253.62 ms  Δc=+26  c=15667  v= 0.102, len(dir_log)=12500\n",
      "EPOCH = 952014.509589, wall = 104.66 ms, jitter = 104.66 ms  Δc=+25  c=15692  v= 0.098, len(dir_log)=12500\n",
      "EPOCH = 952014.645773, wall = 136.18 ms, jitter = 136.18 ms  Δc=+26  c=15718  v= 0.102, len(dir_log)=12500\n",
      "EPOCH = 952014.779018, wall = 133.24 ms, jitter = 133.24 ms  Δc=+25  c=15743  v= 0.098, len(dir_log)=12500\n"
     ]
    },
    {
     "ename": "UnboundLocalError",
     "evalue": "cannot access local variable 'x_pad' where it is not associated with a value",
     "output_type": "error",
     "traceback": [
      "\u001b[1;31m---------------------------------------------------------------------------\u001b[0m",
      "\u001b[1;31mUnboundLocalError\u001b[0m                         Traceback (most recent call last)",
      "Cell \u001b[1;32mIn[5], line 316\u001b[0m, in \u001b[0;36mstart_gui.<locals>.refresh\u001b[1;34m()\u001b[0m\n\u001b[0;32m    314\u001b[0m curve_cnt\u001b[38;5;241m.\u001b[39msetData(xs_cnt, y_cnt)\n\u001b[0;32m    315\u001b[0m curve_vel\u001b[38;5;241m.\u001b[39msetData(xs_vel, y_vel)\n\u001b[1;32m--> 316\u001b[0m curve_comvel\u001b[38;5;241m.\u001b[39msetData(\u001b[43mx_pad\u001b[49m, y_pad)\n",
      "\u001b[1;31mUnboundLocalError\u001b[0m: cannot access local variable 'x_pad' where it is not associated with a value"
     ]
    },
    {
     "name": "stdout",
     "output_type": "stream",
     "text": [
      "EPOCH = 952015.028576, wall = 249.56 ms, jitter = 249.56 ms  Δc=+26  c=15769  v= 0.102, len(dir_log)=12500\n",
      "EPOCH = 952015.143231, wall = 114.66 ms, jitter = 114.66 ms  Δc=+26  c=15795  v= 0.102, len(dir_log)=12500\n",
      "EPOCH = 952015.395565, wall = 252.33 ms, jitter = 252.33 ms  Δc=+25  c=15820  v= 0.098, len(dir_log)=12500\n",
      "EPOCH = 952015.565272, wall = 169.71 ms, jitter = 169.71 ms  Δc=+26  c=15846  v= 0.102, len(dir_log)=12500\n",
      "EPOCH = 952015.643321, wall =  78.05 ms, jitter =  78.05 ms  Δc=+25  c=15871  v= 0.098, len(dir_log)=12500\n",
      "EPOCH = 952015.768570, wall = 125.25 ms, jitter = 125.25 ms  Δc=+26  c=15897  v= 0.102, len(dir_log)=12500\n",
      "EPOCH = 952015.900605, wall = 132.04 ms, jitter = 132.04 ms  Δc=+26  c=15923  v= 0.102, len(dir_log)=12500\n"
     ]
    },
    {
     "ename": "UnboundLocalError",
     "evalue": "cannot access local variable 'x_pad' where it is not associated with a value",
     "output_type": "error",
     "traceback": [
      "\u001b[1;31m---------------------------------------------------------------------------\u001b[0m",
      "\u001b[1;31mUnboundLocalError\u001b[0m                         Traceback (most recent call last)",
      "Cell \u001b[1;32mIn[5], line 316\u001b[0m, in \u001b[0;36mstart_gui.<locals>.refresh\u001b[1;34m()\u001b[0m\n\u001b[0;32m    314\u001b[0m curve_cnt\u001b[38;5;241m.\u001b[39msetData(xs_cnt, y_cnt)\n\u001b[0;32m    315\u001b[0m curve_vel\u001b[38;5;241m.\u001b[39msetData(xs_vel, y_vel)\n\u001b[1;32m--> 316\u001b[0m curve_comvel\u001b[38;5;241m.\u001b[39msetData(\u001b[43mx_pad\u001b[49m, y_pad)\n",
      "\u001b[1;31mUnboundLocalError\u001b[0m: cannot access local variable 'x_pad' where it is not associated with a value"
     ]
    },
    {
     "name": "stdout",
     "output_type": "stream",
     "text": [
      "EPOCH = 952016.157336, wall = 256.73 ms, jitter = 256.73 ms  Δc=+25  c=15948  v= 0.098, len(dir_log)=12500\n",
      "EPOCH = 952016.311060, wall = 153.72 ms, jitter = 153.72 ms  Δc=+26  c=15974  v= 0.102, len(dir_log)=12500\n",
      "EPOCH = 952016.406164, wall =  95.10 ms, jitter =  95.10 ms  Δc=+25  c=15999  v= 0.098, len(dir_log)=12500\n"
     ]
    },
    {
     "ename": "UnboundLocalError",
     "evalue": "cannot access local variable 'x_pad' where it is not associated with a value",
     "output_type": "error",
     "traceback": [
      "\u001b[1;31m---------------------------------------------------------------------------\u001b[0m",
      "\u001b[1;31mUnboundLocalError\u001b[0m                         Traceback (most recent call last)",
      "Cell \u001b[1;32mIn[5], line 316\u001b[0m, in \u001b[0;36mstart_gui.<locals>.refresh\u001b[1;34m()\u001b[0m\n\u001b[0;32m    314\u001b[0m curve_cnt\u001b[38;5;241m.\u001b[39msetData(xs_cnt, y_cnt)\n\u001b[0;32m    315\u001b[0m curve_vel\u001b[38;5;241m.\u001b[39msetData(xs_vel, y_vel)\n\u001b[1;32m--> 316\u001b[0m curve_comvel\u001b[38;5;241m.\u001b[39msetData(\u001b[43mx_pad\u001b[49m, y_pad)\n",
      "\u001b[1;31mUnboundLocalError\u001b[0m: cannot access local variable 'x_pad' where it is not associated with a value"
     ]
    },
    {
     "name": "stdout",
     "output_type": "stream",
     "text": [
      "EPOCH = 952016.662642, wall = 256.48 ms, jitter = 256.48 ms  Δc=+26  c=16025  v= 0.102, len(dir_log)=12500\n",
      "EPOCH = 952016.779351, wall = 116.71 ms, jitter = 116.71 ms  Δc=+26  c=16051  v= 0.102, len(dir_log)=12500\n",
      "EPOCH = 952016.914989, wall = 135.64 ms, jitter = 135.64 ms  Δc=+25  c=16076  v= 0.098, len(dir_log)=12500\n",
      "EPOCH = 952017.050287, wall = 135.30 ms, jitter = 135.30 ms  Δc=+26  c=16102  v= 0.102, len(dir_log)=12500\n",
      "EPOCH = 952017.280284, wall = 230.00 ms, jitter = 230.00 ms  Δc=+25  c=16127  v= 0.098, len(dir_log)=12500\n",
      "EPOCH = 952017.414934, wall = 134.65 ms, jitter = 134.65 ms  Δc=+26  c=16153  v= 0.102, len(dir_log)=12500\n",
      "EPOCH = 952017.527139, wall = 112.21 ms, jitter = 112.21 ms  Δc=+26  c=16179  v= 0.102, len(dir_log)=12500\n"
     ]
    },
    {
     "ename": "UnboundLocalError",
     "evalue": "cannot access local variable 'x_pad' where it is not associated with a value",
     "output_type": "error",
     "traceback": [
      "\u001b[1;31m---------------------------------------------------------------------------\u001b[0m",
      "\u001b[1;31mUnboundLocalError\u001b[0m                         Traceback (most recent call last)",
      "Cell \u001b[1;32mIn[5], line 316\u001b[0m, in \u001b[0;36mstart_gui.<locals>.refresh\u001b[1;34m()\u001b[0m\n\u001b[0;32m    314\u001b[0m curve_cnt\u001b[38;5;241m.\u001b[39msetData(xs_cnt, y_cnt)\n\u001b[0;32m    315\u001b[0m curve_vel\u001b[38;5;241m.\u001b[39msetData(xs_vel, y_vel)\n\u001b[1;32m--> 316\u001b[0m curve_comvel\u001b[38;5;241m.\u001b[39msetData(\u001b[43mx_pad\u001b[49m, y_pad)\n",
      "\u001b[1;31mUnboundLocalError\u001b[0m: cannot access local variable 'x_pad' where it is not associated with a value"
     ]
    },
    {
     "name": "stdout",
     "output_type": "stream",
     "text": [
      "EPOCH = 952017.762083, wall = 234.94 ms, jitter = 234.94 ms  Δc=+25  c=16204  v= 0.098, len(dir_log)=12500\n",
      "EPOCH = 952017.892387, wall = 130.30 ms, jitter = 130.30 ms  Δc=+26  c=16230  v= 0.102, len(dir_log)=12500\n",
      "EPOCH = 952018.034491, wall = 142.10 ms, jitter = 142.10 ms  Δc=+25  c=16255  v= 0.098, len(dir_log)=12500\n",
      "EPOCH = 952018.155477, wall = 120.99 ms, jitter = 120.99 ms  Δc=+26  c=16281  v= 0.102, len(dir_log)=12500\n"
     ]
    },
    {
     "ename": "UnboundLocalError",
     "evalue": "cannot access local variable 'x_pad' where it is not associated with a value",
     "output_type": "error",
     "traceback": [
      "\u001b[1;31m---------------------------------------------------------------------------\u001b[0m",
      "\u001b[1;31mUnboundLocalError\u001b[0m                         Traceback (most recent call last)",
      "Cell \u001b[1;32mIn[5], line 316\u001b[0m, in \u001b[0;36mstart_gui.<locals>.refresh\u001b[1;34m()\u001b[0m\n\u001b[0;32m    314\u001b[0m curve_cnt\u001b[38;5;241m.\u001b[39msetData(xs_cnt, y_cnt)\n\u001b[0;32m    315\u001b[0m curve_vel\u001b[38;5;241m.\u001b[39msetData(xs_vel, y_vel)\n\u001b[1;32m--> 316\u001b[0m curve_comvel\u001b[38;5;241m.\u001b[39msetData(\u001b[43mx_pad\u001b[49m, y_pad)\n",
      "\u001b[1;31mUnboundLocalError\u001b[0m: cannot access local variable 'x_pad' where it is not associated with a value"
     ]
    },
    {
     "name": "stdout",
     "output_type": "stream",
     "text": [
      "EPOCH = 952018.417518, wall = 262.04 ms, jitter = 262.04 ms  Δc=+26  c=16307  v= 0.102, len(dir_log)=12500\n",
      "EPOCH = 952018.521772, wall = 104.25 ms, jitter = 104.25 ms  Δc=+25  c=16332  v= 0.098, len(dir_log)=12500\n",
      "EPOCH = 952018.663321, wall = 141.55 ms, jitter = 141.55 ms  Δc=+26  c=16358  v= 0.102, len(dir_log)=12500\n"
     ]
    },
    {
     "ename": "UnboundLocalError",
     "evalue": "cannot access local variable 'x_pad' where it is not associated with a value",
     "output_type": "error",
     "traceback": [
      "\u001b[1;31m---------------------------------------------------------------------------\u001b[0m",
      "\u001b[1;31mUnboundLocalError\u001b[0m                         Traceback (most recent call last)",
      "Cell \u001b[1;32mIn[5], line 316\u001b[0m, in \u001b[0;36mstart_gui.<locals>.refresh\u001b[1;34m()\u001b[0m\n\u001b[0;32m    314\u001b[0m curve_cnt\u001b[38;5;241m.\u001b[39msetData(xs_cnt, y_cnt)\n\u001b[0;32m    315\u001b[0m curve_vel\u001b[38;5;241m.\u001b[39msetData(xs_vel, y_vel)\n\u001b[1;32m--> 316\u001b[0m curve_comvel\u001b[38;5;241m.\u001b[39msetData(\u001b[43mx_pad\u001b[49m, y_pad)\n",
      "\u001b[1;31mUnboundLocalError\u001b[0m: cannot access local variable 'x_pad' where it is not associated with a value"
     ]
    },
    {
     "name": "stdout",
     "output_type": "stream",
     "text": [
      "EPOCH = 952018.934046, wall = 270.73 ms, jitter = 270.73 ms  Δc=+25  c=16383  v= 0.098, len(dir_log)=12500\n",
      "EPOCH = 952019.115979, wall = 181.93 ms, jitter = 181.93 ms  Δc=+26  c=16409  v= 0.102, len(dir_log)=12500\n",
      "EPOCH = 952019.173948, wall =  57.97 ms, jitter =  57.97 ms  Δc=+26  c=16435  v= 0.102, len(dir_log)=12500\n",
      "EPOCH = 952019.266928, wall =  92.98 ms, jitter =  92.98 ms  Δc=+25  c=16460  v= 0.098, len(dir_log)=12500\n",
      "EPOCH = 952019.456282, wall = 189.35 ms, jitter = 189.35 ms  Δc=+26  c=16486  v= 0.102, len(dir_log)=12500\n",
      "EPOCH = 952019.646653, wall = 190.37 ms, jitter = 190.37 ms  Δc=+25  c=16511  v= 0.098, len(dir_log)=12500\n",
      "EPOCH = 952019.786664, wall = 140.01 ms, jitter = 140.01 ms  Δc=+26  c=16537  v= 0.102, len(dir_log)=12500\n",
      "EPOCH = 952019.913362, wall = 126.70 ms, jitter = 126.70 ms  Δc=+26  c=16563  v= 0.102, len(dir_log)=12500\n",
      "EPOCH = 952020.053146, wall = 139.78 ms, jitter = 139.78 ms  Δc=+25  c=16588  v= 0.098, len(dir_log)=12500\n",
      "EPOCH = 952020.177251, wall = 124.11 ms, jitter = 124.11 ms  Δc=+26  c=16614  v= 0.102, len(dir_log)=12500\n",
      "EPOCH = 952020.409829, wall = 232.58 ms, jitter = 232.58 ms  Δc=+25  c=16639  v= 0.098, len(dir_log)=12500\n"
     ]
    },
    {
     "ename": "UnboundLocalError",
     "evalue": "cannot access local variable 'x_pad' where it is not associated with a value",
     "output_type": "error",
     "traceback": [
      "\u001b[1;31m---------------------------------------------------------------------------\u001b[0m",
      "\u001b[1;31mUnboundLocalError\u001b[0m                         Traceback (most recent call last)",
      "Cell \u001b[1;32mIn[5], line 316\u001b[0m, in \u001b[0;36mstart_gui.<locals>.refresh\u001b[1;34m()\u001b[0m\n\u001b[0;32m    314\u001b[0m curve_cnt\u001b[38;5;241m.\u001b[39msetData(xs_cnt, y_cnt)\n\u001b[0;32m    315\u001b[0m curve_vel\u001b[38;5;241m.\u001b[39msetData(xs_vel, y_vel)\n\u001b[1;32m--> 316\u001b[0m curve_comvel\u001b[38;5;241m.\u001b[39msetData(\u001b[43mx_pad\u001b[49m, y_pad)\n",
      "\u001b[1;31mUnboundLocalError\u001b[0m: cannot access local variable 'x_pad' where it is not associated with a value"
     ]
    },
    {
     "name": "stdout",
     "output_type": "stream",
     "text": [
      "EPOCH = 952020.512453, wall = 102.62 ms, jitter = 102.62 ms  Δc=+26  c=16665  v= 0.102, len(dir_log)=12500\n",
      "EPOCH = 952020.661372, wall = 148.92 ms, jitter = 148.92 ms  Δc=+26  c=16691  v= 0.102, len(dir_log)=12500\n"
     ]
    },
    {
     "ename": "UnboundLocalError",
     "evalue": "cannot access local variable 'x_pad' where it is not associated with a value",
     "output_type": "error",
     "traceback": [
      "\u001b[1;31m---------------------------------------------------------------------------\u001b[0m",
      "\u001b[1;31mUnboundLocalError\u001b[0m                         Traceback (most recent call last)",
      "Cell \u001b[1;32mIn[5], line 316\u001b[0m, in \u001b[0;36mstart_gui.<locals>.refresh\u001b[1;34m()\u001b[0m\n\u001b[0;32m    314\u001b[0m curve_cnt\u001b[38;5;241m.\u001b[39msetData(xs_cnt, y_cnt)\n\u001b[0;32m    315\u001b[0m curve_vel\u001b[38;5;241m.\u001b[39msetData(xs_vel, y_vel)\n\u001b[1;32m--> 316\u001b[0m curve_comvel\u001b[38;5;241m.\u001b[39msetData(\u001b[43mx_pad\u001b[49m, y_pad)\n",
      "\u001b[1;31mUnboundLocalError\u001b[0m: cannot access local variable 'x_pad' where it is not associated with a value"
     ]
    },
    {
     "name": "stdout",
     "output_type": "stream",
     "text": [
      "EPOCH = 952020.890437, wall = 229.07 ms, jitter = 229.07 ms  Δc=+25  c=16716  v= 0.098, len(dir_log)=12500\n",
      "EPOCH = 952021.011734, wall = 121.30 ms, jitter = 121.30 ms  Δc=+26  c=16742  v= 0.102, len(dir_log)=12500\n",
      "EPOCH = 952021.146846, wall = 135.11 ms, jitter = 135.11 ms  Δc=+25  c=16767  v= 0.098, len(dir_log)=12500\n",
      "EPOCH = 952021.269555, wall = 122.71 ms, jitter = 122.71 ms  Δc=+26  c=16793  v= 0.102, len(dir_log)=12500\n"
     ]
    },
    {
     "ename": "UnboundLocalError",
     "evalue": "cannot access local variable 'x_pad' where it is not associated with a value",
     "output_type": "error",
     "traceback": [
      "\u001b[1;31m---------------------------------------------------------------------------\u001b[0m",
      "\u001b[1;31mUnboundLocalError\u001b[0m                         Traceback (most recent call last)",
      "Cell \u001b[1;32mIn[5], line 316\u001b[0m, in \u001b[0;36mstart_gui.<locals>.refresh\u001b[1;34m()\u001b[0m\n\u001b[0;32m    314\u001b[0m curve_cnt\u001b[38;5;241m.\u001b[39msetData(xs_cnt, y_cnt)\n\u001b[0;32m    315\u001b[0m curve_vel\u001b[38;5;241m.\u001b[39msetData(xs_vel, y_vel)\n\u001b[1;32m--> 316\u001b[0m curve_comvel\u001b[38;5;241m.\u001b[39msetData(\u001b[43mx_pad\u001b[49m, y_pad)\n",
      "\u001b[1;31mUnboundLocalError\u001b[0m: cannot access local variable 'x_pad' where it is not associated with a value"
     ]
    },
    {
     "name": "stdout",
     "output_type": "stream",
     "text": [
      "EPOCH = 952021.572806, wall = 303.25 ms, jitter = 303.25 ms  Δc=+26  c=16819  v= 0.102, len(dir_log)=12500\n",
      "EPOCH = 952021.694534, wall = 121.73 ms, jitter = 121.73 ms  Δc=+25  c=16844  v= 0.098, len(dir_log)=12500\n",
      "EPOCH = 952021.876507, wall = 181.97 ms, jitter = 181.97 ms  Δc=+26  c=16870  v= 0.102, len(dir_log)=12500\n",
      "EPOCH = 952022.013722, wall = 137.21 ms, jitter = 137.21 ms  Δc=+25  c=16895  v= 0.098, len(dir_log)=12500\n"
     ]
    },
    {
     "ename": "UnboundLocalError",
     "evalue": "cannot access local variable 'x_pad' where it is not associated with a value",
     "output_type": "error",
     "traceback": [
      "\u001b[1;31m---------------------------------------------------------------------------\u001b[0m",
      "\u001b[1;31mUnboundLocalError\u001b[0m                         Traceback (most recent call last)",
      "Cell \u001b[1;32mIn[5], line 316\u001b[0m, in \u001b[0;36mstart_gui.<locals>.refresh\u001b[1;34m()\u001b[0m\n\u001b[0;32m    314\u001b[0m curve_cnt\u001b[38;5;241m.\u001b[39msetData(xs_cnt, y_cnt)\n\u001b[0;32m    315\u001b[0m curve_vel\u001b[38;5;241m.\u001b[39msetData(xs_vel, y_vel)\n\u001b[1;32m--> 316\u001b[0m curve_comvel\u001b[38;5;241m.\u001b[39msetData(\u001b[43mx_pad\u001b[49m, y_pad)\n",
      "\u001b[1;31mUnboundLocalError\u001b[0m: cannot access local variable 'x_pad' where it is not associated with a value"
     ]
    },
    {
     "name": "stdout",
     "output_type": "stream",
     "text": [
      "EPOCH = 952022.284771, wall = 271.05 ms, jitter = 271.05 ms  Δc=+26  c=16921  v= 0.102, len(dir_log)=12500\n",
      "EPOCH = 952022.420665, wall = 135.89 ms, jitter = 135.89 ms  Δc=+26  c=16947  v= 0.102, len(dir_log)=12500\n",
      "EPOCH = 952022.563010, wall = 142.35 ms, jitter = 142.35 ms  Δc=+25  c=16972  v= 0.098, len(dir_log)=12500\n",
      "EPOCH = 952022.779746, wall = 216.74 ms, jitter = 216.74 ms  Δc=+26  c=16998  v= 0.102, len(dir_log)=12500\n",
      "EPOCH = 952022.905233, wall = 125.49 ms, jitter = 125.49 ms  Δc=+25  c=17023  v= 0.098, len(dir_log)=12500\n",
      "EPOCH = 952023.032552, wall = 127.32 ms, jitter = 127.32 ms  Δc=+26  c=17049  v= 0.102, len(dir_log)=12500\n"
     ]
    },
    {
     "ename": "UnboundLocalError",
     "evalue": "cannot access local variable 'x_pad' where it is not associated with a value",
     "output_type": "error",
     "traceback": [
      "\u001b[1;31m---------------------------------------------------------------------------\u001b[0m",
      "\u001b[1;31mUnboundLocalError\u001b[0m                         Traceback (most recent call last)",
      "Cell \u001b[1;32mIn[5], line 316\u001b[0m, in \u001b[0;36mstart_gui.<locals>.refresh\u001b[1;34m()\u001b[0m\n\u001b[0;32m    314\u001b[0m curve_cnt\u001b[38;5;241m.\u001b[39msetData(xs_cnt, y_cnt)\n\u001b[0;32m    315\u001b[0m curve_vel\u001b[38;5;241m.\u001b[39msetData(xs_vel, y_vel)\n\u001b[1;32m--> 316\u001b[0m curve_comvel\u001b[38;5;241m.\u001b[39msetData(\u001b[43mx_pad\u001b[49m, y_pad)\n",
      "\u001b[1;31mUnboundLocalError\u001b[0m: cannot access local variable 'x_pad' where it is not associated with a value"
     ]
    },
    {
     "name": "stdout",
     "output_type": "stream",
     "text": [
      "EPOCH = 952023.267306, wall = 234.75 ms, jitter = 234.75 ms  Δc=+26  c=17075  v= 0.102, len(dir_log)=12500\n",
      "EPOCH = 952023.382876, wall = 115.57 ms, jitter = 115.57 ms  Δc=+25  c=17100  v= 0.098, len(dir_log)=12500\n",
      "EPOCH = 952023.511130, wall = 128.25 ms, jitter = 128.25 ms  Δc=+26  c=17126  v= 0.102, len(dir_log)=12500\n",
      "EPOCH = 952023.652692, wall = 141.56 ms, jitter = 141.56 ms  Δc=+25  c=17151  v= 0.098, len(dir_log)=12500\n"
     ]
    },
    {
     "ename": "UnboundLocalError",
     "evalue": "cannot access local variable 'x_pad' where it is not associated with a value",
     "output_type": "error",
     "traceback": [
      "\u001b[1;31m---------------------------------------------------------------------------\u001b[0m",
      "\u001b[1;31mUnboundLocalError\u001b[0m                         Traceback (most recent call last)",
      "Cell \u001b[1;32mIn[5], line 316\u001b[0m, in \u001b[0;36mstart_gui.<locals>.refresh\u001b[1;34m()\u001b[0m\n\u001b[0;32m    314\u001b[0m curve_cnt\u001b[38;5;241m.\u001b[39msetData(xs_cnt, y_cnt)\n\u001b[0;32m    315\u001b[0m curve_vel\u001b[38;5;241m.\u001b[39msetData(xs_vel, y_vel)\n\u001b[1;32m--> 316\u001b[0m curve_comvel\u001b[38;5;241m.\u001b[39msetData(\u001b[43mx_pad\u001b[49m, y_pad)\n",
      "\u001b[1;31mUnboundLocalError\u001b[0m: cannot access local variable 'x_pad' where it is not associated with a value"
     ]
    },
    {
     "name": "stdout",
     "output_type": "stream",
     "text": [
      "EPOCH = 952023.913413, wall = 260.72 ms, jitter = 260.72 ms  Δc=+26  c=17177  v= 0.102, len(dir_log)=12500\n",
      "EPOCH = 952024.061930, wall = 148.52 ms, jitter = 148.52 ms  Δc=+26  c=17203  v= 0.102, len(dir_log)=12500\n",
      "EPOCH = 952024.138417, wall =  76.49 ms, jitter =  76.49 ms  Δc=+25  c=17228  v= 0.098, len(dir_log)=12500\n",
      "EPOCH = 952024.434522, wall = 296.11 ms, jitter = 296.11 ms  Δc=+26  c=17254  v= 0.102, len(dir_log)=12500\n",
      "EPOCH = 952024.518411, wall =  83.89 ms, jitter =  83.89 ms  Δc=+25  c=17279  v= 0.098, len(dir_log)=12500\n",
      "EPOCH = 952024.775641, wall = 257.23 ms, jitter = 257.23 ms  Δc=+26  c=17305  v= 0.102, len(dir_log)=12500\n",
      "EPOCH = 952024.917097, wall = 141.46 ms, jitter = 141.46 ms  Δc=+26  c=17331  v= 0.102, len(dir_log)=12500\n"
     ]
    },
    {
     "ename": "UnboundLocalError",
     "evalue": "cannot access local variable 'x_pad' where it is not associated with a value",
     "output_type": "error",
     "traceback": [
      "\u001b[1;31m---------------------------------------------------------------------------\u001b[0m",
      "\u001b[1;31mUnboundLocalError\u001b[0m                         Traceback (most recent call last)",
      "Cell \u001b[1;32mIn[5], line 316\u001b[0m, in \u001b[0;36mstart_gui.<locals>.refresh\u001b[1;34m()\u001b[0m\n\u001b[0;32m    314\u001b[0m curve_cnt\u001b[38;5;241m.\u001b[39msetData(xs_cnt, y_cnt)\n\u001b[0;32m    315\u001b[0m curve_vel\u001b[38;5;241m.\u001b[39msetData(xs_vel, y_vel)\n\u001b[1;32m--> 316\u001b[0m curve_comvel\u001b[38;5;241m.\u001b[39msetData(\u001b[43mx_pad\u001b[49m, y_pad)\n",
      "\u001b[1;31mUnboundLocalError\u001b[0m: cannot access local variable 'x_pad' where it is not associated with a value"
     ]
    },
    {
     "name": "stdout",
     "output_type": "stream",
     "text": [
      "EPOCH = 952025.142032, wall = 224.94 ms, jitter = 224.94 ms  Δc=+25  c=17356  v= 0.098, len(dir_log)=12500\n",
      "EPOCH = 952025.263568, wall = 121.54 ms, jitter = 121.54 ms  Δc=+26  c=17382  v= 0.102, len(dir_log)=12500\n",
      "EPOCH = 952025.398787, wall = 135.22 ms, jitter = 135.22 ms  Δc=+25  c=17407  v= 0.098, len(dir_log)=12500\n",
      "EPOCH = 952025.527872, wall = 129.08 ms, jitter = 129.08 ms  Δc=+26  c=17433  v= 0.102, len(dir_log)=12500\n"
     ]
    },
    {
     "ename": "UnboundLocalError",
     "evalue": "cannot access local variable 'x_pad' where it is not associated with a value",
     "output_type": "error",
     "traceback": [
      "\u001b[1;31m---------------------------------------------------------------------------\u001b[0m",
      "\u001b[1;31mUnboundLocalError\u001b[0m                         Traceback (most recent call last)",
      "Cell \u001b[1;32mIn[5], line 316\u001b[0m, in \u001b[0;36mstart_gui.<locals>.refresh\u001b[1;34m()\u001b[0m\n\u001b[0;32m    314\u001b[0m curve_cnt\u001b[38;5;241m.\u001b[39msetData(xs_cnt, y_cnt)\n\u001b[0;32m    315\u001b[0m curve_vel\u001b[38;5;241m.\u001b[39msetData(xs_vel, y_vel)\n\u001b[1;32m--> 316\u001b[0m curve_comvel\u001b[38;5;241m.\u001b[39msetData(\u001b[43mx_pad\u001b[49m, y_pad)\n",
      "\u001b[1;31mUnboundLocalError\u001b[0m: cannot access local variable 'x_pad' where it is not associated with a value"
     ]
    },
    {
     "name": "stdout",
     "output_type": "stream",
     "text": [
      "EPOCH = 952025.775103, wall = 247.23 ms, jitter = 247.23 ms  Δc=+26  c=17459  v= 0.102, len(dir_log)=12500\n",
      "EPOCH = 952025.896136, wall = 121.03 ms, jitter = 121.03 ms  Δc=+25  c=17484  v= 0.098, len(dir_log)=12500\n",
      "EPOCH = 952026.033744, wall = 137.61 ms, jitter = 137.61 ms  Δc=+26  c=17510  v= 0.102, len(dir_log)=12500\n"
     ]
    },
    {
     "ename": "UnboundLocalError",
     "evalue": "cannot access local variable 'x_pad' where it is not associated with a value",
     "output_type": "error",
     "traceback": [
      "\u001b[1;31m---------------------------------------------------------------------------\u001b[0m",
      "\u001b[1;31mUnboundLocalError\u001b[0m                         Traceback (most recent call last)",
      "Cell \u001b[1;32mIn[5], line 316\u001b[0m, in \u001b[0;36mstart_gui.<locals>.refresh\u001b[1;34m()\u001b[0m\n\u001b[0;32m    314\u001b[0m curve_cnt\u001b[38;5;241m.\u001b[39msetData(xs_cnt, y_cnt)\n\u001b[0;32m    315\u001b[0m curve_vel\u001b[38;5;241m.\u001b[39msetData(xs_vel, y_vel)\n\u001b[1;32m--> 316\u001b[0m curve_comvel\u001b[38;5;241m.\u001b[39msetData(\u001b[43mx_pad\u001b[49m, y_pad)\n",
      "\u001b[1;31mUnboundLocalError\u001b[0m: cannot access local variable 'x_pad' where it is not associated with a value"
     ]
    },
    {
     "name": "stdout",
     "output_type": "stream",
     "text": [
      "EPOCH = 952026.279427, wall = 245.68 ms, jitter = 245.68 ms  Δc=+25  c=17535  v= 0.098, len(dir_log)=12500\n",
      "EPOCH = 952026.389940, wall = 110.51 ms, jitter = 110.51 ms  Δc=+26  c=17561  v= 0.102, len(dir_log)=12500\n",
      "EPOCH = 952026.544497, wall = 154.56 ms, jitter = 154.56 ms  Δc=+26  c=17587  v= 0.102, len(dir_log)=12500\n"
     ]
    },
    {
     "ename": "UnboundLocalError",
     "evalue": "cannot access local variable 'x_pad' where it is not associated with a value",
     "output_type": "error",
     "traceback": [
      "\u001b[1;31m---------------------------------------------------------------------------\u001b[0m",
      "\u001b[1;31mUnboundLocalError\u001b[0m                         Traceback (most recent call last)",
      "Cell \u001b[1;32mIn[5], line 316\u001b[0m, in \u001b[0;36mstart_gui.<locals>.refresh\u001b[1;34m()\u001b[0m\n\u001b[0;32m    314\u001b[0m curve_cnt\u001b[38;5;241m.\u001b[39msetData(xs_cnt, y_cnt)\n\u001b[0;32m    315\u001b[0m curve_vel\u001b[38;5;241m.\u001b[39msetData(xs_vel, y_vel)\n\u001b[1;32m--> 316\u001b[0m curve_comvel\u001b[38;5;241m.\u001b[39msetData(\u001b[43mx_pad\u001b[49m, y_pad)\n",
      "\u001b[1;31mUnboundLocalError\u001b[0m: cannot access local variable 'x_pad' where it is not associated with a value"
     ]
    },
    {
     "name": "stdout",
     "output_type": "stream",
     "text": [
      "EPOCH = 952026.910498, wall = 366.00 ms, jitter = 366.00 ms  Δc=+25  c=17612  v= 0.098, len(dir_log)=12500\n",
      "EPOCH = 952026.961295, wall =  50.80 ms, jitter =  50.80 ms  Δc=+26  c=17638  v= 0.102, len(dir_log)=12500\n",
      "EPOCH = 952027.154349, wall = 193.05 ms, jitter = 193.05 ms  Δc=+25  c=17663  v= 0.098, len(dir_log)=12500\n"
     ]
    },
    {
     "ename": "UnboundLocalError",
     "evalue": "cannot access local variable 'x_pad' where it is not associated with a value",
     "output_type": "error",
     "traceback": [
      "\u001b[1;31m---------------------------------------------------------------------------\u001b[0m",
      "\u001b[1;31mUnboundLocalError\u001b[0m                         Traceback (most recent call last)",
      "Cell \u001b[1;32mIn[5], line 316\u001b[0m, in \u001b[0;36mstart_gui.<locals>.refresh\u001b[1;34m()\u001b[0m\n\u001b[0;32m    314\u001b[0m curve_cnt\u001b[38;5;241m.\u001b[39msetData(xs_cnt, y_cnt)\n\u001b[0;32m    315\u001b[0m curve_vel\u001b[38;5;241m.\u001b[39msetData(xs_vel, y_vel)\n\u001b[1;32m--> 316\u001b[0m curve_comvel\u001b[38;5;241m.\u001b[39msetData(\u001b[43mx_pad\u001b[49m, y_pad)\n",
      "\u001b[1;31mUnboundLocalError\u001b[0m: cannot access local variable 'x_pad' where it is not associated with a value"
     ]
    },
    {
     "name": "stdout",
     "output_type": "stream",
     "text": [
      "EPOCH = 952027.294863, wall = 140.51 ms, jitter = 140.51 ms  Δc=+26  c=17689  v= 0.102, len(dir_log)=12500\n"
     ]
    },
    {
     "ename": "UnboundLocalError",
     "evalue": "cannot access local variable 'x_pad' where it is not associated with a value",
     "output_type": "error",
     "traceback": [
      "\u001b[1;31m---------------------------------------------------------------------------\u001b[0m",
      "\u001b[1;31mUnboundLocalError\u001b[0m                         Traceback (most recent call last)",
      "Cell \u001b[1;32mIn[5], line 316\u001b[0m, in \u001b[0;36mstart_gui.<locals>.refresh\u001b[1;34m()\u001b[0m\n\u001b[0;32m    314\u001b[0m curve_cnt\u001b[38;5;241m.\u001b[39msetData(xs_cnt, y_cnt)\n\u001b[0;32m    315\u001b[0m curve_vel\u001b[38;5;241m.\u001b[39msetData(xs_vel, y_vel)\n\u001b[1;32m--> 316\u001b[0m curve_comvel\u001b[38;5;241m.\u001b[39msetData(\u001b[43mx_pad\u001b[49m, y_pad)\n",
      "\u001b[1;31mUnboundLocalError\u001b[0m: cannot access local variable 'x_pad' where it is not associated with a value"
     ]
    },
    {
     "name": "stdout",
     "output_type": "stream",
     "text": [
      "EPOCH = 952027.549499, wall = 254.64 ms, jitter = 254.64 ms  Δc=+26  c=17715  v= 0.102, len(dir_log)=12500\n",
      "EPOCH = 952027.648683, wall =  99.18 ms, jitter =  99.18 ms  Δc=+25  c=17740  v= 0.098, len(dir_log)=12500\n"
     ]
    },
    {
     "ename": "UnboundLocalError",
     "evalue": "cannot access local variable 'x_pad' where it is not associated with a value",
     "output_type": "error",
     "traceback": [
      "\u001b[1;31m---------------------------------------------------------------------------\u001b[0m",
      "\u001b[1;31mUnboundLocalError\u001b[0m                         Traceback (most recent call last)",
      "Cell \u001b[1;32mIn[5], line 316\u001b[0m, in \u001b[0;36mstart_gui.<locals>.refresh\u001b[1;34m()\u001b[0m\n\u001b[0;32m    314\u001b[0m curve_cnt\u001b[38;5;241m.\u001b[39msetData(xs_cnt, y_cnt)\n\u001b[0;32m    315\u001b[0m curve_vel\u001b[38;5;241m.\u001b[39msetData(xs_vel, y_vel)\n\u001b[1;32m--> 316\u001b[0m curve_comvel\u001b[38;5;241m.\u001b[39msetData(\u001b[43mx_pad\u001b[49m, y_pad)\n",
      "\u001b[1;31mUnboundLocalError\u001b[0m: cannot access local variable 'x_pad' where it is not associated with a value"
     ]
    },
    {
     "name": "stdout",
     "output_type": "stream",
     "text": [
      "EPOCH = 952027.907588, wall = 258.90 ms, jitter = 258.90 ms  Δc=+26  c=17766  v= 0.102, len(dir_log)=12500\n",
      "EPOCH = 952028.017807, wall = 110.22 ms, jitter = 110.22 ms  Δc=+25  c=17791  v= 0.098, len(dir_log)=12500\n",
      "EPOCH = 952028.156401, wall = 138.59 ms, jitter = 138.59 ms  Δc=+26  c=17817  v= 0.102, len(dir_log)=12500\n"
     ]
    },
    {
     "ename": "UnboundLocalError",
     "evalue": "cannot access local variable 'x_pad' where it is not associated with a value",
     "output_type": "error",
     "traceback": [
      "\u001b[1;31m---------------------------------------------------------------------------\u001b[0m",
      "\u001b[1;31mUnboundLocalError\u001b[0m                         Traceback (most recent call last)",
      "Cell \u001b[1;32mIn[5], line 316\u001b[0m, in \u001b[0;36mstart_gui.<locals>.refresh\u001b[1;34m()\u001b[0m\n\u001b[0;32m    314\u001b[0m curve_cnt\u001b[38;5;241m.\u001b[39msetData(xs_cnt, y_cnt)\n\u001b[0;32m    315\u001b[0m curve_vel\u001b[38;5;241m.\u001b[39msetData(xs_vel, y_vel)\n\u001b[1;32m--> 316\u001b[0m curve_comvel\u001b[38;5;241m.\u001b[39msetData(\u001b[43mx_pad\u001b[49m, y_pad)\n",
      "\u001b[1;31mUnboundLocalError\u001b[0m: cannot access local variable 'x_pad' where it is not associated with a value"
     ]
    },
    {
     "name": "stdout",
     "output_type": "stream",
     "text": [
      "EPOCH = 952028.434733, wall = 278.33 ms, jitter = 278.33 ms  Δc=+26  c=17843  v= 0.102, len(dir_log)=12500\n",
      "EPOCH = 952028.508299, wall =  73.57 ms, jitter =  73.57 ms  Δc=+25  c=17868  v= 0.098, len(dir_log)=12500\n",
      "EPOCH = 952028.657510, wall = 149.21 ms, jitter = 149.21 ms  Δc=+26  c=17894  v= 0.102, len(dir_log)=12500\n",
      "EPOCH = 952028.757906, wall = 100.40 ms, jitter = 100.40 ms  Δc=+25  c=17919  v= 0.098, len(dir_log)=12500\n",
      "EPOCH = 952028.916770, wall = 158.86 ms, jitter = 158.86 ms  Δc=+26  c=17945  v= 0.102, len(dir_log)=12500\n"
     ]
    },
    {
     "ename": "UnboundLocalError",
     "evalue": "cannot access local variable 'x_pad' where it is not associated with a value",
     "output_type": "error",
     "traceback": [
      "\u001b[1;31m---------------------------------------------------------------------------\u001b[0m",
      "\u001b[1;31mUnboundLocalError\u001b[0m                         Traceback (most recent call last)",
      "Cell \u001b[1;32mIn[5], line 316\u001b[0m, in \u001b[0;36mstart_gui.<locals>.refresh\u001b[1;34m()\u001b[0m\n\u001b[0;32m    314\u001b[0m curve_cnt\u001b[38;5;241m.\u001b[39msetData(xs_cnt, y_cnt)\n\u001b[0;32m    315\u001b[0m curve_vel\u001b[38;5;241m.\u001b[39msetData(xs_vel, y_vel)\n\u001b[1;32m--> 316\u001b[0m curve_comvel\u001b[38;5;241m.\u001b[39msetData(\u001b[43mx_pad\u001b[49m, y_pad)\n",
      "\u001b[1;31mUnboundLocalError\u001b[0m: cannot access local variable 'x_pad' where it is not associated with a value"
     ]
    },
    {
     "name": "stdout",
     "output_type": "stream",
     "text": [
      "EPOCH = 952029.199046, wall = 282.28 ms, jitter = 282.28 ms  Δc=+26  c=17971  v= 0.102, len(dir_log)=12500\n",
      "EPOCH = 952029.262206, wall =  63.16 ms, jitter =  63.16 ms  Δc=+25  c=17996  v= 0.098, len(dir_log)=12500\n",
      "EPOCH = 952029.403665, wall = 141.46 ms, jitter = 141.46 ms  Δc=+26  c=18022  v= 0.102, len(dir_log)=12500\n"
     ]
    },
    {
     "ename": "UnboundLocalError",
     "evalue": "cannot access local variable 'x_pad' where it is not associated with a value",
     "output_type": "error",
     "traceback": [
      "\u001b[1;31m---------------------------------------------------------------------------\u001b[0m",
      "\u001b[1;31mUnboundLocalError\u001b[0m                         Traceback (most recent call last)",
      "Cell \u001b[1;32mIn[5], line 316\u001b[0m, in \u001b[0;36mstart_gui.<locals>.refresh\u001b[1;34m()\u001b[0m\n\u001b[0;32m    314\u001b[0m curve_cnt\u001b[38;5;241m.\u001b[39msetData(xs_cnt, y_cnt)\n\u001b[0;32m    315\u001b[0m curve_vel\u001b[38;5;241m.\u001b[39msetData(xs_vel, y_vel)\n\u001b[1;32m--> 316\u001b[0m curve_comvel\u001b[38;5;241m.\u001b[39msetData(\u001b[43mx_pad\u001b[49m, y_pad)\n",
      "\u001b[1;31mUnboundLocalError\u001b[0m: cannot access local variable 'x_pad' where it is not associated with a value"
     ]
    },
    {
     "name": "stdout",
     "output_type": "stream",
     "text": [
      "EPOCH = 952029.639371, wall = 235.71 ms, jitter = 235.71 ms  Δc=+25  c=18047  v= 0.098, len(dir_log)=12500\n",
      "EPOCH = 952029.757361, wall = 117.99 ms, jitter = 117.99 ms  Δc=+26  c=18073  v= 0.102, len(dir_log)=12500\n",
      "EPOCH = 952029.898571, wall = 141.21 ms, jitter = 141.21 ms  Δc=+26  c=18099  v= 0.102, len(dir_log)=12500\n",
      "EPOCH = 952030.027283, wall = 128.71 ms, jitter = 128.71 ms  Δc=+25  c=18124  v= 0.098, len(dir_log)=12500\n"
     ]
    },
    {
     "ename": "UnboundLocalError",
     "evalue": "cannot access local variable 'x_pad' where it is not associated with a value",
     "output_type": "error",
     "traceback": [
      "\u001b[1;31m---------------------------------------------------------------------------\u001b[0m",
      "\u001b[1;31mUnboundLocalError\u001b[0m                         Traceback (most recent call last)",
      "Cell \u001b[1;32mIn[5], line 316\u001b[0m, in \u001b[0;36mstart_gui.<locals>.refresh\u001b[1;34m()\u001b[0m\n\u001b[0;32m    314\u001b[0m curve_cnt\u001b[38;5;241m.\u001b[39msetData(xs_cnt, y_cnt)\n\u001b[0;32m    315\u001b[0m curve_vel\u001b[38;5;241m.\u001b[39msetData(xs_vel, y_vel)\n\u001b[1;32m--> 316\u001b[0m curve_comvel\u001b[38;5;241m.\u001b[39msetData(\u001b[43mx_pad\u001b[49m, y_pad)\n",
      "\u001b[1;31mUnboundLocalError\u001b[0m: cannot access local variable 'x_pad' where it is not associated with a value"
     ]
    },
    {
     "name": "stdout",
     "output_type": "stream",
     "text": [
      "EPOCH = 952030.273529, wall = 246.25 ms, jitter = 246.25 ms  Δc=+26  c=18150  v= 0.102, len(dir_log)=12500\n",
      "EPOCH = 952030.393095, wall = 119.57 ms, jitter = 119.57 ms  Δc=+25  c=18175  v= 0.098, len(dir_log)=12500\n",
      "EPOCH = 952030.556294, wall = 163.20 ms, jitter = 163.20 ms  Δc=+26  c=18201  v= 0.102, len(dir_log)=12500\n",
      "EPOCH = 952030.639411, wall =  83.12 ms, jitter =  83.12 ms  Δc=+26  c=18227  v= 0.102, len(dir_log)=12500\n",
      "EPOCH = 952030.920456, wall = 281.04 ms, jitter = 281.04 ms  Δc=+25  c=18252  v= 0.098, len(dir_log)=12500\n"
     ]
    },
    {
     "ename": "UnboundLocalError",
     "evalue": "cannot access local variable 'x_pad' where it is not associated with a value",
     "output_type": "error",
     "traceback": [
      "\u001b[1;31m---------------------------------------------------------------------------\u001b[0m",
      "\u001b[1;31mUnboundLocalError\u001b[0m                         Traceback (most recent call last)",
      "Cell \u001b[1;32mIn[5], line 316\u001b[0m, in \u001b[0;36mstart_gui.<locals>.refresh\u001b[1;34m()\u001b[0m\n\u001b[0;32m    314\u001b[0m curve_cnt\u001b[38;5;241m.\u001b[39msetData(xs_cnt, y_cnt)\n\u001b[0;32m    315\u001b[0m curve_vel\u001b[38;5;241m.\u001b[39msetData(xs_vel, y_vel)\n\u001b[1;32m--> 316\u001b[0m curve_comvel\u001b[38;5;241m.\u001b[39msetData(\u001b[43mx_pad\u001b[49m, y_pad)\n",
      "\u001b[1;31mUnboundLocalError\u001b[0m: cannot access local variable 'x_pad' where it is not associated with a value"
     ]
    },
    {
     "name": "stdout",
     "output_type": "stream",
     "text": [
      "EPOCH = 952031.031055, wall = 110.60 ms, jitter = 110.60 ms  Δc=+26  c=18278  v= 0.102, len(dir_log)=12500\n",
      "EPOCH = 952031.288133, wall = 257.08 ms, jitter = 257.08 ms  Δc=+25  c=18303  v= 0.098, len(dir_log)=12500\n",
      "EPOCH = 952031.411037, wall = 122.90 ms, jitter = 122.90 ms  Δc=+26  c=18329  v= 0.102, len(dir_log)=12500\n",
      "EPOCH = 952031.538698, wall = 127.66 ms, jitter = 127.66 ms  Δc=+26  c=18355  v= 0.102, len(dir_log)=12500\n",
      "EPOCH = 952031.797281, wall = 258.58 ms, jitter = 258.58 ms  Δc=+25  c=18380  v= 0.098, len(dir_log)=12500\n"
     ]
    },
    {
     "ename": "UnboundLocalError",
     "evalue": "cannot access local variable 'x_pad' where it is not associated with a value",
     "output_type": "error",
     "traceback": [
      "\u001b[1;31m---------------------------------------------------------------------------\u001b[0m",
      "\u001b[1;31mUnboundLocalError\u001b[0m                         Traceback (most recent call last)",
      "Cell \u001b[1;32mIn[5], line 316\u001b[0m, in \u001b[0;36mstart_gui.<locals>.refresh\u001b[1;34m()\u001b[0m\n\u001b[0;32m    314\u001b[0m curve_cnt\u001b[38;5;241m.\u001b[39msetData(xs_cnt, y_cnt)\n\u001b[0;32m    315\u001b[0m curve_vel\u001b[38;5;241m.\u001b[39msetData(xs_vel, y_vel)\n\u001b[1;32m--> 316\u001b[0m curve_comvel\u001b[38;5;241m.\u001b[39msetData(\u001b[43mx_pad\u001b[49m, y_pad)\n",
      "\u001b[1;31mUnboundLocalError\u001b[0m: cannot access local variable 'x_pad' where it is not associated with a value"
     ]
    },
    {
     "name": "stdout",
     "output_type": "stream",
     "text": [
      "EPOCH = 952031.890622, wall =  93.34 ms, jitter =  93.34 ms  Δc=+26  c=18406  v= 0.102, len(dir_log)=12500\n",
      "EPOCH = 952032.027206, wall = 136.58 ms, jitter = 136.58 ms  Δc=+25  c=18431  v= 0.098, len(dir_log)=12500\n",
      "EPOCH = 952032.312263, wall = 285.06 ms, jitter = 285.06 ms  Δc=+26  c=18457  v= 0.102, len(dir_log)=12500\n"
     ]
    },
    {
     "ename": "UnboundLocalError",
     "evalue": "cannot access local variable 'x_pad' where it is not associated with a value",
     "output_type": "error",
     "traceback": [
      "\u001b[1;31m---------------------------------------------------------------------------\u001b[0m",
      "\u001b[1;31mUnboundLocalError\u001b[0m                         Traceback (most recent call last)",
      "Cell \u001b[1;32mIn[5], line 316\u001b[0m, in \u001b[0;36mstart_gui.<locals>.refresh\u001b[1;34m()\u001b[0m\n\u001b[0;32m    314\u001b[0m curve_cnt\u001b[38;5;241m.\u001b[39msetData(xs_cnt, y_cnt)\n\u001b[0;32m    315\u001b[0m curve_vel\u001b[38;5;241m.\u001b[39msetData(xs_vel, y_vel)\n\u001b[1;32m--> 316\u001b[0m curve_comvel\u001b[38;5;241m.\u001b[39msetData(\u001b[43mx_pad\u001b[49m, y_pad)\n",
      "\u001b[1;31mUnboundLocalError\u001b[0m: cannot access local variable 'x_pad' where it is not associated with a value"
     ]
    },
    {
     "name": "stdout",
     "output_type": "stream",
     "text": [
      "EPOCH = 952032.417057, wall = 104.79 ms, jitter = 104.79 ms  Δc=+26  c=18483  v= 0.102, len(dir_log)=12500\n",
      "EPOCH = 952032.687085, wall = 270.03 ms, jitter = 270.03 ms  Δc=+25  c=18508  v= 0.098, len(dir_log)=12500\n",
      "EPOCH = 952032.822370, wall = 135.28 ms, jitter = 135.28 ms  Δc=+26  c=18534  v= 0.102, len(dir_log)=12500\n",
      "EPOCH = 952033.031457, wall = 209.09 ms, jitter = 209.09 ms  Δc=+25  c=18559  v= 0.098, len(dir_log)=12500\n",
      "EPOCH = 952033.188224, wall = 156.77 ms, jitter = 156.77 ms  Δc=+26  c=18585  v= 0.102, len(dir_log)=12500\n",
      "EPOCH = 952033.261172, wall =  72.95 ms, jitter =  72.95 ms  Δc=+26  c=18611  v= 0.102, len(dir_log)=12500\n",
      "EPOCH = 952033.533485, wall = 272.31 ms, jitter = 272.31 ms  Δc=+25  c=18636  v= 0.098, len(dir_log)=12500\n",
      "EPOCH = 952033.645016, wall = 111.53 ms, jitter = 111.53 ms  Δc=+26  c=18662  v= 0.102, len(dir_log)=12500\n",
      "EPOCH = 952033.766852, wall = 121.84 ms, jitter = 121.84 ms  Δc=+25  c=18687  v= 0.098, len(dir_log)=12500\n"
     ]
    },
    {
     "ename": "UnboundLocalError",
     "evalue": "cannot access local variable 'x_pad' where it is not associated with a value",
     "output_type": "error",
     "traceback": [
      "\u001b[1;31m---------------------------------------------------------------------------\u001b[0m",
      "\u001b[1;31mUnboundLocalError\u001b[0m                         Traceback (most recent call last)",
      "Cell \u001b[1;32mIn[5], line 316\u001b[0m, in \u001b[0;36mstart_gui.<locals>.refresh\u001b[1;34m()\u001b[0m\n\u001b[0;32m    314\u001b[0m curve_cnt\u001b[38;5;241m.\u001b[39msetData(xs_cnt, y_cnt)\n\u001b[0;32m    315\u001b[0m curve_vel\u001b[38;5;241m.\u001b[39msetData(xs_vel, y_vel)\n\u001b[1;32m--> 316\u001b[0m curve_comvel\u001b[38;5;241m.\u001b[39msetData(\u001b[43mx_pad\u001b[49m, y_pad)\n",
      "\u001b[1;31mUnboundLocalError\u001b[0m: cannot access local variable 'x_pad' where it is not associated with a value"
     ]
    },
    {
     "name": "stdout",
     "output_type": "stream",
     "text": [
      "EPOCH = 952034.060633, wall = 293.78 ms, jitter = 293.78 ms  Δc=+26  c=18713  v= 0.102, len(dir_log)=12500\n",
      "EPOCH = 952034.174250, wall = 113.62 ms, jitter = 113.62 ms  Δc=+26  c=18739  v= 0.102, len(dir_log)=12500\n",
      "EPOCH = 952034.263684, wall =  89.43 ms, jitter =  89.43 ms  Δc=+25  c=18764  v= 0.098, len(dir_log)=12500\n",
      "EPOCH = 952034.406836, wall = 143.15 ms, jitter = 143.15 ms  Δc=+26  c=18790  v= 0.102, len(dir_log)=12500\n"
     ]
    },
    {
     "ename": "UnboundLocalError",
     "evalue": "cannot access local variable 'x_pad' where it is not associated with a value",
     "output_type": "error",
     "traceback": [
      "\u001b[1;31m---------------------------------------------------------------------------\u001b[0m",
      "\u001b[1;31mUnboundLocalError\u001b[0m                         Traceback (most recent call last)",
      "Cell \u001b[1;32mIn[5], line 316\u001b[0m, in \u001b[0;36mstart_gui.<locals>.refresh\u001b[1;34m()\u001b[0m\n\u001b[0;32m    314\u001b[0m curve_cnt\u001b[38;5;241m.\u001b[39msetData(xs_cnt, y_cnt)\n\u001b[0;32m    315\u001b[0m curve_vel\u001b[38;5;241m.\u001b[39msetData(xs_vel, y_vel)\n\u001b[1;32m--> 316\u001b[0m curve_comvel\u001b[38;5;241m.\u001b[39msetData(\u001b[43mx_pad\u001b[49m, y_pad)\n",
      "\u001b[1;31mUnboundLocalError\u001b[0m: cannot access local variable 'x_pad' where it is not associated with a value"
     ]
    },
    {
     "name": "stdout",
     "output_type": "stream",
     "text": [
      "EPOCH = 952034.637161, wall = 230.32 ms, jitter = 230.32 ms  Δc=+25  c=18815  v= 0.098, len(dir_log)=12500\n",
      "EPOCH = 952034.757522, wall = 120.36 ms, jitter = 120.36 ms  Δc=+26  c=18841  v= 0.102, len(dir_log)=12500\n",
      "EPOCH = 952034.887503, wall = 129.98 ms, jitter = 129.98 ms  Δc=+26  c=18867  v= 0.102, len(dir_log)=12500\n",
      "EPOCH = 952035.032262, wall = 144.76 ms, jitter = 144.76 ms  Δc=+25  c=18892  v= 0.098, len(dir_log)=12500\n",
      "EPOCH = 952035.281794, wall = 249.53 ms, jitter = 249.53 ms  Δc=+26  c=18918  v= 0.102, len(dir_log)=12500\n",
      "EPOCH = 952035.448654, wall = 166.86 ms, jitter = 166.86 ms  Δc=+25  c=18943  v= 0.098, len(dir_log)=12500\n",
      "EPOCH = 952035.511590, wall =  62.94 ms, jitter =  62.94 ms  Δc=+26  c=18969  v= 0.102, len(dir_log)=12500\n",
      "EPOCH = 952035.659556, wall = 147.97 ms, jitter = 147.97 ms  Δc=+26  c=18995  v= 0.102, len(dir_log)=12500\n",
      "EPOCH = 952035.768843, wall = 109.29 ms, jitter = 109.29 ms  Δc=+25  c=19020  v= 0.098, len(dir_log)=12500\n"
     ]
    },
    {
     "ename": "UnboundLocalError",
     "evalue": "cannot access local variable 'x_pad' where it is not associated with a value",
     "output_type": "error",
     "traceback": [
      "\u001b[1;31m---------------------------------------------------------------------------\u001b[0m",
      "\u001b[1;31mUnboundLocalError\u001b[0m                         Traceback (most recent call last)",
      "Cell \u001b[1;32mIn[5], line 316\u001b[0m, in \u001b[0;36mstart_gui.<locals>.refresh\u001b[1;34m()\u001b[0m\n\u001b[0;32m    314\u001b[0m curve_cnt\u001b[38;5;241m.\u001b[39msetData(xs_cnt, y_cnt)\n\u001b[0;32m    315\u001b[0m curve_vel\u001b[38;5;241m.\u001b[39msetData(xs_vel, y_vel)\n\u001b[1;32m--> 316\u001b[0m curve_comvel\u001b[38;5;241m.\u001b[39msetData(\u001b[43mx_pad\u001b[49m, y_pad)\n",
      "\u001b[1;31mUnboundLocalError\u001b[0m: cannot access local variable 'x_pad' where it is not associated with a value"
     ]
    },
    {
     "name": "stdout",
     "output_type": "stream",
     "text": [
      "EPOCH = 952036.063023, wall = 294.18 ms, jitter = 294.18 ms  Δc=+26  c=19046  v= 0.102, len(dir_log)=12500\n",
      "EPOCH = 952036.137051, wall =  74.03 ms, jitter =  74.03 ms  Δc=+25  c=19071  v= 0.098, len(dir_log)=12500\n",
      "EPOCH = 952036.284903, wall = 147.85 ms, jitter = 147.85 ms  Δc=+26  c=19097  v= 0.102, len(dir_log)=12500\n"
     ]
    },
    {
     "ename": "UnboundLocalError",
     "evalue": "cannot access local variable 'x_pad' where it is not associated with a value",
     "output_type": "error",
     "traceback": [
      "\u001b[1;31m---------------------------------------------------------------------------\u001b[0m",
      "\u001b[1;31mUnboundLocalError\u001b[0m                         Traceback (most recent call last)",
      "Cell \u001b[1;32mIn[5], line 316\u001b[0m, in \u001b[0;36mstart_gui.<locals>.refresh\u001b[1;34m()\u001b[0m\n\u001b[0;32m    314\u001b[0m curve_cnt\u001b[38;5;241m.\u001b[39msetData(xs_cnt, y_cnt)\n\u001b[0;32m    315\u001b[0m curve_vel\u001b[38;5;241m.\u001b[39msetData(xs_vel, y_vel)\n\u001b[1;32m--> 316\u001b[0m curve_comvel\u001b[38;5;241m.\u001b[39msetData(\u001b[43mx_pad\u001b[49m, y_pad)\n",
      "\u001b[1;31mUnboundLocalError\u001b[0m: cannot access local variable 'x_pad' where it is not associated with a value"
     ]
    },
    {
     "name": "stdout",
     "output_type": "stream",
     "text": [
      "EPOCH = 952036.520940, wall = 236.04 ms, jitter = 236.04 ms  Δc=+26  c=19123  v= 0.102, len(dir_log)=12500\n",
      "EPOCH = 952036.634995, wall = 114.06 ms, jitter = 114.06 ms  Δc=+25  c=19148  v= 0.098, len(dir_log)=12500\n",
      "EPOCH = 952036.786819, wall = 151.82 ms, jitter = 151.82 ms  Δc=+26  c=19174  v= 0.102, len(dir_log)=12500\n",
      "EPOCH = 952036.908547, wall = 121.73 ms, jitter = 121.73 ms  Δc=+25  c=19199  v= 0.098, len(dir_log)=12500\n"
     ]
    },
    {
     "ename": "UnboundLocalError",
     "evalue": "cannot access local variable 'x_pad' where it is not associated with a value",
     "output_type": "error",
     "traceback": [
      "\u001b[1;31m---------------------------------------------------------------------------\u001b[0m",
      "\u001b[1;31mUnboundLocalError\u001b[0m                         Traceback (most recent call last)",
      "Cell \u001b[1;32mIn[5], line 316\u001b[0m, in \u001b[0;36mstart_gui.<locals>.refresh\u001b[1;34m()\u001b[0m\n\u001b[0;32m    314\u001b[0m curve_cnt\u001b[38;5;241m.\u001b[39msetData(xs_cnt, y_cnt)\n\u001b[0;32m    315\u001b[0m curve_vel\u001b[38;5;241m.\u001b[39msetData(xs_vel, y_vel)\n\u001b[1;32m--> 316\u001b[0m curve_comvel\u001b[38;5;241m.\u001b[39msetData(\u001b[43mx_pad\u001b[49m, y_pad)\n",
      "\u001b[1;31mUnboundLocalError\u001b[0m: cannot access local variable 'x_pad' where it is not associated with a value"
     ]
    },
    {
     "name": "stdout",
     "output_type": "stream",
     "text": [
      "EPOCH = 952037.167448, wall = 258.90 ms, jitter = 258.90 ms  Δc=+26  c=19225  v= 0.102, len(dir_log)=12500\n",
      "EPOCH = 952037.287736, wall = 120.29 ms, jitter = 120.29 ms  Δc=+26  c=19251  v= 0.102, len(dir_log)=12500\n",
      "EPOCH = 952037.409145, wall = 121.41 ms, jitter = 121.41 ms  Δc=+25  c=19276  v= 0.098, len(dir_log)=12500\n",
      "EPOCH = 952037.536816, wall = 127.67 ms, jitter = 127.67 ms  Δc=+26  c=19302  v= 0.102, len(dir_log)=12500\n",
      "EPOCH = 952037.763249, wall = 226.43 ms, jitter = 226.43 ms  Δc=+25  c=19327  v= 0.098, len(dir_log)=12500\n"
     ]
    },
    {
     "ename": "UnboundLocalError",
     "evalue": "cannot access local variable 'x_pad' where it is not associated with a value",
     "output_type": "error",
     "traceback": [
      "\u001b[1;31m---------------------------------------------------------------------------\u001b[0m",
      "\u001b[1;31mUnboundLocalError\u001b[0m                         Traceback (most recent call last)",
      "Cell \u001b[1;32mIn[5], line 316\u001b[0m, in \u001b[0;36mstart_gui.<locals>.refresh\u001b[1;34m()\u001b[0m\n\u001b[0;32m    314\u001b[0m curve_cnt\u001b[38;5;241m.\u001b[39msetData(xs_cnt, y_cnt)\n\u001b[0;32m    315\u001b[0m curve_vel\u001b[38;5;241m.\u001b[39msetData(xs_vel, y_vel)\n\u001b[1;32m--> 316\u001b[0m curve_comvel\u001b[38;5;241m.\u001b[39msetData(\u001b[43mx_pad\u001b[49m, y_pad)\n",
      "\u001b[1;31mUnboundLocalError\u001b[0m: cannot access local variable 'x_pad' where it is not associated with a value"
     ]
    },
    {
     "name": "stdout",
     "output_type": "stream",
     "text": [
      "EPOCH = 952037.904939, wall = 141.69 ms, jitter = 141.69 ms  Δc=+26  c=19353  v= 0.102, len(dir_log)=12500\n",
      "EPOCH = 952038.023388, wall = 118.45 ms, jitter = 118.45 ms  Δc=+26  c=19379  v= 0.102, len(dir_log)=12500\n",
      "EPOCH = 952038.289130, wall = 265.74 ms, jitter = 265.74 ms  Δc=+25  c=19404  v= 0.098, len(dir_log)=12500\n"
     ]
    },
    {
     "ename": "UnboundLocalError",
     "evalue": "cannot access local variable 'x_pad' where it is not associated with a value",
     "output_type": "error",
     "traceback": [
      "\u001b[1;31m---------------------------------------------------------------------------\u001b[0m",
      "\u001b[1;31mUnboundLocalError\u001b[0m                         Traceback (most recent call last)",
      "Cell \u001b[1;32mIn[5], line 316\u001b[0m, in \u001b[0;36mstart_gui.<locals>.refresh\u001b[1;34m()\u001b[0m\n\u001b[0;32m    314\u001b[0m curve_cnt\u001b[38;5;241m.\u001b[39msetData(xs_cnt, y_cnt)\n\u001b[0;32m    315\u001b[0m curve_vel\u001b[38;5;241m.\u001b[39msetData(xs_vel, y_vel)\n\u001b[1;32m--> 316\u001b[0m curve_comvel\u001b[38;5;241m.\u001b[39msetData(\u001b[43mx_pad\u001b[49m, y_pad)\n",
      "\u001b[1;31mUnboundLocalError\u001b[0m: cannot access local variable 'x_pad' where it is not associated with a value"
     ]
    },
    {
     "name": "stdout",
     "output_type": "stream",
     "text": [
      "EPOCH = 952038.522700, wall = 233.57 ms, jitter = 233.57 ms  Δc=+26  c=19430  v= 0.102, len(dir_log)=12500\n",
      "EPOCH = 952038.648774, wall = 126.07 ms, jitter = 126.07 ms  Δc=+25  c=19455  v= 0.098, len(dir_log)=12500\n",
      "EPOCH = 952038.902291, wall = 253.52 ms, jitter = 253.52 ms  Δc=+26  c=19481  v= 0.102, len(dir_log)=12500\n",
      "EPOCH = 952039.056272, wall = 153.98 ms, jitter = 153.98 ms  Δc=+26  c=19507  v= 0.102, len(dir_log)=12500\n",
      "EPOCH = 952039.205093, wall = 148.82 ms, jitter = 148.82 ms  Δc=+25  c=19532  v= 0.098, len(dir_log)=12500\n",
      "EPOCH = 952039.271365, wall =  66.27 ms, jitter =  66.27 ms  Δc=+26  c=19558  v= 0.102, len(dir_log)=12500\n",
      "EPOCH = 952039.396330, wall = 124.97 ms, jitter = 124.97 ms  Δc=+25  c=19583  v= 0.098, len(dir_log)=12500\n",
      "EPOCH = 952039.529248, wall = 132.92 ms, jitter = 132.92 ms  Δc=+26  c=19609  v= 0.102, len(dir_log)=12500\n"
     ]
    },
    {
     "ename": "UnboundLocalError",
     "evalue": "cannot access local variable 'x_pad' where it is not associated with a value",
     "output_type": "error",
     "traceback": [
      "\u001b[1;31m---------------------------------------------------------------------------\u001b[0m",
      "\u001b[1;31mUnboundLocalError\u001b[0m                         Traceback (most recent call last)",
      "Cell \u001b[1;32mIn[5], line 316\u001b[0m, in \u001b[0;36mstart_gui.<locals>.refresh\u001b[1;34m()\u001b[0m\n\u001b[0;32m    314\u001b[0m curve_cnt\u001b[38;5;241m.\u001b[39msetData(xs_cnt, y_cnt)\n\u001b[0;32m    315\u001b[0m curve_vel\u001b[38;5;241m.\u001b[39msetData(xs_vel, y_vel)\n\u001b[1;32m--> 316\u001b[0m curve_comvel\u001b[38;5;241m.\u001b[39msetData(\u001b[43mx_pad\u001b[49m, y_pad)\n",
      "\u001b[1;31mUnboundLocalError\u001b[0m: cannot access local variable 'x_pad' where it is not associated with a value"
     ]
    },
    {
     "name": "stdout",
     "output_type": "stream",
     "text": [
      "EPOCH = 952039.829584, wall = 300.34 ms, jitter = 300.34 ms  Δc=+26  c=19635  v= 0.102, len(dir_log)=12500\n",
      "EPOCH = 952039.920780, wall =  91.20 ms, jitter =  91.20 ms  Δc=+25  c=19660  v= 0.098, len(dir_log)=12500\n",
      "EPOCH = 952040.081729, wall = 160.95 ms, jitter = 160.95 ms  Δc=+26  c=19686  v= 0.102, len(dir_log)=12500\n",
      "EPOCH = 952040.273768, wall = 192.04 ms, jitter = 192.04 ms  Δc=+25  c=19711  v= 0.098, len(dir_log)=12500\n",
      "EPOCH = 952040.397755, wall = 123.99 ms, jitter = 123.99 ms  Δc=+26  c=19737  v= 0.102, len(dir_log)=12500\n",
      "EPOCH = 952040.560706, wall = 162.95 ms, jitter = 162.95 ms  Δc=+26  c=19763  v= 0.102, len(dir_log)=12500\n"
     ]
    },
    {
     "ename": "UnboundLocalError",
     "evalue": "cannot access local variable 'x_pad' where it is not associated with a value",
     "output_type": "error",
     "traceback": [
      "\u001b[1;31m---------------------------------------------------------------------------\u001b[0m",
      "\u001b[1;31mUnboundLocalError\u001b[0m                         Traceback (most recent call last)",
      "Cell \u001b[1;32mIn[5], line 316\u001b[0m, in \u001b[0;36mstart_gui.<locals>.refresh\u001b[1;34m()\u001b[0m\n\u001b[0;32m    314\u001b[0m curve_cnt\u001b[38;5;241m.\u001b[39msetData(xs_cnt, y_cnt)\n\u001b[0;32m    315\u001b[0m curve_vel\u001b[38;5;241m.\u001b[39msetData(xs_vel, y_vel)\n\u001b[1;32m--> 316\u001b[0m curve_comvel\u001b[38;5;241m.\u001b[39msetData(\u001b[43mx_pad\u001b[49m, y_pad)\n",
      "\u001b[1;31mUnboundLocalError\u001b[0m: cannot access local variable 'x_pad' where it is not associated with a value"
     ]
    },
    {
     "name": "stdout",
     "output_type": "stream",
     "text": [
      "EPOCH = 952040.823289, wall = 262.58 ms, jitter = 262.58 ms  Δc=+25  c=19788  v= 0.098, len(dir_log)=12500\n",
      "EPOCH = 952041.021860, wall = 198.57 ms, jitter = 198.57 ms  Δc=+26  c=19814  v= 0.102, len(dir_log)=12500\n",
      "EPOCH = 952041.147349, wall = 125.49 ms, jitter = 125.49 ms  Δc=+25  c=19839  v= 0.098, len(dir_log)=12500\n"
     ]
    },
    {
     "ename": "UnboundLocalError",
     "evalue": "cannot access local variable 'x_pad' where it is not associated with a value",
     "output_type": "error",
     "traceback": [
      "\u001b[1;31m---------------------------------------------------------------------------\u001b[0m",
      "\u001b[1;31mUnboundLocalError\u001b[0m                         Traceback (most recent call last)",
      "Cell \u001b[1;32mIn[5], line 316\u001b[0m, in \u001b[0;36mstart_gui.<locals>.refresh\u001b[1;34m()\u001b[0m\n\u001b[0;32m    314\u001b[0m curve_cnt\u001b[38;5;241m.\u001b[39msetData(xs_cnt, y_cnt)\n\u001b[0;32m    315\u001b[0m curve_vel\u001b[38;5;241m.\u001b[39msetData(xs_vel, y_vel)\n\u001b[1;32m--> 316\u001b[0m curve_comvel\u001b[38;5;241m.\u001b[39msetData(\u001b[43mx_pad\u001b[49m, y_pad)\n",
      "\u001b[1;31mUnboundLocalError\u001b[0m: cannot access local variable 'x_pad' where it is not associated with a value"
     ]
    },
    {
     "name": "stdout",
     "output_type": "stream",
     "text": [
      "EPOCH = 952041.457118, wall = 309.77 ms, jitter = 309.77 ms  Δc=+26  c=19865  v= 0.102, len(dir_log)=12500\n",
      "EPOCH = 952041.514221, wall =  57.10 ms, jitter =  57.10 ms  Δc=+26  c=19891  v= 0.102, len(dir_log)=12500\n",
      "EPOCH = 952041.637966, wall = 123.74 ms, jitter = 123.74 ms  Δc=+25  c=19916  v= 0.098, len(dir_log)=12500\n"
     ]
    },
    {
     "ename": "UnboundLocalError",
     "evalue": "cannot access local variable 'x_pad' where it is not associated with a value",
     "output_type": "error",
     "traceback": [
      "\u001b[1;31m---------------------------------------------------------------------------\u001b[0m",
      "\u001b[1;31mUnboundLocalError\u001b[0m                         Traceback (most recent call last)",
      "Cell \u001b[1;32mIn[5], line 316\u001b[0m, in \u001b[0;36mstart_gui.<locals>.refresh\u001b[1;34m()\u001b[0m\n\u001b[0;32m    314\u001b[0m curve_cnt\u001b[38;5;241m.\u001b[39msetData(xs_cnt, y_cnt)\n\u001b[0;32m    315\u001b[0m curve_vel\u001b[38;5;241m.\u001b[39msetData(xs_vel, y_vel)\n\u001b[1;32m--> 316\u001b[0m curve_comvel\u001b[38;5;241m.\u001b[39msetData(\u001b[43mx_pad\u001b[49m, y_pad)\n",
      "\u001b[1;31mUnboundLocalError\u001b[0m: cannot access local variable 'x_pad' where it is not associated with a value"
     ]
    },
    {
     "name": "stdout",
     "output_type": "stream",
     "text": [
      "EPOCH = 952041.894177, wall = 256.21 ms, jitter = 256.21 ms  Δc=+26  c=19942  v= 0.102, len(dir_log)=12500\n",
      "EPOCH = 952042.017512, wall = 123.33 ms, jitter = 123.33 ms  Δc=+25  c=19967  v= 0.098, len(dir_log)=12500\n",
      "EPOCH = 952042.145605, wall = 128.09 ms, jitter = 128.09 ms  Δc=+26  c=19993  v= 0.102, len(dir_log)=12500\n",
      "EPOCH = 952042.285073, wall = 139.47 ms, jitter = 139.47 ms  Δc=+26  c=20019  v= 0.102, len(dir_log)=12500\n",
      "EPOCH = 952042.438609, wall = 153.54 ms, jitter = 153.54 ms  Δc=+25  c=20044  v= 0.098, len(dir_log)=12500\n",
      "EPOCH = 952042.508706, wall =  70.10 ms, jitter =  70.10 ms  Δc=+26  c=20070  v= 0.102, len(dir_log)=12500\n",
      "EPOCH = 952042.643108, wall = 134.40 ms, jitter = 134.40 ms  Δc=+25  c=20095  v= 0.098, len(dir_log)=12500\n",
      "EPOCH = 952042.904866, wall = 261.76 ms, jitter = 261.76 ms  Δc=+26  c=20121  v= 0.102, len(dir_log)=12500\n",
      "EPOCH = 952043.016671, wall = 111.80 ms, jitter = 111.80 ms  Δc=+26  c=20147  v= 0.102, len(dir_log)=12500\n",
      "EPOCH = 952043.152353, wall = 135.68 ms, jitter = 135.68 ms  Δc=+25  c=20172  v= 0.098, len(dir_log)=12500\n"
     ]
    },
    {
     "ename": "UnboundLocalError",
     "evalue": "cannot access local variable 'x_pad' where it is not associated with a value",
     "output_type": "error",
     "traceback": [
      "\u001b[1;31m---------------------------------------------------------------------------\u001b[0m",
      "\u001b[1;31mUnboundLocalError\u001b[0m                         Traceback (most recent call last)",
      "Cell \u001b[1;32mIn[5], line 316\u001b[0m, in \u001b[0;36mstart_gui.<locals>.refresh\u001b[1;34m()\u001b[0m\n\u001b[0;32m    314\u001b[0m curve_cnt\u001b[38;5;241m.\u001b[39msetData(xs_cnt, y_cnt)\n\u001b[0;32m    315\u001b[0m curve_vel\u001b[38;5;241m.\u001b[39msetData(xs_vel, y_vel)\n\u001b[1;32m--> 316\u001b[0m curve_comvel\u001b[38;5;241m.\u001b[39msetData(\u001b[43mx_pad\u001b[49m, y_pad)\n",
      "\u001b[1;31mUnboundLocalError\u001b[0m: cannot access local variable 'x_pad' where it is not associated with a value"
     ]
    },
    {
     "name": "stdout",
     "output_type": "stream",
     "text": [
      "EPOCH = 952043.423583, wall = 271.23 ms, jitter = 271.23 ms  Δc=+26  c=20198  v= 0.102, len(dir_log)=12500\n",
      "EPOCH = 952043.534682, wall = 111.10 ms, jitter = 111.10 ms  Δc=+25  c=20223  v= 0.098, len(dir_log)=12500\n",
      "EPOCH = 952043.640242, wall = 105.56 ms, jitter = 105.56 ms  Δc=+26  c=20249  v= 0.102, len(dir_log)=12500\n",
      "EPOCH = 952043.766402, wall = 126.16 ms, jitter = 126.16 ms  Δc=+26  c=20275  v= 0.102, len(dir_log)=12500\n",
      "EPOCH = 952044.041651, wall = 275.25 ms, jitter = 275.25 ms  Δc=+25  c=20300  v= 0.098, len(dir_log)=12500\n",
      "EPOCH = 952044.162615, wall = 120.96 ms, jitter = 120.96 ms  Δc=+26  c=20326  v= 0.102, len(dir_log)=12500\n",
      "EPOCH = 952044.299401, wall = 136.79 ms, jitter = 136.79 ms  Δc=+25  c=20351  v= 0.098, len(dir_log)=12500\n",
      "EPOCH = 952044.425415, wall = 126.01 ms, jitter = 126.01 ms  Δc=+26  c=20377  v= 0.102, len(dir_log)=12500\n"
     ]
    },
    {
     "ename": "UnboundLocalError",
     "evalue": "cannot access local variable 'x_pad' where it is not associated with a value",
     "output_type": "error",
     "traceback": [
      "\u001b[1;31m---------------------------------------------------------------------------\u001b[0m",
      "\u001b[1;31mUnboundLocalError\u001b[0m                         Traceback (most recent call last)",
      "Cell \u001b[1;32mIn[5], line 316\u001b[0m, in \u001b[0;36mstart_gui.<locals>.refresh\u001b[1;34m()\u001b[0m\n\u001b[0;32m    314\u001b[0m curve_cnt\u001b[38;5;241m.\u001b[39msetData(xs_cnt, y_cnt)\n\u001b[0;32m    315\u001b[0m curve_vel\u001b[38;5;241m.\u001b[39msetData(xs_vel, y_vel)\n\u001b[1;32m--> 316\u001b[0m curve_comvel\u001b[38;5;241m.\u001b[39msetData(\u001b[43mx_pad\u001b[49m, y_pad)\n",
      "\u001b[1;31mUnboundLocalError\u001b[0m: cannot access local variable 'x_pad' where it is not associated with a value"
     ]
    },
    {
     "name": "stdout",
     "output_type": "stream",
     "text": [
      "EPOCH = 952044.665920, wall = 240.50 ms, jitter = 240.50 ms  Δc=+26  c=20403  v= 0.102, len(dir_log)=12500\n",
      "EPOCH = 952044.780499, wall = 114.58 ms, jitter = 114.58 ms  Δc=+25  c=20428  v= 0.098, len(dir_log)=12500\n",
      "EPOCH = 952044.901026, wall = 120.53 ms, jitter = 120.53 ms  Δc=+26  c=20454  v= 0.102, len(dir_log)=12500\n",
      "EPOCH = 952045.041028, wall = 140.00 ms, jitter = 140.00 ms  Δc=+25  c=20479  v= 0.098, len(dir_log)=12500\n"
     ]
    },
    {
     "ename": "UnboundLocalError",
     "evalue": "cannot access local variable 'x_pad' where it is not associated with a value",
     "output_type": "error",
     "traceback": [
      "\u001b[1;31m---------------------------------------------------------------------------\u001b[0m",
      "\u001b[1;31mUnboundLocalError\u001b[0m                         Traceback (most recent call last)",
      "Cell \u001b[1;32mIn[5], line 316\u001b[0m, in \u001b[0;36mstart_gui.<locals>.refresh\u001b[1;34m()\u001b[0m\n\u001b[0;32m    314\u001b[0m curve_cnt\u001b[38;5;241m.\u001b[39msetData(xs_cnt, y_cnt)\n\u001b[0;32m    315\u001b[0m curve_vel\u001b[38;5;241m.\u001b[39msetData(xs_vel, y_vel)\n\u001b[1;32m--> 316\u001b[0m curve_comvel\u001b[38;5;241m.\u001b[39msetData(\u001b[43mx_pad\u001b[49m, y_pad)\n",
      "\u001b[1;31mUnboundLocalError\u001b[0m: cannot access local variable 'x_pad' where it is not associated with a value"
     ]
    },
    {
     "name": "stdout",
     "output_type": "stream",
     "text": [
      "EPOCH = 952045.297173, wall = 256.14 ms, jitter = 256.14 ms  Δc=+26  c=20505  v= 0.102, len(dir_log)=12500\n",
      "EPOCH = 952045.414340, wall = 117.17 ms, jitter = 117.17 ms  Δc=+26  c=20531  v= 0.102, len(dir_log)=12500\n"
     ]
    },
    {
     "ename": "UnboundLocalError",
     "evalue": "cannot access local variable 'x_pad' where it is not associated with a value",
     "output_type": "error",
     "traceback": [
      "\u001b[1;31m---------------------------------------------------------------------------\u001b[0m",
      "\u001b[1;31mUnboundLocalError\u001b[0m                         Traceback (most recent call last)",
      "Cell \u001b[1;32mIn[5], line 316\u001b[0m, in \u001b[0;36mstart_gui.<locals>.refresh\u001b[1;34m()\u001b[0m\n\u001b[0;32m    314\u001b[0m curve_cnt\u001b[38;5;241m.\u001b[39msetData(xs_cnt, y_cnt)\n\u001b[0;32m    315\u001b[0m curve_vel\u001b[38;5;241m.\u001b[39msetData(xs_vel, y_vel)\n\u001b[1;32m--> 316\u001b[0m curve_comvel\u001b[38;5;241m.\u001b[39msetData(\u001b[43mx_pad\u001b[49m, y_pad)\n",
      "\u001b[1;31mUnboundLocalError\u001b[0m: cannot access local variable 'x_pad' where it is not associated with a value"
     ]
    },
    {
     "name": "stdout",
     "output_type": "stream",
     "text": [
      "EPOCH = 952045.671359, wall = 257.02 ms, jitter = 257.02 ms  Δc=+25  c=20556  v= 0.098, len(dir_log)=12500\n",
      "EPOCH = 952045.773999, wall = 102.64 ms, jitter = 102.64 ms  Δc=+26  c=20582  v= 0.102, len(dir_log)=12500\n"
     ]
    },
    {
     "ename": "UnboundLocalError",
     "evalue": "cannot access local variable 'x_pad' where it is not associated with a value",
     "output_type": "error",
     "traceback": [
      "\u001b[1;31m---------------------------------------------------------------------------\u001b[0m",
      "\u001b[1;31mUnboundLocalError\u001b[0m                         Traceback (most recent call last)",
      "Cell \u001b[1;32mIn[5], line 316\u001b[0m, in \u001b[0;36mstart_gui.<locals>.refresh\u001b[1;34m()\u001b[0m\n\u001b[0;32m    314\u001b[0m curve_cnt\u001b[38;5;241m.\u001b[39msetData(xs_cnt, y_cnt)\n\u001b[0;32m    315\u001b[0m curve_vel\u001b[38;5;241m.\u001b[39msetData(xs_vel, y_vel)\n\u001b[1;32m--> 316\u001b[0m curve_comvel\u001b[38;5;241m.\u001b[39msetData(\u001b[43mx_pad\u001b[49m, y_pad)\n",
      "\u001b[1;31mUnboundLocalError\u001b[0m: cannot access local variable 'x_pad' where it is not associated with a value"
     ]
    },
    {
     "name": "stdout",
     "output_type": "stream",
     "text": [
      "EPOCH = 952046.009786, wall = 235.79 ms, jitter = 235.79 ms  Δc=+25  c=20607  v= 0.098, len(dir_log)=12500\n",
      "EPOCH = 952046.141471, wall = 131.69 ms, jitter = 131.69 ms  Δc=+26  c=20633  v= 0.102, len(dir_log)=12500\n",
      "EPOCH = 952046.281400, wall = 139.93 ms, jitter = 139.93 ms  Δc=+26  c=20659  v= 0.102, len(dir_log)=12500\n",
      "EPOCH = 952046.411383, wall = 129.98 ms, jitter = 129.98 ms  Δc=+25  c=20684  v= 0.098, len(dir_log)=12500\n",
      "EPOCH = 952046.513597, wall = 102.21 ms, jitter = 102.21 ms  Δc=+26  c=20710  v= 0.102, len(dir_log)=12500\n",
      "EPOCH = 952046.779234, wall = 265.64 ms, jitter = 265.64 ms  Δc=+25  c=20735  v= 0.098, len(dir_log)=12500\n",
      "EPOCH = 952046.892901, wall = 113.67 ms, jitter = 113.67 ms  Δc=+26  c=20761  v= 0.102, len(dir_log)=12500\n",
      "EPOCH = 952047.028897, wall = 136.00 ms, jitter = 136.00 ms  Δc=+26  c=20787  v= 0.102, len(dir_log)=12500\n",
      "EPOCH = 952047.168117, wall = 139.22 ms, jitter = 139.22 ms  Δc=+25  c=20812  v= 0.098, len(dir_log)=12500\n"
     ]
    },
    {
     "ename": "UnboundLocalError",
     "evalue": "cannot access local variable 'x_pad' where it is not associated with a value",
     "output_type": "error",
     "traceback": [
      "\u001b[1;31m---------------------------------------------------------------------------\u001b[0m",
      "\u001b[1;31mUnboundLocalError\u001b[0m                         Traceback (most recent call last)",
      "Cell \u001b[1;32mIn[5], line 316\u001b[0m, in \u001b[0;36mstart_gui.<locals>.refresh\u001b[1;34m()\u001b[0m\n\u001b[0;32m    314\u001b[0m curve_cnt\u001b[38;5;241m.\u001b[39msetData(xs_cnt, y_cnt)\n\u001b[0;32m    315\u001b[0m curve_vel\u001b[38;5;241m.\u001b[39msetData(xs_vel, y_vel)\n\u001b[1;32m--> 316\u001b[0m curve_comvel\u001b[38;5;241m.\u001b[39msetData(\u001b[43mx_pad\u001b[49m, y_pad)\n",
      "\u001b[1;31mUnboundLocalError\u001b[0m: cannot access local variable 'x_pad' where it is not associated with a value"
     ]
    },
    {
     "name": "stdout",
     "output_type": "stream",
     "text": [
      "EPOCH = 952047.399544, wall = 231.43 ms, jitter = 231.43 ms  Δc=+26  c=20838  v= 0.102, len(dir_log)=12500\n",
      "EPOCH = 952047.516260, wall = 116.72 ms, jitter = 116.72 ms  Δc=+25  c=20863  v= 0.098, len(dir_log)=12500\n",
      "EPOCH = 952047.696016, wall = 179.76 ms, jitter = 179.76 ms  Δc=+26  c=20889  v= 0.102, len(dir_log)=12500\n",
      "EPOCH = 952047.913296, wall = 217.28 ms, jitter = 217.28 ms  Δc=+26  c=20915  v= 0.102, len(dir_log)=12500\n",
      "EPOCH = 952048.032870, wall = 119.57 ms, jitter = 119.57 ms  Δc=+25  c=20940  v= 0.098, len(dir_log)=12500\n",
      "EPOCH = 952048.174950, wall = 142.08 ms, jitter = 142.08 ms  Δc=+26  c=20966  v= 0.102, len(dir_log)=12500\n"
     ]
    },
    {
     "ename": "UnboundLocalError",
     "evalue": "cannot access local variable 'x_pad' where it is not associated with a value",
     "output_type": "error",
     "traceback": [
      "\u001b[1;31m---------------------------------------------------------------------------\u001b[0m",
      "\u001b[1;31mUnboundLocalError\u001b[0m                         Traceback (most recent call last)",
      "Cell \u001b[1;32mIn[5], line 316\u001b[0m, in \u001b[0;36mstart_gui.<locals>.refresh\u001b[1;34m()\u001b[0m\n\u001b[0;32m    314\u001b[0m curve_cnt\u001b[38;5;241m.\u001b[39msetData(xs_cnt, y_cnt)\n\u001b[0;32m    315\u001b[0m curve_vel\u001b[38;5;241m.\u001b[39msetData(xs_vel, y_vel)\n\u001b[1;32m--> 316\u001b[0m curve_comvel\u001b[38;5;241m.\u001b[39msetData(\u001b[43mx_pad\u001b[49m, y_pad)\n",
      "\u001b[1;31mUnboundLocalError\u001b[0m: cannot access local variable 'x_pad' where it is not associated with a value"
     ]
    },
    {
     "name": "stdout",
     "output_type": "stream",
     "text": [
      "EPOCH = 952048.394243, wall = 219.29 ms, jitter = 219.29 ms  Δc=+25  c=20991  v= 0.098, len(dir_log)=12500\n",
      "EPOCH = 952048.519724, wall = 125.48 ms, jitter = 125.48 ms  Δc=+26  c=21017  v= 0.102, len(dir_log)=12500\n",
      "EPOCH = 952048.778105, wall = 258.38 ms, jitter = 258.38 ms  Δc=+26  c=21043  v= 0.102, len(dir_log)=12500\n",
      "EPOCH = 952048.921959, wall = 143.85 ms, jitter = 143.85 ms  Δc=+25  c=21068  v= 0.098, len(dir_log)=12500\n",
      "EPOCH = 952049.026047, wall = 104.09 ms, jitter = 104.09 ms  Δc=+26  c=21094  v= 0.102, len(dir_log)=12500\n",
      "EPOCH = 952049.275116, wall = 249.07 ms, jitter = 249.07 ms  Δc=+25  c=21119  v= 0.098, len(dir_log)=12500\n",
      "EPOCH = 952049.387176, wall = 112.06 ms, jitter = 112.06 ms  Δc=+26  c=21145  v= 0.102, len(dir_log)=12500\n"
     ]
    },
    {
     "ename": "UnboundLocalError",
     "evalue": "cannot access local variable 'x_pad' where it is not associated with a value",
     "output_type": "error",
     "traceback": [
      "\u001b[1;31m---------------------------------------------------------------------------\u001b[0m",
      "\u001b[1;31mUnboundLocalError\u001b[0m                         Traceback (most recent call last)",
      "Cell \u001b[1;32mIn[5], line 316\u001b[0m, in \u001b[0;36mstart_gui.<locals>.refresh\u001b[1;34m()\u001b[0m\n\u001b[0;32m    314\u001b[0m curve_cnt\u001b[38;5;241m.\u001b[39msetData(xs_cnt, y_cnt)\n\u001b[0;32m    315\u001b[0m curve_vel\u001b[38;5;241m.\u001b[39msetData(xs_vel, y_vel)\n\u001b[1;32m--> 316\u001b[0m curve_comvel\u001b[38;5;241m.\u001b[39msetData(\u001b[43mx_pad\u001b[49m, y_pad)\n",
      "\u001b[1;31mUnboundLocalError\u001b[0m: cannot access local variable 'x_pad' where it is not associated with a value"
     ]
    },
    {
     "name": "stdout",
     "output_type": "stream",
     "text": [
      "EPOCH = 952049.673198, wall = 286.02 ms, jitter = 286.02 ms  Δc=+26  c=21171  v= 0.102, len(dir_log)=12500\n",
      "EPOCH = 952049.826772, wall = 153.57 ms, jitter = 153.57 ms  Δc=+25  c=21196  v= 0.098, len(dir_log)=12500\n",
      "EPOCH = 952049.895114, wall =  68.34 ms, jitter =  68.34 ms  Δc=+26  c=21222  v= 0.102, len(dir_log)=12500\n",
      "EPOCH = 952050.038108, wall = 142.99 ms, jitter = 142.99 ms  Δc=+25  c=21247  v= 0.098, len(dir_log)=12500\n",
      "EPOCH = 952050.155265, wall = 117.16 ms, jitter = 117.16 ms  Δc=+26  c=21273  v= 0.102, len(dir_log)=12500\n",
      "EPOCH = 952050.309036, wall = 153.77 ms, jitter = 153.77 ms  Δc=+26  c=21299  v= 0.102, len(dir_log)=12500\n"
     ]
    },
    {
     "ename": "UnboundLocalError",
     "evalue": "cannot access local variable 'x_pad' where it is not associated with a value",
     "output_type": "error",
     "traceback": [
      "\u001b[1;31m---------------------------------------------------------------------------\u001b[0m",
      "\u001b[1;31mUnboundLocalError\u001b[0m                         Traceback (most recent call last)",
      "Cell \u001b[1;32mIn[5], line 316\u001b[0m, in \u001b[0;36mstart_gui.<locals>.refresh\u001b[1;34m()\u001b[0m\n\u001b[0;32m    314\u001b[0m curve_cnt\u001b[38;5;241m.\u001b[39msetData(xs_cnt, y_cnt)\n\u001b[0;32m    315\u001b[0m curve_vel\u001b[38;5;241m.\u001b[39msetData(xs_vel, y_vel)\n\u001b[1;32m--> 316\u001b[0m curve_comvel\u001b[38;5;241m.\u001b[39msetData(\u001b[43mx_pad\u001b[49m, y_pad)\n",
      "\u001b[1;31mUnboundLocalError\u001b[0m: cannot access local variable 'x_pad' where it is not associated with a value"
     ]
    },
    {
     "name": "stdout",
     "output_type": "stream",
     "text": [
      "EPOCH = 952050.575969, wall = 266.93 ms, jitter = 266.93 ms  Δc=+25  c=21324  v= 0.098, len(dir_log)=12500\n",
      "EPOCH = 952050.667570, wall =  91.60 ms, jitter =  91.60 ms  Δc=+26  c=21350  v= 0.102, len(dir_log)=12500\n",
      "EPOCH = 952050.796269, wall = 128.70 ms, jitter = 128.70 ms  Δc=+25  c=21375  v= 0.098, len(dir_log)=12500\n",
      "EPOCH = 952050.952486, wall = 156.22 ms, jitter = 156.22 ms  Δc=+26  c=21401  v= 0.102, len(dir_log)=12500\n",
      "EPOCH = 952051.140207, wall = 187.72 ms, jitter = 187.72 ms  Δc=+26  c=21427  v= 0.102, len(dir_log)=12500\n",
      "EPOCH = 952051.277619, wall = 137.41 ms, jitter = 137.41 ms  Δc=+25  c=21452  v= 0.098, len(dir_log)=12500\n"
     ]
    },
    {
     "ename": "UnboundLocalError",
     "evalue": "cannot access local variable 'x_pad' where it is not associated with a value",
     "output_type": "error",
     "traceback": [
      "\u001b[1;31m---------------------------------------------------------------------------\u001b[0m",
      "\u001b[1;31mUnboundLocalError\u001b[0m                         Traceback (most recent call last)",
      "Cell \u001b[1;32mIn[5], line 316\u001b[0m, in \u001b[0;36mstart_gui.<locals>.refresh\u001b[1;34m()\u001b[0m\n\u001b[0;32m    314\u001b[0m curve_cnt\u001b[38;5;241m.\u001b[39msetData(xs_cnt, y_cnt)\n\u001b[0;32m    315\u001b[0m curve_vel\u001b[38;5;241m.\u001b[39msetData(xs_vel, y_vel)\n\u001b[1;32m--> 316\u001b[0m curve_comvel\u001b[38;5;241m.\u001b[39msetData(\u001b[43mx_pad\u001b[49m, y_pad)\n",
      "\u001b[1;31mUnboundLocalError\u001b[0m: cannot access local variable 'x_pad' where it is not associated with a value"
     ]
    },
    {
     "name": "stdout",
     "output_type": "stream",
     "text": [
      "EPOCH = 952051.561507, wall = 283.89 ms, jitter = 283.89 ms  Δc=+26  c=21478  v= 0.102, len(dir_log)=12500\n",
      "EPOCH = 952051.677364, wall = 115.86 ms, jitter = 115.86 ms  Δc=+25  c=21503  v= 0.098, len(dir_log)=12500\n",
      "EPOCH = 952051.766731, wall =  89.37 ms, jitter =  89.37 ms  Δc=+26  c=21529  v= 0.102, len(dir_log)=12500\n",
      "EPOCH = 952051.912571, wall = 145.84 ms, jitter = 145.84 ms  Δc=+26  c=21555  v= 0.102, len(dir_log)=12500\n"
     ]
    },
    {
     "ename": "UnboundLocalError",
     "evalue": "cannot access local variable 'x_pad' where it is not associated with a value",
     "output_type": "error",
     "traceback": [
      "\u001b[1;31m---------------------------------------------------------------------------\u001b[0m",
      "\u001b[1;31mUnboundLocalError\u001b[0m                         Traceback (most recent call last)",
      "Cell \u001b[1;32mIn[5], line 316\u001b[0m, in \u001b[0;36mstart_gui.<locals>.refresh\u001b[1;34m()\u001b[0m\n\u001b[0;32m    314\u001b[0m curve_cnt\u001b[38;5;241m.\u001b[39msetData(xs_cnt, y_cnt)\n\u001b[0;32m    315\u001b[0m curve_vel\u001b[38;5;241m.\u001b[39msetData(xs_vel, y_vel)\n\u001b[1;32m--> 316\u001b[0m curve_comvel\u001b[38;5;241m.\u001b[39msetData(\u001b[43mx_pad\u001b[49m, y_pad)\n",
      "\u001b[1;31mUnboundLocalError\u001b[0m: cannot access local variable 'x_pad' where it is not associated with a value"
     ]
    },
    {
     "name": "stdout",
     "output_type": "stream",
     "text": [
      "EPOCH = 952052.168446, wall = 255.88 ms, jitter = 255.88 ms  Δc=+25  c=21580  v= 0.098, len(dir_log)=12500\n",
      "EPOCH = 952052.277545, wall = 109.10 ms, jitter = 109.10 ms  Δc=+26  c=21606  v= 0.102, len(dir_log)=12500\n"
     ]
    },
    {
     "ename": "UnboundLocalError",
     "evalue": "cannot access local variable 'x_pad' where it is not associated with a value",
     "output_type": "error",
     "traceback": [
      "\u001b[1;31m---------------------------------------------------------------------------\u001b[0m",
      "\u001b[1;31mUnboundLocalError\u001b[0m                         Traceback (most recent call last)",
      "Cell \u001b[1;32mIn[5], line 316\u001b[0m, in \u001b[0;36mstart_gui.<locals>.refresh\u001b[1;34m()\u001b[0m\n\u001b[0;32m    314\u001b[0m curve_cnt\u001b[38;5;241m.\u001b[39msetData(xs_cnt, y_cnt)\n\u001b[0;32m    315\u001b[0m curve_vel\u001b[38;5;241m.\u001b[39msetData(xs_vel, y_vel)\n\u001b[1;32m--> 316\u001b[0m curve_comvel\u001b[38;5;241m.\u001b[39msetData(\u001b[43mx_pad\u001b[49m, y_pad)\n",
      "\u001b[1;31mUnboundLocalError\u001b[0m: cannot access local variable 'x_pad' where it is not associated with a value"
     ]
    },
    {
     "name": "stdout",
     "output_type": "stream",
     "text": [
      "EPOCH = 952052.543279, wall = 265.73 ms, jitter = 265.73 ms  Δc=+25  c=21631  v= 0.098, len(dir_log)=12500\n",
      "EPOCH = 952052.652808, wall = 109.53 ms, jitter = 109.53 ms  Δc=+26  c=21657  v= 0.102, len(dir_log)=12500\n",
      "EPOCH = 952052.781034, wall = 128.23 ms, jitter = 128.23 ms  Δc=+26  c=21683  v= 0.102, len(dir_log)=12500\n"
     ]
    },
    {
     "ename": "UnboundLocalError",
     "evalue": "cannot access local variable 'x_pad' where it is not associated with a value",
     "output_type": "error",
     "traceback": [
      "\u001b[1;31m---------------------------------------------------------------------------\u001b[0m",
      "\u001b[1;31mUnboundLocalError\u001b[0m                         Traceback (most recent call last)",
      "Cell \u001b[1;32mIn[5], line 316\u001b[0m, in \u001b[0;36mstart_gui.<locals>.refresh\u001b[1;34m()\u001b[0m\n\u001b[0;32m    314\u001b[0m curve_cnt\u001b[38;5;241m.\u001b[39msetData(xs_cnt, y_cnt)\n\u001b[0;32m    315\u001b[0m curve_vel\u001b[38;5;241m.\u001b[39msetData(xs_vel, y_vel)\n\u001b[1;32m--> 316\u001b[0m curve_comvel\u001b[38;5;241m.\u001b[39msetData(\u001b[43mx_pad\u001b[49m, y_pad)\n",
      "\u001b[1;31mUnboundLocalError\u001b[0m: cannot access local variable 'x_pad' where it is not associated with a value"
     ]
    },
    {
     "name": "stdout",
     "output_type": "stream",
     "text": [
      "EPOCH = 952053.058669, wall = 277.63 ms, jitter = 277.63 ms  Δc=+25  c=21708  v= 0.098, len(dir_log)=12500\n",
      "EPOCH = 952053.162877, wall = 104.21 ms, jitter = 104.21 ms  Δc=+26  c=21734  v= 0.102, len(dir_log)=12500\n",
      "EPOCH = 952053.272162, wall = 109.28 ms, jitter = 109.28 ms  Δc=+25  c=21759  v= 0.098, len(dir_log)=12500\n",
      "EPOCH = 952053.408118, wall = 135.96 ms, jitter = 135.96 ms  Δc=+26  c=21785  v= 0.102, len(dir_log)=12500\n",
      "EPOCH = 952053.519315, wall = 111.20 ms, jitter = 111.20 ms  Δc=+26  c=21811  v= 0.102, len(dir_log)=12500\n",
      "EPOCH = 952053.768193, wall = 248.88 ms, jitter = 248.88 ms  Δc=+25  c=21836  v= 0.098, len(dir_log)=12500\n",
      "EPOCH = 952053.901666, wall = 133.47 ms, jitter = 133.47 ms  Δc=+26  c=21862  v= 0.102, len(dir_log)=12500\n",
      "EPOCH = 952054.034230, wall = 132.56 ms, jitter = 132.56 ms  Δc=+25  c=21887  v= 0.098, len(dir_log)=12500\n",
      "EPOCH = 952054.185184, wall = 150.95 ms, jitter = 150.95 ms  Δc=+26  c=21913  v= 0.102, len(dir_log)=12500\n",
      "EPOCH = 952054.263241, wall =  78.06 ms, jitter =  78.06 ms  Δc=+26  c=21939  v= 0.102, len(dir_log)=12500\n",
      "EPOCH = 952054.401095, wall = 137.85 ms, jitter = 137.85 ms  Δc=+25  c=21964  v= 0.098, len(dir_log)=12500\n",
      "EPOCH = 952054.643215, wall = 242.12 ms, jitter = 242.12 ms  Δc=+26  c=21990  v= 0.102, len(dir_log)=12500\n",
      "EPOCH = 952054.785329, wall = 142.11 ms, jitter = 142.11 ms  Δc=+25  c=22015  v= 0.098, len(dir_log)=12500\n",
      "EPOCH = 952054.925497, wall = 140.17 ms, jitter = 140.17 ms  Δc=+26  c=22041  v= 0.102, len(dir_log)=12500\n"
     ]
    },
    {
     "ename": "UnboundLocalError",
     "evalue": "cannot access local variable 'x_pad' where it is not associated with a value",
     "output_type": "error",
     "traceback": [
      "\u001b[1;31m---------------------------------------------------------------------------\u001b[0m",
      "\u001b[1;31mUnboundLocalError\u001b[0m                         Traceback (most recent call last)",
      "Cell \u001b[1;32mIn[5], line 316\u001b[0m, in \u001b[0;36mstart_gui.<locals>.refresh\u001b[1;34m()\u001b[0m\n\u001b[0;32m    314\u001b[0m curve_cnt\u001b[38;5;241m.\u001b[39msetData(xs_cnt, y_cnt)\n\u001b[0;32m    315\u001b[0m curve_vel\u001b[38;5;241m.\u001b[39msetData(xs_vel, y_vel)\n\u001b[1;32m--> 316\u001b[0m curve_comvel\u001b[38;5;241m.\u001b[39msetData(\u001b[43mx_pad\u001b[49m, y_pad)\n",
      "\u001b[1;31mUnboundLocalError\u001b[0m: cannot access local variable 'x_pad' where it is not associated with a value"
     ]
    },
    {
     "name": "stdout",
     "output_type": "stream",
     "text": [
      "EPOCH = 952055.164545, wall = 239.05 ms, jitter = 239.05 ms  Δc=+26  c=22067  v= 0.102, len(dir_log)=12500\n",
      "EPOCH = 952055.290968, wall = 126.42 ms, jitter = 126.42 ms  Δc=+25  c=22092  v= 0.098, len(dir_log)=12500\n",
      "EPOCH = 952055.396336, wall = 105.37 ms, jitter = 105.37 ms  Δc=+26  c=22118  v= 0.102, len(dir_log)=12500\n",
      "EPOCH = 952055.657737, wall = 261.40 ms, jitter = 261.40 ms  Δc=+25  c=22143  v= 0.098, len(dir_log)=12500\n",
      "EPOCH = 952055.789722, wall = 131.98 ms, jitter = 131.98 ms  Δc=+26  c=22169  v= 0.102, len(dir_log)=12500\n",
      "EPOCH = 952055.928924, wall = 139.20 ms, jitter = 139.20 ms  Δc=+26  c=22195  v= 0.102, len(dir_log)=12500\n",
      "EPOCH = 952056.007324, wall =  78.40 ms, jitter =  78.40 ms  Δc=+25  c=22220  v= 0.098, len(dir_log)=12500\n"
     ]
    },
    {
     "ename": "UnboundLocalError",
     "evalue": "cannot access local variable 'x_pad' where it is not associated with a value",
     "output_type": "error",
     "traceback": [
      "\u001b[1;31m---------------------------------------------------------------------------\u001b[0m",
      "\u001b[1;31mUnboundLocalError\u001b[0m                         Traceback (most recent call last)",
      "Cell \u001b[1;32mIn[5], line 316\u001b[0m, in \u001b[0;36mstart_gui.<locals>.refresh\u001b[1;34m()\u001b[0m\n\u001b[0;32m    314\u001b[0m curve_cnt\u001b[38;5;241m.\u001b[39msetData(xs_cnt, y_cnt)\n\u001b[0;32m    315\u001b[0m curve_vel\u001b[38;5;241m.\u001b[39msetData(xs_vel, y_vel)\n\u001b[1;32m--> 316\u001b[0m curve_comvel\u001b[38;5;241m.\u001b[39msetData(\u001b[43mx_pad\u001b[49m, y_pad)\n",
      "\u001b[1;31mUnboundLocalError\u001b[0m: cannot access local variable 'x_pad' where it is not associated with a value"
     ]
    },
    {
     "name": "stdout",
     "output_type": "stream",
     "text": [
      "EPOCH = 952056.266546, wall = 259.22 ms, jitter = 259.22 ms  Δc=+26  c=22246  v= 0.102, len(dir_log)=12500\n",
      "EPOCH = 952056.390095, wall = 123.55 ms, jitter = 123.55 ms  Δc=+25  c=22271  v= 0.098, len(dir_log)=12500\n",
      "EPOCH = 952056.519152, wall = 129.06 ms, jitter = 129.06 ms  Δc=+26  c=22297  v= 0.102, len(dir_log)=12500\n",
      "EPOCH = 952056.655318, wall = 136.17 ms, jitter = 136.17 ms  Δc=+26  c=22323  v= 0.102, len(dir_log)=12500\n",
      "EPOCH = 952056.823041, wall = 167.72 ms, jitter = 167.72 ms  Δc=+25  c=22348  v= 0.098, len(dir_log)=12500\n",
      "EPOCH = 952057.025045, wall = 202.00 ms, jitter = 202.00 ms  Δc=+26  c=22374  v= 0.102, len(dir_log)=12500\n",
      "EPOCH = 952057.167141, wall = 142.10 ms, jitter = 142.10 ms  Δc=+25  c=22399  v= 0.098, len(dir_log)=12500\n",
      "EPOCH = 952057.319222, wall = 152.08 ms, jitter = 152.08 ms  Δc=+26  c=22425  v= 0.102, len(dir_log)=12500\n"
     ]
    },
    {
     "ename": "UnboundLocalError",
     "evalue": "cannot access local variable 'x_pad' where it is not associated with a value",
     "output_type": "error",
     "traceback": [
      "\u001b[1;31m---------------------------------------------------------------------------\u001b[0m",
      "\u001b[1;31mUnboundLocalError\u001b[0m                         Traceback (most recent call last)",
      "Cell \u001b[1;32mIn[5], line 316\u001b[0m, in \u001b[0;36mstart_gui.<locals>.refresh\u001b[1;34m()\u001b[0m\n\u001b[0;32m    314\u001b[0m curve_cnt\u001b[38;5;241m.\u001b[39msetData(xs_cnt, y_cnt)\n\u001b[0;32m    315\u001b[0m curve_vel\u001b[38;5;241m.\u001b[39msetData(xs_vel, y_vel)\n\u001b[1;32m--> 316\u001b[0m curve_comvel\u001b[38;5;241m.\u001b[39msetData(\u001b[43mx_pad\u001b[49m, y_pad)\n",
      "\u001b[1;31mUnboundLocalError\u001b[0m: cannot access local variable 'x_pad' where it is not associated with a value"
     ]
    },
    {
     "name": "stdout",
     "output_type": "stream",
     "text": [
      "EPOCH = 952057.543120, wall = 223.90 ms, jitter = 223.90 ms  Δc=+26  c=22451  v= 0.102, len(dir_log)=12500\n",
      "EPOCH = 952057.656659, wall = 113.54 ms, jitter = 113.54 ms  Δc=+25  c=22476  v= 0.098, len(dir_log)=12500\n",
      "EPOCH = 952057.905628, wall = 248.97 ms, jitter = 248.97 ms  Δc=+26  c=22502  v= 0.102, len(dir_log)=12500\n",
      "EPOCH = 952058.030654, wall = 125.03 ms, jitter = 125.03 ms  Δc=+25  c=22527  v= 0.098, len(dir_log)=12500\n",
      "EPOCH = 952058.176861, wall = 146.21 ms, jitter = 146.21 ms  Δc=+26  c=22553  v= 0.102, len(dir_log)=12500\n",
      "EPOCH = 952058.314589, wall = 137.73 ms, jitter = 137.73 ms  Δc=+26  c=22579  v= 0.102, len(dir_log)=12500\n",
      "EPOCH = 952058.392782, wall =  78.19 ms, jitter =  78.19 ms  Δc=+25  c=22604  v= 0.098, len(dir_log)=12500\n",
      "EPOCH = 952058.636483, wall = 243.70 ms, jitter = 243.70 ms  Δc=+26  c=22630  v= 0.102, len(dir_log)=12500\n"
     ]
    },
    {
     "ename": "UnboundLocalError",
     "evalue": "cannot access local variable 'x_pad' where it is not associated with a value",
     "output_type": "error",
     "traceback": [
      "\u001b[1;31m---------------------------------------------------------------------------\u001b[0m",
      "\u001b[1;31mUnboundLocalError\u001b[0m                         Traceback (most recent call last)",
      "Cell \u001b[1;32mIn[5], line 316\u001b[0m, in \u001b[0;36mstart_gui.<locals>.refresh\u001b[1;34m()\u001b[0m\n\u001b[0;32m    314\u001b[0m curve_cnt\u001b[38;5;241m.\u001b[39msetData(xs_cnt, y_cnt)\n\u001b[0;32m    315\u001b[0m curve_vel\u001b[38;5;241m.\u001b[39msetData(xs_vel, y_vel)\n\u001b[1;32m--> 316\u001b[0m curve_comvel\u001b[38;5;241m.\u001b[39msetData(\u001b[43mx_pad\u001b[49m, y_pad)\n",
      "\u001b[1;31mUnboundLocalError\u001b[0m: cannot access local variable 'x_pad' where it is not associated with a value"
     ]
    },
    {
     "name": "stdout",
     "output_type": "stream",
     "text": [
      "EPOCH = 952058.786063, wall = 149.58 ms, jitter = 149.58 ms  Δc=+25  c=22655  v= 0.098, len(dir_log)=12500\n",
      "EPOCH = 952058.922682, wall = 136.62 ms, jitter = 136.62 ms  Δc=+26  c=22681  v= 0.102, len(dir_log)=12500\n",
      "EPOCH = 952059.174333, wall = 251.65 ms, jitter = 251.65 ms  Δc=+26  c=22707  v= 0.102, len(dir_log)=12500\n"
     ]
    },
    {
     "ename": "UnboundLocalError",
     "evalue": "cannot access local variable 'x_pad' where it is not associated with a value",
     "output_type": "error",
     "traceback": [
      "\u001b[1;31m---------------------------------------------------------------------------\u001b[0m",
      "\u001b[1;31mUnboundLocalError\u001b[0m                         Traceback (most recent call last)",
      "Cell \u001b[1;32mIn[5], line 316\u001b[0m, in \u001b[0;36mstart_gui.<locals>.refresh\u001b[1;34m()\u001b[0m\n\u001b[0;32m    314\u001b[0m curve_cnt\u001b[38;5;241m.\u001b[39msetData(xs_cnt, y_cnt)\n\u001b[0;32m    315\u001b[0m curve_vel\u001b[38;5;241m.\u001b[39msetData(xs_vel, y_vel)\n\u001b[1;32m--> 316\u001b[0m curve_comvel\u001b[38;5;241m.\u001b[39msetData(\u001b[43mx_pad\u001b[49m, y_pad)\n",
      "\u001b[1;31mUnboundLocalError\u001b[0m: cannot access local variable 'x_pad' where it is not associated with a value"
     ]
    },
    {
     "name": "stdout",
     "output_type": "stream",
     "text": [
      "EPOCH = 952059.317650, wall = 143.32 ms, jitter = 143.32 ms  Δc=+25  c=22732  v= 0.098, len(dir_log)=12500\n",
      "EPOCH = 952059.394009, wall =  76.36 ms, jitter =  76.36 ms  Δc=+26  c=22758  v= 0.102, len(dir_log)=12500\n",
      "EPOCH = 952059.537148, wall = 143.14 ms, jitter = 143.14 ms  Δc=+25  c=22783  v= 0.098, len(dir_log)=12500\n"
     ]
    },
    {
     "ename": "UnboundLocalError",
     "evalue": "cannot access local variable 'x_pad' where it is not associated with a value",
     "output_type": "error",
     "traceback": [
      "\u001b[1;31m---------------------------------------------------------------------------\u001b[0m",
      "\u001b[1;31mUnboundLocalError\u001b[0m                         Traceback (most recent call last)",
      "Cell \u001b[1;32mIn[5], line 316\u001b[0m, in \u001b[0;36mstart_gui.<locals>.refresh\u001b[1;34m()\u001b[0m\n\u001b[0;32m    314\u001b[0m curve_cnt\u001b[38;5;241m.\u001b[39msetData(xs_cnt, y_cnt)\n\u001b[0;32m    315\u001b[0m curve_vel\u001b[38;5;241m.\u001b[39msetData(xs_vel, y_vel)\n\u001b[1;32m--> 316\u001b[0m curve_comvel\u001b[38;5;241m.\u001b[39msetData(\u001b[43mx_pad\u001b[49m, y_pad)\n",
      "\u001b[1;31mUnboundLocalError\u001b[0m: cannot access local variable 'x_pad' where it is not associated with a value"
     ]
    },
    {
     "name": "stdout",
     "output_type": "stream",
     "text": [
      "EPOCH = 952059.803283, wall = 266.14 ms, jitter = 266.14 ms  Δc=+26  c=22809  v= 0.102, len(dir_log)=12500\n",
      "EPOCH = 952059.903625, wall = 100.34 ms, jitter = 100.34 ms  Δc=+26  c=22835  v= 0.102, len(dir_log)=12500\n",
      "EPOCH = 952060.036114, wall = 132.49 ms, jitter = 132.49 ms  Δc=+25  c=22860  v= 0.098, len(dir_log)=12500\n",
      "EPOCH = 952060.193045, wall = 156.93 ms, jitter = 156.93 ms  Δc=+26  c=22886  v= 0.102, len(dir_log)=12500\n",
      "EPOCH = 952060.264266, wall =  71.22 ms, jitter =  71.22 ms  Δc=+25  c=22911  v= 0.098, len(dir_log)=12500\n",
      "EPOCH = 952060.536571, wall = 272.31 ms, jitter = 272.31 ms  Δc=+26  c=22937  v= 0.102, len(dir_log)=12500\n",
      "EPOCH = 952060.687045, wall = 150.47 ms, jitter = 150.47 ms  Δc=+26  c=22963  v= 0.102, len(dir_log)=12500\n",
      "EPOCH = 952060.799049, wall = 112.00 ms, jitter = 112.00 ms  Δc=+25  c=22988  v= 0.098, len(dir_log)=12500\n"
     ]
    },
    {
     "ename": "UnboundLocalError",
     "evalue": "cannot access local variable 'x_pad' where it is not associated with a value",
     "output_type": "error",
     "traceback": [
      "\u001b[1;31m---------------------------------------------------------------------------\u001b[0m",
      "\u001b[1;31mUnboundLocalError\u001b[0m                         Traceback (most recent call last)",
      "Cell \u001b[1;32mIn[5], line 316\u001b[0m, in \u001b[0;36mstart_gui.<locals>.refresh\u001b[1;34m()\u001b[0m\n\u001b[0;32m    314\u001b[0m curve_cnt\u001b[38;5;241m.\u001b[39msetData(xs_cnt, y_cnt)\n\u001b[0;32m    315\u001b[0m curve_vel\u001b[38;5;241m.\u001b[39msetData(xs_vel, y_vel)\n\u001b[1;32m--> 316\u001b[0m curve_comvel\u001b[38;5;241m.\u001b[39msetData(\u001b[43mx_pad\u001b[49m, y_pad)\n",
      "\u001b[1;31mUnboundLocalError\u001b[0m: cannot access local variable 'x_pad' where it is not associated with a value"
     ]
    },
    {
     "name": "stdout",
     "output_type": "stream",
     "text": [
      "EPOCH = 952061.064173, wall = 265.12 ms, jitter = 265.12 ms  Δc=+26  c=23014  v= 0.102, len(dir_log)=12500\n",
      "EPOCH = 952061.158031, wall =  93.86 ms, jitter =  93.86 ms  Δc=+25  c=23039  v= 0.098, len(dir_log)=12500\n"
     ]
    },
    {
     "ename": "UnboundLocalError",
     "evalue": "cannot access local variable 'x_pad' where it is not associated with a value",
     "output_type": "error",
     "traceback": [
      "\u001b[1;31m---------------------------------------------------------------------------\u001b[0m",
      "\u001b[1;31mUnboundLocalError\u001b[0m                         Traceback (most recent call last)",
      "Cell \u001b[1;32mIn[5], line 316\u001b[0m, in \u001b[0;36mstart_gui.<locals>.refresh\u001b[1;34m()\u001b[0m\n\u001b[0;32m    314\u001b[0m curve_cnt\u001b[38;5;241m.\u001b[39msetData(xs_cnt, y_cnt)\n\u001b[0;32m    315\u001b[0m curve_vel\u001b[38;5;241m.\u001b[39msetData(xs_vel, y_vel)\n\u001b[1;32m--> 316\u001b[0m curve_comvel\u001b[38;5;241m.\u001b[39msetData(\u001b[43mx_pad\u001b[49m, y_pad)\n",
      "\u001b[1;31mUnboundLocalError\u001b[0m: cannot access local variable 'x_pad' where it is not associated with a value"
     ]
    },
    {
     "name": "stdout",
     "output_type": "stream",
     "text": [
      "EPOCH = 952061.459527, wall = 301.50 ms, jitter = 301.50 ms  Δc=+26  c=23065  v= 0.102, len(dir_log)=12500\n",
      "EPOCH = 952061.525242, wall =  65.71 ms, jitter =  65.71 ms  Δc=+26  c=23091  v= 0.102, len(dir_log)=12500\n",
      "EPOCH = 952061.664465, wall = 139.22 ms, jitter = 139.22 ms  Δc=+25  c=23116  v= 0.098, len(dir_log)=12500\n"
     ]
    },
    {
     "ename": "UnboundLocalError",
     "evalue": "cannot access local variable 'x_pad' where it is not associated with a value",
     "output_type": "error",
     "traceback": [
      "\u001b[1;31m---------------------------------------------------------------------------\u001b[0m",
      "\u001b[1;31mUnboundLocalError\u001b[0m                         Traceback (most recent call last)",
      "Cell \u001b[1;32mIn[5], line 316\u001b[0m, in \u001b[0;36mstart_gui.<locals>.refresh\u001b[1;34m()\u001b[0m\n\u001b[0;32m    314\u001b[0m curve_cnt\u001b[38;5;241m.\u001b[39msetData(xs_cnt, y_cnt)\n\u001b[0;32m    315\u001b[0m curve_vel\u001b[38;5;241m.\u001b[39msetData(xs_vel, y_vel)\n\u001b[1;32m--> 316\u001b[0m curve_comvel\u001b[38;5;241m.\u001b[39msetData(\u001b[43mx_pad\u001b[49m, y_pad)\n",
      "\u001b[1;31mUnboundLocalError\u001b[0m: cannot access local variable 'x_pad' where it is not associated with a value"
     ]
    },
    {
     "name": "stdout",
     "output_type": "stream",
     "text": [
      "EPOCH = 952061.943238, wall = 278.77 ms, jitter = 278.77 ms  Δc=+26  c=23142  v= 0.102, len(dir_log)=12500\n",
      "EPOCH = 952062.023729, wall =  80.49 ms, jitter =  80.49 ms  Δc=+25  c=23167  v= 0.098, len(dir_log)=12500\n",
      "EPOCH = 952062.151124, wall = 127.39 ms, jitter = 127.39 ms  Δc=+26  c=23193  v= 0.102, len(dir_log)=12500\n",
      "EPOCH = 952062.265993, wall = 114.87 ms, jitter = 114.87 ms  Δc=+26  c=23219  v= 0.102, len(dir_log)=12500\n",
      "Graceful shutdown.\n"
     ]
    }
   ],
   "source": [
    "threading.Thread(target=log_listener, daemon=True).start() # start log listener\n",
    "gen_th = threading.Thread(target=generator, daemon=True)\n",
    "#con_th = threading.Thread(target=consumer, daemon=True)\n",
    "proc_th = threading.Thread(target=processor, daemon=True)\n",
    "gen_th.start(); proc_th.start()\n",
    "#con_th.start()\n",
    "\n",
    "start_gui()\n",
    "\n",
    "# join threads and exit\n",
    "stop_writer.set()\n",
    "gen_th.join()\n",
    "#con_th.join()\n",
    "proc_th.join()\n",
    "\n",
    "print(\"Graceful shutdown.\")"
   ]
  },
  {
   "cell_type": "code",
   "execution_count": null,
   "id": "a1f5caa8",
   "metadata": {},
   "outputs": [],
   "source": []
  }
 ],
 "metadata": {
  "kernelspec": {
   "display_name": "Python 3",
   "language": "python",
   "name": "python3"
  },
  "language_info": {
   "codemirror_mode": {
    "name": "ipython",
    "version": 3
   },
   "file_extension": ".py",
   "mimetype": "text/x-python",
   "name": "python",
   "nbconvert_exporter": "python",
   "pygments_lexer": "ipython3",
   "version": "3.11.3"
  }
 },
 "nbformat": 4,
 "nbformat_minor": 5
}
