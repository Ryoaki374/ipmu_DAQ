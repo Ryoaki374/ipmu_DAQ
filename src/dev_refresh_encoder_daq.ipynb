{
 "cells": [
  {
   "cell_type": "code",
   "execution_count": 30,
   "id": "f09d5caa",
   "metadata": {},
   "outputs": [
    {
     "name": "stdout",
     "output_type": "stream",
     "text": [
      "The autoreload extension is already loaded. To reload it, use:\n",
      "  %reload_ext autoreload\n"
     ]
    }
   ],
   "source": [
    "%load_ext autoreload\n",
    "%autoreload 2\n",
    "\n",
    "from pathlib import Path\n",
    "import lib_ipmu_daq_config as daq\n",
    "import lib_ipmu_daq_postprocess as post\n",
    "import lib_ipmu_daq_graph as graph\n"
   ]
  },
  {
   "cell_type": "code",
   "execution_count": 31,
   "id": "1d2f468b",
   "metadata": {},
   "outputs": [
    {
     "name": "stdout",
     "output_type": "stream",
     "text": [
      "\n",
      "[Io]\n",
      "  sample_rate         : 100000\n",
      "  gen_chunk_sec       : 0.100000\n",
      "  proc_interval       : 0.125000\n",
      "  queue_depth         : 40\n",
      "  quad_depth          : 40\n",
      "\n",
      "[Gui]\n",
      "  display_sec         : 3600\n",
      "  plot_sec            : 0.150000\n",
      "  gui_interval_ms     : 50\n",
      "  pruning             : 100\n",
      "\n",
      "[Logging]\n",
      "  log_chunk           : 1024\n",
      "  log_data_num        : 4\n",
      "\n",
      "[Encoder Postproc]\n",
      "  quadpulse_width     : 0.000250\n",
      "  threshold           : 2.500000\n",
      "\n",
      "[Debug Encoder]\n",
      "  input_velocity      : 0.100000\n",
      "  pulse_height        : 5.000000\n",
      "  pulse_duty          : 0.500000\n",
      "  pulse_phase_A       : 0.000000\n",
      "\n",
      "[Debug Power]\n",
      "  amplitude           : 0.300000\n",
      "  phase               : 0.000000\n",
      "\n",
      "[Driver]\n",
      "  t_DC                : 10\n",
      "  pps                 : 0\n",
      "  step                : 100\n",
      "  rst                 : 1\n",
      "  target_freq         : 1\n",
      "\n",
      "[Dependent]\n",
      "  chunk_sec           : 0.100000\n",
      "  n_samples_gen       : 10000\n",
      "  samples_proc        : 12500\n",
      "  history             : 150\n",
      "  count_history       : 80\n",
      "  velo_history        : 80\n",
      "  pow_history         : 80\n",
      "  num_pulses          : 36000\n",
      "  stable_sec          : 7200\n",
      "  rel_axis_mock       : ndarray(shape=(10000,), dtype=float64)\n",
      "  pulse_width         : 0.019531\n",
      "  pulse_phase_B       : -0.004883\n",
      "  omega               : 22.619467\n"
     ]
    }
   ],
   "source": [
    "preset = daq._loadConfig(Path(\"./_config_preset.toml\"))\n",
    "run = daq._loadConfig(Path(\"./_config_run.toml\"))\n",
    "config = daq.initParams(preset, run, debug=True)"
   ]
  },
  {
   "cell_type": "code",
   "execution_count": null,
   "id": "2459c8a0",
   "metadata": {},
   "outputs": [
    {
     "name": "stdout",
     "output_type": "stream",
     "text": [
      "DAQApp instance created. Call setup() to prepare for running.\n",
      "Setting up DAQApp components...\n",
      "HDF5 dataset created at: C:\\Users\\USER\\Desktop\\ipmu_DAQ\\src\\..\\runs\\251003195109.h5\n",
      "dset shape    = (0, 4)\n",
      "dset maxshape = (None, 4)\n",
      "Setup complete.\n",
      "Starting threads from main...\n",
      "Processor buffer shape = (1024, 4)\n"
     ]
    }
   ],
   "source": [
    "app = post.DAQApp(config=config, runs_dir=daq.RUNS_DIR)\n",
    "app.setup() # initialize widgets\n",
    "gui = graph.DAQGUI(config=config, quad_q=app.quad_q, stop_event=app.stop_event)\n",
    "\n",
    "# 5. Create the thread objects individually\n",
    "generator_thread = app.createGeneratorThread()\n",
    "processor_thread = app.createProcessorThread()\n",
    "\n",
    "# 6. Start the threads (now controlled from the top level)\n",
    "print(\"Starting threads from main...\")\n",
    "generator_thread.start()\n",
    "processor_thread.start()\n",
    "\n",
    "gui.run()\n",
    "\n",
    "generator_thread.join(timeout=0.1)\n",
    "processor_thread.join(timeout=0.1)\n",
    "\n"
   ]
  },
  {
   "cell_type": "code",
   "execution_count": null,
   "id": "169ba0dd",
   "metadata": {},
   "outputs": [],
   "source": []
  }
 ],
 "metadata": {
  "kernelspec": {
   "display_name": "Python 3",
   "language": "python",
   "name": "python3"
  },
  "language_info": {
   "codemirror_mode": {
    "name": "ipython",
    "version": 3
   },
   "file_extension": ".py",
   "mimetype": "text/x-python",
   "name": "python",
   "nbconvert_exporter": "python",
   "pygments_lexer": "ipython3",
   "version": "3.11.3"
  }
 },
 "nbformat": 4,
 "nbformat_minor": 5
}
