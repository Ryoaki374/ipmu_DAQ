{
 "cells": [
  {
   "cell_type": "code",
   "execution_count": null,
   "id": "f09d5caa",
   "metadata": {},
   "outputs": [
    {
     "name": "stderr",
     "output_type": "stream",
     "text": [
      "Exception in thread Thread-115 (run):\n",
      "Traceback (most recent call last):\n",
      "  File \"c:\\Users\\USER\\Desktop\\ipmu_DAQ\\src\\lib_ipmu_daq_process.py\", line 73, in _processorLoop\n",
      "Exception in thread Thread-101 (run):\n",
      "Traceback (most recent call last):\n",
      "  File \"c:\\Users\\USER\\Desktop\\ipmu_DAQ\\src\\lib_ipmu_daq_process.py\", line 139, in _processorLoop\n",
      "    ring_Iu.extend(Iu); ring_Iv.extend(Iv); ring_Iw.extend(Iw)\n",
      "                                        ^^^^^^^^^^^^^^^^^^^^^^^\n",
      "  File \"c:\\Users\\USER\\AppData\\Local\\Programs\\Python\\Python311\\Lib\\queue.py\", line 199, in get_nowait\n",
      "    return np.sum(dir_log)\n",
      "                           \n",
      "  File \"c:\\Users\\USER\\AppData\\Local\\Programs\\Python\\Python311\\Lib\\queue.py\", line 199, in get_nowait\n",
      "    return self.get(block=False)\n",
      "           ^^^^^^^^^^^^^^^^^^^^^\n",
      "  File \"c:\\Users\\USER\\AppData\\Local\\Programs\\Python\\Python311\\Lib\\queue.py\", line 168, in get\n",
      "    return self.get(block=False)\n",
      "           ^^^^^^^^^^^^^^^^^^^^^\n",
      "  File \"c:\\Users\\USER\\AppData\\Local\\Programs\\Python\\Python311\\Lib\\queue.py\", line 168, in get\n",
      "    raise Empty\n",
      "_queue.Empty\n",
      "\n",
      "During handling of the above exception, another exception occurred:\n",
      "\n",
      "Traceback (most recent call last):\n",
      "  File \"c:\\Users\\USER\\AppData\\Local\\Programs\\Python\\Python311\\Lib\\threading.py\", line 1038, in _bootstrap_inner\n",
      "    raise Empty\n",
      "_queue.Empty\n",
      "\n",
      "During handling of the above exception, another exception occurred:\n",
      "\n",
      "Traceback (most recent call last):\n",
      "  File \"c:\\Users\\USER\\AppData\\Local\\Programs\\Python\\Python311\\Lib\\threading.py\", line 1038, in _bootstrap_inner\n",
      "    self.run()\n",
      "  File \"c:\\Users\\USER\\AppData\\Local\\Programs\\Python\\Python311\\Lib\\threading.py\", line 975, in run\n",
      "    self.run()\n",
      "  File \"c:\\Users\\USER\\AppData\\Local\\Programs\\Python\\Python311\\Lib\\threading.py\", line 975, in run\n",
      "    self._target(*self._args, **self._kwargs)\n",
      "  File \"c:\\Users\\USER\\Desktop\\ipmu_DAQ\\src\\lib_ipmu_daq_process.py\", line 103, in run\n",
      "    self._target(*self._args, **self._kwargs)\n",
      "  File \"c:\\Users\\USER\\Desktop\\ipmu_DAQ\\src\\lib_ipmu_daq_process.py\", line 37, in run\n",
      "    velocity = delta_cnt / self.cfg.io.proc_interval / 2048\n",
      "^^^^^^^^^^^^^^^^^^^^^\n",
      "  File \"c:\\Users\\USER\\Desktop\\ipmu_DAQ\\src\\lib_ipmu_daq_process.py\", line 144, in _processorLoop\n",
      "    def _initStorer(self):\n",
      "    sampling_rate = self.cfg.io.sample_rate\n",
      "        ^^^^^^^^^^^^^^^^^^^\n",
      "  File \"c:\\Users\\USER\\Desktop\\ipmu_DAQ\\src\\lib_ipmu_daq_process.py\", line 78, in _processorLoop\n",
      "               ^^^^^\n",
      "NameError: name 'queue' is not defined\n",
      "    \n",
      "NameError: name 'queue' is not defined\n"
     ]
    },
    {
     "name": "stdout",
     "output_type": "stream",
     "text": [
      "The autoreload extension is already loaded. To reload it, use:\n",
      "  %reload_ext autoreload\n"
     ]
    }
   ],
   "source": [
    "import threading\n",
    "from pathlib import Path\n",
    "\n",
    "import lib_ipmu_daq as daq\n",
    "import lib_ipmu_daq_config as config\n",
    "import lib_ipmu_daq_generator as gen\n",
    "import lib_ipmu_daq_process as post\n",
    "import lib_ipmu_daq_graph as graph\n",
    "\n",
    "%load_ext autoreload\n",
    "%autoreload 2"
   ]
  },
  {
   "cell_type": "code",
   "execution_count": 62,
   "id": "1d2f468b",
   "metadata": {},
   "outputs": [
    {
     "name": "stdout",
     "output_type": "stream",
     "text": [
      "\n",
      "[Io]\n",
      "  sample_rate         : 100000\n",
      "  gen_chunk_sec       : 0.100000\n",
      "  proc_interval       : 0.125000\n",
      "  queue_depth         : 40\n",
      "  quad_depth          : 40\n",
      "\n",
      "[Gui]\n",
      "  display_sec         : 3600\n",
      "  plot_sec            : 0.150000\n",
      "  gui_interval_ms     : 50\n",
      "  pruning             : 100\n",
      "\n",
      "[Logging]\n",
      "  log_chunk           : 1024\n",
      "  log_data_num        : 4\n",
      "\n",
      "[Encoder Postproc]\n",
      "  quadpulse_width     : 0.000250\n",
      "  threshold           : 2.500000\n",
      "\n",
      "[Debug Encoder]\n",
      "  input_velocity      : 0.100000\n",
      "  pulse_height        : 5.000000\n",
      "  pulse_duty          : 0.500000\n",
      "  pulse_phase_A       : 0.000000\n",
      "\n",
      "[Debug Power]\n",
      "  amplitude           : 0.300000\n",
      "  phase               : 0.000000\n",
      "\n",
      "[Driver]\n",
      "  t_DC                : 10\n",
      "  pps                 : 0\n",
      "  step                : 100\n",
      "  rst                 : 1\n",
      "  target_freq         : 1\n",
      "\n",
      "[Dependent]\n",
      "  chunk_sec           : 0.100000\n",
      "  n_samples_gen       : 10000\n",
      "  samples_proc        : 12500\n",
      "  history             : 150\n",
      "  count_history       : 80\n",
      "  velo_history        : 80\n",
      "  pow_history         : 80\n",
      "  num_pulses          : 36000\n",
      "  stable_sec          : 7200\n",
      "  rel_axis_mock       : ndarray(shape=(10000,), dtype=float64)\n",
      "  pulse_width         : 0.019531\n",
      "  pulse_phase_B       : -0.004883\n",
      "  omega               : 22.619467\n"
     ]
    }
   ],
   "source": [
    "preset = config._loadConfig(Path(\"./_config_preset.toml\"))\n",
    "run = config._loadConfig(Path(\"./_config_run.toml\"))\n",
    "app_config = config.initParams(preset, run, debug=True)"
   ]
  },
  {
   "cell_type": "code",
   "execution_count": 63,
   "id": "2459c8a0",
   "metadata": {},
   "outputs": [
    {
     "name": "stdout",
     "output_type": "stream",
     "text": [
      "Shared resources (Queues, Stop Event) are set up.\n",
      "Starting threads from main...\n",
      "HDF5 dataset created at: C:\\Users\\USER\\Desktop\\ipmu_DAQ\\src\\..\\runs\\251003203733.h5\n"
     ]
    }
   ],
   "source": [
    "app = daq.DAQApp(config=app_config)\n",
    "app.setup() # initialize widgets\n",
    "\n",
    "generator = gen.Generator(config=app_config, buf_q=app.buf_q, stop_event=app.stop_event)\n",
    "processor = post.Processor(config=app_config, buf_q=app.buf_q, quad_q=app.quad_q, stop_event=app.stop_event, runs_dir=config.RUNS_DIR)\n",
    "gui = graph.DAQGUI(config=app_config, quad_q=app.quad_q, stop_event=app.stop_event)\n",
    "\n",
    "# 5. Create the thread objects individually\n",
    "generator_thread = threading.Thread(target=generator.run, daemon=True)\n",
    "processor_thread = threading.Thread(target=processor.run, daemon=True)\n",
    "\n",
    "# 6. Start the threads (now controlled from the top level)\n",
    "print(\"Starting threads from main...\")\n",
    "generator_thread.start()\n",
    "processor_thread.start()\n",
    "\n",
    "gui.run()\n",
    "\n",
    "generator_thread.join(timeout=0.1)\n",
    "processor_thread.join(timeout=0.1)\n",
    "\n"
   ]
  },
  {
   "cell_type": "code",
   "execution_count": null,
   "id": "0cf206ea",
   "metadata": {},
   "outputs": [],
   "source": []
  }
 ],
 "metadata": {
  "kernelspec": {
   "display_name": "Python 3",
   "language": "python",
   "name": "python3"
  },
  "language_info": {
   "codemirror_mode": {
    "name": "ipython",
    "version": 3
   },
   "file_extension": ".py",
   "mimetype": "text/x-python",
   "name": "python",
   "nbconvert_exporter": "python",
   "pygments_lexer": "ipython3",
   "version": "3.11.3"
  }
 },
 "nbformat": 4,
 "nbformat_minor": 5
}
