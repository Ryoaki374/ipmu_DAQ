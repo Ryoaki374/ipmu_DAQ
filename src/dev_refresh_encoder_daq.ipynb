{
 "cells": [
  {
   "cell_type": "code",
   "execution_count": 27,
   "id": "f09d5caa",
   "metadata": {},
   "outputs": [
    {
     "name": "stdout",
     "output_type": "stream",
     "text": [
      "The autoreload extension is already loaded. To reload it, use:\n",
      "  %reload_ext autoreload\n"
     ]
    }
   ],
   "source": [
    "%load_ext autoreload\n",
    "%autoreload 2\n",
    "\n",
    "from pathlib import Path\n",
    "import lib_ipmu_daq_refact as daq\n"
   ]
  },
  {
   "cell_type": "code",
   "execution_count": 28,
   "id": "1d2f468b",
   "metadata": {},
   "outputs": [
    {
     "name": "stdout",
     "output_type": "stream",
     "text": [
      "\n",
      "[Io]\n",
      "  sample_rate         : 100000\n",
      "  gen_chunk_sec       : 0.100000\n",
      "  proc_interval       : 0.125000\n",
      "  queue_depth         : 40\n",
      "  quad_depth          : 40\n",
      "\n",
      "[Gui]\n",
      "  display_sec         : 3600\n",
      "  plot_sec            : 0.150000\n",
      "  gui_interval_ms     : 50\n",
      "  pruning             : 100\n",
      "\n",
      "[Logging]\n",
      "  log_chunk           : 1024\n",
      "  log_data_num        : 4\n",
      "\n",
      "[Encoder Postproc]\n",
      "  quadpulse_width     : 0.000250\n",
      "  threshold           : 2.500000\n",
      "\n",
      "[Debug Encoder]\n",
      "  input_velocity      : 0.100000\n",
      "  pulse_height        : 5.000000\n",
      "  pulse_duty          : 0.500000\n",
      "  pulse_phase_A       : 0.000000\n",
      "\n",
      "[Debug Power]\n",
      "  amplitude           : 0.300000\n",
      "  phase               : 0.000000\n",
      "\n",
      "[Driver]\n",
      "  t_DC                : 10\n",
      "  pps                 : 0\n",
      "  step                : 100\n",
      "  rst                 : 1\n",
      "  target_freq         : 1\n",
      "\n",
      "[Dependent]\n",
      "  chunk_sec           : 0.100000\n",
      "  n_samples_gen       : 10000\n",
      "  samples_proc        : 12500\n",
      "  history             : 150\n",
      "  count_history       : 80\n",
      "  velo_history        : 80\n",
      "  pow_history         : 80\n",
      "  num_pulses          : 360000\n",
      "  stable_sec          : 7200\n",
      "  rel_axis_mock       : ndarray(shape=(10000,), dtype=float64)\n",
      "  pulse_width         : 0.019531\n",
      "  pulse_phase_B       : -0.004883\n",
      "  omega               : 22.619467\n"
     ]
    }
   ],
   "source": [
    "preset = daq._loadConfig(Path(\"./_config_preset.toml\"))\n",
    "run = daq._loadConfig(Path(\"./_config_run.toml\"))\n",
    "\n",
    "app = daq.initParams(preset, run, debug=True)"
   ]
  },
  {
   "cell_type": "code",
   "execution_count": 25,
   "id": "2459c8a0",
   "metadata": {},
   "outputs": [
    {
     "data": {
      "text/plain": [
       "AppConfig(io=IOConfig(sample_rate=100000, gen_chunk_sec=0.1, proc_interval=0.125, queue_depth=40, quad_depth=40), gui=GUIConfig(display_sec=3600, plot_sec=0.15, gui_interval_ms=50, pruning=100), logging=LoggingConfig(log_chunk=1024, log_data_num=4), encoder_postproc=EncoderPostProcConfig(quadpulse_width=0.00025, threshold=2.5), debug_encoder=DebugEncoderConfig(input_velocity=0.1, pulse_height=5.0, pulse_duty=0.5, pulse_phase_A=0.0), debug_power=DebugPowerConfig(amplitude=0.3, phase=0.0), driver=DriverConfig(t_DC=10, pps=0, step=100, rst=1, target_freq=1), dependent=DependentConfig(chunk_sec=0.1, n_samples_gen=10000, samples_proc=12500, history=150, count_history=80, velo_history=80, pow_history=80, num_pulses=360000, stable_sec=7200, rel_axis_mock=array([0.000e+00, 1.000e-05, 2.000e-05, ..., 9.997e-02, 9.998e-02,\n",
       "       9.999e-02]), pulse_width=0.01953125, pulse_phase_B=-0.0048828125, omega=22.61946710584651))"
      ]
     },
     "execution_count": 25,
     "metadata": {},
     "output_type": "execute_result"
    }
   ],
   "source": [
    "app"
   ]
  },
  {
   "cell_type": "code",
   "execution_count": null,
   "id": "314b58a8",
   "metadata": {},
   "outputs": [],
   "source": []
  }
 ],
 "metadata": {
  "kernelspec": {
   "display_name": "Python 3",
   "language": "python",
   "name": "python3"
  },
  "language_info": {
   "codemirror_mode": {
    "name": "ipython",
    "version": 3
   },
   "file_extension": ".py",
   "mimetype": "text/x-python",
   "name": "python",
   "nbconvert_exporter": "python",
   "pygments_lexer": "ipython3",
   "version": "3.11.3"
  }
 },
 "nbformat": 4,
 "nbformat_minor": 5
}
