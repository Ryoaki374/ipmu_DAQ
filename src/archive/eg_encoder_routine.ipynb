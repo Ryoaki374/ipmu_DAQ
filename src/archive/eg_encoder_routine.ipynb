{
 "cells": [
  {
   "cell_type": "code",
   "execution_count": 186,
   "id": "f2a8b9a5",
   "metadata": {},
   "outputs": [],
   "source": [
    "import numpy as np\n",
    "import matplotlib.pyplot as plt\n",
    "import pandas as pd"
   ]
  },
  {
   "cell_type": "code",
   "execution_count": 187,
   "id": "371d0237",
   "metadata": {},
   "outputs": [],
   "source": [
    "THRESHOLD_DEFAULT = 2.5  # V\n",
    "\n",
    "def gen_pulse_binarize(signal: np.ndarray, threshold: float = THRESHOLD_DEFAULT) -> np.ndarray:\n",
    "    \"\"\"Return a boolean array where *True* represents a logic‑high level.\n",
    "\n",
    "    Parameters\n",
    "    ----------\n",
    "    signal : np.ndarray\n",
    "        Input analogue signal (voltage).\n",
    "    threshold : float, optional\n",
    "        Voltage threshold separating logic high and low. Defaults to 2.5 V.\n",
    "\n",
    "    Returns\n",
    "    -------\n",
    "    np.ndarray\n",
    "        Boolean array of the same length as *signal*.\n",
    "    \"\"\"\n",
    "    return signal > threshold\n",
    "\n",
    "\n",
    "def gen_pulse_shift(values: np.ndarray) -> np.ndarray:\n",
    "    \"\"\"Return array shifted right by one sample (previous value).\"\"\"\n",
    "    return np.concatenate([[values[0]], values[:-1]])\n",
    "\n",
    "\n",
    "def gen_pulse_direction(\n",
    "    chan_a: np.ndarray,\n",
    "    chan_b: np.ndarray,\n",
    "    threshold: float = THRESHOLD_DEFAULT,\n",
    ") -> np.ndarray:\n",
    "    \"\"\"Compute signed edges (+1 = CW, −1 = CCW, 0 = no edge).\n",
    "\n",
    "    Parameters\n",
    "    ----------\n",
    "    chan_a, chan_b : np.ndarray\n",
    "        Analogue quadrature signals A and B.\n",
    "    threshold : float, optional\n",
    "        Logic threshold for binarisation.\n",
    "\n",
    "    Returns\n",
    "    -------\n",
    "    np.ndarray\n",
    "        Signed edge array.\n",
    "    \"\"\"\n",
    "    a_logic = gen_pulse_binarize(chan_a, threshold)\n",
    "    b_logic = gen_pulse_binarize(chan_b, threshold)\n",
    "\n",
    "    prev_a = gen_pulse_shift(a_logic)\n",
    "    prev_b = gen_pulse_shift(b_logic)\n",
    "\n",
    "    cw_edges = prev_b ^ a_logic  # A rising AFTER B ⇒ clockwise\n",
    "    ccw_edges = prev_a ^ b_logic  # B rising AFTER A ⇒ counter‑clockwise\n",
    "\n",
    "    return cw_edges.astype(int) - ccw_edges.astype(int)\n",
    "\n",
    "\n",
    "def pulse_count(direction: np.ndarray) -> int:\n",
    "    \"\"\"Return total signed pulse count (quadrature ×4).\"\"\"\n",
    "    return int(np.sum(direction))\n",
    "\n",
    "\n",
    "def gen_quad_pulse(\n",
    "    time: np.ndarray,\n",
    "    direction: np.ndarray,\n",
    "    width: float,\n",
    "    amplitude: float,\n",
    "    sampling_rate: float,\n",
    ") -> np.ndarray:\n",
    "    \"\"\"Generate a rectangular pulse train for each edge in *direction*.\n",
    "\n",
    "    Parameters\n",
    "    ----------\n",
    "    time : np.ndarray\n",
    "        Global time axis (seconds).\n",
    "    direction : np.ndarray\n",
    "        Signed edge array produced by :func:`direction_from_quadrature`.\n",
    "    width : float\n",
    "        Pulse width in seconds.\n",
    "    amplitude : float\n",
    "        Pulse amplitude.\n",
    "    sampling_rate : float\n",
    "        Sampling frequency in Hz.\n",
    "\n",
    "    Returns\n",
    "    -------\n",
    "    np.ndarray\n",
    "        Pulse train aligned with *time*.\n",
    "    \"\"\"\n",
    "    width_samples = int(width * sampling_rate)\n",
    "    base_pulse = np.full(width_samples, amplitude)\n",
    "    pulses = np.convolve(direction, base_pulse, mode=\"full\")[: len(time)]\n",
    "    return pulses\n"
   ]
  },
  {
   "cell_type": "code",
   "execution_count": 188,
   "id": "1119454f",
   "metadata": {},
   "outputs": [],
   "source": [
    "df_data = pd.read_csv(\n",
    "    \"./data/mock_signal.csv\",\n",
    "    delimiter=\",\",\n",
    "    names=[\"t\", \"A\", \"B\"],\n",
    "    chunksize=20_000,\n",
    "    dtype={\"t\": np.float32, \"A\": np.float32, \"B\": np.float32},\n",
    ")"
   ]
  },
  {
   "cell_type": "code",
   "execution_count": 189,
   "id": "118f5549",
   "metadata": {},
   "outputs": [],
   "source": [
    "_df = next(df_data)\n",
    "t = _df['t'].to_numpy(copy=False)\n",
    "dA = _df['A'].to_numpy(copy=False)\n",
    "dB = _df['B'].to_numpy(copy=False)"
   ]
  },
  {
   "cell_type": "code",
   "execution_count": 190,
   "id": "bde39bf1",
   "metadata": {},
   "outputs": [],
   "source": [
    "d_direction = gen_pulse_direction(dA, dB, threshold=THRESHOLD_DEFAULT)\n",
    "count = pulse_count(d_direction)\n",
    "d_quad = gen_quad_pulse(t, d_direction, 0.00025, 5, 100_000)"
   ]
  },
  {
   "cell_type": "code",
   "execution_count": 191,
   "id": "a388cc54",
   "metadata": {},
   "outputs": [
    {
     "name": "stdout",
     "output_type": "stream",
     "text": [
      "-399\n"
     ]
    },
    {
     "data": {
      "image/png": "[encoded data removed]",
      "text/plain": [
       "<Figure size 640x480 with 4 Axes>"
      ]
     },
     "metadata": {},
     "output_type": "display_data"
    }
   ],
   "source": [
    "fig, ax = plt.subplots(4,1,figsize=(8, 6), dpi=80)\n",
    "ax[0].plot(t, dA, lw=1.0, color='red')\n",
    "ax[1].plot(t, dB, lw=1.0, color='blue')\n",
    "ax[2].plot(t, d_direction, color='black')\n",
    "ax[3].plot(t, d_quad, color = 'purple')\n",
    "\n",
    "ax[0].set_xlim(0, 0.02)\n",
    "ax[1].set_xlim(0, 0.02)\n",
    "ax[2].set_xlim(0, 0.02)\n",
    "ax[3].set_xlim(0, 0.02)\n",
    "ax[3].set_xlabel(\"Time [s]\")\n",
    "ax[3].set_ylim(-6, 6)\n",
    "\n",
    "ax[0].set_xticks([])\n",
    "ax[1].set_xticks([])\n",
    "ax[2].set_xticks([])\n",
    "\n",
    "print(count)"
   ]
  },
  {
   "cell_type": "code",
   "execution_count": 192,
   "id": "0d2ba94f",
   "metadata": {},
   "outputs": [
    {
     "name": "stdout",
     "output_type": "stream",
     "text": [
      "CPU times: total: 11.1 s\n",
      "Wall time: 12.7 s\n"
     ]
    }
   ],
   "source": [
    "%%time\n",
    "\n",
    "count = np.zeros(300)\n",
    "i = 0\n",
    "for chunk in df_data:\n",
    "    t = chunk['t'].to_numpy(copy=False)\n",
    "    #print(t[0],t[-1])\n",
    "    dA = chunk['A'].to_numpy(copy=False)\n",
    "    dB = chunk['B'].to_numpy(copy=False)\n",
    "    #\n",
    "    d_direction = gen_pulse_direction(dA, dB, threshold=THRESHOLD_DEFAULT)\n",
    "    count[i] = pulse_count(d_direction)\n",
    "    i += 1\n",
    "    d_quad = gen_quad_pulse(t, d_direction, 0.00025, 5, 100_000)\n",
    "\n",
    "    #del chunk\n",
    "    #del t\n",
    "    #del dA\n",
    "    #del dB"
   ]
  },
  {
   "cell_type": "code",
   "execution_count": 193,
   "id": "3a16338b",
   "metadata": {},
   "outputs": [
    {
     "data": {
      "text/plain": [
       "array([-400., -400., -400., -400., -400., -400., -400., -400., -400.,\n",
       "       -400., -400., -400., -400., -400., -400., -400., -400., -400.,\n",
       "       -400., -400., -400., -400., -400., -400., -400., -400., -400.,\n",
       "       -400., -400., -400., -400., -400., -400., -400., -400., -400.,\n",
       "       -400., -400., -400., -400., -400., -400., -400., -400., -400.,\n",
       "       -400., -400., -400., -400., -400., -400., -400., -400., -400.,\n",
       "       -400., -400., -400., -400., -400., -400., -400., -400., -400.,\n",
       "       -400., -400., -400., -400., -400., -400., -400., -400., -400.,\n",
       "       -400., -400., -400., -400., -400., -400., -400., -400., -400.,\n",
       "       -400., -400., -400., -400., -400., -400., -400., -400., -400.,\n",
       "       -400., -400., -400., -400., -400., -400., -400., -400., -400.,\n",
       "       -400., -400., -400., -400., -400., -400., -400., -400., -400.,\n",
       "       -400., -400., -400., -400., -400., -400., -400., -400., -400.,\n",
       "       -400., -400., -400., -400., -400., -400., -400., -400., -400.,\n",
       "       -400., -400., -400., -400., -400., -400., -400., -400., -400.,\n",
       "       -400., -400., -400., -400., -400., -400., -400., -400., -400.,\n",
       "       -400., -400., -400., -400., -400., -400., -400., -400., -400.,\n",
       "       -400., -400., -400., -400., -400., -400., -400., -400., -400.,\n",
       "       -400., -400., -400., -400., -400., -400., -400., -400., -400.,\n",
       "       -400., -400., -400., -400., -400., -400., -400., -400., -400.,\n",
       "       -400., -400., -400., -400., -400., -400., -400., -400., -400.,\n",
       "       -400., -400., -400., -400., -400., -400., -400., -400., -400.,\n",
       "       -400., -400., -400., -400., -400., -400., -400., -400., -400.,\n",
       "       -400., -400., -400., -400., -400., -400., -400., -400., -400.,\n",
       "       -400., -400., -400., -400., -400., -400., -400., -400., -400.,\n",
       "       -400., -400., -400., -400., -400., -400., -400., -400., -400.,\n",
       "       -400., -400., -400., -400., -400., -400., -400., -400., -400.,\n",
       "       -400., -400., -400., -400., -400., -400., -400., -400., -400.,\n",
       "       -400., -400., -400., -400., -400., -400., -400., -400., -400.,\n",
       "       -400., -400., -400., -400., -400., -400., -400., -400., -400.,\n",
       "       -400., -400., -400., -400., -400., -400., -400., -400., -400.,\n",
       "       -400., -400., -400., -400., -400., -400., -400., -400., -400.,\n",
       "       -400., -400., -400., -400., -400., -400., -400., -400., -400.,\n",
       "       -400., -400.,    0.])"
      ]
     },
     "execution_count": 193,
     "metadata": {},
     "output_type": "execute_result"
    }
   ],
   "source": [
    "count"
   ]
  },
  {
   "cell_type": "code",
   "execution_count": 194,
   "id": "91fb6d85",
   "metadata": {},
   "outputs": [
    {
     "data": {
      "text/plain": [
       "[]"
      ]
     },
     "execution_count": 194,
     "metadata": {},
     "output_type": "execute_result"
    },
    {
     "data": {
      "image/png": "[encoded data removed]",
      "text/plain": [
       "<Figure size 640x480 with 4 Axes>"
      ]
     },
     "metadata": {},
     "output_type": "display_data"
    }
   ],
   "source": [
    "fig, ax = plt.subplots(4,1,figsize=(8, 6), dpi=80)\n",
    "ax[0].plot(t, dA, lw=1.0, color='red')\n",
    "ax[1].plot(t, dB, lw=1.0, color='blue')\n",
    "ax[2].plot(t, d_direction, color='black')\n",
    "ax[3].plot(t, d_quad, color = 'purple')\n",
    "\n",
    "ax[0].set_xlim(59.8, 59.82)\n",
    "ax[1].set_xlim(59.8, 59.82)\n",
    "ax[2].set_xlim(59.8, 59.82)\n",
    "ax[3].set_xlim(59.8, 59.82)\n",
    "ax[3].set_xlabel(\"Time [s]\")\n",
    "ax[3].set_ylim(-6, 6)\n",
    "\n",
    "ax[0].set_xticks([])\n",
    "ax[1].set_xticks([])\n",
    "ax[2].set_xticks([])"
   ]
  },
  {
   "cell_type": "code",
   "execution_count": 195,
   "id": "ebc04eee",
   "metadata": {},
   "outputs": [
    {
     "data": {
      "text/plain": [
       "25.733333333333334"
      ]
     },
     "execution_count": 195,
     "metadata": {},
     "output_type": "execute_result"
    }
   ],
   "source": [
    "7.72/300*1000 #200 ms = 0.2 sに対して1/10"
   ]
  },
  {
   "cell_type": "code",
   "execution_count": null,
   "id": "889ae49e",
   "metadata": {},
   "outputs": [],
   "source": []
  }
 ],
 "metadata": {
  "kernelspec": {
   "display_name": "Python 3",
   "language": "python",
   "name": "python3"
  },
  "language_info": {
   "codemirror_mode": {
    "name": "ipython",
    "version": 3
   },
   "file_extension": ".py",
   "mimetype": "text/x-python",
   "name": "python",
   "nbconvert_exporter": "python",
   "pygments_lexer": "ipython3",
   "version": "3.11.3"
  }
 },
 "nbformat": 4,
 "nbformat_minor": 5
}
