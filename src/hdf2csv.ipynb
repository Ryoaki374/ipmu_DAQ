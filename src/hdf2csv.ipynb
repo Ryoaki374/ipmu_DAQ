{
 "cells": [
  {
   "cell_type": "code",
   "execution_count": 6,
   "id": "11fe707f",
   "metadata": {},
   "outputs": [],
   "source": [
    "import numpy as np\n",
    "import pandas as pd\n",
    "from pathlib import Path\n",
    "from natsort import natsorted\n",
    "import matplotlib.pyplot as plt\n",
    "plt.style.use('./graph_preset.mplstyle')\n",
    "\n",
    "import h5py\n",
    "\n",
    "import json\n",
    "\n",
    "#from datetime import datetime, timedelta\n",
    "#from glob import glob"
   ]
  },
  {
   "cell_type": "markdown",
   "id": "cf0e8787",
   "metadata": {},
   "source": [
    "### １．データの読み込み"
   ]
  },
  {
   "cell_type": "code",
   "execution_count": 7,
   "id": "1c9a441e",
   "metadata": {},
   "outputs": [
    {
     "name": "stdout",
     "output_type": "stream",
     "text": [
      "0: 250526105004.h5\n",
      "1: 250526105046.h5\n",
      "2: 250526110605.h5\n",
      "3: 250526110735.h5\n",
      "4: 250527184514.h5\n",
      "5: 250527185245.h5\n",
      "6: 250529112106.h5\n",
      "7: 250609130638.h5\n",
      "8: 250609130745.h5\n",
      "9: 250609131245.h5\n",
      "10: 250609131656.h5\n",
      "11: 250609131712.h5\n",
      "12: 250609131905.h5\n",
      "13: 250609132303.h5\n",
      "14: 250609132425.h5\n",
      "15: 250609132510.h5\n",
      "16: 250609133645.h5\n",
      "17: 250609133722.h5\n",
      "18: 250609133840.h5\n",
      "19: 250609134312.h5\n",
      "20: 250609134343.h5\n",
      "21: 250609134353.h5\n",
      "22: 250609134458.h5\n",
      "23: 250609155121.h5\n",
      "24: 250609155138.h5\n",
      "25: 250617103722.h5\n",
      "26: 250617103816.h5\n",
      "27: 250617104031.h5\n",
      "28: 250617104136.h5\n",
      "29: 250617104309.h5\n",
      "30: 250724115358.h5\n",
      "31: 250724134110.h5\n",
      "32: 250724141708.h5\n",
      "33: 250724141727.h5\n",
      "34: 250724141902.h5\n",
      "35: 250724145926.h5\n",
      "36: 250724160910.h5\n",
      "37: 250724160927.h5\n",
      "38: 250724161003.h5\n",
      "39: 250724161048.h5\n",
      "40: 250724161115.h5\n",
      "41: 250724161206.h5\n",
      "42: 250724161249.h5\n",
      "43: 250724161309.h5\n",
      "44: 250724161348.h5\n",
      "45: 250724161638.h5\n",
      "46: 250724161803.h5\n",
      "47: 250724161842.h5\n",
      "48: 250724162229.h5\n",
      "49: 250724162432.h5\n",
      "50: 250725002812.h5\n",
      "51: 250725002822.h5\n",
      "52: 250725002916.h5\n",
      "53: 250725003035.h5\n",
      "54: 250725004103.h5\n",
      "55: 250725004229.h5\n",
      "56: 250725010141.h5\n",
      "57: 250725010240.h5\n",
      "58: 250725010254.h5\n",
      "59: 250725010300.h5\n",
      "60: 250725010535.h5\n",
      "61: 250725010601.h5\n",
      "62: 250725010713.h5\n",
      "63: 250725010746.h5\n",
      "64: 250725011248.h5\n",
      "65: 250725011406.h5\n",
      "66: 250725013455.h5\n",
      "67: 250725013550.h5\n",
      "68: 250725013731.h5\n",
      "69: 250725013744.h5\n",
      "70: 250725013958.h5\n",
      "71: 250725014104.h5\n",
      "72: 250725014115.h5\n",
      "73: 250725014140.h5\n",
      "74: 250725014502.h5\n",
      "75: 250725014523.h5\n",
      "76: 250725014530.h5\n",
      "77: 250725014555.h5\n",
      "78: 250725014730.h5\n",
      "79: 250725014752.h5\n",
      "80: 250725014758.h5\n",
      "81: 250725015855.h5\n",
      "82: 250725015927.h5\n",
      "83: 250725015958.h5\n",
      "84: 250725020220.h5\n",
      "85: 250725021907.h5\n",
      "86: 250725021925.h5\n",
      "87: 250725022405.h5\n",
      "88: 250725022551.h5\n"
     ]
    }
   ],
   "source": [
    "run_dir = Path(\"../runs\")\n",
    "read_paths = natsorted(run_dir.glob(\"*.h5\"))\n",
    "\n",
    "for idx, read_path in enumerate(read_paths, start=0):\n",
    "    run_name = Path(read_path).name   # e.g. 250526105004.h5\n",
    "    print(f\"{idx}: {run_name}\")"
   ]
  },
  {
   "cell_type": "markdown",
   "id": "a9cf3f37",
   "metadata": {},
   "source": [
    "### ２．データの選択"
   ]
  },
  {
   "cell_type": "code",
   "execution_count": 8,
   "id": "ceedbf12",
   "metadata": {},
   "outputs": [
    {
     "data": {
      "text/html": [
       "<div>\n",
       "<style scoped>\n",
       "    .dataframe tbody tr th:only-of-type {\n",
       "        vertical-align: middle;\n",
       "    }\n",
       "\n",
       "    .dataframe tbody tr th {\n",
       "        vertical-align: top;\n",
       "    }\n",
       "\n",
       "    .dataframe thead th {\n",
       "        text-align: right;\n",
       "    }\n",
       "</style>\n",
       "<table border=\"1\" class=\"dataframe\">\n",
       "  <thead>\n",
       "    <tr style=\"text-align: right;\">\n",
       "      <th></th>\n",
       "      <th>rel_time</th>\n",
       "      <th>com</th>\n",
       "      <th>vel</th>\n",
       "      <th>pow</th>\n",
       "    </tr>\n",
       "  </thead>\n",
       "  <tbody>\n",
       "    <tr>\n",
       "      <th>0</th>\n",
       "      <td>0.124990</td>\n",
       "      <td>0.005556</td>\n",
       "      <td>0.199219</td>\n",
       "      <td>0.415746</td>\n",
       "    </tr>\n",
       "    <tr>\n",
       "      <th>1</th>\n",
       "      <td>0.249990</td>\n",
       "      <td>0.005556</td>\n",
       "      <td>0.199219</td>\n",
       "      <td>0.415762</td>\n",
       "    </tr>\n",
       "    <tr>\n",
       "      <th>2</th>\n",
       "      <td>0.374990</td>\n",
       "      <td>0.005556</td>\n",
       "      <td>0.199219</td>\n",
       "      <td>0.415722</td>\n",
       "    </tr>\n",
       "    <tr>\n",
       "      <th>3</th>\n",
       "      <td>0.499990</td>\n",
       "      <td>0.005556</td>\n",
       "      <td>0.199219</td>\n",
       "      <td>0.415768</td>\n",
       "    </tr>\n",
       "    <tr>\n",
       "      <th>4</th>\n",
       "      <td>0.624990</td>\n",
       "      <td>0.005556</td>\n",
       "      <td>0.199219</td>\n",
       "      <td>0.415759</td>\n",
       "    </tr>\n",
       "    <tr>\n",
       "      <th>...</th>\n",
       "      <td>...</td>\n",
       "      <td>...</td>\n",
       "      <td>...</td>\n",
       "      <td>...</td>\n",
       "    </tr>\n",
       "    <tr>\n",
       "      <th>605</th>\n",
       "      <td>75.749992</td>\n",
       "      <td>0.213889</td>\n",
       "      <td>0.203125</td>\n",
       "      <td>0.415698</td>\n",
       "    </tr>\n",
       "    <tr>\n",
       "      <th>606</th>\n",
       "      <td>75.874992</td>\n",
       "      <td>0.213889</td>\n",
       "      <td>0.199219</td>\n",
       "      <td>0.415711</td>\n",
       "    </tr>\n",
       "    <tr>\n",
       "      <th>607</th>\n",
       "      <td>75.999992</td>\n",
       "      <td>0.213889</td>\n",
       "      <td>0.199219</td>\n",
       "      <td>0.415716</td>\n",
       "    </tr>\n",
       "    <tr>\n",
       "      <th>608</th>\n",
       "      <td>76.124992</td>\n",
       "      <td>0.216667</td>\n",
       "      <td>0.199219</td>\n",
       "      <td>0.415739</td>\n",
       "    </tr>\n",
       "    <tr>\n",
       "      <th>609</th>\n",
       "      <td>76.249992</td>\n",
       "      <td>0.216667</td>\n",
       "      <td>0.199219</td>\n",
       "      <td>0.415806</td>\n",
       "    </tr>\n",
       "  </tbody>\n",
       "</table>\n",
       "<p>610 rows × 4 columns</p>\n",
       "</div>"
      ],
      "text/plain": [
       "      rel_time       com       vel       pow\n",
       "0     0.124990  0.005556  0.199219  0.415746\n",
       "1     0.249990  0.005556  0.199219  0.415762\n",
       "2     0.374990  0.005556  0.199219  0.415722\n",
       "3     0.499990  0.005556  0.199219  0.415768\n",
       "4     0.624990  0.005556  0.199219  0.415759\n",
       "..         ...       ...       ...       ...\n",
       "605  75.749992  0.213889  0.203125  0.415698\n",
       "606  75.874992  0.213889  0.199219  0.415711\n",
       "607  75.999992  0.213889  0.199219  0.415716\n",
       "608  76.124992  0.216667  0.199219  0.415739\n",
       "609  76.249992  0.216667  0.199219  0.415806\n",
       "\n",
       "[610 rows x 4 columns]"
      ]
     },
     "execution_count": 8,
     "metadata": {},
     "output_type": "execute_result"
    }
   ],
   "source": [
    "with h5py.File(read_paths[87], \"r\") as f: # read_paths[#] that you want to read\n",
    "    arr = f[\"log\"][:]\n",
    "\n",
    "\n",
    "df_data = pd.DataFrame(arr, columns=[\"rel_time\", \"com\", \"vel\",\"pow\"])\n",
    "df_data"
   ]
  },
  {
   "cell_type": "markdown",
   "id": "c652da5c",
   "metadata": {},
   "source": [
    "### ３．プロット"
   ]
  },
  {
   "cell_type": "code",
   "execution_count": 11,
   "id": "e75d34a1",
   "metadata": {},
   "outputs": [
    {
     "data": {
      "text/plain": [
       "<matplotlib.legend.Legend at 0x28dc9cb4450>"
      ]
     },
     "execution_count": 11,
     "metadata": {},
     "output_type": "execute_result"
    },
    {
     "data": {
      "image/png": "[encoded data removed]",
      "text/plain": [
       "<Figure size 800x600 with 1 Axes>"
      ]
     },
     "metadata": {},
     "output_type": "display_data"
    }
   ],
   "source": [
    "fig, ax = plt.subplots(figsize=(8, 6))\n",
    "ax.step(df_data[\"rel_time\"], df_data[\"com\"], label=\"Com.\", color=\"red\")\n",
    "#ax.plot(df_data[\"rel_time\"], df_data[\"vel\"], label=\"Vel.\", color=\"blue\")\n",
    "\n",
    "ax.set_xlim(0,10)\n",
    "\n",
    "ax.set_xlabel(\"Time [s]\")\n",
    "ax.set_ylabel(\"Velocity [rps]\")\n",
    "\n",
    "ax.legend()"
   ]
  },
  {
   "cell_type": "code",
   "execution_count": 10,
   "id": "92b336ef",
   "metadata": {},
   "outputs": [
    {
     "name": "stdout",
     "output_type": "stream",
     "text": [
      "Data saved to ..\\runs\\250526110735.csv\n"
     ]
    }
   ],
   "source": [
    "# hdf2csv\n",
    "csv_path = read_paths[3].with_suffix(\".csv\")  # Change index as needed\n",
    "df_data.to_csv(csv_path, index=False)\n",
    "print(f\"Data saved to {csv_path}\")"
   ]
  },
  {
   "cell_type": "code",
   "execution_count": null,
   "id": "c0b47e99",
   "metadata": {},
   "outputs": [],
   "source": []
  }
 ],
 "metadata": {
  "kernelspec": {
   "display_name": "Python 3",
   "language": "python",
   "name": "python3"
  },
  "language_info": {
   "codemirror_mode": {
    "name": "ipython",
    "version": 3
   },
   "file_extension": ".py",
   "mimetype": "text/x-python",
   "name": "python",
   "nbconvert_exporter": "python",
   "pygments_lexer": "ipython3",
   "version": "3.11.3"
  }
 },
 "nbformat": 4,
 "nbformat_minor": 5
}
