{
 "cells": [
  {
   "cell_type": "code",
   "execution_count": 57,
   "id": "11fe707f",
   "metadata": {},
   "outputs": [],
   "source": [
    "import numpy as np\n",
    "import pandas as pd\n",
    "from pathlib import Path\n",
    "from natsort import natsorted\n",
    "import matplotlib.pyplot as plt\n",
    "plt.style.use('./graph_preset.mplstyle')\n",
    "\n",
    "import h5py\n",
    "\n",
    "import json\n",
    "\n",
    "#from datetime import datetime, timedelta\n",
    "#from glob import glob"
   ]
  },
  {
   "cell_type": "markdown",
   "id": "cf0e8787",
   "metadata": {},
   "source": [
    "### １．データの読み込み"
   ]
  },
  {
   "cell_type": "code",
   "execution_count": 67,
   "id": "1c9a441e",
   "metadata": {},
   "outputs": [
    {
     "name": "stdout",
     "output_type": "stream",
     "text": [
      "0: 250526105004.h5\n",
      "1: 250526105046.h5\n",
      "2: 250526110605.h5\n",
      "3: 250526110735.h5\n"
     ]
    }
   ],
   "source": [
    "run_dir = Path(\"../runs\")\n",
    "read_paths = natsorted(run_dir.glob(\"*.h5\"))\n",
    "\n",
    "for idx, read_path in enumerate(read_paths, start=0):\n",
    "    run_name = Path(read_path).name   # e.g. 250526105004.h5\n",
    "    print(f\"{idx}: {run_name}\")"
   ]
  },
  {
   "cell_type": "markdown",
   "id": "a9cf3f37",
   "metadata": {},
   "source": [
    "### ２．データの選択"
   ]
  },
  {
   "cell_type": "code",
   "execution_count": 72,
   "id": "ceedbf12",
   "metadata": {},
   "outputs": [
    {
     "data": {
      "text/html": [
       "<div>\n",
       "<style scoped>\n",
       "    .dataframe tbody tr th:only-of-type {\n",
       "        vertical-align: middle;\n",
       "    }\n",
       "\n",
       "    .dataframe tbody tr th {\n",
       "        vertical-align: top;\n",
       "    }\n",
       "\n",
       "    .dataframe thead th {\n",
       "        text-align: right;\n",
       "    }\n",
       "</style>\n",
       "<table border=\"1\" class=\"dataframe\">\n",
       "  <thead>\n",
       "    <tr style=\"text-align: right;\">\n",
       "      <th></th>\n",
       "      <th>rel_time</th>\n",
       "      <th>com</th>\n",
       "      <th>vel</th>\n",
       "    </tr>\n",
       "  </thead>\n",
       "  <tbody>\n",
       "    <tr>\n",
       "      <th>0</th>\n",
       "      <td>0.124990</td>\n",
       "      <td>0.000000</td>\n",
       "      <td>0.097656</td>\n",
       "    </tr>\n",
       "    <tr>\n",
       "      <th>1</th>\n",
       "      <td>0.249990</td>\n",
       "      <td>0.000000</td>\n",
       "      <td>0.101562</td>\n",
       "    </tr>\n",
       "    <tr>\n",
       "      <th>2</th>\n",
       "      <td>0.374990</td>\n",
       "      <td>0.000000</td>\n",
       "      <td>0.097656</td>\n",
       "    </tr>\n",
       "    <tr>\n",
       "      <th>3</th>\n",
       "      <td>0.499990</td>\n",
       "      <td>0.000000</td>\n",
       "      <td>0.101562</td>\n",
       "    </tr>\n",
       "    <tr>\n",
       "      <th>4</th>\n",
       "      <td>0.624990</td>\n",
       "      <td>0.000000</td>\n",
       "      <td>0.097656</td>\n",
       "    </tr>\n",
       "    <tr>\n",
       "      <th>...</th>\n",
       "      <td>...</td>\n",
       "      <td>...</td>\n",
       "      <td>...</td>\n",
       "    </tr>\n",
       "    <tr>\n",
       "      <th>1071</th>\n",
       "      <td>133.999985</td>\n",
       "      <td>0.006111</td>\n",
       "      <td>0.101562</td>\n",
       "    </tr>\n",
       "    <tr>\n",
       "      <th>1072</th>\n",
       "      <td>134.124985</td>\n",
       "      <td>0.006250</td>\n",
       "      <td>0.097656</td>\n",
       "    </tr>\n",
       "    <tr>\n",
       "      <th>1073</th>\n",
       "      <td>134.249985</td>\n",
       "      <td>0.006250</td>\n",
       "      <td>0.101562</td>\n",
       "    </tr>\n",
       "    <tr>\n",
       "      <th>1074</th>\n",
       "      <td>134.374985</td>\n",
       "      <td>0.006250</td>\n",
       "      <td>0.097656</td>\n",
       "    </tr>\n",
       "    <tr>\n",
       "      <th>1075</th>\n",
       "      <td>134.499985</td>\n",
       "      <td>0.006250</td>\n",
       "      <td>0.101562</td>\n",
       "    </tr>\n",
       "  </tbody>\n",
       "</table>\n",
       "<p>1076 rows × 3 columns</p>\n",
       "</div>"
      ],
      "text/plain": [
       "        rel_time       com       vel\n",
       "0       0.124990  0.000000  0.097656\n",
       "1       0.249990  0.000000  0.101562\n",
       "2       0.374990  0.000000  0.097656\n",
       "3       0.499990  0.000000  0.101562\n",
       "4       0.624990  0.000000  0.097656\n",
       "...          ...       ...       ...\n",
       "1071  133.999985  0.006111  0.101562\n",
       "1072  134.124985  0.006250  0.097656\n",
       "1073  134.249985  0.006250  0.101562\n",
       "1074  134.374985  0.006250  0.097656\n",
       "1075  134.499985  0.006250  0.101562\n",
       "\n",
       "[1076 rows x 3 columns]"
      ]
     },
     "execution_count": 72,
     "metadata": {},
     "output_type": "execute_result"
    }
   ],
   "source": [
    "with h5py.File(read_paths[3], \"r\") as f: # read_paths[#] that you want to read\n",
    "    arr = f[\"log\"][:]\n",
    "\n",
    "\n",
    "df_data = pd.DataFrame(arr, columns=[\"rel_time\", \"com\", \"vel\"])\n",
    "df_data"
   ]
  },
  {
   "cell_type": "markdown",
   "id": "c652da5c",
   "metadata": {},
   "source": [
    "### ３．プロット"
   ]
  },
  {
   "cell_type": "code",
   "execution_count": 73,
   "id": "e75d34a1",
   "metadata": {},
   "outputs": [
    {
     "data": {
      "text/plain": [
       "<matplotlib.legend.Legend at 0x173720e41d0>"
      ]
     },
     "execution_count": 73,
     "metadata": {},
     "output_type": "execute_result"
    },
    {
     "data": {
      "image/png": "[encoded data removed]",
      "text/plain": [
       "<Figure size 800x600 with 1 Axes>"
      ]
     },
     "metadata": {},
     "output_type": "display_data"
    }
   ],
   "source": [
    "fig, ax = plt.subplots(figsize=(8, 6))\n",
    "ax.step(df_data[\"rel_time\"], df_data[\"com\"], label=\"Com.\", color=\"red\")\n",
    "#ax.plot(df_data[\"rel_time\"], df_data[\"vel\"], label=\"Vel.\", color=\"blue\")\n",
    "\n",
    "ax.set_xlabel(\"Time [s]\")\n",
    "ax.set_ylabel(\"Velocity [rps]\")\n",
    "\n",
    "ax.legend()"
   ]
  },
  {
   "cell_type": "code",
   "execution_count": 74,
   "id": "92b336ef",
   "metadata": {},
   "outputs": [
    {
     "name": "stdout",
     "output_type": "stream",
     "text": [
      "Data saved to ..\\runs\\250526110735.csv\n"
     ]
    }
   ],
   "source": [
    "# hdf2csv\n",
    "csv_path = read_paths[3].with_suffix(\".csv\")  # Change index as needed\n",
    "df_data.to_csv(csv_path, index=False)\n",
    "print(f\"Data saved to {csv_path}\")"
   ]
  },
  {
   "cell_type": "code",
   "execution_count": null,
   "id": "c0b47e99",
   "metadata": {},
   "outputs": [],
   "source": []
  }
 ],
 "metadata": {
  "kernelspec": {
   "display_name": "Python 3",
   "language": "python",
   "name": "python3"
  },
  "language_info": {
   "codemirror_mode": {
    "name": "ipython",
    "version": 3
   },
   "file_extension": ".py",
   "mimetype": "text/x-python",
   "name": "python",
   "nbconvert_exporter": "python",
   "pygments_lexer": "ipython3",
   "version": "3.11.3"
  }
 },
 "nbformat": 4,
 "nbformat_minor": 5
}
