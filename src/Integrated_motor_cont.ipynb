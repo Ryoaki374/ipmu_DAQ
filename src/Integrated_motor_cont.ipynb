{
 "cells": [
  {
   "cell_type": "code",
   "execution_count": 2,
   "id": "e26ef8b2",
   "metadata": {},
   "outputs": [
    {
     "name": "stdout",
     "output_type": "stream",
     "text": [
      "dset shape  = (0, 3)\n",
      "dset maxshape = (None, 3)\n"
     ]
    }
   ],
   "source": [
    "import import_ipynb\n",
    "import threading\n",
    "import numpy as np\n",
    "\n",
    "from class_AEdriver_rotation import AEdriver, stable_rotation\n",
    "from eg_encoder_daq_refact import processor, log_listener, daq, start_gui, stop_writer\n",
    "\n",
    "def reset(COM):\n",
    "    try:\n",
    "        driver = AEdriver(COM)\n",
    "    except:\n",
    "        pass\n",
    "    driver.stop()\n",
    "    driver.initialize()\n",
    "    driver.ser.close()"
   ]
  },
  {
   "cell_type": "code",
   "execution_count": 3,
   "id": "aae33674",
   "metadata": {},
   "outputs": [
    {
     "data": {
      "text/plain": [
       "'/Users/taiseiiwagaki/Jupyter Notebook/BBM2 cryostat data/2025'"
      ]
     },
     "execution_count": 3,
     "metadata": {},
     "output_type": "execute_result"
    }
   ],
   "source": [
    "pwd"
   ]
  },
  {
   "cell_type": "code",
   "execution_count": 4,
   "id": "1debc178",
   "metadata": {},
   "outputs": [
    {
     "name": "stderr",
     "output_type": "stream",
     "text": [
      "Exception ignored in: <function AEdriver.__del__ at 0x1143218a0>\n",
      "Traceback (most recent call last):\n",
      "  File \"<string>\", line 37, in __del__\n",
      "AttributeError: 'AEdriver' object has no attribute 'ser'\n"
     ]
    },
    {
     "ename": "UnboundLocalError",
     "evalue": "cannot access local variable 'driver' where it is not associated with a value",
     "output_type": "error",
     "traceback": [
      "\u001b[0;31m---------------------------------------------------------------------------\u001b[0m",
      "\u001b[0;31mUnboundLocalError\u001b[0m                         Traceback (most recent call last)",
      "Cell \u001b[0;32mIn[4], line 2\u001b[0m\n\u001b[1;32m      1\u001b[0m COM\u001b[38;5;241m=\u001b[39m\u001b[38;5;124m'\u001b[39m\u001b[38;5;124mCOM5\u001b[39m\u001b[38;5;124m'\u001b[39m\n\u001b[0;32m----> 2\u001b[0m reset(COM)\n",
      "Cell \u001b[0;32mIn[2], line 13\u001b[0m, in \u001b[0;36mreset\u001b[0;34m(COM)\u001b[0m\n\u001b[1;32m     11\u001b[0m \u001b[38;5;28;01mexcept\u001b[39;00m:\n\u001b[1;32m     12\u001b[0m     \u001b[38;5;28;01mpass\u001b[39;00m\n\u001b[0;32m---> 13\u001b[0m driver\u001b[38;5;241m.\u001b[39mstop()\n\u001b[1;32m     14\u001b[0m driver\u001b[38;5;241m.\u001b[39minitialize()\n\u001b[1;32m     15\u001b[0m driver\u001b[38;5;241m.\u001b[39mser\u001b[38;5;241m.\u001b[39mclose()\n",
      "\u001b[0;31mUnboundLocalError\u001b[0m: cannot access local variable 'driver' where it is not associated with a value"
     ]
    }
   ],
   "source": [
    "COM='COM5'\n",
    "reset(COM)   # run the first cell"
   ]
  },
  {
   "cell_type": "code",
   "execution_count": 5,
   "id": "3a7d0316",
   "metadata": {},
   "outputs": [
    {
     "name": "stdout",
     "output_type": "stream",
     "text": [
      "=====================================================================================\n",
      "Rotational frequency                           :  1.0 [Hz]\n",
      "Current pulse per second to finish acceleration:  36000.0\n",
      "Initial current                                :  450.000000 [mA]\n",
      "Initial Pulse per second                       :  100\n",
      "Maximum acceleration step                      :  1000\n",
      "Rotational shift after every pps               :  1 [s]\n",
      "Step                                           :  5\n",
      "Stable rotation duration                       :  120.0 [min]\n",
      "excess time before stop the rotor command      :  60.0 [min]\n",
      "======================================================================================\n"
     ]
    }
   ],
   "source": [
    "#  1Hz\n",
    "\n",
    "i = 2\n",
    "rot_rpm = [30, 46, 60, 120]\n",
    "rot_freq = [0.5, 0.766, 1., 2.0]\n",
    "curr_freq = 36*rot_freq[i]          # 72 SmCO magnet, -> 36 pole pairs\n",
    "curr_pps_fin = curr_freq*1000.      # current pulse per second finish\n",
    "\n",
    "\n",
    "initial_curr = 45                   # initial_curr = % of 1A\n",
    "                                    # Conversion factor: (current = initial_curr*10 mA) \n",
    "                                    # If input 200mA, write 20 here. Input 300mA, write 30.\n",
    "\n",
    "\n",
    "pps = 100                           # Initial current pulse per second\n",
    "pps_fin = int(curr_pps_fin)         # Current pulse per second for stable rotation, minimum current finding\n",
    "step = 5 # 100                    # Acceleration of pps, normally step=100 for 0.26 coil wire, 50 for 0.5 mm coil wire\n",
    "\n",
    "\n",
    "ppsps = 1000 #pps*step              #  10000     # Maximum acceleration, waiting step for pps per second => ppsps = pps*step\n",
    "rotshift_time = 1 # Sleep time for shifting the pps\n",
    "stablerot_duration = 3600*2             # [s] Time for stable rotation\n",
    "excess_spindown_time = 3600 #1800    # time for spindown, used to be 30'\n",
    "\n",
    "\n",
    "print(\"=====================================================================================\")\n",
    "print('Rotational frequency                           : ', rot_freq[i], '[Hz]')\n",
    "print('Current pulse per second to finish acceleration: ', curr_pps_fin )\n",
    "print('Initial current                                : ', '%1f'%(initial_curr*10) , '[mA]')\n",
    "print('Initial Pulse per second                       : ',pps )\n",
    "print('Maximum acceleration step                      : ',ppsps )\n",
    "print('Rotational shift after every pps               : ',rotshift_time , '[s]')\n",
    "print('Step                                           : ', step)\n",
    "print('Stable rotation duration                       : ', stablerot_duration/60, '[min]')\n",
    "print('excess time before stop the rotor command      : ', excess_spindown_time/60, '[min]')\n",
    "print(\"======================================================================================\")"
   ]
  },
  {
   "cell_type": "code",
   "execution_count": 6,
   "id": "180c5285",
   "metadata": {},
   "outputs": [
    {
     "name": "stdout",
     "output_type": "stream",
     "text": [
      "All process start time 2025-05-27 16:30:57.856808\n"
     ]
    },
    {
     "ename": "AttributeError",
     "evalue": "module 'serial' has no attribute 'Serial'",
     "output_type": "error",
     "traceback": [
      "\u001b[0;31m---------------------------------------------------------------------------\u001b[0m",
      "\u001b[0;31mAttributeError\u001b[0m                            Traceback (most recent call last)",
      "Cell \u001b[0;32mIn[6], line 2\u001b[0m\n\u001b[1;32m      1\u001b[0m \u001b[38;5;66;03m# 0: clockwise, 1: counter clockwise\u001b[39;00m\n\u001b[0;32m----> 2\u001b[0m test \u001b[38;5;241m=\u001b[39m stable_rotation(pps, pps_fin, step, ppsps, initial_curr, rotshift_time, stablerot_duration, excess_spindown_time, rot\u001b[38;5;241m=\u001b[39m\u001b[38;5;241m1\u001b[39m)\n\u001b[1;32m      3\u001b[0m thread2 \u001b[38;5;241m=\u001b[39m threading\u001b[38;5;241m.\u001b[39mThread(target\u001b[38;5;241m=\u001b[39mtest\u001b[38;5;241m.\u001b[39mrotation, daemon\u001b[38;5;241m=\u001b[39m\u001b[38;5;28;01mTrue\u001b[39;00m)\n\u001b[1;32m      4\u001b[0m \u001b[38;5;66;03m#thread2.setDaemon(True) rewrite by RA using prefarable coding\u001b[39;00m\n",
      "File \u001b[0;32m<string>:28\u001b[0m, in \u001b[0;36m__init__\u001b[0;34m(self, pps, pps_fin, step, ppsps, initial_curr, rotshift_time, stablerot_duration, excess_spindown_time, rot)\u001b[0m\n",
      "File \u001b[0;32m<string>:23\u001b[0m, in \u001b[0;36m__init__\u001b[0;34m(self, COM, baudrate)\u001b[0m\n",
      "\u001b[0;31mAttributeError\u001b[0m: module 'serial' has no attribute 'Serial'"
     ]
    }
   ],
   "source": [
    "# 0: clockwise, 1: counter clockwise\n",
    "test = stable_rotation(pps, pps_fin, step, ppsps, initial_curr, rotshift_time, stablerot_duration, excess_spindown_time, rot=1)\n",
    "thread2 = threading.Thread(target=test.rotation, daemon=True)\n",
    "#thread2.setDaemon(True) rewrite by RA using prefarable coding\n",
    "thread2.start()\n",
    "thread2.join()\n",
    "\n",
    "if __name__ == \"__main__\":\n",
    "    threading.Thread(target=log_listener, daemon=True).start()  # start log listener\n",
    "\n",
    "    daq_th = threading.Thread(target=daq, daemon=True)\n",
    "    proc_th = threading.Thread(target=processor, daemon=True)\n",
    "\n",
    "    # motor driver\n",
    "    run = stable_rotation(pps, pps_fin, step, ppsps, initial_curr, rotshift_time, stablerot_duration, excess_spindown_time, rot=1)\n",
    "    motor_th = threading.Thread(target=run.rotation, daemon=True)\n",
    "\n",
    "    # start job\n",
    "    daq_th.start()\n",
    "    proc_th.start()\n",
    "    motor_th.start()\n",
    "\n",
    "    start_gui()  # blocks until the user closes the window or timer expires\n",
    "\n",
    "    # join threads and exit\n",
    "    stop_writer.set()\n",
    "    \n",
    "\n",
    "    daq_th.join()\n",
    "    proc_th.join()\n",
    "    motor_th.join()"
   ]
  },
  {
   "cell_type": "code",
   "execution_count": null,
   "id": "4db15471",
   "metadata": {},
   "outputs": [],
   "source": []
  }
 ],
 "metadata": {
  "kernelspec": {
   "display_name": "base",
   "language": "python",
   "name": "python3"
  },
  "language_info": {
   "codemirror_mode": {
    "name": "ipython",
    "version": 3
   },
   "file_extension": ".py",
   "mimetype": "text/x-python",
   "name": "python",
   "nbconvert_exporter": "python",
   "pygments_lexer": "ipython3",
   "version": "3.12.7"
  }
 },
 "nbformat": 4,
 "nbformat_minor": 5
}
