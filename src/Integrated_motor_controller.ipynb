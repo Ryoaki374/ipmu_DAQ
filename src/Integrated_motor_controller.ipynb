{
 "cells": [
  {
   "cell_type": "code",
   "execution_count": 32,
   "id": "f09d5caa",
   "metadata": {},
   "outputs": [
    {
     "name": "stdout",
     "output_type": "stream",
     "text": [
      "The autoreload extension is already loaded. To reload it, use:\n",
      "  %reload_ext autoreload\n"
     ]
    }
   ],
   "source": [
    "import threading\n",
    "from pathlib import Path\n",
    "\n",
    "import lib_ipmu_drv_config as config_drv\n",
    "\n",
    "import lib_ipmu_daq_api as api\n",
    "import lib_ipmu_daq_config as config_daq\n",
    "import lib_ipmu_daq_generator as gen\n",
    "import lib_ipmu_daq_aquisition as daq\n",
    "import lib_ipmu_daq_process as post\n",
    "import lib_ipmu_daq_graph as graph\n",
    "\n",
    "import lib_ipmu_drv_config as config_drvA\n",
    "import lib_ipmu_drv_command as command\n",
    "\n",
    "%load_ext autoreload\n",
    "%autoreload 2"
   ]
  },
  {
   "cell_type": "code",
   "execution_count": 33,
   "id": "1d2f468b",
   "metadata": {},
   "outputs": [
    {
     "name": "stdout",
     "output_type": "stream",
     "text": [
      "\n",
      "[Io]\n",
      "  sample_rate         : 100000\n",
      "  gen_chunk_sec       : 0.100000\n",
      "  proc_interval       : 0.125000\n",
      "  queue_depth         : 40\n",
      "  quad_depth          : 40\n",
      "\n",
      "[Gui]\n",
      "  display_sec         : 36000\n",
      "  plot_sec            : 0.150000\n",
      "  gui_interval_ms     : 50\n",
      "  pruning             : 100\n",
      "\n",
      "[Logging]\n",
      "  log_chunk           : 1024\n",
      "  log_data_num        : 4\n",
      "\n",
      "[Encoder Postproc]\n",
      "  quadpulse_width     : 0.000250\n",
      "  threshold           : 2.500000\n",
      "\n",
      "[Debug Encoder]\n",
      "  input_velocity      : 0.100000\n",
      "  pulse_height        : 5.000000\n",
      "  pulse_duty          : 0.500000\n",
      "  pulse_phase_A       : 0.000000\n",
      "\n",
      "[Debug Power]\n",
      "  amplitude           : 0.300000\n",
      "  phase               : 0.000000\n",
      "\n",
      "[Driver]\n",
      "  device_com          : COM5\n",
      "  target_speed_rps    : 1.000000\n",
      "  current_init        : 45\n",
      "  electrical_angle_init: 200\n",
      "  t_DC                : 90\n",
      "  pps                 : 100\n",
      "  step                : 20\n",
      "  rst                 : 1\n",
      "  ppsps               : 2000\n",
      "  t_stablerot         : 7200\n",
      "  t_excess_spindown   : 3600\n",
      "  dir_rotation        : 1\n",
      "  t_current_reduction_duration: 60\n",
      "  step_current_reduction: [45, 40, 35, 30, 25, 20, 15, 14, 13, 12, 11, 10, 9, 8, 7, 6, 5]\n",
      "\n",
      "[Dependent]\n",
      "  chunk_sec           : 0.100000\n",
      "  n_samples_gen       : 10000\n",
      "  samples_proc        : 12500\n",
      "  history             : 150\n",
      "  count_history       : 80\n",
      "  velo_history        : 80\n",
      "  pow_history         : 80\n",
      "  num_pulses          : 36000\n",
      "  stable_sec          : 7200\n",
      "  rel_axis_mock       : ndarray(shape=(10000,), dtype=float64)\n",
      "  pulse_width         : 0.019531\n",
      "  pulse_phase_B       : -0.004883\n",
      "  omega               : 22.619467\n"
     ]
    }
   ],
   "source": [
    "preset = config_daq._loadConfig(Path(\"./_config_preset.toml\"))\n",
    "run = config_drv._loadConfig(Path(\"./_config_run.toml\"))\n",
    "app_config = config_daq.initParams(preset, run, debug=True)"
   ]
  },
  {
   "cell_type": "code",
   "execution_count": 34,
   "id": "39c93c9d",
   "metadata": {},
   "outputs": [
    {
     "name": "stdout",
     "output_type": "stream",
     "text": [
      "\n",
      "[Driver]\n",
      "  device_com          : COM5\n",
      "  target_speed_rps    : 1.000000\n",
      "  current_init        : 45\n",
      "  electrical_angle_init: 200\n",
      "  t_DC                : 90\n",
      "  pps                 : 100\n",
      "  step                : 20\n",
      "  rst                 : 1\n",
      "  ppsps               : 2000\n",
      "  t_stablerot         : 7200\n",
      "  t_excess_spindown   : 3600\n",
      "  dir_rotation        : 1\n",
      "  t_current_reduction_duration: 60\n",
      "  step_current_reduction: [45, 40, 35, 30, 25, 20, 15, 14, 13, 12, 11, 10, 9, 8, 7, 6, 5]\n",
      "\n",
      "[Dependent]\n",
      "  target_speed_rpm    : 60\n",
      "  electrical_frequency: 36.000000\n",
      "  pps_fin             : 36000\n",
      "  t_total             : 12685.000000\n"
     ]
    }
   ],
   "source": [
    "drv_config = config_drv.initParams(run, debug=True)"
   ]
  },
  {
   "cell_type": "code",
   "execution_count": null,
   "id": "2459c8a0",
   "metadata": {},
   "outputs": [
    {
     "name": "stdout",
     "output_type": "stream",
     "text": [
      "HDF5 dataset created at: C:\\Users\\IPMU\\Desktop\\ipmu_DAQ\\src\\..\\runs\\251015192850.h5\n",
      "Logger setup skipped: DEBUG mode is OFF.\n",
      "Driver has been shutdowned properly (o_ _)o\n",
      "=====================================================================================\n",
      "Rotational frequency                           :  1.0 [Hz]\n",
      "Current pulse per second to finish acceleration:  36000\n",
      "Initial current                                :  450.000000 [mA]\n",
      "Initial Pulse per second                       :  100\n",
      "Maximum acceleration step                      :  2000\n",
      "Rotational shift after every pps               :  1 [s]\n",
      "Step                                           :  20\n",
      "Stable rotation duration                       :  120.0 [min]\n",
      "excess time before stop the rotor command      :  60.0 [min]\n",
      "Total rotation duration time                   :  211.41666666666666 [min]\n",
      "======================================================================================\n",
      "All process start time 2025-10-15 19:28:50.688463 (*ゝ∀･)v\n",
      "operation setting: 04010409\n",
      "pulse setting: 04010409\n",
      "initial position: 200, status: 04010409\n",
      "High-rate speed setting: 100 [pps], status: 0401050A\n",
      "06012264008d\n",
      "startup speed setting: 100 [pps], status: 0401050a\n",
      "060123d00701\n",
      "acceleration rate setting: 2000 [pps/s], status: 0401050a\n",
      "setting complete\n",
      "current: 45%, status: 04000004\n",
      "Shutting down the application...\n",
      "Signaling all components to stop...\n",
      "Generator loop finished.\n",
      "HDF5 file closed by processor.\n",
      "Processor loop finished.\n"
     ]
    },
    {
     "name": "stdout",
     "output_type": "stream",
     "text": [
      "CCW rotation start\n",
      "Driver has been shutdowned properly (o_ _)o\n"
     ]
    }
   ],
   "source": [
    "try:\n",
    "    app = api.DAQApp(config=app_config, DEBUG=False)\n",
    "    app.setup() # initialize widgets\n",
    "    app.initStorer(runs_dir=config_daq.RUNS_DIR) # initialize HDF5 storage\n",
    "    app.initLogger()  # Initialize logger in the main thread to avoid issues\n",
    "\n",
    "\n",
    "    # generater for debug\n",
    "    # generator = gen.Generator(config=app_config, buf_q=app.buf_q, stop_event=app.stop_event)\n",
    "    \n",
    "    # Motor\n",
    "    motor = command.Command(config=drv_config, comvel_q=app.comvel_q, stop_event=app.stop_event)\n",
    "    motor._reset()\n",
    "    motor.setup(DEBUG=True)\n",
    "\n",
    "    # acquisiton for measurements\n",
    "    acquisition = daq.DataAquisition(config=app_config, buf_q=app.buf_q, stop_event=app.stop_event)\n",
    "\n",
    "    # processor\n",
    "    processor = post.Processor(config=app_config, buf_q=app.buf_q, quad_q=app.quad_q, comvel_q=app.comvel_q, DataStoreFlag = motor.DataStoreFlag, stop_event=app.stop_event, h5f=app.h5f, dset=app.dset, debug=app.DEBUG, logger=app.logger)\n",
    "\n",
    "    # Graph\n",
    "    gui = graph.DAQGUI(config=app_config, quad_q=app.quad_q, stop_event=app.stop_event)\n",
    "\n",
    "    # 5. Create the thread objects individually\n",
    "    #logger_thread = threading.Thread(target=app.initLogger, daemon=True)\n",
    "    #generator_thread = threading.Thread(target=generator.run, daemon=True)\n",
    "    acquisition_thread = threading.Thread(target=acquisition.run, daemon=True)\n",
    "    processor_thread = threading.Thread(target=processor.run, daemon=True)\n",
    "    motor_thread = threading.Thread(target=motor.run, daemon=True)\n",
    "\n",
    "    # 6. Start the threads (now controlled from the top level)\n",
    "    #logger_thread.start()\n",
    "    #generator_thread.start()\n",
    "    acquisition_thread.start()\n",
    "    processor_thread.start()\n",
    "    motor_thread.start()\n",
    "    \n",
    "    gui.run()\n",
    "\n",
    "finally:\n",
    "    app.shutdown()\n",
    "    #logger_thread.join(timeout=0.1)\n",
    "    #generator_thread.join(timeout=0.1)\n",
    "    \n",
    "    acquisition_thread.join(timeout=0.1)\n",
    "    processor_thread.join(timeout=0.1)\n"
   ]
  },
  {
   "cell_type": "code",
   "execution_count": 36,
   "id": "3e93256c",
   "metadata": {},
   "outputs": [],
   "source": [
    "#motor._reset()"
   ]
  }
 ],
 "metadata": {
  "kernelspec": {
   "display_name": "Python 3",
   "language": "python",
   "name": "python3"
  },
  "language_info": {
   "codemirror_mode": {
    "name": "ipython",
    "version": 3
   },
   "file_extension": ".py",
   "mimetype": "text/x-python",
   "name": "python",
   "nbconvert_exporter": "python",
   "pygments_lexer": "ipython3",
   "version": "3.10.11"
  }
 },
 "nbformat": 4,
 "nbformat_minor": 5
}
